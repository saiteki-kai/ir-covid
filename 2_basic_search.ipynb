{
 "cells": [
  {
   "cell_type": "markdown",
   "metadata": {
    "id": "Jfk8csN4xuPT"
   },
   "source": [
    "# Part 2: Basic Search"
   ]
  },
  {
   "cell_type": "code",
   "execution_count": 1,
   "metadata": {},
   "outputs": [],
   "source": [
    "import os\n",
    "import pyterrier as pt\n",
    "import pandas as pd\n",
    "from my_utils import preprocess_queries, create_index, experiment\n",
    "\n",
    "pd.set_option('max_colwidth', 800)"
   ]
  },
  {
   "cell_type": "code",
   "execution_count": 2,
   "metadata": {},
   "outputs": [
    {
     "name": "stderr",
     "output_type": "stream",
     "text": [
      "PyTerrier 0.8.0 has loaded Terrier 5.6 (built by craigmacdonald on 2021-09-17 13:27)\n",
      "\n",
      "No etc/terrier.properties, using terrier.default.properties for bootstrap configuration.\n"
     ]
    }
   ],
   "source": [
    "# comment this line if your environment is already the default\n",
    "os.environ[\"JAVA_HOME\"] = \"/usr/lib/jvm/java-1.11.0-openjdk-amd64/\"\n",
    "\n",
    "if not pt.started():\n",
    "    pt.init()"
   ]
  },
  {
   "cell_type": "markdown",
   "metadata": {},
   "source": [
    "## Experiments\n",
    "\n",
    "- preprocessing: {all languages, only english}\n",
    "- topics: {title, description, narrative}\n",
    "- indexing: {title, abstract, both}\n",
    "- models: {tf_idf, bm25, dirichlet_lm}"
   ]
  },
  {
   "cell_type": "code",
   "execution_count": 3,
   "outputs": [],
   "source": [
    "# read preprocessed en documents\n",
    "en_docs = pd.read_pickle('./data/en_docs_processed.pkl')\n",
    "en_docs.rename(columns={\"doc_id\": \"docno\"}, inplace=True)\n",
    "\n",
    "# read preprocessed documents\n",
    "docs = pd.read_pickle('./data/docs_processed.pkl')\n",
    "docs.rename(columns={\"doc_id\": \"docno\"}, inplace=True)"
   ],
   "metadata": {
    "collapsed": false,
    "pycharm": {
     "name": "#%%\n"
    }
   }
  },
  {
   "cell_type": "code",
   "execution_count": 4,
   "outputs": [
    {
     "data": {
      "text/plain": "(84195, 81823)"
     },
     "execution_count": 4,
     "metadata": {},
     "output_type": "execute_result"
    }
   ],
   "source": [
    "len(docs), len(en_docs)"
   ],
   "metadata": {
    "collapsed": false,
    "pycharm": {
     "name": "#%%\n"
    }
   }
  },
  {
   "cell_type": "code",
   "execution_count": 5,
   "outputs": [
    {
     "data": {
      "text/plain": "False"
     },
     "execution_count": 5,
     "metadata": {},
     "output_type": "execute_result"
    }
   ],
   "source": [
    "# check if there are newer versions of the documents after the last TREC-COVID release\n",
    "sum(docs[(docs['date'] > '2020-07-16')].value_counts('docno') != 1) > 0"
   ],
   "metadata": {
    "collapsed": false,
    "pycharm": {
     "name": "#%%\n"
    }
   }
  },
  {
   "cell_type": "code",
   "execution_count": 6,
   "outputs": [],
   "source": [
    "def keep_recent_versions(df):\n",
    "    df.sort_values(by=\"date\", ascending=False, inplace=True)\n",
    "    df.drop_duplicates(subset=[\"docno\"], inplace=True)\n",
    "    return df\n",
    "\n",
    "\n",
    "docs = keep_recent_versions(docs)\n",
    "en_docs = keep_recent_versions(en_docs)"
   ],
   "metadata": {
    "collapsed": false,
    "pycharm": {
     "name": "#%%\n"
    }
   }
  },
  {
   "cell_type": "code",
   "execution_count": 7,
   "outputs": [
    {
     "data": {
      "text/plain": "(83159, 80847)"
     },
     "execution_count": 7,
     "metadata": {},
     "output_type": "execute_result"
    }
   ],
   "source": [
    "len(docs), len(en_docs)"
   ],
   "metadata": {
    "collapsed": false,
    "pycharm": {
     "name": "#%%\n"
    }
   }
  },
  {
   "cell_type": "code",
   "execution_count": 8,
   "outputs": [],
   "source": [
    "import ir_datasets\n",
    "dataset = ir_datasets.load(\"cord19/trec-covid\")\n",
    "\n",
    "# load queries\n",
    "queries = pd.DataFrame(dataset.queries_iter())"
   ],
   "metadata": {
    "collapsed": false,
    "pycharm": {
     "name": "#%%\n"
    }
   }
  },
  {
   "cell_type": "code",
   "execution_count": 9,
   "outputs": [],
   "source": [
    "# load qrels\n",
    "cord19 = pt.get_dataset(\"irds:cord19/trec-covid\")\n",
    "qrels = cord19.get_qrels()\n",
    "qrels = qrels.loc[qrels[\"label\"] != -1]"
   ],
   "metadata": {
    "collapsed": false,
    "pycharm": {
     "name": "#%%\n"
    }
   }
  },
  {
   "cell_type": "code",
   "execution_count": 10,
   "metadata": {},
   "outputs": [
    {
     "data": {
      "text/plain": "  0%|          | 0/50 [00:00<?, ?it/s]",
      "application/vnd.jupyter.widget-view+json": {
       "version_major": 2,
       "version_minor": 0,
       "model_id": "462d48c5cca34b5f967c90c3be2c6379"
      }
     },
     "metadata": {},
     "output_type": "display_data"
    },
    {
     "data": {
      "text/plain": "  query_id                                title  \\\n0        1                   coronavirus origin   \n1        2  coronavirus response weather change   \n2        3                 coronavirus immunity   \n3        4               people die coronavirus   \n4        5                 animal model covid19   \n\n                                                         description  \\\n0                                                     origin covid19   \n1                                 coronavirus respond change weather   \n2  sarscov2 infect people develop immunity cross protection possible   \n3                                                cause death covid19   \n4                          drug active sarscov sarscov2 animal study   \n\n                                                                                                                                                   narrative  \n0                                                      seek range information sarscov2 virus origin include evolution animal source first transmission human  \n1  seek range information sarscov2 virus viability different weatherclimate condition well information relate transmission virus different climate condition  \n2                                                    seek study immunity develop due infection sarscov2 cross protection gain due infection coronavirus type  \n3                                                                                                                         study look mechanism death covid19  \n4                       paper describe result test drug bind spike protein virus drug animal model paper sarscov2 infection cell culture assay also relevant  ",
      "text/html": "<div>\n<style scoped>\n    .dataframe tbody tr th:only-of-type {\n        vertical-align: middle;\n    }\n\n    .dataframe tbody tr th {\n        vertical-align: top;\n    }\n\n    .dataframe thead th {\n        text-align: right;\n    }\n</style>\n<table border=\"1\" class=\"dataframe\">\n  <thead>\n    <tr style=\"text-align: right;\">\n      <th></th>\n      <th>query_id</th>\n      <th>title</th>\n      <th>description</th>\n      <th>narrative</th>\n    </tr>\n  </thead>\n  <tbody>\n    <tr>\n      <th>0</th>\n      <td>1</td>\n      <td>coronavirus origin</td>\n      <td>origin covid19</td>\n      <td>seek range information sarscov2 virus origin include evolution animal source first transmission human</td>\n    </tr>\n    <tr>\n      <th>1</th>\n      <td>2</td>\n      <td>coronavirus response weather change</td>\n      <td>coronavirus respond change weather</td>\n      <td>seek range information sarscov2 virus viability different weatherclimate condition well information relate transmission virus different climate condition</td>\n    </tr>\n    <tr>\n      <th>2</th>\n      <td>3</td>\n      <td>coronavirus immunity</td>\n      <td>sarscov2 infect people develop immunity cross protection possible</td>\n      <td>seek study immunity develop due infection sarscov2 cross protection gain due infection coronavirus type</td>\n    </tr>\n    <tr>\n      <th>3</th>\n      <td>4</td>\n      <td>people die coronavirus</td>\n      <td>cause death covid19</td>\n      <td>study look mechanism death covid19</td>\n    </tr>\n    <tr>\n      <th>4</th>\n      <td>5</td>\n      <td>animal model covid19</td>\n      <td>drug active sarscov sarscov2 animal study</td>\n      <td>paper describe result test drug bind spike protein virus drug animal model paper sarscov2 infection cell culture assay also relevant</td>\n    </tr>\n  </tbody>\n</table>\n</div>"
     },
     "metadata": {},
     "output_type": "display_data"
    },
    {
     "data": {
      "text/plain": "  qid                                query\n0   1                   coronavirus origin\n1   2  coronavirus response weather change\n2   3                 coronavirus immunity\n3   4               people die coronavirus\n4   5                 animal model covid19",
      "text/html": "<div>\n<style scoped>\n    .dataframe tbody tr th:only-of-type {\n        vertical-align: middle;\n    }\n\n    .dataframe tbody tr th {\n        vertical-align: top;\n    }\n\n    .dataframe thead th {\n        text-align: right;\n    }\n</style>\n<table border=\"1\" class=\"dataframe\">\n  <thead>\n    <tr style=\"text-align: right;\">\n      <th></th>\n      <th>qid</th>\n      <th>query</th>\n    </tr>\n  </thead>\n  <tbody>\n    <tr>\n      <th>0</th>\n      <td>1</td>\n      <td>coronavirus origin</td>\n    </tr>\n    <tr>\n      <th>1</th>\n      <td>2</td>\n      <td>coronavirus response weather change</td>\n    </tr>\n    <tr>\n      <th>2</th>\n      <td>3</td>\n      <td>coronavirus immunity</td>\n    </tr>\n    <tr>\n      <th>3</th>\n      <td>4</td>\n      <td>people die coronavirus</td>\n    </tr>\n    <tr>\n      <th>4</th>\n      <td>5</td>\n      <td>animal model covid19</td>\n    </tr>\n  </tbody>\n</table>\n</div>"
     },
     "metadata": {},
     "output_type": "display_data"
    },
    {
     "data": {
      "text/plain": "  qid                                                              query\n0   1                                                     origin covid19\n1   2                                 coronavirus respond change weather\n2   3  sarscov2 infect people develop immunity cross protection possible\n3   4                                                cause death covid19\n4   5                          drug active sarscov sarscov2 animal study",
      "text/html": "<div>\n<style scoped>\n    .dataframe tbody tr th:only-of-type {\n        vertical-align: middle;\n    }\n\n    .dataframe tbody tr th {\n        vertical-align: top;\n    }\n\n    .dataframe thead th {\n        text-align: right;\n    }\n</style>\n<table border=\"1\" class=\"dataframe\">\n  <thead>\n    <tr style=\"text-align: right;\">\n      <th></th>\n      <th>qid</th>\n      <th>query</th>\n    </tr>\n  </thead>\n  <tbody>\n    <tr>\n      <th>0</th>\n      <td>1</td>\n      <td>origin covid19</td>\n    </tr>\n    <tr>\n      <th>1</th>\n      <td>2</td>\n      <td>coronavirus respond change weather</td>\n    </tr>\n    <tr>\n      <th>2</th>\n      <td>3</td>\n      <td>sarscov2 infect people develop immunity cross protection possible</td>\n    </tr>\n    <tr>\n      <th>3</th>\n      <td>4</td>\n      <td>cause death covid19</td>\n    </tr>\n    <tr>\n      <th>4</th>\n      <td>5</td>\n      <td>drug active sarscov sarscov2 animal study</td>\n    </tr>\n  </tbody>\n</table>\n</div>"
     },
     "metadata": {},
     "output_type": "display_data"
    },
    {
     "data": {
      "text/plain": "  qid  \\\n0   1   \n1   2   \n2   3   \n3   4   \n4   5   \n\n                                                                                                                                                       query  \n0                                                      seek range information sarscov2 virus origin include evolution animal source first transmission human  \n1  seek range information sarscov2 virus viability different weatherclimate condition well information relate transmission virus different climate condition  \n2                                                    seek study immunity develop due infection sarscov2 cross protection gain due infection coronavirus type  \n3                                                                                                                         study look mechanism death covid19  \n4                       paper describe result test drug bind spike protein virus drug animal model paper sarscov2 infection cell culture assay also relevant  ",
      "text/html": "<div>\n<style scoped>\n    .dataframe tbody tr th:only-of-type {\n        vertical-align: middle;\n    }\n\n    .dataframe tbody tr th {\n        vertical-align: top;\n    }\n\n    .dataframe thead th {\n        text-align: right;\n    }\n</style>\n<table border=\"1\" class=\"dataframe\">\n  <thead>\n    <tr style=\"text-align: right;\">\n      <th></th>\n      <th>qid</th>\n      <th>query</th>\n    </tr>\n  </thead>\n  <tbody>\n    <tr>\n      <th>0</th>\n      <td>1</td>\n      <td>seek range information sarscov2 virus origin include evolution animal source first transmission human</td>\n    </tr>\n    <tr>\n      <th>1</th>\n      <td>2</td>\n      <td>seek range information sarscov2 virus viability different weatherclimate condition well information relate transmission virus different climate condition</td>\n    </tr>\n    <tr>\n      <th>2</th>\n      <td>3</td>\n      <td>seek study immunity develop due infection sarscov2 cross protection gain due infection coronavirus type</td>\n    </tr>\n    <tr>\n      <th>3</th>\n      <td>4</td>\n      <td>study look mechanism death covid19</td>\n    </tr>\n    <tr>\n      <th>4</th>\n      <td>5</td>\n      <td>paper describe result test drug bind spike protein virus drug animal model paper sarscov2 infection cell culture assay also relevant</td>\n    </tr>\n  </tbody>\n</table>\n</div>"
     },
     "metadata": {},
     "output_type": "display_data"
    }
   ],
   "source": [
    "#preprocess queries by (title, description, narrative)\n",
    "queries = preprocess_queries(queries, augmented=False, mv_model=None)\n",
    "display(queries.head(5))\n",
    "\n",
    "pq_title = queries[['query_id', 'title']]\n",
    "pq_title = pq_title.rename(columns={'query_id': 'qid', 'title': 'query'})\n",
    "display(pq_title.head(5))\n",
    "\n",
    "pq_desc = queries[['query_id', 'description']]\n",
    "pq_desc = pq_desc.rename(columns={'query_id': 'qid', 'description': 'query'})\n",
    "display(pq_desc.head(5))\n",
    "\n",
    "pq_narr = queries[['query_id', 'narrative']]\n",
    "pq_narr = pq_narr.rename(columns={'query_id': 'qid', 'narrative': 'query'})\n",
    "display(pq_narr.head(5))"
   ]
  },
  {
   "cell_type": "markdown",
   "source": [
    "### Index All Documents and Experiments"
   ],
   "metadata": {
    "collapsed": false
   }
  },
  {
   "cell_type": "code",
   "execution_count": null,
   "metadata": {
    "pycharm": {
     "is_executing": true
    }
   },
   "outputs": [],
   "source": [
    "%%capture\n",
    "\n",
    "# index documents by (title, abstract, both)\n",
    "index_ref_docs_title = create_index(docs, mode=\"title\", indexer_path=\"./indexes/all/title\")\n",
    "index_docs_title = pt.IndexFactory.of(index_ref_docs_title)\n",
    "\n",
    "index_ref_docs_abstract = create_index(docs, mode=\"abstract\", indexer_path=\"./indexes/all/abstract\")\n",
    "index_docs_abstract = pt.IndexFactory.of(index_ref_docs_abstract)\n",
    "\n",
    "index_ref_docs_both = create_index(docs, mode=\"both\", indexer_path=\"./indexes/all/both\")\n",
    "index_docs_both = pt.IndexFactory.of(index_ref_docs_both)"
   ]
  },
  {
   "cell_type": "code",
   "execution_count": 12,
   "outputs": [
    {
     "data": {
      "text/plain": "          name    P@5   P@10   nDCG@10  RR(rel=2)\n0       TF_IDF  0.572  0.564  0.523648   0.622441\n1         BM25  0.576  0.548  0.511069   0.615557\n2  DirichletLM  0.524  0.502  0.460846   0.547692",
      "text/html": "<div>\n<style scoped>\n    .dataframe tbody tr th:only-of-type {\n        vertical-align: middle;\n    }\n\n    .dataframe tbody tr th {\n        vertical-align: top;\n    }\n\n    .dataframe thead th {\n        text-align: right;\n    }\n</style>\n<table border=\"1\" class=\"dataframe\">\n  <thead>\n    <tr style=\"text-align: right;\">\n      <th></th>\n      <th>name</th>\n      <th>P@5</th>\n      <th>P@10</th>\n      <th>nDCG@10</th>\n      <th>RR(rel=2)</th>\n    </tr>\n  </thead>\n  <tbody>\n    <tr>\n      <th>0</th>\n      <td>TF_IDF</td>\n      <td>0.572</td>\n      <td>0.564</td>\n      <td>0.523648</td>\n      <td>0.622441</td>\n    </tr>\n    <tr>\n      <th>1</th>\n      <td>BM25</td>\n      <td>0.576</td>\n      <td>0.548</td>\n      <td>0.511069</td>\n      <td>0.615557</td>\n    </tr>\n    <tr>\n      <th>2</th>\n      <td>DirichletLM</td>\n      <td>0.524</td>\n      <td>0.502</td>\n      <td>0.460846</td>\n      <td>0.547692</td>\n    </tr>\n  </tbody>\n</table>\n</div>"
     },
     "metadata": {},
     "output_type": "display_data"
    },
    {
     "data": {
      "text/plain": "          name    P@5   P@10   nDCG@10  RR(rel=2)\n0       TF_IDF  0.732  0.692  0.634998   0.724053\n1         BM25  0.664  0.646  0.589287   0.695181\n2  DirichletLM  0.672  0.664  0.590112   0.590859",
      "text/html": "<div>\n<style scoped>\n    .dataframe tbody tr th:only-of-type {\n        vertical-align: middle;\n    }\n\n    .dataframe tbody tr th {\n        vertical-align: top;\n    }\n\n    .dataframe thead th {\n        text-align: right;\n    }\n</style>\n<table border=\"1\" class=\"dataframe\">\n  <thead>\n    <tr style=\"text-align: right;\">\n      <th></th>\n      <th>name</th>\n      <th>P@5</th>\n      <th>P@10</th>\n      <th>nDCG@10</th>\n      <th>RR(rel=2)</th>\n    </tr>\n  </thead>\n  <tbody>\n    <tr>\n      <th>0</th>\n      <td>TF_IDF</td>\n      <td>0.732</td>\n      <td>0.692</td>\n      <td>0.634998</td>\n      <td>0.724053</td>\n    </tr>\n    <tr>\n      <th>1</th>\n      <td>BM25</td>\n      <td>0.664</td>\n      <td>0.646</td>\n      <td>0.589287</td>\n      <td>0.695181</td>\n    </tr>\n    <tr>\n      <th>2</th>\n      <td>DirichletLM</td>\n      <td>0.672</td>\n      <td>0.664</td>\n      <td>0.590112</td>\n      <td>0.590859</td>\n    </tr>\n  </tbody>\n</table>\n</div>"
     },
     "metadata": {},
     "output_type": "display_data"
    },
    {
     "data": {
      "text/plain": "          name    P@5   P@10   nDCG@10  RR(rel=2)\n0       TF_IDF  0.620  0.580  0.548256   0.656998\n1         BM25  0.628  0.574  0.540893   0.645207\n2  DirichletLM  0.564  0.540  0.495286   0.599223",
      "text/html": "<div>\n<style scoped>\n    .dataframe tbody tr th:only-of-type {\n        vertical-align: middle;\n    }\n\n    .dataframe tbody tr th {\n        vertical-align: top;\n    }\n\n    .dataframe thead th {\n        text-align: right;\n    }\n</style>\n<table border=\"1\" class=\"dataframe\">\n  <thead>\n    <tr style=\"text-align: right;\">\n      <th></th>\n      <th>name</th>\n      <th>P@5</th>\n      <th>P@10</th>\n      <th>nDCG@10</th>\n      <th>RR(rel=2)</th>\n    </tr>\n  </thead>\n  <tbody>\n    <tr>\n      <th>0</th>\n      <td>TF_IDF</td>\n      <td>0.620</td>\n      <td>0.580</td>\n      <td>0.548256</td>\n      <td>0.656998</td>\n    </tr>\n    <tr>\n      <th>1</th>\n      <td>BM25</td>\n      <td>0.628</td>\n      <td>0.574</td>\n      <td>0.540893</td>\n      <td>0.645207</td>\n    </tr>\n    <tr>\n      <th>2</th>\n      <td>DirichletLM</td>\n      <td>0.564</td>\n      <td>0.540</td>\n      <td>0.495286</td>\n      <td>0.599223</td>\n    </tr>\n  </tbody>\n</table>\n</div>"
     },
     "metadata": {},
     "output_type": "display_data"
    },
    {
     "data": {
      "text/plain": "          name    P@5   P@10   nDCG@10  RR(rel=2)\n0       TF_IDF  0.632  0.546  0.535381   0.670968\n1         BM25  0.636  0.548  0.520810   0.610791\n2  DirichletLM  0.440  0.426  0.394819   0.488832",
      "text/html": "<div>\n<style scoped>\n    .dataframe tbody tr th:only-of-type {\n        vertical-align: middle;\n    }\n\n    .dataframe tbody tr th {\n        vertical-align: top;\n    }\n\n    .dataframe thead th {\n        text-align: right;\n    }\n</style>\n<table border=\"1\" class=\"dataframe\">\n  <thead>\n    <tr style=\"text-align: right;\">\n      <th></th>\n      <th>name</th>\n      <th>P@5</th>\n      <th>P@10</th>\n      <th>nDCG@10</th>\n      <th>RR(rel=2)</th>\n    </tr>\n  </thead>\n  <tbody>\n    <tr>\n      <th>0</th>\n      <td>TF_IDF</td>\n      <td>0.632</td>\n      <td>0.546</td>\n      <td>0.535381</td>\n      <td>0.670968</td>\n    </tr>\n    <tr>\n      <th>1</th>\n      <td>BM25</td>\n      <td>0.636</td>\n      <td>0.548</td>\n      <td>0.520810</td>\n      <td>0.610791</td>\n    </tr>\n    <tr>\n      <th>2</th>\n      <td>DirichletLM</td>\n      <td>0.440</td>\n      <td>0.426</td>\n      <td>0.394819</td>\n      <td>0.488832</td>\n    </tr>\n  </tbody>\n</table>\n</div>"
     },
     "metadata": {},
     "output_type": "display_data"
    },
    {
     "data": {
      "text/plain": "          name    P@5   P@10   nDCG@10  RR(rel=2)\n0       TF_IDF  0.736  0.700  0.644396   0.784202\n1         BM25  0.680  0.642  0.567955   0.633944\n2  DirichletLM  0.692  0.658  0.607796   0.675928",
      "text/html": "<div>\n<style scoped>\n    .dataframe tbody tr th:only-of-type {\n        vertical-align: middle;\n    }\n\n    .dataframe tbody tr th {\n        vertical-align: top;\n    }\n\n    .dataframe thead th {\n        text-align: right;\n    }\n</style>\n<table border=\"1\" class=\"dataframe\">\n  <thead>\n    <tr style=\"text-align: right;\">\n      <th></th>\n      <th>name</th>\n      <th>P@5</th>\n      <th>P@10</th>\n      <th>nDCG@10</th>\n      <th>RR(rel=2)</th>\n    </tr>\n  </thead>\n  <tbody>\n    <tr>\n      <th>0</th>\n      <td>TF_IDF</td>\n      <td>0.736</td>\n      <td>0.700</td>\n      <td>0.644396</td>\n      <td>0.784202</td>\n    </tr>\n    <tr>\n      <th>1</th>\n      <td>BM25</td>\n      <td>0.680</td>\n      <td>0.642</td>\n      <td>0.567955</td>\n      <td>0.633944</td>\n    </tr>\n    <tr>\n      <th>2</th>\n      <td>DirichletLM</td>\n      <td>0.692</td>\n      <td>0.658</td>\n      <td>0.607796</td>\n      <td>0.675928</td>\n    </tr>\n  </tbody>\n</table>\n</div>"
     },
     "metadata": {},
     "output_type": "display_data"
    },
    {
     "data": {
      "text/plain": "          name    P@5   P@10   nDCG@10  RR(rel=2)\n0       TF_IDF  0.648  0.576  0.554443   0.675530\n1         BM25  0.656  0.564  0.545712   0.673496\n2  DirichletLM  0.496  0.458  0.417476   0.511969",
      "text/html": "<div>\n<style scoped>\n    .dataframe tbody tr th:only-of-type {\n        vertical-align: middle;\n    }\n\n    .dataframe tbody tr th {\n        vertical-align: top;\n    }\n\n    .dataframe thead th {\n        text-align: right;\n    }\n</style>\n<table border=\"1\" class=\"dataframe\">\n  <thead>\n    <tr style=\"text-align: right;\">\n      <th></th>\n      <th>name</th>\n      <th>P@5</th>\n      <th>P@10</th>\n      <th>nDCG@10</th>\n      <th>RR(rel=2)</th>\n    </tr>\n  </thead>\n  <tbody>\n    <tr>\n      <th>0</th>\n      <td>TF_IDF</td>\n      <td>0.648</td>\n      <td>0.576</td>\n      <td>0.554443</td>\n      <td>0.675530</td>\n    </tr>\n    <tr>\n      <th>1</th>\n      <td>BM25</td>\n      <td>0.656</td>\n      <td>0.564</td>\n      <td>0.545712</td>\n      <td>0.673496</td>\n    </tr>\n    <tr>\n      <th>2</th>\n      <td>DirichletLM</td>\n      <td>0.496</td>\n      <td>0.458</td>\n      <td>0.417476</td>\n      <td>0.511969</td>\n    </tr>\n  </tbody>\n</table>\n</div>"
     },
     "metadata": {},
     "output_type": "display_data"
    },
    {
     "data": {
      "text/plain": "          name    P@5   P@10   nDCG@10  RR(rel=2)\n0       TF_IDF  0.456  0.418  0.378497   0.472017\n1         BM25  0.448  0.430  0.383058   0.474036\n2  DirichletLM  0.256  0.224  0.214163   0.342773",
      "text/html": "<div>\n<style scoped>\n    .dataframe tbody tr th:only-of-type {\n        vertical-align: middle;\n    }\n\n    .dataframe tbody tr th {\n        vertical-align: top;\n    }\n\n    .dataframe thead th {\n        text-align: right;\n    }\n</style>\n<table border=\"1\" class=\"dataframe\">\n  <thead>\n    <tr style=\"text-align: right;\">\n      <th></th>\n      <th>name</th>\n      <th>P@5</th>\n      <th>P@10</th>\n      <th>nDCG@10</th>\n      <th>RR(rel=2)</th>\n    </tr>\n  </thead>\n  <tbody>\n    <tr>\n      <th>0</th>\n      <td>TF_IDF</td>\n      <td>0.456</td>\n      <td>0.418</td>\n      <td>0.378497</td>\n      <td>0.472017</td>\n    </tr>\n    <tr>\n      <th>1</th>\n      <td>BM25</td>\n      <td>0.448</td>\n      <td>0.430</td>\n      <td>0.383058</td>\n      <td>0.474036</td>\n    </tr>\n    <tr>\n      <th>2</th>\n      <td>DirichletLM</td>\n      <td>0.256</td>\n      <td>0.224</td>\n      <td>0.214163</td>\n      <td>0.342773</td>\n    </tr>\n  </tbody>\n</table>\n</div>"
     },
     "metadata": {},
     "output_type": "display_data"
    },
    {
     "data": {
      "text/plain": "          name    P@5   P@10   nDCG@10  RR(rel=2)\n0       TF_IDF  0.584  0.574  0.519034   0.602448\n1         BM25  0.552  0.548  0.493880   0.614167\n2  DirichletLM  0.432  0.432  0.384271   0.506665",
      "text/html": "<div>\n<style scoped>\n    .dataframe tbody tr th:only-of-type {\n        vertical-align: middle;\n    }\n\n    .dataframe tbody tr th {\n        vertical-align: top;\n    }\n\n    .dataframe thead th {\n        text-align: right;\n    }\n</style>\n<table border=\"1\" class=\"dataframe\">\n  <thead>\n    <tr style=\"text-align: right;\">\n      <th></th>\n      <th>name</th>\n      <th>P@5</th>\n      <th>P@10</th>\n      <th>nDCG@10</th>\n      <th>RR(rel=2)</th>\n    </tr>\n  </thead>\n  <tbody>\n    <tr>\n      <th>0</th>\n      <td>TF_IDF</td>\n      <td>0.584</td>\n      <td>0.574</td>\n      <td>0.519034</td>\n      <td>0.602448</td>\n    </tr>\n    <tr>\n      <th>1</th>\n      <td>BM25</td>\n      <td>0.552</td>\n      <td>0.548</td>\n      <td>0.493880</td>\n      <td>0.614167</td>\n    </tr>\n    <tr>\n      <th>2</th>\n      <td>DirichletLM</td>\n      <td>0.432</td>\n      <td>0.432</td>\n      <td>0.384271</td>\n      <td>0.506665</td>\n    </tr>\n  </tbody>\n</table>\n</div>"
     },
     "metadata": {},
     "output_type": "display_data"
    },
    {
     "data": {
      "text/plain": "          name    P@5   P@10   nDCG@10  RR(rel=2)\n0       TF_IDF  0.480  0.426  0.399389   0.528927\n1         BM25  0.476  0.432  0.404772   0.535345\n2  DirichletLM  0.244  0.208  0.202026   0.322534",
      "text/html": "<div>\n<style scoped>\n    .dataframe tbody tr th:only-of-type {\n        vertical-align: middle;\n    }\n\n    .dataframe tbody tr th {\n        vertical-align: top;\n    }\n\n    .dataframe thead th {\n        text-align: right;\n    }\n</style>\n<table border=\"1\" class=\"dataframe\">\n  <thead>\n    <tr style=\"text-align: right;\">\n      <th></th>\n      <th>name</th>\n      <th>P@5</th>\n      <th>P@10</th>\n      <th>nDCG@10</th>\n      <th>RR(rel=2)</th>\n    </tr>\n  </thead>\n  <tbody>\n    <tr>\n      <th>0</th>\n      <td>TF_IDF</td>\n      <td>0.480</td>\n      <td>0.426</td>\n      <td>0.399389</td>\n      <td>0.528927</td>\n    </tr>\n    <tr>\n      <th>1</th>\n      <td>BM25</td>\n      <td>0.476</td>\n      <td>0.432</td>\n      <td>0.404772</td>\n      <td>0.535345</td>\n    </tr>\n    <tr>\n      <th>2</th>\n      <td>DirichletLM</td>\n      <td>0.244</td>\n      <td>0.208</td>\n      <td>0.202026</td>\n      <td>0.322534</td>\n    </tr>\n  </tbody>\n</table>\n</div>"
     },
     "metadata": {},
     "output_type": "display_data"
    }
   ],
   "source": [
    "# docs {title, abstract, both} with query_title\n",
    "exp1 = experiment(index_docs_title, pq_title, qrels)\n",
    "display(exp1)\n",
    "\n",
    "exp2 = experiment(index_docs_abstract, pq_title, qrels)\n",
    "display(exp2)\n",
    "\n",
    "exp3 = experiment(index_docs_both, pq_title, qrels)\n",
    "display(exp3)\n",
    "\n",
    "# docs {title, abstract, both} with query_description\n",
    "exp4 = experiment(index_docs_title, pq_desc, qrels)\n",
    "display(exp4)\n",
    "\n",
    "exp5 = experiment(index_docs_abstract, pq_desc, qrels)\n",
    "display(exp5)\n",
    "\n",
    "exp6 = experiment(index_docs_both, pq_desc, qrels)\n",
    "display(exp6)\n",
    "\n",
    "# docs {title, abstract, both} with query_narrative\n",
    "exp7 = experiment(index_docs_title, pq_narr, qrels)\n",
    "display(exp7)\n",
    "\n",
    "exp8 = experiment(index_docs_abstract, pq_narr, qrels)\n",
    "display(exp8)\n",
    "\n",
    "exp9 = experiment(index_docs_both, pq_narr, qrels)\n",
    "display(exp9)"
   ],
   "metadata": {
    "collapsed": false,
    "pycharm": {
     "name": "#%%\n"
    }
   }
  },
  {
   "cell_type": "markdown",
   "source": [
    "### Index English Documents and Experiments"
   ],
   "metadata": {
    "collapsed": false
   }
  },
  {
   "cell_type": "code",
   "execution_count": null,
   "outputs": [],
   "source": [
    "%%capture\n",
    "\n",
    "# index en-documents by (title, abstract, both)\n",
    "index_ref_en_docs_title = create_index(en_docs, mode=\"title\", indexer_path=\"./indexes/en/title\")\n",
    "index_en_docs_title = pt.IndexFactory.of(index_ref_en_docs_title)\n",
    "\n",
    "index_ref_en_docs_abstract = create_index(en_docs, mode=\"abstract\", indexer_path=\"./indexes/en/abstract\")\n",
    "index_en_docs_abstract = pt.IndexFactory.of(index_ref_en_docs_abstract)\n",
    "\n",
    "index_ref_en_docs_both = create_index(en_docs, mode=\"both\", indexer_path=\"./indexes/en/both\")\n",
    "index_en_docs_both = pt.IndexFactory.of(index_ref_en_docs_both)"
   ],
   "metadata": {
    "collapsed": false,
    "pycharm": {
     "name": "#%%\n",
     "is_executing": true
    }
   }
  },
  {
   "cell_type": "code",
   "execution_count": 16,
   "metadata": {
    "pycharm": {
     "name": "#%%\n"
    }
   },
   "outputs": [
    {
     "data": {
      "text/plain": "          name    P@5   P@10   nDCG@10  RR(rel=2)\n0       TF_IDF  0.572  0.562  0.521739   0.622446\n1         BM25  0.576  0.550  0.512641   0.615589\n2  DirichletLM  0.540  0.508  0.468562   0.551330",
      "text/html": "<div>\n<style scoped>\n    .dataframe tbody tr th:only-of-type {\n        vertical-align: middle;\n    }\n\n    .dataframe tbody tr th {\n        vertical-align: top;\n    }\n\n    .dataframe thead th {\n        text-align: right;\n    }\n</style>\n<table border=\"1\" class=\"dataframe\">\n  <thead>\n    <tr style=\"text-align: right;\">\n      <th></th>\n      <th>name</th>\n      <th>P@5</th>\n      <th>P@10</th>\n      <th>nDCG@10</th>\n      <th>RR(rel=2)</th>\n    </tr>\n  </thead>\n  <tbody>\n    <tr>\n      <th>0</th>\n      <td>TF_IDF</td>\n      <td>0.572</td>\n      <td>0.562</td>\n      <td>0.521739</td>\n      <td>0.622446</td>\n    </tr>\n    <tr>\n      <th>1</th>\n      <td>BM25</td>\n      <td>0.576</td>\n      <td>0.550</td>\n      <td>0.512641</td>\n      <td>0.615589</td>\n    </tr>\n    <tr>\n      <th>2</th>\n      <td>DirichletLM</td>\n      <td>0.540</td>\n      <td>0.508</td>\n      <td>0.468562</td>\n      <td>0.551330</td>\n    </tr>\n  </tbody>\n</table>\n</div>"
     },
     "metadata": {},
     "output_type": "display_data"
    },
    {
     "data": {
      "text/plain": "          name    P@5   P@10   nDCG@10  RR(rel=2)\n0       TF_IDF  0.732  0.688  0.633095   0.724063\n1         BM25  0.668  0.648  0.589952   0.700447\n2  DirichletLM  0.676  0.670  0.594187   0.591624",
      "text/html": "<div>\n<style scoped>\n    .dataframe tbody tr th:only-of-type {\n        vertical-align: middle;\n    }\n\n    .dataframe tbody tr th {\n        vertical-align: top;\n    }\n\n    .dataframe thead th {\n        text-align: right;\n    }\n</style>\n<table border=\"1\" class=\"dataframe\">\n  <thead>\n    <tr style=\"text-align: right;\">\n      <th></th>\n      <th>name</th>\n      <th>P@5</th>\n      <th>P@10</th>\n      <th>nDCG@10</th>\n      <th>RR(rel=2)</th>\n    </tr>\n  </thead>\n  <tbody>\n    <tr>\n      <th>0</th>\n      <td>TF_IDF</td>\n      <td>0.732</td>\n      <td>0.688</td>\n      <td>0.633095</td>\n      <td>0.724063</td>\n    </tr>\n    <tr>\n      <th>1</th>\n      <td>BM25</td>\n      <td>0.668</td>\n      <td>0.648</td>\n      <td>0.589952</td>\n      <td>0.700447</td>\n    </tr>\n    <tr>\n      <th>2</th>\n      <td>DirichletLM</td>\n      <td>0.676</td>\n      <td>0.670</td>\n      <td>0.594187</td>\n      <td>0.591624</td>\n    </tr>\n  </tbody>\n</table>\n</div>"
     },
     "metadata": {},
     "output_type": "display_data"
    },
    {
     "data": {
      "text/plain": "          name    P@5   P@10   nDCG@10  RR(rel=2)\n0       TF_IDF  0.624  0.586  0.552496   0.657000\n1         BM25  0.632  0.578  0.543770   0.645228\n2  DirichletLM  0.564  0.540  0.495286   0.599225",
      "text/html": "<div>\n<style scoped>\n    .dataframe tbody tr th:only-of-type {\n        vertical-align: middle;\n    }\n\n    .dataframe tbody tr th {\n        vertical-align: top;\n    }\n\n    .dataframe thead th {\n        text-align: right;\n    }\n</style>\n<table border=\"1\" class=\"dataframe\">\n  <thead>\n    <tr style=\"text-align: right;\">\n      <th></th>\n      <th>name</th>\n      <th>P@5</th>\n      <th>P@10</th>\n      <th>nDCG@10</th>\n      <th>RR(rel=2)</th>\n    </tr>\n  </thead>\n  <tbody>\n    <tr>\n      <th>0</th>\n      <td>TF_IDF</td>\n      <td>0.624</td>\n      <td>0.586</td>\n      <td>0.552496</td>\n      <td>0.657000</td>\n    </tr>\n    <tr>\n      <th>1</th>\n      <td>BM25</td>\n      <td>0.632</td>\n      <td>0.578</td>\n      <td>0.543770</td>\n      <td>0.645228</td>\n    </tr>\n    <tr>\n      <th>2</th>\n      <td>DirichletLM</td>\n      <td>0.564</td>\n      <td>0.540</td>\n      <td>0.495286</td>\n      <td>0.599225</td>\n    </tr>\n  </tbody>\n</table>\n</div>"
     },
     "metadata": {},
     "output_type": "display_data"
    },
    {
     "data": {
      "text/plain": "          name    P@5   P@10   nDCG@10  RR(rel=2)\n0       TF_IDF  0.632  0.546  0.535381   0.671064\n1         BM25  0.636  0.548  0.520960   0.611938\n2  DirichletLM  0.440  0.428  0.395899   0.489001",
      "text/html": "<div>\n<style scoped>\n    .dataframe tbody tr th:only-of-type {\n        vertical-align: middle;\n    }\n\n    .dataframe tbody tr th {\n        vertical-align: top;\n    }\n\n    .dataframe thead th {\n        text-align: right;\n    }\n</style>\n<table border=\"1\" class=\"dataframe\">\n  <thead>\n    <tr style=\"text-align: right;\">\n      <th></th>\n      <th>name</th>\n      <th>P@5</th>\n      <th>P@10</th>\n      <th>nDCG@10</th>\n      <th>RR(rel=2)</th>\n    </tr>\n  </thead>\n  <tbody>\n    <tr>\n      <th>0</th>\n      <td>TF_IDF</td>\n      <td>0.632</td>\n      <td>0.546</td>\n      <td>0.535381</td>\n      <td>0.671064</td>\n    </tr>\n    <tr>\n      <th>1</th>\n      <td>BM25</td>\n      <td>0.636</td>\n      <td>0.548</td>\n      <td>0.520960</td>\n      <td>0.611938</td>\n    </tr>\n    <tr>\n      <th>2</th>\n      <td>DirichletLM</td>\n      <td>0.440</td>\n      <td>0.428</td>\n      <td>0.395899</td>\n      <td>0.489001</td>\n    </tr>\n  </tbody>\n</table>\n</div>"
     },
     "metadata": {},
     "output_type": "display_data"
    },
    {
     "data": {
      "text/plain": "          name    P@5  P@10   nDCG@10  RR(rel=2)\n0       TF_IDF  0.736  0.70  0.644823   0.784202\n1         BM25  0.676  0.64  0.566200   0.633944\n2  DirichletLM  0.696  0.66  0.610008   0.685928",
      "text/html": "<div>\n<style scoped>\n    .dataframe tbody tr th:only-of-type {\n        vertical-align: middle;\n    }\n\n    .dataframe tbody tr th {\n        vertical-align: top;\n    }\n\n    .dataframe thead th {\n        text-align: right;\n    }\n</style>\n<table border=\"1\" class=\"dataframe\">\n  <thead>\n    <tr style=\"text-align: right;\">\n      <th></th>\n      <th>name</th>\n      <th>P@5</th>\n      <th>P@10</th>\n      <th>nDCG@10</th>\n      <th>RR(rel=2)</th>\n    </tr>\n  </thead>\n  <tbody>\n    <tr>\n      <th>0</th>\n      <td>TF_IDF</td>\n      <td>0.736</td>\n      <td>0.70</td>\n      <td>0.644823</td>\n      <td>0.784202</td>\n    </tr>\n    <tr>\n      <th>1</th>\n      <td>BM25</td>\n      <td>0.676</td>\n      <td>0.64</td>\n      <td>0.566200</td>\n      <td>0.633944</td>\n    </tr>\n    <tr>\n      <th>2</th>\n      <td>DirichletLM</td>\n      <td>0.696</td>\n      <td>0.66</td>\n      <td>0.610008</td>\n      <td>0.685928</td>\n    </tr>\n  </tbody>\n</table>\n</div>"
     },
     "metadata": {},
     "output_type": "display_data"
    },
    {
     "data": {
      "text/plain": "          name    P@5   P@10   nDCG@10  RR(rel=2)\n0       TF_IDF  0.648  0.576  0.554599   0.675530\n1         BM25  0.652  0.564  0.545502   0.673774\n2  DirichletLM  0.496  0.458  0.417565   0.511969",
      "text/html": "<div>\n<style scoped>\n    .dataframe tbody tr th:only-of-type {\n        vertical-align: middle;\n    }\n\n    .dataframe tbody tr th {\n        vertical-align: top;\n    }\n\n    .dataframe thead th {\n        text-align: right;\n    }\n</style>\n<table border=\"1\" class=\"dataframe\">\n  <thead>\n    <tr style=\"text-align: right;\">\n      <th></th>\n      <th>name</th>\n      <th>P@5</th>\n      <th>P@10</th>\n      <th>nDCG@10</th>\n      <th>RR(rel=2)</th>\n    </tr>\n  </thead>\n  <tbody>\n    <tr>\n      <th>0</th>\n      <td>TF_IDF</td>\n      <td>0.648</td>\n      <td>0.576</td>\n      <td>0.554599</td>\n      <td>0.675530</td>\n    </tr>\n    <tr>\n      <th>1</th>\n      <td>BM25</td>\n      <td>0.652</td>\n      <td>0.564</td>\n      <td>0.545502</td>\n      <td>0.673774</td>\n    </tr>\n    <tr>\n      <th>2</th>\n      <td>DirichletLM</td>\n      <td>0.496</td>\n      <td>0.458</td>\n      <td>0.417565</td>\n      <td>0.511969</td>\n    </tr>\n  </tbody>\n</table>\n</div>"
     },
     "metadata": {},
     "output_type": "display_data"
    },
    {
     "data": {
      "text/plain": "          name    P@5   P@10   nDCG@10  RR(rel=2)\n0       TF_IDF  0.468  0.418  0.381715   0.486482\n1         BM25  0.448  0.432  0.386476   0.477303\n2  DirichletLM  0.248  0.226  0.213624   0.337663",
      "text/html": "<div>\n<style scoped>\n    .dataframe tbody tr th:only-of-type {\n        vertical-align: middle;\n    }\n\n    .dataframe tbody tr th {\n        vertical-align: top;\n    }\n\n    .dataframe thead th {\n        text-align: right;\n    }\n</style>\n<table border=\"1\" class=\"dataframe\">\n  <thead>\n    <tr style=\"text-align: right;\">\n      <th></th>\n      <th>name</th>\n      <th>P@5</th>\n      <th>P@10</th>\n      <th>nDCG@10</th>\n      <th>RR(rel=2)</th>\n    </tr>\n  </thead>\n  <tbody>\n    <tr>\n      <th>0</th>\n      <td>TF_IDF</td>\n      <td>0.468</td>\n      <td>0.418</td>\n      <td>0.381715</td>\n      <td>0.486482</td>\n    </tr>\n    <tr>\n      <th>1</th>\n      <td>BM25</td>\n      <td>0.448</td>\n      <td>0.432</td>\n      <td>0.386476</td>\n      <td>0.477303</td>\n    </tr>\n    <tr>\n      <th>2</th>\n      <td>DirichletLM</td>\n      <td>0.248</td>\n      <td>0.226</td>\n      <td>0.213624</td>\n      <td>0.337663</td>\n    </tr>\n  </tbody>\n</table>\n</div>"
     },
     "metadata": {},
     "output_type": "display_data"
    },
    {
     "data": {
      "text/plain": "          name    P@5   P@10   nDCG@10  RR(rel=2)\n0       TF_IDF  0.584  0.574  0.519124   0.602461\n1         BM25  0.548  0.548  0.493708   0.614169\n2  DirichletLM  0.436  0.436  0.387638   0.506611",
      "text/html": "<div>\n<style scoped>\n    .dataframe tbody tr th:only-of-type {\n        vertical-align: middle;\n    }\n\n    .dataframe tbody tr th {\n        vertical-align: top;\n    }\n\n    .dataframe thead th {\n        text-align: right;\n    }\n</style>\n<table border=\"1\" class=\"dataframe\">\n  <thead>\n    <tr style=\"text-align: right;\">\n      <th></th>\n      <th>name</th>\n      <th>P@5</th>\n      <th>P@10</th>\n      <th>nDCG@10</th>\n      <th>RR(rel=2)</th>\n    </tr>\n  </thead>\n  <tbody>\n    <tr>\n      <th>0</th>\n      <td>TF_IDF</td>\n      <td>0.584</td>\n      <td>0.574</td>\n      <td>0.519124</td>\n      <td>0.602461</td>\n    </tr>\n    <tr>\n      <th>1</th>\n      <td>BM25</td>\n      <td>0.548</td>\n      <td>0.548</td>\n      <td>0.493708</td>\n      <td>0.614169</td>\n    </tr>\n    <tr>\n      <th>2</th>\n      <td>DirichletLM</td>\n      <td>0.436</td>\n      <td>0.436</td>\n      <td>0.387638</td>\n      <td>0.506611</td>\n    </tr>\n  </tbody>\n</table>\n</div>"
     },
     "metadata": {},
     "output_type": "display_data"
    },
    {
     "data": {
      "text/plain": "          name    P@5   P@10   nDCG@10  RR(rel=2)\n0       TF_IDF  0.480  0.426  0.399389   0.528925\n1         BM25  0.480  0.432  0.405134   0.535337\n2  DirichletLM  0.244  0.206  0.200178   0.322545",
      "text/html": "<div>\n<style scoped>\n    .dataframe tbody tr th:only-of-type {\n        vertical-align: middle;\n    }\n\n    .dataframe tbody tr th {\n        vertical-align: top;\n    }\n\n    .dataframe thead th {\n        text-align: right;\n    }\n</style>\n<table border=\"1\" class=\"dataframe\">\n  <thead>\n    <tr style=\"text-align: right;\">\n      <th></th>\n      <th>name</th>\n      <th>P@5</th>\n      <th>P@10</th>\n      <th>nDCG@10</th>\n      <th>RR(rel=2)</th>\n    </tr>\n  </thead>\n  <tbody>\n    <tr>\n      <th>0</th>\n      <td>TF_IDF</td>\n      <td>0.480</td>\n      <td>0.426</td>\n      <td>0.399389</td>\n      <td>0.528925</td>\n    </tr>\n    <tr>\n      <th>1</th>\n      <td>BM25</td>\n      <td>0.480</td>\n      <td>0.432</td>\n      <td>0.405134</td>\n      <td>0.535337</td>\n    </tr>\n    <tr>\n      <th>2</th>\n      <td>DirichletLM</td>\n      <td>0.244</td>\n      <td>0.206</td>\n      <td>0.200178</td>\n      <td>0.322545</td>\n    </tr>\n  </tbody>\n</table>\n</div>"
     },
     "metadata": {},
     "output_type": "display_data"
    },
    {
     "data": {
      "text/plain": "          name    P@5   P@10   nDCG@10  RR(rel=2)\n0       TF_IDF  0.572  0.562  0.521739   0.622446\n1         BM25  0.576  0.550  0.512641   0.615589\n2  DirichletLM  0.540  0.508  0.468562   0.551330",
      "text/html": "<div>\n<style scoped>\n    .dataframe tbody tr th:only-of-type {\n        vertical-align: middle;\n    }\n\n    .dataframe tbody tr th {\n        vertical-align: top;\n    }\n\n    .dataframe thead th {\n        text-align: right;\n    }\n</style>\n<table border=\"1\" class=\"dataframe\">\n  <thead>\n    <tr style=\"text-align: right;\">\n      <th></th>\n      <th>name</th>\n      <th>P@5</th>\n      <th>P@10</th>\n      <th>nDCG@10</th>\n      <th>RR(rel=2)</th>\n    </tr>\n  </thead>\n  <tbody>\n    <tr>\n      <th>0</th>\n      <td>TF_IDF</td>\n      <td>0.572</td>\n      <td>0.562</td>\n      <td>0.521739</td>\n      <td>0.622446</td>\n    </tr>\n    <tr>\n      <th>1</th>\n      <td>BM25</td>\n      <td>0.576</td>\n      <td>0.550</td>\n      <td>0.512641</td>\n      <td>0.615589</td>\n    </tr>\n    <tr>\n      <th>2</th>\n      <td>DirichletLM</td>\n      <td>0.540</td>\n      <td>0.508</td>\n      <td>0.468562</td>\n      <td>0.551330</td>\n    </tr>\n  </tbody>\n</table>\n</div>"
     },
     "metadata": {},
     "output_type": "display_data"
    },
    {
     "data": {
      "text/plain": "          name    P@5   P@10   nDCG@10  RR(rel=2)\n0       TF_IDF  0.732  0.688  0.633095   0.724063\n1         BM25  0.668  0.648  0.589952   0.700447\n2  DirichletLM  0.676  0.670  0.594187   0.591624",
      "text/html": "<div>\n<style scoped>\n    .dataframe tbody tr th:only-of-type {\n        vertical-align: middle;\n    }\n\n    .dataframe tbody tr th {\n        vertical-align: top;\n    }\n\n    .dataframe thead th {\n        text-align: right;\n    }\n</style>\n<table border=\"1\" class=\"dataframe\">\n  <thead>\n    <tr style=\"text-align: right;\">\n      <th></th>\n      <th>name</th>\n      <th>P@5</th>\n      <th>P@10</th>\n      <th>nDCG@10</th>\n      <th>RR(rel=2)</th>\n    </tr>\n  </thead>\n  <tbody>\n    <tr>\n      <th>0</th>\n      <td>TF_IDF</td>\n      <td>0.732</td>\n      <td>0.688</td>\n      <td>0.633095</td>\n      <td>0.724063</td>\n    </tr>\n    <tr>\n      <th>1</th>\n      <td>BM25</td>\n      <td>0.668</td>\n      <td>0.648</td>\n      <td>0.589952</td>\n      <td>0.700447</td>\n    </tr>\n    <tr>\n      <th>2</th>\n      <td>DirichletLM</td>\n      <td>0.676</td>\n      <td>0.670</td>\n      <td>0.594187</td>\n      <td>0.591624</td>\n    </tr>\n  </tbody>\n</table>\n</div>"
     },
     "metadata": {},
     "output_type": "display_data"
    },
    {
     "data": {
      "text/plain": "          name    P@5   P@10   nDCG@10  RR(rel=2)\n0       TF_IDF  0.624  0.586  0.552496   0.657000\n1         BM25  0.632  0.578  0.543770   0.645228\n2  DirichletLM  0.564  0.540  0.495286   0.599225",
      "text/html": "<div>\n<style scoped>\n    .dataframe tbody tr th:only-of-type {\n        vertical-align: middle;\n    }\n\n    .dataframe tbody tr th {\n        vertical-align: top;\n    }\n\n    .dataframe thead th {\n        text-align: right;\n    }\n</style>\n<table border=\"1\" class=\"dataframe\">\n  <thead>\n    <tr style=\"text-align: right;\">\n      <th></th>\n      <th>name</th>\n      <th>P@5</th>\n      <th>P@10</th>\n      <th>nDCG@10</th>\n      <th>RR(rel=2)</th>\n    </tr>\n  </thead>\n  <tbody>\n    <tr>\n      <th>0</th>\n      <td>TF_IDF</td>\n      <td>0.624</td>\n      <td>0.586</td>\n      <td>0.552496</td>\n      <td>0.657000</td>\n    </tr>\n    <tr>\n      <th>1</th>\n      <td>BM25</td>\n      <td>0.632</td>\n      <td>0.578</td>\n      <td>0.543770</td>\n      <td>0.645228</td>\n    </tr>\n    <tr>\n      <th>2</th>\n      <td>DirichletLM</td>\n      <td>0.564</td>\n      <td>0.540</td>\n      <td>0.495286</td>\n      <td>0.599225</td>\n    </tr>\n  </tbody>\n</table>\n</div>"
     },
     "metadata": {},
     "output_type": "display_data"
    },
    {
     "data": {
      "text/plain": "          name    P@5   P@10   nDCG@10  RR(rel=2)\n0       TF_IDF  0.632  0.546  0.535381   0.671064\n1         BM25  0.636  0.548  0.520960   0.611938\n2  DirichletLM  0.440  0.428  0.395899   0.489001",
      "text/html": "<div>\n<style scoped>\n    .dataframe tbody tr th:only-of-type {\n        vertical-align: middle;\n    }\n\n    .dataframe tbody tr th {\n        vertical-align: top;\n    }\n\n    .dataframe thead th {\n        text-align: right;\n    }\n</style>\n<table border=\"1\" class=\"dataframe\">\n  <thead>\n    <tr style=\"text-align: right;\">\n      <th></th>\n      <th>name</th>\n      <th>P@5</th>\n      <th>P@10</th>\n      <th>nDCG@10</th>\n      <th>RR(rel=2)</th>\n    </tr>\n  </thead>\n  <tbody>\n    <tr>\n      <th>0</th>\n      <td>TF_IDF</td>\n      <td>0.632</td>\n      <td>0.546</td>\n      <td>0.535381</td>\n      <td>0.671064</td>\n    </tr>\n    <tr>\n      <th>1</th>\n      <td>BM25</td>\n      <td>0.636</td>\n      <td>0.548</td>\n      <td>0.520960</td>\n      <td>0.611938</td>\n    </tr>\n    <tr>\n      <th>2</th>\n      <td>DirichletLM</td>\n      <td>0.440</td>\n      <td>0.428</td>\n      <td>0.395899</td>\n      <td>0.489001</td>\n    </tr>\n  </tbody>\n</table>\n</div>"
     },
     "metadata": {},
     "output_type": "display_data"
    },
    {
     "data": {
      "text/plain": "          name    P@5  P@10   nDCG@10  RR(rel=2)\n0       TF_IDF  0.736  0.70  0.644823   0.784202\n1         BM25  0.676  0.64  0.566200   0.633944\n2  DirichletLM  0.696  0.66  0.610008   0.685928",
      "text/html": "<div>\n<style scoped>\n    .dataframe tbody tr th:only-of-type {\n        vertical-align: middle;\n    }\n\n    .dataframe tbody tr th {\n        vertical-align: top;\n    }\n\n    .dataframe thead th {\n        text-align: right;\n    }\n</style>\n<table border=\"1\" class=\"dataframe\">\n  <thead>\n    <tr style=\"text-align: right;\">\n      <th></th>\n      <th>name</th>\n      <th>P@5</th>\n      <th>P@10</th>\n      <th>nDCG@10</th>\n      <th>RR(rel=2)</th>\n    </tr>\n  </thead>\n  <tbody>\n    <tr>\n      <th>0</th>\n      <td>TF_IDF</td>\n      <td>0.736</td>\n      <td>0.70</td>\n      <td>0.644823</td>\n      <td>0.784202</td>\n    </tr>\n    <tr>\n      <th>1</th>\n      <td>BM25</td>\n      <td>0.676</td>\n      <td>0.64</td>\n      <td>0.566200</td>\n      <td>0.633944</td>\n    </tr>\n    <tr>\n      <th>2</th>\n      <td>DirichletLM</td>\n      <td>0.696</td>\n      <td>0.66</td>\n      <td>0.610008</td>\n      <td>0.685928</td>\n    </tr>\n  </tbody>\n</table>\n</div>"
     },
     "metadata": {},
     "output_type": "display_data"
    },
    {
     "data": {
      "text/plain": "          name    P@5   P@10   nDCG@10  RR(rel=2)\n0       TF_IDF  0.648  0.576  0.554599   0.675530\n1         BM25  0.652  0.564  0.545502   0.673774\n2  DirichletLM  0.496  0.458  0.417565   0.511969",
      "text/html": "<div>\n<style scoped>\n    .dataframe tbody tr th:only-of-type {\n        vertical-align: middle;\n    }\n\n    .dataframe tbody tr th {\n        vertical-align: top;\n    }\n\n    .dataframe thead th {\n        text-align: right;\n    }\n</style>\n<table border=\"1\" class=\"dataframe\">\n  <thead>\n    <tr style=\"text-align: right;\">\n      <th></th>\n      <th>name</th>\n      <th>P@5</th>\n      <th>P@10</th>\n      <th>nDCG@10</th>\n      <th>RR(rel=2)</th>\n    </tr>\n  </thead>\n  <tbody>\n    <tr>\n      <th>0</th>\n      <td>TF_IDF</td>\n      <td>0.648</td>\n      <td>0.576</td>\n      <td>0.554599</td>\n      <td>0.675530</td>\n    </tr>\n    <tr>\n      <th>1</th>\n      <td>BM25</td>\n      <td>0.652</td>\n      <td>0.564</td>\n      <td>0.545502</td>\n      <td>0.673774</td>\n    </tr>\n    <tr>\n      <th>2</th>\n      <td>DirichletLM</td>\n      <td>0.496</td>\n      <td>0.458</td>\n      <td>0.417565</td>\n      <td>0.511969</td>\n    </tr>\n  </tbody>\n</table>\n</div>"
     },
     "metadata": {},
     "output_type": "display_data"
    },
    {
     "data": {
      "text/plain": "          name    P@5   P@10   nDCG@10  RR(rel=2)\n0       TF_IDF  0.468  0.418  0.381715   0.486482\n1         BM25  0.448  0.432  0.386476   0.477303\n2  DirichletLM  0.248  0.226  0.213624   0.337663",
      "text/html": "<div>\n<style scoped>\n    .dataframe tbody tr th:only-of-type {\n        vertical-align: middle;\n    }\n\n    .dataframe tbody tr th {\n        vertical-align: top;\n    }\n\n    .dataframe thead th {\n        text-align: right;\n    }\n</style>\n<table border=\"1\" class=\"dataframe\">\n  <thead>\n    <tr style=\"text-align: right;\">\n      <th></th>\n      <th>name</th>\n      <th>P@5</th>\n      <th>P@10</th>\n      <th>nDCG@10</th>\n      <th>RR(rel=2)</th>\n    </tr>\n  </thead>\n  <tbody>\n    <tr>\n      <th>0</th>\n      <td>TF_IDF</td>\n      <td>0.468</td>\n      <td>0.418</td>\n      <td>0.381715</td>\n      <td>0.486482</td>\n    </tr>\n    <tr>\n      <th>1</th>\n      <td>BM25</td>\n      <td>0.448</td>\n      <td>0.432</td>\n      <td>0.386476</td>\n      <td>0.477303</td>\n    </tr>\n    <tr>\n      <th>2</th>\n      <td>DirichletLM</td>\n      <td>0.248</td>\n      <td>0.226</td>\n      <td>0.213624</td>\n      <td>0.337663</td>\n    </tr>\n  </tbody>\n</table>\n</div>"
     },
     "metadata": {},
     "output_type": "display_data"
    },
    {
     "data": {
      "text/plain": "          name    P@5   P@10   nDCG@10  RR(rel=2)\n0       TF_IDF  0.584  0.574  0.519124   0.602461\n1         BM25  0.548  0.548  0.493708   0.614169\n2  DirichletLM  0.436  0.436  0.387638   0.506611",
      "text/html": "<div>\n<style scoped>\n    .dataframe tbody tr th:only-of-type {\n        vertical-align: middle;\n    }\n\n    .dataframe tbody tr th {\n        vertical-align: top;\n    }\n\n    .dataframe thead th {\n        text-align: right;\n    }\n</style>\n<table border=\"1\" class=\"dataframe\">\n  <thead>\n    <tr style=\"text-align: right;\">\n      <th></th>\n      <th>name</th>\n      <th>P@5</th>\n      <th>P@10</th>\n      <th>nDCG@10</th>\n      <th>RR(rel=2)</th>\n    </tr>\n  </thead>\n  <tbody>\n    <tr>\n      <th>0</th>\n      <td>TF_IDF</td>\n      <td>0.584</td>\n      <td>0.574</td>\n      <td>0.519124</td>\n      <td>0.602461</td>\n    </tr>\n    <tr>\n      <th>1</th>\n      <td>BM25</td>\n      <td>0.548</td>\n      <td>0.548</td>\n      <td>0.493708</td>\n      <td>0.614169</td>\n    </tr>\n    <tr>\n      <th>2</th>\n      <td>DirichletLM</td>\n      <td>0.436</td>\n      <td>0.436</td>\n      <td>0.387638</td>\n      <td>0.506611</td>\n    </tr>\n  </tbody>\n</table>\n</div>"
     },
     "metadata": {},
     "output_type": "display_data"
    },
    {
     "data": {
      "text/plain": "          name    P@5   P@10   nDCG@10  RR(rel=2)\n0       TF_IDF  0.480  0.426  0.399389   0.528925\n1         BM25  0.480  0.432  0.405134   0.535337\n2  DirichletLM  0.244  0.206  0.200178   0.322545",
      "text/html": "<div>\n<style scoped>\n    .dataframe tbody tr th:only-of-type {\n        vertical-align: middle;\n    }\n\n    .dataframe tbody tr th {\n        vertical-align: top;\n    }\n\n    .dataframe thead th {\n        text-align: right;\n    }\n</style>\n<table border=\"1\" class=\"dataframe\">\n  <thead>\n    <tr style=\"text-align: right;\">\n      <th></th>\n      <th>name</th>\n      <th>P@5</th>\n      <th>P@10</th>\n      <th>nDCG@10</th>\n      <th>RR(rel=2)</th>\n    </tr>\n  </thead>\n  <tbody>\n    <tr>\n      <th>0</th>\n      <td>TF_IDF</td>\n      <td>0.480</td>\n      <td>0.426</td>\n      <td>0.399389</td>\n      <td>0.528925</td>\n    </tr>\n    <tr>\n      <th>1</th>\n      <td>BM25</td>\n      <td>0.480</td>\n      <td>0.432</td>\n      <td>0.405134</td>\n      <td>0.535337</td>\n    </tr>\n    <tr>\n      <th>2</th>\n      <td>DirichletLM</td>\n      <td>0.244</td>\n      <td>0.206</td>\n      <td>0.200178</td>\n      <td>0.322545</td>\n    </tr>\n  </tbody>\n</table>\n</div>"
     },
     "metadata": {},
     "output_type": "display_data"
    },
    {
     "data": {
      "text/plain": "          name    P@5   P@10   nDCG@10  RR(rel=2)\n0       TF_IDF  0.572  0.562  0.521739   0.622446\n1         BM25  0.576  0.550  0.512641   0.615589\n2  DirichletLM  0.540  0.508  0.468562   0.551330",
      "text/html": "<div>\n<style scoped>\n    .dataframe tbody tr th:only-of-type {\n        vertical-align: middle;\n    }\n\n    .dataframe tbody tr th {\n        vertical-align: top;\n    }\n\n    .dataframe thead th {\n        text-align: right;\n    }\n</style>\n<table border=\"1\" class=\"dataframe\">\n  <thead>\n    <tr style=\"text-align: right;\">\n      <th></th>\n      <th>name</th>\n      <th>P@5</th>\n      <th>P@10</th>\n      <th>nDCG@10</th>\n      <th>RR(rel=2)</th>\n    </tr>\n  </thead>\n  <tbody>\n    <tr>\n      <th>0</th>\n      <td>TF_IDF</td>\n      <td>0.572</td>\n      <td>0.562</td>\n      <td>0.521739</td>\n      <td>0.622446</td>\n    </tr>\n    <tr>\n      <th>1</th>\n      <td>BM25</td>\n      <td>0.576</td>\n      <td>0.550</td>\n      <td>0.512641</td>\n      <td>0.615589</td>\n    </tr>\n    <tr>\n      <th>2</th>\n      <td>DirichletLM</td>\n      <td>0.540</td>\n      <td>0.508</td>\n      <td>0.468562</td>\n      <td>0.551330</td>\n    </tr>\n  </tbody>\n</table>\n</div>"
     },
     "metadata": {},
     "output_type": "display_data"
    },
    {
     "data": {
      "text/plain": "          name    P@5   P@10   nDCG@10  RR(rel=2)\n0       TF_IDF  0.732  0.688  0.633095   0.724063\n1         BM25  0.668  0.648  0.589952   0.700447\n2  DirichletLM  0.676  0.670  0.594187   0.591624",
      "text/html": "<div>\n<style scoped>\n    .dataframe tbody tr th:only-of-type {\n        vertical-align: middle;\n    }\n\n    .dataframe tbody tr th {\n        vertical-align: top;\n    }\n\n    .dataframe thead th {\n        text-align: right;\n    }\n</style>\n<table border=\"1\" class=\"dataframe\">\n  <thead>\n    <tr style=\"text-align: right;\">\n      <th></th>\n      <th>name</th>\n      <th>P@5</th>\n      <th>P@10</th>\n      <th>nDCG@10</th>\n      <th>RR(rel=2)</th>\n    </tr>\n  </thead>\n  <tbody>\n    <tr>\n      <th>0</th>\n      <td>TF_IDF</td>\n      <td>0.732</td>\n      <td>0.688</td>\n      <td>0.633095</td>\n      <td>0.724063</td>\n    </tr>\n    <tr>\n      <th>1</th>\n      <td>BM25</td>\n      <td>0.668</td>\n      <td>0.648</td>\n      <td>0.589952</td>\n      <td>0.700447</td>\n    </tr>\n    <tr>\n      <th>2</th>\n      <td>DirichletLM</td>\n      <td>0.676</td>\n      <td>0.670</td>\n      <td>0.594187</td>\n      <td>0.591624</td>\n    </tr>\n  </tbody>\n</table>\n</div>"
     },
     "metadata": {},
     "output_type": "display_data"
    },
    {
     "data": {
      "text/plain": "          name    P@5   P@10   nDCG@10  RR(rel=2)\n0       TF_IDF  0.624  0.586  0.552496   0.657000\n1         BM25  0.632  0.578  0.543770   0.645228\n2  DirichletLM  0.564  0.540  0.495286   0.599225",
      "text/html": "<div>\n<style scoped>\n    .dataframe tbody tr th:only-of-type {\n        vertical-align: middle;\n    }\n\n    .dataframe tbody tr th {\n        vertical-align: top;\n    }\n\n    .dataframe thead th {\n        text-align: right;\n    }\n</style>\n<table border=\"1\" class=\"dataframe\">\n  <thead>\n    <tr style=\"text-align: right;\">\n      <th></th>\n      <th>name</th>\n      <th>P@5</th>\n      <th>P@10</th>\n      <th>nDCG@10</th>\n      <th>RR(rel=2)</th>\n    </tr>\n  </thead>\n  <tbody>\n    <tr>\n      <th>0</th>\n      <td>TF_IDF</td>\n      <td>0.624</td>\n      <td>0.586</td>\n      <td>0.552496</td>\n      <td>0.657000</td>\n    </tr>\n    <tr>\n      <th>1</th>\n      <td>BM25</td>\n      <td>0.632</td>\n      <td>0.578</td>\n      <td>0.543770</td>\n      <td>0.645228</td>\n    </tr>\n    <tr>\n      <th>2</th>\n      <td>DirichletLM</td>\n      <td>0.564</td>\n      <td>0.540</td>\n      <td>0.495286</td>\n      <td>0.599225</td>\n    </tr>\n  </tbody>\n</table>\n</div>"
     },
     "metadata": {},
     "output_type": "display_data"
    },
    {
     "data": {
      "text/plain": "          name    P@5   P@10   nDCG@10  RR(rel=2)\n0       TF_IDF  0.632  0.546  0.535381   0.671064\n1         BM25  0.636  0.548  0.520960   0.611938\n2  DirichletLM  0.440  0.428  0.395899   0.489001",
      "text/html": "<div>\n<style scoped>\n    .dataframe tbody tr th:only-of-type {\n        vertical-align: middle;\n    }\n\n    .dataframe tbody tr th {\n        vertical-align: top;\n    }\n\n    .dataframe thead th {\n        text-align: right;\n    }\n</style>\n<table border=\"1\" class=\"dataframe\">\n  <thead>\n    <tr style=\"text-align: right;\">\n      <th></th>\n      <th>name</th>\n      <th>P@5</th>\n      <th>P@10</th>\n      <th>nDCG@10</th>\n      <th>RR(rel=2)</th>\n    </tr>\n  </thead>\n  <tbody>\n    <tr>\n      <th>0</th>\n      <td>TF_IDF</td>\n      <td>0.632</td>\n      <td>0.546</td>\n      <td>0.535381</td>\n      <td>0.671064</td>\n    </tr>\n    <tr>\n      <th>1</th>\n      <td>BM25</td>\n      <td>0.636</td>\n      <td>0.548</td>\n      <td>0.520960</td>\n      <td>0.611938</td>\n    </tr>\n    <tr>\n      <th>2</th>\n      <td>DirichletLM</td>\n      <td>0.440</td>\n      <td>0.428</td>\n      <td>0.395899</td>\n      <td>0.489001</td>\n    </tr>\n  </tbody>\n</table>\n</div>"
     },
     "metadata": {},
     "output_type": "display_data"
    },
    {
     "data": {
      "text/plain": "          name    P@5  P@10   nDCG@10  RR(rel=2)\n0       TF_IDF  0.736  0.70  0.644823   0.784202\n1         BM25  0.676  0.64  0.566200   0.633944\n2  DirichletLM  0.696  0.66  0.610008   0.685928",
      "text/html": "<div>\n<style scoped>\n    .dataframe tbody tr th:only-of-type {\n        vertical-align: middle;\n    }\n\n    .dataframe tbody tr th {\n        vertical-align: top;\n    }\n\n    .dataframe thead th {\n        text-align: right;\n    }\n</style>\n<table border=\"1\" class=\"dataframe\">\n  <thead>\n    <tr style=\"text-align: right;\">\n      <th></th>\n      <th>name</th>\n      <th>P@5</th>\n      <th>P@10</th>\n      <th>nDCG@10</th>\n      <th>RR(rel=2)</th>\n    </tr>\n  </thead>\n  <tbody>\n    <tr>\n      <th>0</th>\n      <td>TF_IDF</td>\n      <td>0.736</td>\n      <td>0.70</td>\n      <td>0.644823</td>\n      <td>0.784202</td>\n    </tr>\n    <tr>\n      <th>1</th>\n      <td>BM25</td>\n      <td>0.676</td>\n      <td>0.64</td>\n      <td>0.566200</td>\n      <td>0.633944</td>\n    </tr>\n    <tr>\n      <th>2</th>\n      <td>DirichletLM</td>\n      <td>0.696</td>\n      <td>0.66</td>\n      <td>0.610008</td>\n      <td>0.685928</td>\n    </tr>\n  </tbody>\n</table>\n</div>"
     },
     "metadata": {},
     "output_type": "display_data"
    },
    {
     "data": {
      "text/plain": "          name    P@5   P@10   nDCG@10  RR(rel=2)\n0       TF_IDF  0.648  0.576  0.554599   0.675530\n1         BM25  0.652  0.564  0.545502   0.673774\n2  DirichletLM  0.496  0.458  0.417565   0.511969",
      "text/html": "<div>\n<style scoped>\n    .dataframe tbody tr th:only-of-type {\n        vertical-align: middle;\n    }\n\n    .dataframe tbody tr th {\n        vertical-align: top;\n    }\n\n    .dataframe thead th {\n        text-align: right;\n    }\n</style>\n<table border=\"1\" class=\"dataframe\">\n  <thead>\n    <tr style=\"text-align: right;\">\n      <th></th>\n      <th>name</th>\n      <th>P@5</th>\n      <th>P@10</th>\n      <th>nDCG@10</th>\n      <th>RR(rel=2)</th>\n    </tr>\n  </thead>\n  <tbody>\n    <tr>\n      <th>0</th>\n      <td>TF_IDF</td>\n      <td>0.648</td>\n      <td>0.576</td>\n      <td>0.554599</td>\n      <td>0.675530</td>\n    </tr>\n    <tr>\n      <th>1</th>\n      <td>BM25</td>\n      <td>0.652</td>\n      <td>0.564</td>\n      <td>0.545502</td>\n      <td>0.673774</td>\n    </tr>\n    <tr>\n      <th>2</th>\n      <td>DirichletLM</td>\n      <td>0.496</td>\n      <td>0.458</td>\n      <td>0.417565</td>\n      <td>0.511969</td>\n    </tr>\n  </tbody>\n</table>\n</div>"
     },
     "metadata": {},
     "output_type": "display_data"
    },
    {
     "data": {
      "text/plain": "          name    P@5   P@10   nDCG@10  RR(rel=2)\n0       TF_IDF  0.468  0.418  0.381715   0.486482\n1         BM25  0.448  0.432  0.386476   0.477303\n2  DirichletLM  0.248  0.226  0.213624   0.337663",
      "text/html": "<div>\n<style scoped>\n    .dataframe tbody tr th:only-of-type {\n        vertical-align: middle;\n    }\n\n    .dataframe tbody tr th {\n        vertical-align: top;\n    }\n\n    .dataframe thead th {\n        text-align: right;\n    }\n</style>\n<table border=\"1\" class=\"dataframe\">\n  <thead>\n    <tr style=\"text-align: right;\">\n      <th></th>\n      <th>name</th>\n      <th>P@5</th>\n      <th>P@10</th>\n      <th>nDCG@10</th>\n      <th>RR(rel=2)</th>\n    </tr>\n  </thead>\n  <tbody>\n    <tr>\n      <th>0</th>\n      <td>TF_IDF</td>\n      <td>0.468</td>\n      <td>0.418</td>\n      <td>0.381715</td>\n      <td>0.486482</td>\n    </tr>\n    <tr>\n      <th>1</th>\n      <td>BM25</td>\n      <td>0.448</td>\n      <td>0.432</td>\n      <td>0.386476</td>\n      <td>0.477303</td>\n    </tr>\n    <tr>\n      <th>2</th>\n      <td>DirichletLM</td>\n      <td>0.248</td>\n      <td>0.226</td>\n      <td>0.213624</td>\n      <td>0.337663</td>\n    </tr>\n  </tbody>\n</table>\n</div>"
     },
     "metadata": {},
     "output_type": "display_data"
    },
    {
     "data": {
      "text/plain": "          name    P@5   P@10   nDCG@10  RR(rel=2)\n0       TF_IDF  0.584  0.574  0.519124   0.602461\n1         BM25  0.548  0.548  0.493708   0.614169\n2  DirichletLM  0.436  0.436  0.387638   0.506611",
      "text/html": "<div>\n<style scoped>\n    .dataframe tbody tr th:only-of-type {\n        vertical-align: middle;\n    }\n\n    .dataframe tbody tr th {\n        vertical-align: top;\n    }\n\n    .dataframe thead th {\n        text-align: right;\n    }\n</style>\n<table border=\"1\" class=\"dataframe\">\n  <thead>\n    <tr style=\"text-align: right;\">\n      <th></th>\n      <th>name</th>\n      <th>P@5</th>\n      <th>P@10</th>\n      <th>nDCG@10</th>\n      <th>RR(rel=2)</th>\n    </tr>\n  </thead>\n  <tbody>\n    <tr>\n      <th>0</th>\n      <td>TF_IDF</td>\n      <td>0.584</td>\n      <td>0.574</td>\n      <td>0.519124</td>\n      <td>0.602461</td>\n    </tr>\n    <tr>\n      <th>1</th>\n      <td>BM25</td>\n      <td>0.548</td>\n      <td>0.548</td>\n      <td>0.493708</td>\n      <td>0.614169</td>\n    </tr>\n    <tr>\n      <th>2</th>\n      <td>DirichletLM</td>\n      <td>0.436</td>\n      <td>0.436</td>\n      <td>0.387638</td>\n      <td>0.506611</td>\n    </tr>\n  </tbody>\n</table>\n</div>"
     },
     "metadata": {},
     "output_type": "display_data"
    },
    {
     "data": {
      "text/plain": "          name    P@5   P@10   nDCG@10  RR(rel=2)\n0       TF_IDF  0.480  0.426  0.399389   0.528925\n1         BM25  0.480  0.432  0.405134   0.535337\n2  DirichletLM  0.244  0.206  0.200178   0.322545",
      "text/html": "<div>\n<style scoped>\n    .dataframe tbody tr th:only-of-type {\n        vertical-align: middle;\n    }\n\n    .dataframe tbody tr th {\n        vertical-align: top;\n    }\n\n    .dataframe thead th {\n        text-align: right;\n    }\n</style>\n<table border=\"1\" class=\"dataframe\">\n  <thead>\n    <tr style=\"text-align: right;\">\n      <th></th>\n      <th>name</th>\n      <th>P@5</th>\n      <th>P@10</th>\n      <th>nDCG@10</th>\n      <th>RR(rel=2)</th>\n    </tr>\n  </thead>\n  <tbody>\n    <tr>\n      <th>0</th>\n      <td>TF_IDF</td>\n      <td>0.480</td>\n      <td>0.426</td>\n      <td>0.399389</td>\n      <td>0.528925</td>\n    </tr>\n    <tr>\n      <th>1</th>\n      <td>BM25</td>\n      <td>0.480</td>\n      <td>0.432</td>\n      <td>0.405134</td>\n      <td>0.535337</td>\n    </tr>\n    <tr>\n      <th>2</th>\n      <td>DirichletLM</td>\n      <td>0.244</td>\n      <td>0.206</td>\n      <td>0.200178</td>\n      <td>0.322545</td>\n    </tr>\n  </tbody>\n</table>\n</div>"
     },
     "metadata": {},
     "output_type": "display_data"
    }
   ],
   "source": [
    "# en_docs {title, abstract, both} with query_title\n",
    "exp1 = experiment(index_en_docs_title, pq_title, qrels)\n",
    "display(exp1)\n",
    "\n",
    "exp2 = experiment(index_en_docs_abstract, pq_title, qrels)\n",
    "display(exp2)\n",
    "\n",
    "exp3 = experiment(index_en_docs_both, pq_title, qrels)\n",
    "display(exp3)\n",
    "\n",
    "# en_docs {title, abstract, both} with query_description\n",
    "exp4 = experiment(index_en_docs_title, pq_desc, qrels)\n",
    "display(exp4)\n",
    "\n",
    "exp5 = experiment(index_en_docs_abstract, pq_desc, qrels)\n",
    "display(exp5)\n",
    "\n",
    "exp6 = experiment(index_en_docs_both, pq_desc, qrels)\n",
    "display(exp6)\n",
    "\n",
    "# en_docs {title, abstract, both} with query_narrative\n",
    "exp7 = experiment(index_en_docs_title, pq_narr, qrels)\n",
    "display(exp7)\n",
    "\n",
    "exp8 = experiment(index_en_docs_abstract, pq_narr, qrels)\n",
    "display(exp8)\n",
    "\n",
    "exp9 = experiment(index_en_docs_both, pq_narr, qrels)\n",
    "display(exp9)"
   ]
  }
 ],
 "metadata": {
  "colab": {
   "collapsed_sections": [],
   "name": "IR_Covid_2.ipynb",
   "provenance": []
  },
  "interpreter": {
   "hash": "ac6245020a857d0f9635773ad5334ed026e56de49fb86ce3408fe2ffa5d64a8a"
  },
  "kernelspec": {
   "name": "venv",
   "language": "python",
   "display_name": "venv"
  },
  "language_info": {
   "codemirror_mode": {
    "name": "ipython",
    "version": 3
   },
   "file_extension": ".py",
   "mimetype": "text/x-python",
   "name": "python",
   "nbconvert_exporter": "python",
   "pygments_lexer": "ipython3",
   "version": "3.9.7"
  },
  "widgets": {
   "application/vnd.jupyter.widget-state+json": {
    "0d0b630aac144f3fa26ae8870e18d442": {
     "model_module": "@jupyter-widgets/controls",
     "model_module_version": "1.5.0",
     "model_name": "HBoxModel",
     "state": {
      "_dom_classes": [],
      "_model_module": "@jupyter-widgets/controls",
      "_model_module_version": "1.5.0",
      "_model_name": "HBoxModel",
      "_view_count": null,
      "_view_module": "@jupyter-widgets/controls",
      "_view_module_version": "1.5.0",
      "_view_name": "HBoxView",
      "box_style": "",
      "children": [
       "IPY_MODEL_4e206fe6dead40c49a338dec6b30005f",
       "IPY_MODEL_5d29c69b8b0449689d9199622f226ef6",
       "IPY_MODEL_d42433ee7df1419fa0dc06d752059ac5"
      ],
      "layout": "IPY_MODEL_28df9259a85040bd9004edb02f7657f5"
     }
    },
    "12093b93dc62400ab07d6fc57a77f359": {
     "model_module": "@jupyter-widgets/base",
     "model_module_version": "1.2.0",
     "model_name": "LayoutModel",
     "state": {
      "_model_module": "@jupyter-widgets/base",
      "_model_module_version": "1.2.0",
      "_model_name": "LayoutModel",
      "_view_count": null,
      "_view_module": "@jupyter-widgets/base",
      "_view_module_version": "1.2.0",
      "_view_name": "LayoutView",
      "align_content": null,
      "align_items": null,
      "align_self": null,
      "border": null,
      "bottom": null,
      "display": null,
      "flex": null,
      "flex_flow": null,
      "grid_area": null,
      "grid_auto_columns": null,
      "grid_auto_flow": null,
      "grid_auto_rows": null,
      "grid_column": null,
      "grid_gap": null,
      "grid_row": null,
      "grid_template_areas": null,
      "grid_template_columns": null,
      "grid_template_rows": null,
      "height": null,
      "justify_content": null,
      "justify_items": null,
      "left": null,
      "margin": null,
      "max_height": null,
      "max_width": null,
      "min_height": null,
      "min_width": null,
      "object_fit": null,
      "object_position": null,
      "order": null,
      "overflow": null,
      "overflow_x": null,
      "overflow_y": null,
      "padding": null,
      "right": null,
      "top": null,
      "visibility": null,
      "width": null
     }
    },
    "13a8405c1d044285ab6339c09d0f0ca0": {
     "model_module": "@jupyter-widgets/base",
     "model_module_version": "1.2.0",
     "model_name": "LayoutModel",
     "state": {
      "_model_module": "@jupyter-widgets/base",
      "_model_module_version": "1.2.0",
      "_model_name": "LayoutModel",
      "_view_count": null,
      "_view_module": "@jupyter-widgets/base",
      "_view_module_version": "1.2.0",
      "_view_name": "LayoutView",
      "align_content": null,
      "align_items": null,
      "align_self": null,
      "border": null,
      "bottom": null,
      "display": null,
      "flex": null,
      "flex_flow": null,
      "grid_area": null,
      "grid_auto_columns": null,
      "grid_auto_flow": null,
      "grid_auto_rows": null,
      "grid_column": null,
      "grid_gap": null,
      "grid_row": null,
      "grid_template_areas": null,
      "grid_template_columns": null,
      "grid_template_rows": null,
      "height": null,
      "justify_content": null,
      "justify_items": null,
      "left": null,
      "margin": null,
      "max_height": null,
      "max_width": null,
      "min_height": null,
      "min_width": null,
      "object_fit": null,
      "object_position": null,
      "order": null,
      "overflow": null,
      "overflow_x": null,
      "overflow_y": null,
      "padding": null,
      "right": null,
      "top": null,
      "visibility": null,
      "width": null
     }
    },
    "2357438f55a04dd2bc4763fc05d1d8ee": {
     "model_module": "@jupyter-widgets/base",
     "model_module_version": "1.2.0",
     "model_name": "LayoutModel",
     "state": {
      "_model_module": "@jupyter-widgets/base",
      "_model_module_version": "1.2.0",
      "_model_name": "LayoutModel",
      "_view_count": null,
      "_view_module": "@jupyter-widgets/base",
      "_view_module_version": "1.2.0",
      "_view_name": "LayoutView",
      "align_content": null,
      "align_items": null,
      "align_self": null,
      "border": null,
      "bottom": null,
      "display": null,
      "flex": null,
      "flex_flow": null,
      "grid_area": null,
      "grid_auto_columns": null,
      "grid_auto_flow": null,
      "grid_auto_rows": null,
      "grid_column": null,
      "grid_gap": null,
      "grid_row": null,
      "grid_template_areas": null,
      "grid_template_columns": null,
      "grid_template_rows": null,
      "height": null,
      "justify_content": null,
      "justify_items": null,
      "left": null,
      "margin": null,
      "max_height": null,
      "max_width": null,
      "min_height": null,
      "min_width": null,
      "object_fit": null,
      "object_position": null,
      "order": null,
      "overflow": null,
      "overflow_x": null,
      "overflow_y": null,
      "padding": null,
      "right": null,
      "top": null,
      "visibility": null,
      "width": null
     }
    },
    "23c39a94b61946c2b08c94a195021a3f": {
     "model_module": "@jupyter-widgets/controls",
     "model_module_version": "1.5.0",
     "model_name": "ProgressStyleModel",
     "state": {
      "_model_module": "@jupyter-widgets/controls",
      "_model_module_version": "1.5.0",
      "_model_name": "ProgressStyleModel",
      "_view_count": null,
      "_view_module": "@jupyter-widgets/base",
      "_view_module_version": "1.2.0",
      "_view_name": "StyleView",
      "bar_color": null,
      "description_width": ""
     }
    },
    "2417e17b9f404dd6ba198463eb90e913": {
     "model_module": "@jupyter-widgets/controls",
     "model_module_version": "1.5.0",
     "model_name": "HBoxModel",
     "state": {
      "_dom_classes": [],
      "_model_module": "@jupyter-widgets/controls",
      "_model_module_version": "1.5.0",
      "_model_name": "HBoxModel",
      "_view_count": null,
      "_view_module": "@jupyter-widgets/controls",
      "_view_module_version": "1.5.0",
      "_view_name": "HBoxView",
      "box_style": "",
      "children": [
       "IPY_MODEL_8495991fa6264a38969b046a8cd5ec0f",
       "IPY_MODEL_b28290eda6ec49028ae7ef8202889201",
       "IPY_MODEL_a1f32b886af1471ca97c063c80c433e5"
      ],
      "layout": "IPY_MODEL_36c859d3131f45a3b0d3af38f9bd5ffd"
     }
    },
    "28df9259a85040bd9004edb02f7657f5": {
     "model_module": "@jupyter-widgets/base",
     "model_module_version": "1.2.0",
     "model_name": "LayoutModel",
     "state": {
      "_model_module": "@jupyter-widgets/base",
      "_model_module_version": "1.2.0",
      "_model_name": "LayoutModel",
      "_view_count": null,
      "_view_module": "@jupyter-widgets/base",
      "_view_module_version": "1.2.0",
      "_view_name": "LayoutView",
      "align_content": null,
      "align_items": null,
      "align_self": null,
      "border": null,
      "bottom": null,
      "display": null,
      "flex": null,
      "flex_flow": null,
      "grid_area": null,
      "grid_auto_columns": null,
      "grid_auto_flow": null,
      "grid_auto_rows": null,
      "grid_column": null,
      "grid_gap": null,
      "grid_row": null,
      "grid_template_areas": null,
      "grid_template_columns": null,
      "grid_template_rows": null,
      "height": null,
      "justify_content": null,
      "justify_items": null,
      "left": null,
      "margin": null,
      "max_height": null,
      "max_width": null,
      "min_height": null,
      "min_width": null,
      "object_fit": null,
      "object_position": null,
      "order": null,
      "overflow": null,
      "overflow_x": null,
      "overflow_y": null,
      "padding": null,
      "right": null,
      "top": null,
      "visibility": null,
      "width": null
     }
    },
    "2ce2bf5586b84884877bd4186ce5a7d3": {
     "model_module": "@jupyter-widgets/base",
     "model_module_version": "1.2.0",
     "model_name": "LayoutModel",
     "state": {
      "_model_module": "@jupyter-widgets/base",
      "_model_module_version": "1.2.0",
      "_model_name": "LayoutModel",
      "_view_count": null,
      "_view_module": "@jupyter-widgets/base",
      "_view_module_version": "1.2.0",
      "_view_name": "LayoutView",
      "align_content": null,
      "align_items": null,
      "align_self": null,
      "border": null,
      "bottom": null,
      "display": null,
      "flex": null,
      "flex_flow": null,
      "grid_area": null,
      "grid_auto_columns": null,
      "grid_auto_flow": null,
      "grid_auto_rows": null,
      "grid_column": null,
      "grid_gap": null,
      "grid_row": null,
      "grid_template_areas": null,
      "grid_template_columns": null,
      "grid_template_rows": null,
      "height": null,
      "justify_content": null,
      "justify_items": null,
      "left": null,
      "margin": null,
      "max_height": null,
      "max_width": null,
      "min_height": null,
      "min_width": null,
      "object_fit": null,
      "object_position": null,
      "order": null,
      "overflow": null,
      "overflow_x": null,
      "overflow_y": null,
      "padding": null,
      "right": null,
      "top": null,
      "visibility": null,
      "width": null
     }
    },
    "2e416cdf8ad84139ac2cc5f3bc7bd996": {
     "model_module": "@jupyter-widgets/controls",
     "model_module_version": "1.5.0",
     "model_name": "FloatProgressModel",
     "state": {
      "_dom_classes": [],
      "_model_module": "@jupyter-widgets/controls",
      "_model_module_version": "1.5.0",
      "_model_name": "FloatProgressModel",
      "_view_count": null,
      "_view_module": "@jupyter-widgets/controls",
      "_view_module_version": "1.5.0",
      "_view_name": "ProgressView",
      "bar_style": "success",
      "description": "",
      "description_tooltip": null,
      "layout": "IPY_MODEL_2ce2bf5586b84884877bd4186ce5a7d3",
      "max": 192509,
      "min": 0,
      "orientation": "horizontal",
      "style": "IPY_MODEL_970b9b588e7649ceba70926e334f722a",
      "value": 192509
     }
    },
    "36c859d3131f45a3b0d3af38f9bd5ffd": {
     "model_module": "@jupyter-widgets/base",
     "model_module_version": "1.2.0",
     "model_name": "LayoutModel",
     "state": {
      "_model_module": "@jupyter-widgets/base",
      "_model_module_version": "1.2.0",
      "_model_name": "LayoutModel",
      "_view_count": null,
      "_view_module": "@jupyter-widgets/base",
      "_view_module_version": "1.2.0",
      "_view_name": "LayoutView",
      "align_content": null,
      "align_items": null,
      "align_self": null,
      "border": null,
      "bottom": null,
      "display": null,
      "flex": null,
      "flex_flow": null,
      "grid_area": null,
      "grid_auto_columns": null,
      "grid_auto_flow": null,
      "grid_auto_rows": null,
      "grid_column": null,
      "grid_gap": null,
      "grid_row": null,
      "grid_template_areas": null,
      "grid_template_columns": null,
      "grid_template_rows": null,
      "height": null,
      "justify_content": null,
      "justify_items": null,
      "left": null,
      "margin": null,
      "max_height": null,
      "max_width": null,
      "min_height": null,
      "min_width": null,
      "object_fit": null,
      "object_position": null,
      "order": null,
      "overflow": null,
      "overflow_x": null,
      "overflow_y": null,
      "padding": null,
      "right": null,
      "top": null,
      "visibility": null,
      "width": null
     }
    },
    "426fe655a447428189a81a34731902b8": {
     "model_module": "@jupyter-widgets/controls",
     "model_module_version": "1.5.0",
     "model_name": "DescriptionStyleModel",
     "state": {
      "_model_module": "@jupyter-widgets/controls",
      "_model_module_version": "1.5.0",
      "_model_name": "DescriptionStyleModel",
      "_view_count": null,
      "_view_module": "@jupyter-widgets/base",
      "_view_module_version": "1.2.0",
      "_view_name": "StyleView",
      "description_width": ""
     }
    },
    "4e206fe6dead40c49a338dec6b30005f": {
     "model_module": "@jupyter-widgets/controls",
     "model_module_version": "1.5.0",
     "model_name": "HTMLModel",
     "state": {
      "_dom_classes": [],
      "_model_module": "@jupyter-widgets/controls",
      "_model_module_version": "1.5.0",
      "_model_name": "HTMLModel",
      "_view_count": null,
      "_view_module": "@jupyter-widgets/controls",
      "_view_module_version": "1.5.0",
      "_view_name": "HTMLView",
      "description": "",
      "description_tooltip": null,
      "layout": "IPY_MODEL_b7544b3438164470b06a15188f42403e",
      "placeholder": "​",
      "style": "IPY_MODEL_e56cb79e01b340eab5372660c0515991",
      "value": "100%"
     }
    },
    "58136da0fe2f4ab0afc6cd8f28286bf6": {
     "model_module": "@jupyter-widgets/controls",
     "model_module_version": "1.5.0",
     "model_name": "DescriptionStyleModel",
     "state": {
      "_model_module": "@jupyter-widgets/controls",
      "_model_module_version": "1.5.0",
      "_model_name": "DescriptionStyleModel",
      "_view_count": null,
      "_view_module": "@jupyter-widgets/base",
      "_view_module_version": "1.2.0",
      "_view_name": "StyleView",
      "description_width": ""
     }
    },
    "5d29c69b8b0449689d9199622f226ef6": {
     "model_module": "@jupyter-widgets/controls",
     "model_module_version": "1.5.0",
     "model_name": "FloatProgressModel",
     "state": {
      "_dom_classes": [],
      "_model_module": "@jupyter-widgets/controls",
      "_model_module_version": "1.5.0",
      "_model_name": "FloatProgressModel",
      "_view_count": null,
      "_view_module": "@jupyter-widgets/controls",
      "_view_module_version": "1.5.0",
      "_view_name": "ProgressView",
      "bar_style": "success",
      "description": "",
      "description_tooltip": null,
      "layout": "IPY_MODEL_a3ed8661f5a24ab1bb7e5e1ce7b77315",
      "max": 192509,
      "min": 0,
      "orientation": "horizontal",
      "style": "IPY_MODEL_7ccd09ae830842b9ad7968c27d3b58aa",
      "value": 192509
     }
    },
    "6cc42f9043ad47ed8da24a32b34c0bb4": {
     "model_module": "@jupyter-widgets/controls",
     "model_module_version": "1.5.0",
     "model_name": "DescriptionStyleModel",
     "state": {
      "_model_module": "@jupyter-widgets/controls",
      "_model_module_version": "1.5.0",
      "_model_name": "DescriptionStyleModel",
      "_view_count": null,
      "_view_module": "@jupyter-widgets/base",
      "_view_module_version": "1.2.0",
      "_view_name": "StyleView",
      "description_width": ""
     }
    },
    "70b04ec121884674b8dfc9ef6a035bdc": {
     "model_module": "@jupyter-widgets/controls",
     "model_module_version": "1.5.0",
     "model_name": "HTMLModel",
     "state": {
      "_dom_classes": [],
      "_model_module": "@jupyter-widgets/controls",
      "_model_module_version": "1.5.0",
      "_model_name": "HTMLModel",
      "_view_count": null,
      "_view_module": "@jupyter-widgets/controls",
      "_view_module_version": "1.5.0",
      "_view_name": "HTMLView",
      "description": "",
      "description_tooltip": null,
      "layout": "IPY_MODEL_93915c5bcc3a4276994e3ee5e8ff426b",
      "placeholder": "​",
      "style": "IPY_MODEL_6cc42f9043ad47ed8da24a32b34c0bb4",
      "value": " 192509/192509 [01:09&lt;00:00, 2682.33it/s]"
     }
    },
    "7ccd09ae830842b9ad7968c27d3b58aa": {
     "model_module": "@jupyter-widgets/controls",
     "model_module_version": "1.5.0",
     "model_name": "ProgressStyleModel",
     "state": {
      "_model_module": "@jupyter-widgets/controls",
      "_model_module_version": "1.5.0",
      "_model_name": "ProgressStyleModel",
      "_view_count": null,
      "_view_module": "@jupyter-widgets/base",
      "_view_module_version": "1.2.0",
      "_view_name": "StyleView",
      "bar_color": null,
      "description_width": ""
     }
    },
    "8495991fa6264a38969b046a8cd5ec0f": {
     "model_module": "@jupyter-widgets/controls",
     "model_module_version": "1.5.0",
     "model_name": "HTMLModel",
     "state": {
      "_dom_classes": [],
      "_model_module": "@jupyter-widgets/controls",
      "_model_module_version": "1.5.0",
      "_model_name": "HTMLModel",
      "_view_count": null,
      "_view_module": "@jupyter-widgets/controls",
      "_view_module_version": "1.5.0",
      "_view_name": "HTMLView",
      "description": "",
      "description_tooltip": null,
      "layout": "IPY_MODEL_dc981ef5f3564b089d5ca0c3a5f50f9e",
      "placeholder": "​",
      "style": "IPY_MODEL_efec88ca8b524f9e91ee7fb4851cc49f",
      "value": "100%"
     }
    },
    "93915c5bcc3a4276994e3ee5e8ff426b": {
     "model_module": "@jupyter-widgets/base",
     "model_module_version": "1.2.0",
     "model_name": "LayoutModel",
     "state": {
      "_model_module": "@jupyter-widgets/base",
      "_model_module_version": "1.2.0",
      "_model_name": "LayoutModel",
      "_view_count": null,
      "_view_module": "@jupyter-widgets/base",
      "_view_module_version": "1.2.0",
      "_view_name": "LayoutView",
      "align_content": null,
      "align_items": null,
      "align_self": null,
      "border": null,
      "bottom": null,
      "display": null,
      "flex": null,
      "flex_flow": null,
      "grid_area": null,
      "grid_auto_columns": null,
      "grid_auto_flow": null,
      "grid_auto_rows": null,
      "grid_column": null,
      "grid_gap": null,
      "grid_row": null,
      "grid_template_areas": null,
      "grid_template_columns": null,
      "grid_template_rows": null,
      "height": null,
      "justify_content": null,
      "justify_items": null,
      "left": null,
      "margin": null,
      "max_height": null,
      "max_width": null,
      "min_height": null,
      "min_width": null,
      "object_fit": null,
      "object_position": null,
      "order": null,
      "overflow": null,
      "overflow_x": null,
      "overflow_y": null,
      "padding": null,
      "right": null,
      "top": null,
      "visibility": null,
      "width": null
     }
    },
    "970b9b588e7649ceba70926e334f722a": {
     "model_module": "@jupyter-widgets/controls",
     "model_module_version": "1.5.0",
     "model_name": "ProgressStyleModel",
     "state": {
      "_model_module": "@jupyter-widgets/controls",
      "_model_module_version": "1.5.0",
      "_model_name": "ProgressStyleModel",
      "_view_count": null,
      "_view_module": "@jupyter-widgets/base",
      "_view_module_version": "1.2.0",
      "_view_name": "StyleView",
      "bar_color": null,
      "description_width": ""
     }
    },
    "98938358ca794283bf71a5045018c30a": {
     "model_module": "@jupyter-widgets/controls",
     "model_module_version": "1.5.0",
     "model_name": "HTMLModel",
     "state": {
      "_dom_classes": [],
      "_model_module": "@jupyter-widgets/controls",
      "_model_module_version": "1.5.0",
      "_model_name": "HTMLModel",
      "_view_count": null,
      "_view_module": "@jupyter-widgets/controls",
      "_view_module_version": "1.5.0",
      "_view_name": "HTMLView",
      "description": "",
      "description_tooltip": null,
      "layout": "IPY_MODEL_da14b9cd64654526a9fd80516de84081",
      "placeholder": "​",
      "style": "IPY_MODEL_ffbda87069304b099e82b2a7d77ac4cd",
      "value": "100%"
     }
    },
    "a1f32b886af1471ca97c063c80c433e5": {
     "model_module": "@jupyter-widgets/controls",
     "model_module_version": "1.5.0",
     "model_name": "HTMLModel",
     "state": {
      "_dom_classes": [],
      "_model_module": "@jupyter-widgets/controls",
      "_model_module_version": "1.5.0",
      "_model_name": "HTMLModel",
      "_view_count": null,
      "_view_module": "@jupyter-widgets/controls",
      "_view_module_version": "1.5.0",
      "_view_name": "HTMLView",
      "description": "",
      "description_tooltip": null,
      "layout": "IPY_MODEL_12093b93dc62400ab07d6fc57a77f359",
      "placeholder": "​",
      "style": "IPY_MODEL_426fe655a447428189a81a34731902b8",
      "value": " 84048/84048 [30:15&lt;00:00, 48.28it/s]"
     }
    },
    "a3ed8661f5a24ab1bb7e5e1ce7b77315": {
     "model_module": "@jupyter-widgets/base",
     "model_module_version": "1.2.0",
     "model_name": "LayoutModel",
     "state": {
      "_model_module": "@jupyter-widgets/base",
      "_model_module_version": "1.2.0",
      "_model_name": "LayoutModel",
      "_view_count": null,
      "_view_module": "@jupyter-widgets/base",
      "_view_module_version": "1.2.0",
      "_view_name": "LayoutView",
      "align_content": null,
      "align_items": null,
      "align_self": null,
      "border": null,
      "bottom": null,
      "display": null,
      "flex": null,
      "flex_flow": null,
      "grid_area": null,
      "grid_auto_columns": null,
      "grid_auto_flow": null,
      "grid_auto_rows": null,
      "grid_column": null,
      "grid_gap": null,
      "grid_row": null,
      "grid_template_areas": null,
      "grid_template_columns": null,
      "grid_template_rows": null,
      "height": null,
      "justify_content": null,
      "justify_items": null,
      "left": null,
      "margin": null,
      "max_height": null,
      "max_width": null,
      "min_height": null,
      "min_width": null,
      "object_fit": null,
      "object_position": null,
      "order": null,
      "overflow": null,
      "overflow_x": null,
      "overflow_y": null,
      "padding": null,
      "right": null,
      "top": null,
      "visibility": null,
      "width": null
     }
    },
    "b28290eda6ec49028ae7ef8202889201": {
     "model_module": "@jupyter-widgets/controls",
     "model_module_version": "1.5.0",
     "model_name": "FloatProgressModel",
     "state": {
      "_dom_classes": [],
      "_model_module": "@jupyter-widgets/controls",
      "_model_module_version": "1.5.0",
      "_model_name": "FloatProgressModel",
      "_view_count": null,
      "_view_module": "@jupyter-widgets/controls",
      "_view_module_version": "1.5.0",
      "_view_name": "ProgressView",
      "bar_style": "success",
      "description": "",
      "description_tooltip": null,
      "layout": "IPY_MODEL_d21c08f49fc744e59a0ae2a8818c14ed",
      "max": 84048,
      "min": 0,
      "orientation": "horizontal",
      "style": "IPY_MODEL_23c39a94b61946c2b08c94a195021a3f",
      "value": 84048
     }
    },
    "b7544b3438164470b06a15188f42403e": {
     "model_module": "@jupyter-widgets/base",
     "model_module_version": "1.2.0",
     "model_name": "LayoutModel",
     "state": {
      "_model_module": "@jupyter-widgets/base",
      "_model_module_version": "1.2.0",
      "_model_name": "LayoutModel",
      "_view_count": null,
      "_view_module": "@jupyter-widgets/base",
      "_view_module_version": "1.2.0",
      "_view_name": "LayoutView",
      "align_content": null,
      "align_items": null,
      "align_self": null,
      "border": null,
      "bottom": null,
      "display": null,
      "flex": null,
      "flex_flow": null,
      "grid_area": null,
      "grid_auto_columns": null,
      "grid_auto_flow": null,
      "grid_auto_rows": null,
      "grid_column": null,
      "grid_gap": null,
      "grid_row": null,
      "grid_template_areas": null,
      "grid_template_columns": null,
      "grid_template_rows": null,
      "height": null,
      "justify_content": null,
      "justify_items": null,
      "left": null,
      "margin": null,
      "max_height": null,
      "max_width": null,
      "min_height": null,
      "min_width": null,
      "object_fit": null,
      "object_position": null,
      "order": null,
      "overflow": null,
      "overflow_x": null,
      "overflow_y": null,
      "padding": null,
      "right": null,
      "top": null,
      "visibility": null,
      "width": null
     }
    },
    "bee8c2ff468b429d94aa2da270c32a7e": {
     "model_module": "@jupyter-widgets/controls",
     "model_module_version": "1.5.0",
     "model_name": "HBoxModel",
     "state": {
      "_dom_classes": [],
      "_model_module": "@jupyter-widgets/controls",
      "_model_module_version": "1.5.0",
      "_model_name": "HBoxModel",
      "_view_count": null,
      "_view_module": "@jupyter-widgets/controls",
      "_view_module_version": "1.5.0",
      "_view_name": "HBoxView",
      "box_style": "",
      "children": [
       "IPY_MODEL_98938358ca794283bf71a5045018c30a",
       "IPY_MODEL_2e416cdf8ad84139ac2cc5f3bc7bd996",
       "IPY_MODEL_70b04ec121884674b8dfc9ef6a035bdc"
      ],
      "layout": "IPY_MODEL_13a8405c1d044285ab6339c09d0f0ca0"
     }
    },
    "d21c08f49fc744e59a0ae2a8818c14ed": {
     "model_module": "@jupyter-widgets/base",
     "model_module_version": "1.2.0",
     "model_name": "LayoutModel",
     "state": {
      "_model_module": "@jupyter-widgets/base",
      "_model_module_version": "1.2.0",
      "_model_name": "LayoutModel",
      "_view_count": null,
      "_view_module": "@jupyter-widgets/base",
      "_view_module_version": "1.2.0",
      "_view_name": "LayoutView",
      "align_content": null,
      "align_items": null,
      "align_self": null,
      "border": null,
      "bottom": null,
      "display": null,
      "flex": null,
      "flex_flow": null,
      "grid_area": null,
      "grid_auto_columns": null,
      "grid_auto_flow": null,
      "grid_auto_rows": null,
      "grid_column": null,
      "grid_gap": null,
      "grid_row": null,
      "grid_template_areas": null,
      "grid_template_columns": null,
      "grid_template_rows": null,
      "height": null,
      "justify_content": null,
      "justify_items": null,
      "left": null,
      "margin": null,
      "max_height": null,
      "max_width": null,
      "min_height": null,
      "min_width": null,
      "object_fit": null,
      "object_position": null,
      "order": null,
      "overflow": null,
      "overflow_x": null,
      "overflow_y": null,
      "padding": null,
      "right": null,
      "top": null,
      "visibility": null,
      "width": null
     }
    },
    "d42433ee7df1419fa0dc06d752059ac5": {
     "model_module": "@jupyter-widgets/controls",
     "model_module_version": "1.5.0",
     "model_name": "HTMLModel",
     "state": {
      "_dom_classes": [],
      "_model_module": "@jupyter-widgets/controls",
      "_model_module_version": "1.5.0",
      "_model_name": "HTMLModel",
      "_view_count": null,
      "_view_module": "@jupyter-widgets/controls",
      "_view_module_version": "1.5.0",
      "_view_name": "HTMLView",
      "description": "",
      "description_tooltip": null,
      "layout": "IPY_MODEL_2357438f55a04dd2bc4763fc05d1d8ee",
      "placeholder": "​",
      "style": "IPY_MODEL_58136da0fe2f4ab0afc6cd8f28286bf6",
      "value": " 192509/192509 [17:48&lt;00:00, 198.37it/s]"
     }
    },
    "da14b9cd64654526a9fd80516de84081": {
     "model_module": "@jupyter-widgets/base",
     "model_module_version": "1.2.0",
     "model_name": "LayoutModel",
     "state": {
      "_model_module": "@jupyter-widgets/base",
      "_model_module_version": "1.2.0",
      "_model_name": "LayoutModel",
      "_view_count": null,
      "_view_module": "@jupyter-widgets/base",
      "_view_module_version": "1.2.0",
      "_view_name": "LayoutView",
      "align_content": null,
      "align_items": null,
      "align_self": null,
      "border": null,
      "bottom": null,
      "display": null,
      "flex": null,
      "flex_flow": null,
      "grid_area": null,
      "grid_auto_columns": null,
      "grid_auto_flow": null,
      "grid_auto_rows": null,
      "grid_column": null,
      "grid_gap": null,
      "grid_row": null,
      "grid_template_areas": null,
      "grid_template_columns": null,
      "grid_template_rows": null,
      "height": null,
      "justify_content": null,
      "justify_items": null,
      "left": null,
      "margin": null,
      "max_height": null,
      "max_width": null,
      "min_height": null,
      "min_width": null,
      "object_fit": null,
      "object_position": null,
      "order": null,
      "overflow": null,
      "overflow_x": null,
      "overflow_y": null,
      "padding": null,
      "right": null,
      "top": null,
      "visibility": null,
      "width": null
     }
    },
    "dc981ef5f3564b089d5ca0c3a5f50f9e": {
     "model_module": "@jupyter-widgets/base",
     "model_module_version": "1.2.0",
     "model_name": "LayoutModel",
     "state": {
      "_model_module": "@jupyter-widgets/base",
      "_model_module_version": "1.2.0",
      "_model_name": "LayoutModel",
      "_view_count": null,
      "_view_module": "@jupyter-widgets/base",
      "_view_module_version": "1.2.0",
      "_view_name": "LayoutView",
      "align_content": null,
      "align_items": null,
      "align_self": null,
      "border": null,
      "bottom": null,
      "display": null,
      "flex": null,
      "flex_flow": null,
      "grid_area": null,
      "grid_auto_columns": null,
      "grid_auto_flow": null,
      "grid_auto_rows": null,
      "grid_column": null,
      "grid_gap": null,
      "grid_row": null,
      "grid_template_areas": null,
      "grid_template_columns": null,
      "grid_template_rows": null,
      "height": null,
      "justify_content": null,
      "justify_items": null,
      "left": null,
      "margin": null,
      "max_height": null,
      "max_width": null,
      "min_height": null,
      "min_width": null,
      "object_fit": null,
      "object_position": null,
      "order": null,
      "overflow": null,
      "overflow_x": null,
      "overflow_y": null,
      "padding": null,
      "right": null,
      "top": null,
      "visibility": null,
      "width": null
     }
    },
    "e56cb79e01b340eab5372660c0515991": {
     "model_module": "@jupyter-widgets/controls",
     "model_module_version": "1.5.0",
     "model_name": "DescriptionStyleModel",
     "state": {
      "_model_module": "@jupyter-widgets/controls",
      "_model_module_version": "1.5.0",
      "_model_name": "DescriptionStyleModel",
      "_view_count": null,
      "_view_module": "@jupyter-widgets/base",
      "_view_module_version": "1.2.0",
      "_view_name": "StyleView",
      "description_width": ""
     }
    },
    "efec88ca8b524f9e91ee7fb4851cc49f": {
     "model_module": "@jupyter-widgets/controls",
     "model_module_version": "1.5.0",
     "model_name": "DescriptionStyleModel",
     "state": {
      "_model_module": "@jupyter-widgets/controls",
      "_model_module_version": "1.5.0",
      "_model_name": "DescriptionStyleModel",
      "_view_count": null,
      "_view_module": "@jupyter-widgets/base",
      "_view_module_version": "1.2.0",
      "_view_name": "StyleView",
      "description_width": ""
     }
    },
    "ffbda87069304b099e82b2a7d77ac4cd": {
     "model_module": "@jupyter-widgets/controls",
     "model_module_version": "1.5.0",
     "model_name": "DescriptionStyleModel",
     "state": {
      "_model_module": "@jupyter-widgets/controls",
      "_model_module_version": "1.5.0",
      "_model_name": "DescriptionStyleModel",
      "_view_count": null,
      "_view_module": "@jupyter-widgets/base",
      "_view_module_version": "1.2.0",
      "_view_name": "StyleView",
      "description_width": ""
     }
    }
   }
  }
 },
 "nbformat": 4,
 "nbformat_minor": 0
}