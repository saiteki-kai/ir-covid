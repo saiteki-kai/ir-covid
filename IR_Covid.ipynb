{
 "cells": [
  {
   "cell_type": "code",
   "execution_count": null,
   "metadata": {
    "id": "r5eME1ykuzTu"
   },
   "outputs": [],
   "source": [
    "%%capture\n",
    "%pip install ir_datasets\n",
    "%pip install demoji\n",
    "%pip install pycld3\n",
    "%pip install langdetect\n",
    "\n",
    "import re\n",
    "import numpy as np\n",
    "import pandas as pd\n",
    "import ir_datasets\n",
    "import demoji\n",
    "\n",
    "import nltk\n",
    "nltk.download('punkt')\n",
    "nltk.download('stopwords')\n",
    "nltk.download('wordnet')\n",
    "nltk.download('averaged_perceptron_tagger')\n",
    "nltk.download('maxent_ne_chunker')\n",
    "nltk.download('words')\n",
    "\n",
    "from langdetect import detect\n",
    "from cld3 import get_language\n",
    "\n",
    "from wordcloud import WordCloud\n",
    "\n",
    "import matplotlib.pyplot as plt\n",
    "import seaborn as sns\n",
    "\n",
    "from IPython.display import display\n",
    "from tqdm.notebook import tqdm\n",
    "\n",
    "from collections import Counter\n",
    "\n",
    "from my_utils import *\n",
    "\n",
    "pd.set_option('max_colwidth', 800)"
   ]
  },
  {
   "cell_type": "code",
   "execution_count": null,
   "metadata": {
    "colab": {
     "base_uri": "https://localhost:8080/"
    },
    "id": "X4m0UNvlxRN0",
    "outputId": "cc1fcdff-f5b3-460e-fabc-57c26ab48098"
   },
   "outputs": [],
   "source": [
    "# load dataset\n",
    "dataset = ir_datasets.load(\"cord19/trec-covid\")\n",
    "print(f\"queries: {dataset.queries_count()}, docs: {dataset.docs_count()}, qrels: {dataset.qrels_count()}\")"
   ]
  },
  {
   "cell_type": "code",
   "execution_count": null,
   "metadata": {
    "id": "Y-vHi20Bv1Vt"
   },
   "outputs": [],
   "source": [
    "%%capture\n",
    "# convert the collection in a dataframe\n",
    "queries = pd.DataFrame(dataset.queries_iter())\n",
    "docs = pd.DataFrame(dataset.docs_iter())\n",
    "qrels = pd.DataFrame(dataset.qrels_iter())\n",
    "\n",
    "docs['date'] = pd.to_datetime(docs['date'])"
   ]
  },
  {
   "cell_type": "markdown",
   "metadata": {
    "id": "Jfk8csN4xuPT"
   },
   "source": [
    "# Part 1: Analysis of Queries and Documents"
   ]
  },
  {
   "cell_type": "code",
   "execution_count": null,
   "metadata": {
    "id": "gZGDFm1XYovW"
   },
   "outputs": [],
   "source": [
    "display(queries.sample(5))\n",
    "display(docs.sample(5))\n",
    "display(qrels.sample(5))"
   ]
  },
  {
   "cell_type": "markdown",
   "metadata": {
    "id": "Ws1i07X6ahyp"
   },
   "source": [
    "## Analysis of Documents"
   ]
  },
  {
   "cell_type": "markdown",
   "metadata": {
    "id": "sGbF83OIahyp"
   },
   "source": [
    "### Filter Covid documents"
   ]
  },
  {
   "cell_type": "markdown",
   "metadata": {
    "id": "n5MCR8Mhahyq"
   },
   "source": [
    "Visualize years distribution"
   ]
  },
  {
   "cell_type": "code",
   "execution_count": null,
   "metadata": {
    "colab": {
     "base_uri": "https://localhost:8080/",
     "height": 366
    },
    "id": "RBmwZdozahyq",
    "outputId": "d6bf202d-4c90-401b-8196-ddce00a20f04"
   },
   "outputs": [],
   "source": [
    "years = docs[\"date\"].dt.year\n",
    "years.dropna(inplace=True)\n",
    "years = years.astype(int)\n",
    "\n",
    "u_years, u_counts = np.unique(years, return_counts=True)\n",
    "\n",
    "fig, (ax1, ax2) = plt.subplots(2, 1, figsize=(25, 5))\n",
    "\n",
    "sns.barplot(x=u_years, y=u_counts, ax=ax1)\n",
    "ax1.set_xticklabels(ax1.get_xticklabels(), rotation=90)\n",
    "\n",
    "sns.boxplot(x=years, ax=ax2, orient=\"h\")\n",
    "ax2.margins(0)\n",
    "\n",
    "fig.tight_layout()\n",
    "fig.savefig(\"out/dates.png\")"
   ]
  },
  {
   "cell_type": "code",
   "execution_count": null,
   "metadata": {
    "colab": {
     "base_uri": "https://localhost:8080/",
     "height": 66,
     "referenced_widgets": [
      "a7215d1af9e7431d9281f968b5229842",
      "cbbdc6ac3b1448bba2e480d18385ebb0",
      "277affd7e2d84ca28d9e10da5332a2f7",
      "e7bdc9812a8c42b1919eedf5fc8cfe5a",
      "4b330302ccb246ebbbe68d8f7cc2b50b",
      "2b14069a1bab4bfbb5f09ded36850e10",
      "1f6442f10e634e90be7b37330c6cfc96",
      "567023947fd44a569f0476f56fddc2ce",
      "199a58f63e7045ada618ec45b97e2c41",
      "42ad66103daf4afba37e750c00b89c51",
      "526caac0774e4d688f9c9d37efe0dc50"
     ]
    },
    "id": "3w2WmtSeahyr",
    "outputId": "a3f2c48c-8b02-41a0-a1bd-2279cb16ddd0"
   },
   "outputs": [],
   "source": [
    "keywords = [\n",
    "    \"covid 19\",\n",
    "    \"covid-19\",\n",
    "    \"covid19\",\n",
    "    \"sars-cov-2\",\n",
    "    \"sarscov2\",\n",
    "    \"sars cov 2\",\n",
    "    \"2019-nCoV\",\n",
    "    \"Wuhan virus\",\n",
    "    \"Chinese flu\",\n",
    "    \"COronaVIrusDisease\",\n",
    "]\n",
    "\n",
    "keep = set()\n",
    "for index, row in tqdm(docs.iterrows(), total=len(docs)):\n",
    "    text = \" \".join([row[\"title\"], row[\"abstract\"]])\n",
    "    if any(re.findall(r\"|\".join(keywords), text, re.IGNORECASE)):\n",
    "        keep.add(index)\n",
    "\n",
    "    # the few documents without date contain at least one keyword\n",
    "    if row[\"date\"] and row[\"date\"] is not pd.NaT:\n",
    "        if row[\"date\"].year >= 2019:\n",
    "            if any(\n",
    "                re.findall(\n",
    "                    r\"coronavirus | corona\",\n",
    "                    \" \".join([row[\"title\"], row[\"abstract\"]]),\n",
    "                    re.IGNORECASE,\n",
    "                )\n",
    "            ):\n",
    "                keep.add(index)\n",
    "\n",
    "print(f\"{len(keep)}, {round(len(keep) / len(docs) * 100)}%\")\n",
    "\n",
    "docs = docs.iloc[list(keep)]"
   ]
  },
  {
   "cell_type": "markdown",
   "metadata": {
    "id": "WRN4ZzxndBC0"
   },
   "source": [
    "### Missing Values"
   ]
  },
  {
   "cell_type": "code",
   "execution_count": null,
   "metadata": {
    "colab": {
     "base_uri": "https://localhost:8080/"
    },
    "id": "APsS1e8JdArv",
    "outputId": "01fa7629-3ef6-48c9-9920-4efd91cd10da"
   },
   "outputs": [],
   "source": [
    "docs.replace(\"\", pd.NA, inplace=True)\n",
    "\n",
    "for col in docs:\n",
    "  m = sum(docs[col].isna())\n",
    "  p = m / len(docs) * 100\n",
    "  print(f\"{col:10} {m:5} ({p:.2f}%)\")"
   ]
  },
  {
   "cell_type": "code",
   "execution_count": null,
   "metadata": {
    "colab": {
     "base_uri": "https://localhost:8080/",
     "height": 497
    },
    "id": "PWftfooBfChP",
    "outputId": "45ed204e-b9df-414e-c894-f31cb3c73f28"
   },
   "outputs": [],
   "source": [
    "docs[docs['title'].isna()]"
   ]
  },
  {
   "cell_type": "code",
   "execution_count": null,
   "metadata": {
    "colab": {
     "base_uri": "https://localhost:8080/",
     "height": 337
    },
    "id": "AdkymOwcg6k9",
    "outputId": "ade9c2b6-db5e-41d6-c975-5166bc2872ad"
   },
   "outputs": [],
   "source": [
    "docs[docs['abstract'].isna()].sample(5)"
   ]
  },
  {
   "cell_type": "markdown",
   "metadata": {
    "id": "lUvlARo7ahyr"
   },
   "source": [
    "### Duplicated Values"
   ]
  },
  {
   "cell_type": "code",
   "execution_count": null,
   "metadata": {
    "colab": {
     "base_uri": "https://localhost:8080/"
    },
    "id": "h-HQf-8Uahys",
    "outputId": "931f7dcd-bdfd-4265-deaf-f707c41eed7e"
   },
   "outputs": [],
   "source": [
    "duplicated = sum(docs.duplicated())\n",
    "duplicated_perc = duplicated / len(docs) * 100\n",
    "print(f\"duplicated rows: {duplicated}, {duplicated_perc:.2f}%\")"
   ]
  },
  {
   "cell_type": "code",
   "execution_count": null,
   "metadata": {
    "id": "g-N4QwL3ahys"
   },
   "outputs": [],
   "source": [
    "def print_duplicates(docs, columns=None):\n",
    "  if columns is None:\n",
    "    columns = docs.columns\n",
    "\n",
    "  for col in columns:\n",
    "    d = sum(docs[~docs[col].isna()][col].duplicated())\n",
    "    p = d / len(docs) * 100\n",
    "    print(f\"{col:10} {d:5} ({p:.2f}%)\")"
   ]
  },
  {
   "cell_type": "code",
   "execution_count": null,
   "metadata": {
    "colab": {
     "base_uri": "https://localhost:8080/"
    },
    "id": "Yu5PA4ISahys",
    "outputId": "2b5a8795-f944-470d-f6d5-d65b4cf73ef8"
   },
   "outputs": [],
   "source": [
    "print(\"Duplicates for each column:\")\n",
    "print_duplicates(docs, columns=[\"doc_id\", \"title\", \"doi\", \"abstract\"])"
   ]
  },
  {
   "cell_type": "code",
   "execution_count": null,
   "metadata": {
    "colab": {
     "base_uri": "https://localhost:8080/",
     "height": 238
    },
    "id": "6ys99Gurahys",
    "outputId": "d66e50c9-eb60-4e4f-a56e-ca5667136e2c"
   },
   "outputs": [],
   "source": [
    "docs[docs[\"doc_id\"] == \"uym826bh\"]"
   ]
  },
  {
   "cell_type": "code",
   "execution_count": null,
   "metadata": {
    "colab": {
     "base_uri": "https://localhost:8080/",
     "height": 112
    },
    "id": "XMTYcrddahyt",
    "outputId": "c1a88770-6c03-420d-b3c2-e0f0d307341e"
   },
   "outputs": [],
   "source": [
    "docs.drop_duplicates(inplace=True)\n",
    "docs[docs[\"doc_id\"] == \"uym826bh\"]"
   ]
  },
  {
   "cell_type": "code",
   "execution_count": null,
   "metadata": {
    "colab": {
     "base_uri": "https://localhost:8080/"
    },
    "id": "ie8CAZ6aahyt",
    "outputId": "491e5ea6-2f22-4b59-9fe5-536d18ec9145"
   },
   "outputs": [],
   "source": [
    "print_duplicates(docs, columns=[\"doc_id\", \"title\", \"doi\", \"abstract\"])"
   ]
  },
  {
   "cell_type": "code",
   "execution_count": null,
   "metadata": {
    "colab": {
     "base_uri": "https://localhost:8080/"
    },
    "id": "_UNSXKkwahyt",
    "outputId": "7be416ae-9d26-4268-812c-c4ff21d3b7ed"
   },
   "outputs": [],
   "source": [
    "duplicated = sum(docs.duplicated([\"title\", \"abstract\"]))\n",
    "print(f\"Duplicates (title, abstract): {duplicated} ({duplicated / len(docs) * 100:.2f}%)\")\n",
    "\n",
    "duplicated = sum(docs.duplicated([\"doc_id\", \"title\", \"abstract\"]))\n",
    "print(f\"Duplicates (doc_id, title, abstract): {duplicated} ({duplicated / len(docs) * 100:.2f}%)\")\n",
    "\n",
    "duplicated = sum(docs.duplicated([\"doc_id\", \"title\", \"abstract\", \"doi\"]))\n",
    "print(f\"Duplicates (doc_id, title, abstract, doi): {duplicated} ({duplicated / len(docs) * 100:.2f}%)\")"
   ]
  },
  {
   "cell_type": "markdown",
   "metadata": {
    "id": "inNWetxRk6jt"
   },
   "source": [
    "Example of the same document with different dates"
   ]
  },
  {
   "cell_type": "code",
   "execution_count": null,
   "metadata": {
    "colab": {
     "base_uri": "https://localhost:8080/",
     "height": 396
    },
    "id": "Xm_1Ga9VbljQ",
    "outputId": "f0c98fe8-ea7c-4f51-8d50-580c99fbd566"
   },
   "outputs": [],
   "source": [
    "docs[docs['doc_id'] == \"0fbmelx0\"]"
   ]
  },
  {
   "cell_type": "markdown",
   "metadata": {},
   "source": [
    "### Detect Languages\n",
    "https://modelpredict.com/language-identification-survey"
   ]
  },
  {
   "cell_type": "code",
   "execution_count": null,
   "metadata": {},
   "outputs": [],
   "source": [
    "# download the pretrained model for fasttext language identification\n",
    "import requests\n",
    "pretrained_model = \"https://dl.fbaipublicfiles.com/fasttext/supervised-models/lid.176.bin\"\n",
    "\n",
    "results = requests.get(pretrained_model)\n",
    "with open('/tmp/lid.176.bin', 'wb') as f:\n",
    "    f.write(results.content)"
   ]
  },
  {
   "cell_type": "code",
   "execution_count": null,
   "metadata": {},
   "outputs": [],
   "source": [
    "from lang_identification import LanguageIdentification\n",
    "lang_id = LanguageIdentification()\n",
    "\n",
    "languages = []\n",
    "for i, doc in tqdm(docs.iterrows(), total=len(docs)):\n",
    "    text = doc['abstract']\n",
    "\n",
    "    if text is pd.NA or text == \"\":\n",
    "        text = doc['title']\n",
    "    try:                                                          \n",
    "        # lang = detect(text)        # language_detect  \n",
    "        # lang = get_language(text)  # cld3 \n",
    "        # lang = lang.language  \n",
    "        lang = lang_id.predict_lang(text)                         \n",
    "    except Exception as e:                                                \n",
    "        lang='unknown'\n",
    "    languages.append(lang)\n",
    "\n",
    "languages = np.asarray(languages)\n",
    "v, c = np.unique(languages, return_counts=True)"
   ]
  },
  {
   "cell_type": "code",
   "execution_count": null,
   "metadata": {},
   "outputs": [],
   "source": [
    "Counter(languages).most_common(20)"
   ]
  },
  {
   "cell_type": "code",
   "execution_count": null,
   "metadata": {},
   "outputs": [],
   "source": [
    "fig = plt.figure(figsize=(15, 4))\n",
    "sns.barplot(x=v, y=c, palette=\"Blues_d\")\n",
    "fig.axes[0].set_xticklabels(fig.axes[0].get_xticklabels(), rotation=90)\n",
    "fig.tight_layout()\n",
    "fig.savefig(\"out/languages.png\")"
   ]
  },
  {
   "cell_type": "code",
   "execution_count": null,
   "metadata": {},
   "outputs": [],
   "source": [
    "print(len(docs.loc[languages == \"en\"]))\n",
    "en_docs = docs.loc[languages == \"en\"]"
   ]
  },
  {
   "cell_type": "code",
   "execution_count": null,
   "metadata": {},
   "outputs": [],
   "source": [
    "print(len(docs.loc[languages != \"en\"]))\n",
    "not_en_docs = docs.loc[languages != \"en\"]"
   ]
  },
  {
   "cell_type": "markdown",
   "metadata": {
    "id": "UL06mPRVahyt"
   },
   "source": [
    "### Find Characters"
   ]
  },
  {
   "cell_type": "code",
   "execution_count": null,
   "metadata": {
    "colab": {
     "referenced_widgets": [
      "be219456f37e4dd0899e5233a03b5598"
     ]
    },
    "id": "sYgWutYeahyt",
    "outputId": "c480e971-93d5-458b-e533-b5dc39b8850a"
   },
   "outputs": [],
   "source": [
    "emojis = []\n",
    "for index, row in tqdm(docs.iterrows(), total=len(docs)):\n",
    "    e1 = demoji.findall(row[\"title\"])\n",
    "    if e1:\n",
    "      emojis.extend(list(e1.keys()))\n",
    "  \n",
    "    e2 = demoji.findall(str(row[\"abstract\"]))\n",
    "    if e2:\n",
    "      emojis.extend(list(e2.keys()))\n",
    "\n",
    "Counter(emojis)"
   ]
  },
  {
   "cell_type": "code",
   "execution_count": null,
   "metadata": {},
   "outputs": [],
   "source": [
    "import sys\n",
    "from unicodedata import category\n",
    "punctuation_chars =  [chr(i) for i in range(sys.maxunicode) if category(chr(i)).startswith(\"P\")]\n",
    "\n",
    "P = []\n",
    "for index, row in tqdm(docs.iterrows(), total=len(docs)):\n",
    "  if row[\"title\"] is not pd.NA:\n",
    "    t_chars = [c for c in punctuation_chars if c in row[\"title\"]]\n",
    "    if len(t_chars) > 0:\n",
    "      P.extend(t_chars)\n",
    "\n",
    "  if row[\"abstract\"] is not pd.NA:\n",
    "    a_chars = [c for c in punctuation_chars if c in row[\"abstract\"]]\n",
    "    if len(a_chars) > 0:\n",
    "      P.extend(a_chars)\n",
    "\n",
    "Counter(P)"
   ]
  },
  {
   "cell_type": "code",
   "execution_count": null,
   "metadata": {},
   "outputs": [],
   "source": [
    "c = Counter(P)\n",
    "for word in list(c):\n",
    "    if word in string.punctuation + \"–—‐“”″„’‘•′·«»§¶\":\n",
    "        del c[word]\n",
    "c.items()"
   ]
  },
  {
   "cell_type": "code",
   "execution_count": null,
   "metadata": {},
   "outputs": [],
   "source": [
    "WordCloud().fit_words(Counter(P)).to_image()"
   ]
  },
  {
   "cell_type": "markdown",
   "metadata": {
    "id": "Xysu3Q2ijJwz"
   },
   "source": [
    "## Preprocessing"
   ]
  },
  {
   "cell_type": "markdown",
   "metadata": {
    "id": "Lqq_yiSoahyu"
   },
   "source": [
    "Apply the preprocess on the documents and the queries"
   ]
  },
  {
   "cell_type": "code",
   "execution_count": null,
   "metadata": {},
   "outputs": [],
   "source": [
    "docs = en_docs  # test only english docs\n",
    "# docs = not_en_docs"
   ]
  },
  {
   "cell_type": "code",
   "execution_count": null,
   "metadata": {
    "colab": {
     "base_uri": "https://localhost:8080/",
     "height": 49,
     "referenced_widgets": [
      "4dbf8a2737024ca288817b061ca005ee",
      "00666afdb8464e929bf9e79c4c494a5b",
      "a4ec54f7d28c4a1890798e8b7168c680",
      "9b9cdf2f67f84800981f69a4689ac128",
      "4a7fafa00c8f4c09a4e674480bbdf8d7",
      "c58e6b3a00c242e2b8f29d59d5abe443",
      "7cf701fd4e2f41cea13a1620c4becd42",
      "e45a46ebe03c40a9977d8331d1e90003",
      "b9c4f9daed874b3abe1469c7b7916eef",
      "fb459bf1bf8843538cd33472e687af88",
      "995d917a6e204611a680d9f2e9f20a26"
     ]
    },
    "id": "FZTME-F-ZGVo",
    "outputId": "57cdc0ff-7b84-424f-e26f-6a45b04b925d"
   },
   "outputs": [],
   "source": [
    "nltk.download(\"omw-1.4\")\n",
    "# global lists of tokens for wordclouds\n",
    "titles = []\n",
    "abstracts = []\n",
    "\n",
    "docs_preprocessed = docs.copy()\n",
    "for index, row in tqdm(docs.iterrows(), total=len(docs)):\n",
    "    if row[\"title\"] is not pd.NA:\n",
    "      title_tokens = preprocess(row[\"title\"])\n",
    "      docs_preprocessed.loc[index, \"title\"] = \" \".join(title_tokens)\n",
    "      titles.extend(title_tokens)\n",
    "\n",
    "    if row[\"abstract\"] is not pd.NA:\n",
    "      abstract_tokens = preprocess(row[\"abstract\"])\n",
    "      docs_preprocessed.loc[index, \"abstract\"] = \" \".join(abstract_tokens)\n",
    "      abstracts.extend(abstract_tokens)"
   ]
  },
  {
   "cell_type": "code",
   "execution_count": null,
   "metadata": {},
   "outputs": [],
   "source": [
    "docs_preprocessed.to_pickle(\"data/docs_processed.pkl\")\n",
    "docs_preprocessed.to_pickle(\"data/en_docs_processed.pkl\")"
   ]
  },
  {
   "cell_type": "code",
   "execution_count": null,
   "metadata": {
    "colab": {
     "base_uri": "https://localhost:8080/",
     "height": 49,
     "referenced_widgets": [
      "ed1969ad807643aca0c0c1e83a813954",
      "6a149a810d854d51ae68fa864dd888d7",
      "2dbdff00d10047dfa922b465358072a2",
      "f361554e79d3400eaeafc40a12f72643",
      "60e8bc6c90a449c58f794013b45a55ec",
      "f5798ebcbd3e4d6b8d6053af47494d87",
      "ff2cd6f99b944a489d729b00f73efdf9",
      "f111ae2060cf4e13ae02562ecfe971c1",
      "1034faf48fc44736803e3bea45a0b9b2",
      "f77f3a7e101846e6bae3b54786c9bdbb",
      "9a9d13ce35fe4dab989946cba318c495"
     ]
    },
    "id": "J0Cs3543ahyu",
    "outputId": "90dbf8f5-3b59-4430-c99f-dea42b306f5a"
   },
   "outputs": [],
   "source": [
    "queries_preprocessed = queries.copy()\n",
    "for index, row in tqdm(queries.iterrows(), total=len(queries)):\n",
    "    queries_preprocessed.loc[index, \"title\"] = \" \".join(preprocess(row[\"title\"]))\n",
    "    queries_preprocessed.loc[index, \"description\"] = \" \".join(\n",
    "        preprocess(row[\"description\"])\n",
    "    )\n",
    "    queries_preprocessed.loc[index, \"narrative\"] = \" \".join(\n",
    "        preprocess(row[\"narrative\"])\n",
    "    )\n",
    "\n",
    "queries_preprocessed.to_pickle(\"data/queries_processed.pkl\")"
   ]
  },
  {
   "cell_type": "markdown",
   "metadata": {
    "id": "5YOYkue-ZG7c"
   },
   "source": [
    "## Word Cloud"
   ]
  },
  {
   "cell_type": "code",
   "execution_count": null,
   "metadata": {
    "colab": {
     "base_uri": "https://localhost:8080/",
     "height": 521
    },
    "id": "mlqkZ0EwZhjZ",
    "outputId": "4496586a-4995-4ca2-b69a-da0e7e4fc03e"
   },
   "outputs": [],
   "source": [
    "counter_title = Counter(titles)\n",
    "counter_abstract = Counter(abstracts)\n",
    "\n",
    "wc1 = WordCloud(collocations=False, background_color=\"white\", width=600, height=400)\n",
    "wc2 = WordCloud(collocations=False, background_color=\"white\", width=600, height=400)\n",
    "\n",
    "wc_titles = wc1.fit_words(counter_title)\n",
    "wc_abstracts = wc2.fit_words(counter_abstract)\n",
    "\n",
    "wc_titles.to_file(\"out/wc_titles.png\")\n",
    "wc_abstracts.to_file(\"out/wc_abstracts.png\")\n",
    "\n",
    "fig, (ax1, ax2) = plt.subplots(1, 2, figsize=(20, 8))\n",
    "\n",
    "ax1.imshow(wc_titles)\n",
    "ax1.set_title(\"Titles\", fontsize=20)\n",
    "ax1.axis(\"off\")\n",
    "\n",
    "ax2.imshow(wc_abstracts)\n",
    "ax2.set_title(\"Abstracts\", fontsize=20)\n",
    "ax2.axis(\"off\")\n",
    "\n",
    "fig.tight_layout()"
   ]
  },
  {
   "cell_type": "markdown",
   "metadata": {
    "id": "kvKYrnM2gElN"
   },
   "source": [
    "## Token Statistics"
   ]
  },
  {
   "cell_type": "code",
   "execution_count": null,
   "metadata": {
    "colab": {
     "base_uri": "https://localhost:8080/"
    },
    "id": "cDHoGMEdgDln",
    "outputId": "ca880b5b-1ca2-41d8-bb6d-6ac189c890b0"
   },
   "outputs": [],
   "source": [
    "print(\"\\n[Number of Tokens]\")\n",
    "print(\"Titles:\", len(counter_title.keys()))\n",
    "print(\"Abstracts:\", len(counter_abstract.keys()))\n",
    "\n",
    "k = 10\n",
    "top_k_titles = [word for word, _ in counter_title.most_common(k)]\n",
    "top_k_abstracts = [word for word, _ in counter_abstract.most_common(k)]\n",
    "\n",
    "print(f\"\\n[Top {k} Most Common Tokens]\")\n",
    "print(f\"Titles: {', '.join(top_k_titles)}\")\n",
    "print(f\"Abstracts: {', '.join(top_k_abstracts)}\")"
   ]
  },
  {
   "cell_type": "code",
   "execution_count": null,
   "metadata": {
    "colab": {
     "base_uri": "https://localhost:8080/",
     "height": 441
    },
    "id": "B7GLmQqZhSSj",
    "outputId": "9b1f2241-e731-4ec0-fca0-c75144b0687f"
   },
   "outputs": [],
   "source": [
    "import seaborn as sns\n",
    "import matplotlib.pyplot as plt\n",
    "\n",
    "k = 30\n",
    "\n",
    "common_titles = dict(counter_title.most_common(k))\n",
    "x_title = list(common_titles.keys())\n",
    "y_title = list(common_titles.values())\n",
    "\n",
    "common_abstracts = dict(counter_abstract.most_common(k))\n",
    "x_abstract = list(common_abstracts.keys())\n",
    "y_abstract = list(common_abstracts.values())\n",
    "\n",
    "fig, (ax1, ax2) = plt.subplots(2, 1, figsize=(20, 6))\n",
    "sns.barplot(x=x_title, y=y_title, ax=ax1)\n",
    "sns.barplot(x=x_abstract, y=y_abstract, ax=ax2)\n",
    "ax1.set_xticklabels(ax1.get_xticklabels(), rotation=30)\n",
    "ax2.set_xticklabels(ax2.get_xticklabels(), rotation=30)\n",
    "ax1.set_title(\"Title Tokens\")\n",
    "ax2.set_title(\"Abstract Tokens\")\n",
    "fig.tight_layout()\n",
    "\n",
    "fig.savefig(\"out/most_common_en.png\")"
   ]
  },
  {
   "cell_type": "markdown",
   "metadata": {
    "id": "x6PRw71PxzRa"
   },
   "source": [
    "# Part 2: Basic Search"
   ]
  },
  {
   "cell_type": "markdown",
   "metadata": {
    "id": "_Ljj27Iik6Dh"
   },
   "source": [
    "## Preprocessing of the query\n",
    "Eliminate stopwords, remove punctuation. \n",
    "You can also perform any other pre-processing step.\n",
    "\n",
    "\n",
    "* Lowcase\n",
    "* Remove punctuation\n",
    "* Remove extra whitespaces\n",
    "* Normalize covid words\n",
    "* Stop words\n",
    "* Lemmatization\n",
    "* Remove HTML tags\n",
    "* Remove URLs\n",
    "* Remove emojis\n",
    "\n"
   ]
  },
  {
   "cell_type": "code",
   "execution_count": null,
   "metadata": {
    "id": "FJyO4n9uC8V8"
   },
   "outputs": [],
   "source": [
    "test_query = [\n",
    "    \"CoVid\",\n",
    "    \"covid    19\",\n",
    "    \"covid-19  influenza\",\n",
    "    \"covid, influenza\",\n",
    "    \"a covid flue is going on\"\n",
    "]\n",
    "\n",
    "check_query = ['covid', \n",
    "'covid 19', \n",
    "'covid19 influenza', \n",
    "'covid influenza', \n",
    "'covid flue go'\n",
    "]\n"
   ]
  },
  {
   "cell_type": "code",
   "execution_count": null,
   "metadata": {
    "colab": {
     "base_uri": "https://localhost:8080/"
    },
    "id": "DryDPDV1lz7K",
    "outputId": "2cd35817-7a4f-4d6b-e6c2-b0e510a6c6fd"
   },
   "outputs": [],
   "source": [
    "preprocessed_query = []\n",
    "for query in test_query:\n",
    "    p = \" \".join(preprocess(query, covid_normalization=False))\n",
    "    preprocessed_query.append(p)\n",
    "print(preprocessed_query)"
   ]
  },
  {
   "cell_type": "code",
   "execution_count": null,
   "metadata": {
    "id": "7kULdDA8IDjy"
   },
   "outputs": [],
   "source": [
    "assert check_query == preprocessed_query"
   ]
  },
  {
   "cell_type": "markdown",
   "metadata": {
    "id": "u_L9-hNry4Qe"
   },
   "source": [
    "## Index the documents\n",
    "\n",
    "Use PyTerrier to index the documents.\n",
    "\n",
    "You can choose freely the indexing configurations.\n",
    "You can index either the document’s titles, abstract, or both."
   ]
  },
  {
   "cell_type": "markdown",
   "metadata": {
    "id": "SKQyS_7mpL9X"
   },
   "source": [
    "### Libraries"
   ]
  },
  {
   "cell_type": "code",
   "execution_count": null,
   "metadata": {
    "id": "f7gT0XzgpN10"
   },
   "outputs": [],
   "source": [
    "%%capture\n",
    "%pip install python-terrier\n",
    "\n",
    "import pyterrier as pt\n",
    "import pandas as pd\n",
    "import numpy as np"
   ]
  },
  {
   "cell_type": "markdown",
   "metadata": {
    "id": "EFyMlqvDA1Qp"
   },
   "source": [
    "### Data"
   ]
  },
  {
   "cell_type": "code",
   "execution_count": null,
   "metadata": {
    "id": "FYLnX5Qhahyx"
   },
   "outputs": [],
   "source": [
    "docs_preprocessed = pd.read_pickle(\"data/docs_processed.pkl\")"
   ]
  },
  {
   "cell_type": "code",
   "execution_count": null,
   "metadata": {
    "colab": {
     "base_uri": "https://localhost:8080/"
    },
    "id": "BCcyU-Acahyx",
    "outputId": "3c44be58-7e2f-4040-b29c-7293f0c972ab"
   },
   "outputs": [],
   "source": [
    "empty_titles = docs_preprocessed[\"title\"] == \"\"\n",
    "\n",
    "print(\n",
    "    \"The dataset has {} rows of ID empty\".format(\n",
    "        len(docs_preprocessed[docs_preprocessed[\"doc_id\"] == \"\"])\n",
    "    )\n",
    ")\n",
    "print(\n",
    "    \"The dataset has {} rows of TITLE empty\".format(\n",
    "        len(docs_preprocessed[empty_titles])\n",
    "    )\n",
    ")\n",
    "print(\n",
    "    \"The dataset has {} rows of DATE empty\".format(\n",
    "        len(docs_preprocessed[docs_preprocessed[\"date\"].isnull()])\n",
    "    )\n",
    ")\n",
    "print(\n",
    "    \"The dataset has {} rows of ABSTRACT empty\".format(\n",
    "        len(docs_preprocessed[docs_preprocessed[\"abstract\"] == \"\"])\n",
    "    )\n",
    ")\n",
    "print(\n",
    "    \"The dataset has {} rows of DOI empty\".format(\n",
    "        len(docs_preprocessed[docs_preprocessed[\"doi\"] == \"\"])\n",
    "    )\n",
    ")\n",
    "\n",
    "print(\"\\ndocs with empty title: \" + \", \".join(docs_preprocessed[empty_titles][\"doc_id\"]))"
   ]
  },
  {
   "cell_type": "code",
   "execution_count": null,
   "metadata": {
    "id": "HdmmfMirBFFp"
   },
   "outputs": [],
   "source": [
    "docs_preprocessed[\"title\"].replace({\"\": \"Vuoto\"}, inplace=True)\n",
    "docs_preprocessed[\"abstract\"].replace({\"\": \"Vuoto\"}, inplace=True)\n",
    "docs_preprocessed[\"doi\"].replace({\"\": \"Vuoto\"}, inplace=True)\n",
    "docs_preprocessed[\"date\"].fillna(pd.Timestamp(0, unit=\"s\"), inplace=True)"
   ]
  },
  {
   "cell_type": "code",
   "execution_count": null,
   "metadata": {
    "colab": {
     "base_uri": "https://localhost:8080/"
    },
    "id": "mD8HAlUZBGAM",
    "outputId": "4a4fae2f-8655-444d-aea0-89b0d71e4c22"
   },
   "outputs": [],
   "source": [
    "print(\"The dataset has {} rows of ID empty\".format(len(docs_preprocessed[docs_preprocessed[\"doc_id\"] == \"\"])))\n",
    "print(\n",
    "    \"The dataset has {} rows of TITLE empty\".format(\n",
    "        len(docs_preprocessed[docs_preprocessed[\"title\"] == \"\"])\n",
    "    )\n",
    ")\n",
    "print(\n",
    "    \"The dataset has {} rows of DATE empty\".format(\n",
    "        len(docs_preprocessed[docs_preprocessed[\"date\"].isnull()])\n",
    "    )\n",
    ")\n",
    "print(\n",
    "    \"The dataset has {} rows of ABSTRACT empty\".format(\n",
    "        len(docs_preprocessed[docs_preprocessed[\"abstract\"] == \"\"])\n",
    "    )\n",
    ")\n",
    "print(\"The dataset has {} rows of DOI empty\".format(len(docs_preprocessed[docs_preprocessed[\"doi\"] == \"\"])))"
   ]
  },
  {
   "cell_type": "code",
   "execution_count": null,
   "metadata": {
    "colab": {
     "base_uri": "https://localhost:8080/"
    },
    "id": "RoMGw-BQBGqx",
    "outputId": "321253a2-4a90-4cba-d4dd-35d59cd58062"
   },
   "outputs": [],
   "source": [
    "np.where(pd.isnull(docs_preprocessed))"
   ]
  },
  {
   "cell_type": "code",
   "execution_count": null,
   "metadata": {
    "id": "BtezL3wCBIOb"
   },
   "outputs": [],
   "source": [
    "num_id = [str(i) for i in range(1, len(docs_preprocessed.index) + 1)]\n",
    "# print(num_id)\n",
    "docs_preprocessed.insert(0, \"docno\", num_id, True)"
   ]
  },
  {
   "cell_type": "markdown",
   "metadata": {
    "id": "8otRa2-71IWg"
   },
   "source": [
    "### Index"
   ]
  },
  {
   "cell_type": "code",
   "execution_count": null,
   "metadata": {
    "colab": {
     "base_uri": "https://localhost:8080/"
    },
    "id": "BSTDKlKDBLmO",
    "outputId": "8b56a054-b82c-4735-ac29-21ba9bd9c185"
   },
   "outputs": [],
   "source": [
    "# import os\n",
    "# os.environ[\"JAVA_HOME\"] = \"/usr/lib/jvm/java-1.11.0-openjdk-amd64/\"\n",
    "\n",
    "if not pt.started():\n",
    "    pt.init()"
   ]
  },
  {
   "cell_type": "code",
   "execution_count": null,
   "metadata": {
    "id": "QMG-D_3I_6k7"
   },
   "outputs": [],
   "source": [
    "def create_index(docs_df, mode=\"both\", indexer_path=\"./pd_index\"):\n",
    "\n",
    "    #num_id = [str(i) for i in range(1, len(docs_df.index) + 1)]\n",
    "    # print(num_id)\n",
    "    #docs_df.insert(0, \"docno\", num_id, True)\n",
    "\n",
    "    docs_df.rename(columns={'doc_id':'docno'}, inplace=True)\n",
    "\n",
    "    pd_indexer = pt.DFIndexer(indexer_path, remove_stopwords=False, overwrite=True)\n",
    "\n",
    "    if mode == \"title\":\n",
    "        index_ref = pd_indexer.index(docs_df[\"title\"], docs_df[\"docno\"])\n",
    "    elif mode == \"abstract\":\n",
    "        index_ref = pd_indexer.index(docs_df[\"abstract\"], docs_df[\"docno\"])\n",
    "    else:  # both or else\n",
    "        index_ref = pd_indexer.index(\n",
    "            docs_df[\"title\"], docs_df[\"abstract\"], docs_df[\"docno\"]\n",
    "        )\n",
    "\n",
    "    return index_ref\n"
   ]
  },
  {
   "cell_type": "code",
   "execution_count": null,
   "metadata": {
    "id": "3qJMeXdLwPdq"
   },
   "outputs": [],
   "source": [
    "# docs_preprocessed['title'].replace(\"\", pd.NA, inplace=True)\n",
    "# docs_preprocessed['abstract'].replace(\"\", pd.NA, inplace=True)\n",
    "# docs_preprocessed['doi'].replace(\"\", pd.NA, inplace=True)\n",
    "# docs_preprocessed['doc_id'].replace(\"\", pd.NA, inplace=True)\n",
    "# docs_preprocessed.info()"
   ]
  },
  {
   "cell_type": "code",
   "execution_count": null,
   "metadata": {
    "colab": {
     "base_uri": "https://localhost:8080/"
    },
    "id": "U7fB944dahyy",
    "outputId": "7273981e-da19-4f89-b5fc-7c19612f1f5a"
   },
   "outputs": [],
   "source": [
    "docs_preprocessed.rename(columns={'doc_id':'docno'}, inplace=True)\n",
    "pd_indexer = pt.DFIndexer(\"./index\", remove_stopwords=False, overwrite=True)\n",
    "pd_indexer.index(docs_preprocessed[\"title\"], docs_preprocessed[\"docno\"])"
   ]
  },
  {
   "cell_type": "code",
   "execution_count": null,
   "metadata": {
    "colab": {
     "base_uri": "https://localhost:8080/"
    },
    "id": "7jRX-Jbe_9yN",
    "outputId": "98466f44-bcbf-47a4-981c-29e4dbd1d836"
   },
   "outputs": [],
   "source": [
    "# index the text, record the docnos as metadata\n",
    "index_ref = create_index(docs_preprocessed, mode=\"both\")"
   ]
  },
  {
   "cell_type": "code",
   "execution_count": null,
   "metadata": {
    "colab": {
     "base_uri": "https://localhost:8080/"
    },
    "id": "BOyxg0WXBNx4",
    "outputId": "7fee5400-6919-400c-9ba7-5a117eb6164c"
   },
   "outputs": [],
   "source": [
    "!ls -lh pd_index/"
   ]
  },
  {
   "cell_type": "code",
   "execution_count": null,
   "metadata": {
    "id": "AksUMf5QBO9J"
   },
   "outputs": [],
   "source": [
    "index = pt.IndexFactory.of(index_ref)"
   ]
  },
  {
   "cell_type": "code",
   "execution_count": null,
   "metadata": {
    "colab": {
     "base_uri": "https://localhost:8080/"
    },
    "id": "AFsOaWIkBPzo",
    "outputId": "cbcf3448-7782-4c30-97e1-6e9fb4deddf3"
   },
   "outputs": [],
   "source": [
    "print(index.getCollectionStatistics().toString())\n",
    "\n",
    "i = 0\n",
    "max = 10\n",
    "for kv in index.getLexicon():\n",
    "    i = i + 1\n",
    "    if i < max:\n",
    "        print(\"%s -> %s\" % (kv.getKey(), kv.getValue().toString()))\n",
    "    if i == max:\n",
    "        print(\".....\")\n",
    "        break\n"
   ]
  },
  {
   "cell_type": "code",
   "execution_count": null,
   "metadata": {
    "id": "_CgS8rGxBUxG"
   },
   "outputs": [],
   "source": [
    "def index_model(index, model=\"TF_IDF\"):\n",
    "    \"\"\"\n",
    "    Create and return an indexing model.\n",
    "    http://terrier.org/docs/current/javadoc/org/terrier/matching/models/package-summary.html\n",
    "    Model can be such as:\n",
    "    \"TF_IDF\", \"PL2\", \"DLH\",\n",
    "    \"Hiemstra_LM\", \"Dirichlet_LM\",\n",
    "    \"BM25\", etc\n",
    "    \"\"\"\n",
    "    list_model = [\"TF_IDF\", \"PL2\", \"DLH\", \"Hiemstra_LM\", \"Dirichlet_LM\", \"BM25\"]\n",
    "\n",
    "    indexing_model = pt.BatchRetrieve(index, wmodel=model)\n",
    "    return indexing_model"
   ]
  },
  {
   "cell_type": "code",
   "execution_count": null,
   "metadata": {
    "id": "30wXOwJ7B_5C"
   },
   "outputs": [],
   "source": [
    "model = index_model(index, model=\"TF_IDF\")"
   ]
  },
  {
   "cell_type": "markdown",
   "metadata": {
    "id": "6la65-Q7B-vd"
   },
   "source": [
    "https://github.com/terrier-org/terrier-core/blob/5.x/doc/querylanguage.md"
   ]
  },
  {
   "cell_type": "code",
   "execution_count": null,
   "metadata": {
    "colab": {
     "base_uri": "https://localhost:8080/",
     "height": 424
    },
    "id": "DpzR6R7NB4-i",
    "outputId": "619dc9b0-c9f9-44c8-9b0b-a58aca070392"
   },
   "outputs": [],
   "source": [
    "# A single query (that I manually provide)\n",
    "retr = model.search(\"introduction modern climate change\")\n",
    "display(retr.head(10))\n",
    "\n",
    "docids = retr[retr[\"rank\"] < 5][\"docid\"]\n",
    "for id in docids:\n",
    "  print(\"[\" + str(id) + \"] TITLE: \" + docs_preprocessed.iloc[id][\"title\"])\n",
    "  print(\"[\" + str(id) + \"] ABSTRACT: \" + docs_preprocessed.iloc[id][\"abstract\"][:100] + \"...\")"
   ]
  },
  {
   "cell_type": "code",
   "execution_count": null,
   "metadata": {
    "colab": {
     "base_uri": "https://localhost:8080/",
     "height": 1000
    },
    "id": "lzgdheF3B9Bg",
    "outputId": "b82770c1-68ea-4c94-8578-63a1c437c894"
   },
   "outputs": [],
   "source": [
    "print(\"+woman covid\")\n",
    "retr = model.search(\"+woman covid\")\n",
    "print(len(retr.index))\n",
    "display(retr.head(3))\n",
    "\n",
    "print(\"+woman covid\")\n",
    "retr = model.search(\"+woman covid\")\n",
    "print(len(retr.index))\n",
    "display(retr.head(3))\n",
    "\n",
    "print(\"+woman +covid\")\n",
    "retr = model.search(\"+woman +covid\")\n",
    "print(len(retr.index))\n",
    "display(retr.head(3))\n",
    "\n",
    "print(\"+woman +covid\")\n",
    "retr = model.search(\"+woman +covid\")\n",
    "print(len(retr.index))\n",
    "display(retr.head(3))\n",
    "\n",
    "print(\"-woman +covid\")\n",
    "retr = model.search(\"-woman +covid\")\n",
    "print(len(retr.index))\n",
    "display(retr.head(3))\n",
    "\n",
    "print(\"-woman +covid\")\n",
    "retr = model.search(\"-woman +covid\")\n",
    "print(len(retr.index))\n",
    "display(retr.head(3))\n",
    "\n",
    "print(\"{woman covid}\")\n",
    "retr = model.search(\"{woman covid}\")\n",
    "print(len(retr.index))\n",
    "display(retr.head(3))\n",
    "\n",
    "print(\"{ woman term2 }\")\n",
    "retr = model.search(\"{ woman covid }\")\n",
    "print(len(retr.index))\n",
    "display(retr.head(3))\n"
   ]
  },
  {
   "cell_type": "markdown",
   "metadata": {
    "id": "-GeK9n6YQ6TM"
   },
   "source": [
    "To do indexing just choose the model to use through the function:\n",
    "\n",
    "`index_ref = create_index(docs_df, mode=\"both\")`\n",
    "\n",
    "mode decide if indexing just title, abstract or both.\n",
    "\n",
    "`index = pt.IndexFactory.of(index_ref)`\n",
    "\n",
    "`tfidf = index_model(index, model=\"TF_IDF\")`\n",
    "\n",
    "and then use the function:\n",
    "\n",
    "`tfidf.search(\"your query\")`\n",
    "\n",
    "\n",
    "To know more about the query look [here](https://github.com/terrier-org/terrier-core/blob/5.x/doc/querylanguage.md)\n",
    "\n",
    "To know more about the model you can use look [here](http://terrier.org/docs/current/javadoc/org/terrier/matching/models/package-summary.html). You can use model as \"TF_IDF\", \"PL2\", \"DLH\", \"Hiemstra_LM\", \"Dirichlet_LM\", etc.\n"
   ]
  },
  {
   "cell_type": "markdown",
   "metadata": {
    "id": "bHsXCNXAzARB"
   },
   "source": [
    "# Part 3: Advanced Search (Optional)"
   ]
  },
  {
   "cell_type": "markdown",
   "metadata": {},
   "source": [
    "## Try to expand the ad-hoc queries with the most similar words.\n",
    "\n",
    "We need to define a function that can calculate the most similar word to another.\n",
    "To do this we use Word2Vec."
   ]
  },
  {
   "cell_type": "code",
   "execution_count": 1,
   "metadata": {},
   "outputs": [],
   "source": [
    "from gensim.models import Word2Vec\n",
    "import pandas as pd\n",
    "import nltk"
   ]
  },
  {
   "cell_type": "code",
   "execution_count": 2,
   "metadata": {},
   "outputs": [],
   "source": [
    "# Load the data pre-processed\n",
    "docs_preprocessed = pd.read_pickle(\"data/en_docs_processed.pkl\")"
   ]
  },
  {
   "cell_type": "code",
   "execution_count": 3,
   "metadata": {},
   "outputs": [
    {
     "name": "stdout",
     "output_type": "stream",
     "text": [
      "The dataset has 0 rows of ID empty\n",
      "The dataset has 4 rows of TITLE empty\n",
      "The dataset has 17 rows of DATE empty\n",
      "The dataset has 0 rows of ABSTRACT empty\n",
      "The dataset has 0 rows of DOI empty\n"
     ]
    }
   ],
   "source": [
    "print(\"The dataset has {} rows of ID empty\".format(len(docs_preprocessed[docs_preprocessed[\"doc_id\"] == \"\"])))\n",
    "print(\n",
    "    \"The dataset has {} rows of TITLE empty\".format(\n",
    "        len(docs_preprocessed[docs_preprocessed[\"title\"] == \"\"])\n",
    "    )\n",
    ")\n",
    "print(\n",
    "    \"The dataset has {} rows of DATE empty\".format(\n",
    "        len(docs_preprocessed[docs_preprocessed[\"date\"].isnull()])\n",
    "    )\n",
    ")\n",
    "print(\n",
    "    \"The dataset has {} rows of ABSTRACT empty\".format(\n",
    "        len(docs_preprocessed[docs_preprocessed[\"abstract\"] == \"\"])\n",
    "    )\n",
    ")\n",
    "print(\"The dataset has {} rows of DOI empty\".format(len(docs_preprocessed[docs_preprocessed[\"doi\"] == \"\"])))"
   ]
  },
  {
   "cell_type": "code",
   "execution_count": 4,
   "metadata": {},
   "outputs": [],
   "source": [
    "# We don't need all the columns\n",
    "docs_preprocessed.drop(['doc_id','date', 'doi'], axis=1, inplace=True)"
   ]
  },
  {
   "cell_type": "code",
   "execution_count": 5,
   "metadata": {},
   "outputs": [
    {
     "name": "stdout",
     "output_type": "stream",
     "text": [
      "Index(['title', 'abstract'], dtype='object')\n",
      "                                                  title  \\\n",
      "3705  genetic control mouse hdl proteome defines hdl...   \n",
      "3747  potent antiviral activity carbohydratespecific...   \n",
      "4403  pioneer experience uniportal videoassisted tho...   \n",
      "4456             note editor novel coronavirus 2019ncov   \n",
      "4532  epidemiological clinical characteristic health...   \n",
      "\n",
      "                                               abstract  \n",
      "3705  hdl nanoparticles 80 associated protein phosph...  \n",
      "3747  brazil one large biodiversity world search new...  \n",
      "4403  optimal way treat severe thoracic scoliosis re...  \n",
      "4456                                               <NA>  \n",
      "4532  background analyze result 3year surveillance s...  \n"
     ]
    }
   ],
   "source": [
    "print( docs_preprocessed.columns )\n",
    "print( docs_preprocessed.head(5) )"
   ]
  },
  {
   "cell_type": "code",
   "execution_count": 6,
   "metadata": {},
   "outputs": [
    {
     "name": "stdout",
     "output_type": "stream",
     "text": [
      "49631\n",
      "81823\n",
      "81823\n"
     ]
    }
   ],
   "source": [
    "docs_preprocessed_abstract = docs_preprocessed[docs_preprocessed['abstract'].notna()]\n",
    "docs_preprocessed_title = docs_preprocessed[docs_preprocessed['title'].notna()]\n",
    "\n",
    "print( len(docs_preprocessed_abstract) )\n",
    "print( len(docs_preprocessed_title) )\n",
    "\n",
    "print( len(docs_preprocessed) )"
   ]
  },
  {
   "cell_type": "code",
   "execution_count": 7,
   "metadata": {},
   "outputs": [
    {
     "name": "stderr",
     "output_type": "stream",
     "text": [
      "/tmp/ipykernel_12540/458213133.py:1: SettingWithCopyWarning: \n",
      "A value is trying to be set on a copy of a slice from a DataFrame.\n",
      "Try using .loc[row_indexer,col_indexer] = value instead\n",
      "\n",
      "See the caveats in the documentation: https://pandas.pydata.org/pandas-docs/stable/user_guide/indexing.html#returning-a-view-versus-a-copy\n",
      "  docs_preprocessed_abstract[\"abstract_data\"] = docs_preprocessed_abstract.abstract\n"
     ]
    },
    {
     "name": "stdout",
     "output_type": "stream",
     "text": [
      "49631\n"
     ]
    },
    {
     "name": "stderr",
     "output_type": "stream",
     "text": [
      "/home/davide/anaconda3/lib/python3.9/site-packages/pandas/core/generic.py:5516: SettingWithCopyWarning: \n",
      "A value is trying to be set on a copy of a slice from a DataFrame.\n",
      "Try using .loc[row_indexer,col_indexer] = value instead\n",
      "\n",
      "See the caveats in the documentation: https://pandas.pydata.org/pandas-docs/stable/user_guide/indexing.html#returning-a-view-versus-a-copy\n",
      "  self[name] = value\n"
     ]
    }
   ],
   "source": [
    "docs_preprocessed_abstract[\"abstract_data\"] = docs_preprocessed_abstract.abstract\n",
    "docs_preprocessed_abstract.abstract_data = docs_preprocessed_abstract.abstract_data.apply(lambda input_text : [t.split() for t in  nltk.sent_tokenize(input_text)])\n",
    "\n",
    "print( len(docs_preprocessed_abstract) )"
   ]
  },
  {
   "cell_type": "code",
   "execution_count": 8,
   "metadata": {},
   "outputs": [
    {
     "name": "stdout",
     "output_type": "stream",
     "text": [
      "81823\n"
     ]
    }
   ],
   "source": [
    "docs_preprocessed_title[\"title_data\"] = docs_preprocessed_title.title\n",
    "docs_preprocessed_title.title_data = docs_preprocessed_title.title_data.apply(lambda input_text : [t.split() for t in  nltk.sent_tokenize(input_text)])\n",
    "\n",
    "print( len(docs_preprocessed_title) )"
   ]
  },
  {
   "cell_type": "code",
   "execution_count": 9,
   "metadata": {},
   "outputs": [],
   "source": [
    "# is a list of all the sentences in the abstracts\n",
    "abstract_data = docs_preprocessed_abstract.abstract_data.sum()\n",
    "title_data = docs_preprocessed_title.title_data.sum()"
   ]
  },
  {
   "cell_type": "code",
   "execution_count": 10,
   "metadata": {},
   "outputs": [],
   "source": [
    "data = abstract_data + title_data"
   ]
  },
  {
   "cell_type": "code",
   "execution_count": 11,
   "metadata": {},
   "outputs": [
    {
     "name": "stdout",
     "output_type": "stream",
     "text": [
      "9447 develop\n",
      "320 developed\n",
      "8155 protein\n",
      "423 proteins\n"
     ]
    }
   ],
   "source": [
    "# N.B.\n",
    "develop = 0\n",
    "developed = 0\n",
    "protein = 0\n",
    "proteins = 0\n",
    "\n",
    "for phrase in data:\n",
    "    for word in phrase:\n",
    "        if word == 'develop':\n",
    "            develop += 1\n",
    "        if word == 'developed':\n",
    "            developed += 1 \n",
    "        if word == 'protein':\n",
    "            protein += 1\n",
    "        if word == 'proteins':\n",
    "            proteins += 1  \n",
    "\n",
    "print(f\"{develop} develop\")\n",
    "print(f\"{developed} developed\")\n",
    "print(f\"{protein} protein\")\n",
    "print(f\"{proteins} proteins\")"
   ]
  },
  {
   "cell_type": "code",
   "execution_count": 12,
   "metadata": {},
   "outputs": [
    {
     "name": "stdout",
     "output_type": "stream",
     "text": [
      "<class 'list'>\n",
      "<class 'list'>\n",
      "<class 'str'>\n",
      "['hdl', 'nanoparticles', '80', 'associated', 'protein', 'phospholipid', 'cholesterol', 'cholesteryl', 'ester', 'potential', 'inverse', 'relation', 'hdl', 'coronary', 'artery', 'disease', 'cad', 'effect', 'hdl', 'myriad']\n"
     ]
    }
   ],
   "source": [
    "print( type(data) )\n",
    "print( type(data[0]) )\n",
    "print( type(data[0][0]) )\n",
    "print( data[0][:20] )"
   ]
  },
  {
   "cell_type": "code",
   "execution_count": 13,
   "metadata": {},
   "outputs": [],
   "source": [
    "model = Word2Vec(sentences=data, window=10, sg=1, seed=1) # sg=1 for skipgram ; sg=0 for CBOW"
   ]
  },
  {
   "cell_type": "code",
   "execution_count": 14,
   "metadata": {},
   "outputs": [],
   "source": [
    "# Save the model\n",
    "model.save(\"data/word2vec.model\")\n",
    "# We can load the model like that:\n",
    "# model = Word2Vec.load(\"data/word2vec.model\")"
   ]
  },
  {
   "cell_type": "code",
   "execution_count": 15,
   "metadata": {},
   "outputs": [
    {
     "data": {
      "text/plain": [
       "[('complies', 0.6962115168571472)]"
      ]
     },
     "execution_count": 15,
     "metadata": {},
     "output_type": "execute_result"
    }
   ],
   "source": [
    "model.wv.most_similar('regulation', topn=1)"
   ]
  },
  {
   "cell_type": "code",
   "execution_count": 16,
   "metadata": {},
   "outputs": [],
   "source": [
    "from my_utils import most_similar, query_similar_words\n",
    "mv_model = Word2Vec.load(\"data/word2vec.model\")"
   ]
  },
  {
   "cell_type": "code",
   "execution_count": 25,
   "metadata": {},
   "outputs": [],
   "source": [
    "assert most_similar('doggy doggy', mv_model) == None\n",
    "assert most_similar('italy', mv_model) == 'lombardy'\n",
    "assert most_similar('doggy doggy') == None\n",
    "assert most_similar('italy') == 'lombardy'\n",
    "assert most_similar('acute') == 'syndrome'"
   ]
  },
  {
   "cell_type": "code",
   "execution_count": 26,
   "metadata": {},
   "outputs": [
    {
     "data": {
      "text/plain": [
       "'coronavirus 2019'"
      ]
     },
     "execution_count": 26,
     "metadata": {},
     "output_type": "execute_result"
    }
   ],
   "source": [
    "query_similar_words('coronavirus')"
   ]
  },
  {
   "cell_type": "markdown",
   "metadata": {
    "id": "eJr_Z7coEOtQ"
   },
   "source": [
    "# NOTE\n",
    "\n",
    "prof: importate la precision. l'obiettivo é riportare la risposta migliore\n"
   ]
  }
 ],
 "metadata": {
  "colab": {
   "collapsed_sections": [],
   "name": "IR_Covid.ipynb",
   "provenance": []
  },
  "kernelspec": {
   "display_name": "Python 3",
   "name": "python3"
  },
  "language_info": {
   "codemirror_mode": {
    "name": "ipython",
    "version": 3
   },
   "file_extension": ".py",
   "mimetype": "text/x-python",
   "name": "python",
   "nbconvert_exporter": "python",
   "pygments_lexer": "ipython3",
   "version": "3.9.7"
  },
  "widgets": {
   "application/vnd.jupyter.widget-state+json": {
    "00666afdb8464e929bf9e79c4c494a5b": {
     "model_module": "@jupyter-widgets/base",
     "model_module_version": "1.2.0",
     "model_name": "LayoutModel",
     "state": {
      "_model_module": "@jupyter-widgets/base",
      "_model_module_version": "1.2.0",
      "_model_name": "LayoutModel",
      "_view_count": null,
      "_view_module": "@jupyter-widgets/base",
      "_view_module_version": "1.2.0",
      "_view_name": "LayoutView",
      "align_content": null,
      "align_items": null,
      "align_self": null,
      "border": null,
      "bottom": null,
      "display": null,
      "flex": null,
      "flex_flow": null,
      "grid_area": null,
      "grid_auto_columns": null,
      "grid_auto_flow": null,
      "grid_auto_rows": null,
      "grid_column": null,
      "grid_gap": null,
      "grid_row": null,
      "grid_template_areas": null,
      "grid_template_columns": null,
      "grid_template_rows": null,
      "height": null,
      "justify_content": null,
      "justify_items": null,
      "left": null,
      "margin": null,
      "max_height": null,
      "max_width": null,
      "min_height": null,
      "min_width": null,
      "object_fit": null,
      "object_position": null,
      "order": null,
      "overflow": null,
      "overflow_x": null,
      "overflow_y": null,
      "padding": null,
      "right": null,
      "top": null,
      "visibility": null,
      "width": null
     }
    },
    "1034faf48fc44736803e3bea45a0b9b2": {
     "model_module": "@jupyter-widgets/base",
     "model_module_version": "1.2.0",
     "model_name": "LayoutModel",
     "state": {
      "_model_module": "@jupyter-widgets/base",
      "_model_module_version": "1.2.0",
      "_model_name": "LayoutModel",
      "_view_count": null,
      "_view_module": "@jupyter-widgets/base",
      "_view_module_version": "1.2.0",
      "_view_name": "LayoutView",
      "align_content": null,
      "align_items": null,
      "align_self": null,
      "border": null,
      "bottom": null,
      "display": null,
      "flex": null,
      "flex_flow": null,
      "grid_area": null,
      "grid_auto_columns": null,
      "grid_auto_flow": null,
      "grid_auto_rows": null,
      "grid_column": null,
      "grid_gap": null,
      "grid_row": null,
      "grid_template_areas": null,
      "grid_template_columns": null,
      "grid_template_rows": null,
      "height": null,
      "justify_content": null,
      "justify_items": null,
      "left": null,
      "margin": null,
      "max_height": null,
      "max_width": null,
      "min_height": null,
      "min_width": null,
      "object_fit": null,
      "object_position": null,
      "order": null,
      "overflow": null,
      "overflow_x": null,
      "overflow_y": null,
      "padding": null,
      "right": null,
      "top": null,
      "visibility": null,
      "width": null
     }
    },
    "199a58f63e7045ada618ec45b97e2c41": {
     "model_module": "@jupyter-widgets/base",
     "model_module_version": "1.2.0",
     "model_name": "LayoutModel",
     "state": {
      "_model_module": "@jupyter-widgets/base",
      "_model_module_version": "1.2.0",
      "_model_name": "LayoutModel",
      "_view_count": null,
      "_view_module": "@jupyter-widgets/base",
      "_view_module_version": "1.2.0",
      "_view_name": "LayoutView",
      "align_content": null,
      "align_items": null,
      "align_self": null,
      "border": null,
      "bottom": null,
      "display": null,
      "flex": null,
      "flex_flow": null,
      "grid_area": null,
      "grid_auto_columns": null,
      "grid_auto_flow": null,
      "grid_auto_rows": null,
      "grid_column": null,
      "grid_gap": null,
      "grid_row": null,
      "grid_template_areas": null,
      "grid_template_columns": null,
      "grid_template_rows": null,
      "height": null,
      "justify_content": null,
      "justify_items": null,
      "left": null,
      "margin": null,
      "max_height": null,
      "max_width": null,
      "min_height": null,
      "min_width": null,
      "object_fit": null,
      "object_position": null,
      "order": null,
      "overflow": null,
      "overflow_x": null,
      "overflow_y": null,
      "padding": null,
      "right": null,
      "top": null,
      "visibility": null,
      "width": null
     }
    },
    "1f6442f10e634e90be7b37330c6cfc96": {
     "model_module": "@jupyter-widgets/base",
     "model_module_version": "1.2.0",
     "model_name": "LayoutModel",
     "state": {
      "_model_module": "@jupyter-widgets/base",
      "_model_module_version": "1.2.0",
      "_model_name": "LayoutModel",
      "_view_count": null,
      "_view_module": "@jupyter-widgets/base",
      "_view_module_version": "1.2.0",
      "_view_name": "LayoutView",
      "align_content": null,
      "align_items": null,
      "align_self": null,
      "border": null,
      "bottom": null,
      "display": null,
      "flex": null,
      "flex_flow": null,
      "grid_area": null,
      "grid_auto_columns": null,
      "grid_auto_flow": null,
      "grid_auto_rows": null,
      "grid_column": null,
      "grid_gap": null,
      "grid_row": null,
      "grid_template_areas": null,
      "grid_template_columns": null,
      "grid_template_rows": null,
      "height": null,
      "justify_content": null,
      "justify_items": null,
      "left": null,
      "margin": null,
      "max_height": null,
      "max_width": null,
      "min_height": null,
      "min_width": null,
      "object_fit": null,
      "object_position": null,
      "order": null,
      "overflow": null,
      "overflow_x": null,
      "overflow_y": null,
      "padding": null,
      "right": null,
      "top": null,
      "visibility": null,
      "width": null
     }
    },
    "277affd7e2d84ca28d9e10da5332a2f7": {
     "model_module": "@jupyter-widgets/controls",
     "model_module_version": "1.5.0",
     "model_name": "HTMLModel",
     "state": {
      "_dom_classes": [],
      "_model_module": "@jupyter-widgets/controls",
      "_model_module_version": "1.5.0",
      "_model_name": "HTMLModel",
      "_view_count": null,
      "_view_module": "@jupyter-widgets/controls",
      "_view_module_version": "1.5.0",
      "_view_name": "HTMLView",
      "description": "",
      "description_tooltip": null,
      "layout": "IPY_MODEL_1f6442f10e634e90be7b37330c6cfc96",
      "placeholder": "​",
      "style": "IPY_MODEL_2b14069a1bab4bfbb5f09ded36850e10",
      "value": "100%"
     }
    },
    "2b14069a1bab4bfbb5f09ded36850e10": {
     "model_module": "@jupyter-widgets/controls",
     "model_module_version": "1.5.0",
     "model_name": "DescriptionStyleModel",
     "state": {
      "_model_module": "@jupyter-widgets/controls",
      "_model_module_version": "1.5.0",
      "_model_name": "DescriptionStyleModel",
      "_view_count": null,
      "_view_module": "@jupyter-widgets/base",
      "_view_module_version": "1.2.0",
      "_view_name": "StyleView",
      "description_width": ""
     }
    },
    "2dbdff00d10047dfa922b465358072a2": {
     "model_module": "@jupyter-widgets/controls",
     "model_module_version": "1.5.0",
     "model_name": "HTMLModel",
     "state": {
      "_dom_classes": [],
      "_model_module": "@jupyter-widgets/controls",
      "_model_module_version": "1.5.0",
      "_model_name": "HTMLModel",
      "_view_count": null,
      "_view_module": "@jupyter-widgets/controls",
      "_view_module_version": "1.5.0",
      "_view_name": "HTMLView",
      "description": "",
      "description_tooltip": null,
      "layout": "IPY_MODEL_ff2cd6f99b944a489d729b00f73efdf9",
      "placeholder": "​",
      "style": "IPY_MODEL_f5798ebcbd3e4d6b8d6053af47494d87",
      "value": "100%"
     }
    },
    "42ad66103daf4afba37e750c00b89c51": {
     "model_module": "@jupyter-widgets/controls",
     "model_module_version": "1.5.0",
     "model_name": "DescriptionStyleModel",
     "state": {
      "_model_module": "@jupyter-widgets/controls",
      "_model_module_version": "1.5.0",
      "_model_name": "DescriptionStyleModel",
      "_view_count": null,
      "_view_module": "@jupyter-widgets/base",
      "_view_module_version": "1.2.0",
      "_view_name": "StyleView",
      "description_width": ""
     }
    },
    "4a7fafa00c8f4c09a4e674480bbdf8d7": {
     "model_module": "@jupyter-widgets/controls",
     "model_module_version": "1.5.0",
     "model_name": "HTMLModel",
     "state": {
      "_dom_classes": [],
      "_model_module": "@jupyter-widgets/controls",
      "_model_module_version": "1.5.0",
      "_model_name": "HTMLModel",
      "_view_count": null,
      "_view_module": "@jupyter-widgets/controls",
      "_view_module_version": "1.5.0",
      "_view_name": "HTMLView",
      "description": "",
      "description_tooltip": null,
      "layout": "IPY_MODEL_995d917a6e204611a680d9f2e9f20a26",
      "placeholder": "​",
      "style": "IPY_MODEL_fb459bf1bf8843538cd33472e687af88",
      "value": " 83869/83869 [33:53&lt;00:00, 38.88it/s]"
     }
    },
    "4b330302ccb246ebbbe68d8f7cc2b50b": {
     "model_module": "@jupyter-widgets/controls",
     "model_module_version": "1.5.0",
     "model_name": "HTMLModel",
     "state": {
      "_dom_classes": [],
      "_model_module": "@jupyter-widgets/controls",
      "_model_module_version": "1.5.0",
      "_model_name": "HTMLModel",
      "_view_count": null,
      "_view_module": "@jupyter-widgets/controls",
      "_view_module_version": "1.5.0",
      "_view_name": "HTMLView",
      "description": "",
      "description_tooltip": null,
      "layout": "IPY_MODEL_526caac0774e4d688f9c9d37efe0dc50",
      "placeholder": "​",
      "style": "IPY_MODEL_42ad66103daf4afba37e750c00b89c51",
      "value": " 192509/192509 [01:01&lt;00:00, 3034.01it/s]"
     }
    },
    "4dbf8a2737024ca288817b061ca005ee": {
     "model_module": "@jupyter-widgets/controls",
     "model_module_version": "1.5.0",
     "model_name": "HBoxModel",
     "state": {
      "_dom_classes": [],
      "_model_module": "@jupyter-widgets/controls",
      "_model_module_version": "1.5.0",
      "_model_name": "HBoxModel",
      "_view_count": null,
      "_view_module": "@jupyter-widgets/controls",
      "_view_module_version": "1.5.0",
      "_view_name": "HBoxView",
      "box_style": "",
      "children": [
       "IPY_MODEL_a4ec54f7d28c4a1890798e8b7168c680",
       "IPY_MODEL_9b9cdf2f67f84800981f69a4689ac128",
       "IPY_MODEL_4a7fafa00c8f4c09a4e674480bbdf8d7"
      ],
      "layout": "IPY_MODEL_00666afdb8464e929bf9e79c4c494a5b"
     }
    },
    "526caac0774e4d688f9c9d37efe0dc50": {
     "model_module": "@jupyter-widgets/base",
     "model_module_version": "1.2.0",
     "model_name": "LayoutModel",
     "state": {
      "_model_module": "@jupyter-widgets/base",
      "_model_module_version": "1.2.0",
      "_model_name": "LayoutModel",
      "_view_count": null,
      "_view_module": "@jupyter-widgets/base",
      "_view_module_version": "1.2.0",
      "_view_name": "LayoutView",
      "align_content": null,
      "align_items": null,
      "align_self": null,
      "border": null,
      "bottom": null,
      "display": null,
      "flex": null,
      "flex_flow": null,
      "grid_area": null,
      "grid_auto_columns": null,
      "grid_auto_flow": null,
      "grid_auto_rows": null,
      "grid_column": null,
      "grid_gap": null,
      "grid_row": null,
      "grid_template_areas": null,
      "grid_template_columns": null,
      "grid_template_rows": null,
      "height": null,
      "justify_content": null,
      "justify_items": null,
      "left": null,
      "margin": null,
      "max_height": null,
      "max_width": null,
      "min_height": null,
      "min_width": null,
      "object_fit": null,
      "object_position": null,
      "order": null,
      "overflow": null,
      "overflow_x": null,
      "overflow_y": null,
      "padding": null,
      "right": null,
      "top": null,
      "visibility": null,
      "width": null
     }
    },
    "567023947fd44a569f0476f56fddc2ce": {
     "model_module": "@jupyter-widgets/controls",
     "model_module_version": "1.5.0",
     "model_name": "ProgressStyleModel",
     "state": {
      "_model_module": "@jupyter-widgets/controls",
      "_model_module_version": "1.5.0",
      "_model_name": "ProgressStyleModel",
      "_view_count": null,
      "_view_module": "@jupyter-widgets/base",
      "_view_module_version": "1.2.0",
      "_view_name": "StyleView",
      "bar_color": null,
      "description_width": ""
     }
    },
    "60e8bc6c90a449c58f794013b45a55ec": {
     "model_module": "@jupyter-widgets/controls",
     "model_module_version": "1.5.0",
     "model_name": "HTMLModel",
     "state": {
      "_dom_classes": [],
      "_model_module": "@jupyter-widgets/controls",
      "_model_module_version": "1.5.0",
      "_model_name": "HTMLModel",
      "_view_count": null,
      "_view_module": "@jupyter-widgets/controls",
      "_view_module_version": "1.5.0",
      "_view_name": "HTMLView",
      "description": "",
      "description_tooltip": null,
      "layout": "IPY_MODEL_9a9d13ce35fe4dab989946cba318c495",
      "placeholder": "​",
      "style": "IPY_MODEL_f77f3a7e101846e6bae3b54786c9bdbb",
      "value": " 50/50 [00:00&lt;00:00, 111.82it/s]"
     }
    },
    "6a149a810d854d51ae68fa864dd888d7": {
     "model_module": "@jupyter-widgets/base",
     "model_module_version": "1.2.0",
     "model_name": "LayoutModel",
     "state": {
      "_model_module": "@jupyter-widgets/base",
      "_model_module_version": "1.2.0",
      "_model_name": "LayoutModel",
      "_view_count": null,
      "_view_module": "@jupyter-widgets/base",
      "_view_module_version": "1.2.0",
      "_view_name": "LayoutView",
      "align_content": null,
      "align_items": null,
      "align_self": null,
      "border": null,
      "bottom": null,
      "display": null,
      "flex": null,
      "flex_flow": null,
      "grid_area": null,
      "grid_auto_columns": null,
      "grid_auto_flow": null,
      "grid_auto_rows": null,
      "grid_column": null,
      "grid_gap": null,
      "grid_row": null,
      "grid_template_areas": null,
      "grid_template_columns": null,
      "grid_template_rows": null,
      "height": null,
      "justify_content": null,
      "justify_items": null,
      "left": null,
      "margin": null,
      "max_height": null,
      "max_width": null,
      "min_height": null,
      "min_width": null,
      "object_fit": null,
      "object_position": null,
      "order": null,
      "overflow": null,
      "overflow_x": null,
      "overflow_y": null,
      "padding": null,
      "right": null,
      "top": null,
      "visibility": null,
      "width": null
     }
    },
    "7cf701fd4e2f41cea13a1620c4becd42": {
     "model_module": "@jupyter-widgets/base",
     "model_module_version": "1.2.0",
     "model_name": "LayoutModel",
     "state": {
      "_model_module": "@jupyter-widgets/base",
      "_model_module_version": "1.2.0",
      "_model_name": "LayoutModel",
      "_view_count": null,
      "_view_module": "@jupyter-widgets/base",
      "_view_module_version": "1.2.0",
      "_view_name": "LayoutView",
      "align_content": null,
      "align_items": null,
      "align_self": null,
      "border": null,
      "bottom": null,
      "display": null,
      "flex": null,
      "flex_flow": null,
      "grid_area": null,
      "grid_auto_columns": null,
      "grid_auto_flow": null,
      "grid_auto_rows": null,
      "grid_column": null,
      "grid_gap": null,
      "grid_row": null,
      "grid_template_areas": null,
      "grid_template_columns": null,
      "grid_template_rows": null,
      "height": null,
      "justify_content": null,
      "justify_items": null,
      "left": null,
      "margin": null,
      "max_height": null,
      "max_width": null,
      "min_height": null,
      "min_width": null,
      "object_fit": null,
      "object_position": null,
      "order": null,
      "overflow": null,
      "overflow_x": null,
      "overflow_y": null,
      "padding": null,
      "right": null,
      "top": null,
      "visibility": null,
      "width": null
     }
    },
    "995d917a6e204611a680d9f2e9f20a26": {
     "model_module": "@jupyter-widgets/base",
     "model_module_version": "1.2.0",
     "model_name": "LayoutModel",
     "state": {
      "_model_module": "@jupyter-widgets/base",
      "_model_module_version": "1.2.0",
      "_model_name": "LayoutModel",
      "_view_count": null,
      "_view_module": "@jupyter-widgets/base",
      "_view_module_version": "1.2.0",
      "_view_name": "LayoutView",
      "align_content": null,
      "align_items": null,
      "align_self": null,
      "border": null,
      "bottom": null,
      "display": null,
      "flex": null,
      "flex_flow": null,
      "grid_area": null,
      "grid_auto_columns": null,
      "grid_auto_flow": null,
      "grid_auto_rows": null,
      "grid_column": null,
      "grid_gap": null,
      "grid_row": null,
      "grid_template_areas": null,
      "grid_template_columns": null,
      "grid_template_rows": null,
      "height": null,
      "justify_content": null,
      "justify_items": null,
      "left": null,
      "margin": null,
      "max_height": null,
      "max_width": null,
      "min_height": null,
      "min_width": null,
      "object_fit": null,
      "object_position": null,
      "order": null,
      "overflow": null,
      "overflow_x": null,
      "overflow_y": null,
      "padding": null,
      "right": null,
      "top": null,
      "visibility": null,
      "width": null
     }
    },
    "9a9d13ce35fe4dab989946cba318c495": {
     "model_module": "@jupyter-widgets/base",
     "model_module_version": "1.2.0",
     "model_name": "LayoutModel",
     "state": {
      "_model_module": "@jupyter-widgets/base",
      "_model_module_version": "1.2.0",
      "_model_name": "LayoutModel",
      "_view_count": null,
      "_view_module": "@jupyter-widgets/base",
      "_view_module_version": "1.2.0",
      "_view_name": "LayoutView",
      "align_content": null,
      "align_items": null,
      "align_self": null,
      "border": null,
      "bottom": null,
      "display": null,
      "flex": null,
      "flex_flow": null,
      "grid_area": null,
      "grid_auto_columns": null,
      "grid_auto_flow": null,
      "grid_auto_rows": null,
      "grid_column": null,
      "grid_gap": null,
      "grid_row": null,
      "grid_template_areas": null,
      "grid_template_columns": null,
      "grid_template_rows": null,
      "height": null,
      "justify_content": null,
      "justify_items": null,
      "left": null,
      "margin": null,
      "max_height": null,
      "max_width": null,
      "min_height": null,
      "min_width": null,
      "object_fit": null,
      "object_position": null,
      "order": null,
      "overflow": null,
      "overflow_x": null,
      "overflow_y": null,
      "padding": null,
      "right": null,
      "top": null,
      "visibility": null,
      "width": null
     }
    },
    "9b9cdf2f67f84800981f69a4689ac128": {
     "model_module": "@jupyter-widgets/controls",
     "model_module_version": "1.5.0",
     "model_name": "FloatProgressModel",
     "state": {
      "_dom_classes": [],
      "_model_module": "@jupyter-widgets/controls",
      "_model_module_version": "1.5.0",
      "_model_name": "FloatProgressModel",
      "_view_count": null,
      "_view_module": "@jupyter-widgets/controls",
      "_view_module_version": "1.5.0",
      "_view_name": "ProgressView",
      "bar_style": "success",
      "description": "",
      "description_tooltip": null,
      "layout": "IPY_MODEL_b9c4f9daed874b3abe1469c7b7916eef",
      "max": 83869,
      "min": 0,
      "orientation": "horizontal",
      "style": "IPY_MODEL_e45a46ebe03c40a9977d8331d1e90003",
      "value": 83869
     }
    },
    "a4ec54f7d28c4a1890798e8b7168c680": {
     "model_module": "@jupyter-widgets/controls",
     "model_module_version": "1.5.0",
     "model_name": "HTMLModel",
     "state": {
      "_dom_classes": [],
      "_model_module": "@jupyter-widgets/controls",
      "_model_module_version": "1.5.0",
      "_model_name": "HTMLModel",
      "_view_count": null,
      "_view_module": "@jupyter-widgets/controls",
      "_view_module_version": "1.5.0",
      "_view_name": "HTMLView",
      "description": "",
      "description_tooltip": null,
      "layout": "IPY_MODEL_7cf701fd4e2f41cea13a1620c4becd42",
      "placeholder": "​",
      "style": "IPY_MODEL_c58e6b3a00c242e2b8f29d59d5abe443",
      "value": "100%"
     }
    },
    "a7215d1af9e7431d9281f968b5229842": {
     "model_module": "@jupyter-widgets/controls",
     "model_module_version": "1.5.0",
     "model_name": "HBoxModel",
     "state": {
      "_dom_classes": [],
      "_model_module": "@jupyter-widgets/controls",
      "_model_module_version": "1.5.0",
      "_model_name": "HBoxModel",
      "_view_count": null,
      "_view_module": "@jupyter-widgets/controls",
      "_view_module_version": "1.5.0",
      "_view_name": "HBoxView",
      "box_style": "",
      "children": [
       "IPY_MODEL_277affd7e2d84ca28d9e10da5332a2f7",
       "IPY_MODEL_e7bdc9812a8c42b1919eedf5fc8cfe5a",
       "IPY_MODEL_4b330302ccb246ebbbe68d8f7cc2b50b"
      ],
      "layout": "IPY_MODEL_cbbdc6ac3b1448bba2e480d18385ebb0"
     }
    },
    "b9c4f9daed874b3abe1469c7b7916eef": {
     "model_module": "@jupyter-widgets/base",
     "model_module_version": "1.2.0",
     "model_name": "LayoutModel",
     "state": {
      "_model_module": "@jupyter-widgets/base",
      "_model_module_version": "1.2.0",
      "_model_name": "LayoutModel",
      "_view_count": null,
      "_view_module": "@jupyter-widgets/base",
      "_view_module_version": "1.2.0",
      "_view_name": "LayoutView",
      "align_content": null,
      "align_items": null,
      "align_self": null,
      "border": null,
      "bottom": null,
      "display": null,
      "flex": null,
      "flex_flow": null,
      "grid_area": null,
      "grid_auto_columns": null,
      "grid_auto_flow": null,
      "grid_auto_rows": null,
      "grid_column": null,
      "grid_gap": null,
      "grid_row": null,
      "grid_template_areas": null,
      "grid_template_columns": null,
      "grid_template_rows": null,
      "height": null,
      "justify_content": null,
      "justify_items": null,
      "left": null,
      "margin": null,
      "max_height": null,
      "max_width": null,
      "min_height": null,
      "min_width": null,
      "object_fit": null,
      "object_position": null,
      "order": null,
      "overflow": null,
      "overflow_x": null,
      "overflow_y": null,
      "padding": null,
      "right": null,
      "top": null,
      "visibility": null,
      "width": null
     }
    },
    "c58e6b3a00c242e2b8f29d59d5abe443": {
     "model_module": "@jupyter-widgets/controls",
     "model_module_version": "1.5.0",
     "model_name": "DescriptionStyleModel",
     "state": {
      "_model_module": "@jupyter-widgets/controls",
      "_model_module_version": "1.5.0",
      "_model_name": "DescriptionStyleModel",
      "_view_count": null,
      "_view_module": "@jupyter-widgets/base",
      "_view_module_version": "1.2.0",
      "_view_name": "StyleView",
      "description_width": ""
     }
    },
    "cbbdc6ac3b1448bba2e480d18385ebb0": {
     "model_module": "@jupyter-widgets/base",
     "model_module_version": "1.2.0",
     "model_name": "LayoutModel",
     "state": {
      "_model_module": "@jupyter-widgets/base",
      "_model_module_version": "1.2.0",
      "_model_name": "LayoutModel",
      "_view_count": null,
      "_view_module": "@jupyter-widgets/base",
      "_view_module_version": "1.2.0",
      "_view_name": "LayoutView",
      "align_content": null,
      "align_items": null,
      "align_self": null,
      "border": null,
      "bottom": null,
      "display": null,
      "flex": null,
      "flex_flow": null,
      "grid_area": null,
      "grid_auto_columns": null,
      "grid_auto_flow": null,
      "grid_auto_rows": null,
      "grid_column": null,
      "grid_gap": null,
      "grid_row": null,
      "grid_template_areas": null,
      "grid_template_columns": null,
      "grid_template_rows": null,
      "height": null,
      "justify_content": null,
      "justify_items": null,
      "left": null,
      "margin": null,
      "max_height": null,
      "max_width": null,
      "min_height": null,
      "min_width": null,
      "object_fit": null,
      "object_position": null,
      "order": null,
      "overflow": null,
      "overflow_x": null,
      "overflow_y": null,
      "padding": null,
      "right": null,
      "top": null,
      "visibility": null,
      "width": null
     }
    },
    "e45a46ebe03c40a9977d8331d1e90003": {
     "model_module": "@jupyter-widgets/controls",
     "model_module_version": "1.5.0",
     "model_name": "ProgressStyleModel",
     "state": {
      "_model_module": "@jupyter-widgets/controls",
      "_model_module_version": "1.5.0",
      "_model_name": "ProgressStyleModel",
      "_view_count": null,
      "_view_module": "@jupyter-widgets/base",
      "_view_module_version": "1.2.0",
      "_view_name": "StyleView",
      "bar_color": null,
      "description_width": ""
     }
    },
    "e7bdc9812a8c42b1919eedf5fc8cfe5a": {
     "model_module": "@jupyter-widgets/controls",
     "model_module_version": "1.5.0",
     "model_name": "FloatProgressModel",
     "state": {
      "_dom_classes": [],
      "_model_module": "@jupyter-widgets/controls",
      "_model_module_version": "1.5.0",
      "_model_name": "FloatProgressModel",
      "_view_count": null,
      "_view_module": "@jupyter-widgets/controls",
      "_view_module_version": "1.5.0",
      "_view_name": "ProgressView",
      "bar_style": "success",
      "description": "",
      "description_tooltip": null,
      "layout": "IPY_MODEL_199a58f63e7045ada618ec45b97e2c41",
      "max": 192509,
      "min": 0,
      "orientation": "horizontal",
      "style": "IPY_MODEL_567023947fd44a569f0476f56fddc2ce",
      "value": 192509
     }
    },
    "ed1969ad807643aca0c0c1e83a813954": {
     "model_module": "@jupyter-widgets/controls",
     "model_module_version": "1.5.0",
     "model_name": "HBoxModel",
     "state": {
      "_dom_classes": [],
      "_model_module": "@jupyter-widgets/controls",
      "_model_module_version": "1.5.0",
      "_model_name": "HBoxModel",
      "_view_count": null,
      "_view_module": "@jupyter-widgets/controls",
      "_view_module_version": "1.5.0",
      "_view_name": "HBoxView",
      "box_style": "",
      "children": [
       "IPY_MODEL_2dbdff00d10047dfa922b465358072a2",
       "IPY_MODEL_f361554e79d3400eaeafc40a12f72643",
       "IPY_MODEL_60e8bc6c90a449c58f794013b45a55ec"
      ],
      "layout": "IPY_MODEL_6a149a810d854d51ae68fa864dd888d7"
     }
    },
    "f111ae2060cf4e13ae02562ecfe971c1": {
     "model_module": "@jupyter-widgets/controls",
     "model_module_version": "1.5.0",
     "model_name": "ProgressStyleModel",
     "state": {
      "_model_module": "@jupyter-widgets/controls",
      "_model_module_version": "1.5.0",
      "_model_name": "ProgressStyleModel",
      "_view_count": null,
      "_view_module": "@jupyter-widgets/base",
      "_view_module_version": "1.2.0",
      "_view_name": "StyleView",
      "bar_color": null,
      "description_width": ""
     }
    },
    "f361554e79d3400eaeafc40a12f72643": {
     "model_module": "@jupyter-widgets/controls",
     "model_module_version": "1.5.0",
     "model_name": "FloatProgressModel",
     "state": {
      "_dom_classes": [],
      "_model_module": "@jupyter-widgets/controls",
      "_model_module_version": "1.5.0",
      "_model_name": "FloatProgressModel",
      "_view_count": null,
      "_view_module": "@jupyter-widgets/controls",
      "_view_module_version": "1.5.0",
      "_view_name": "ProgressView",
      "bar_style": "success",
      "description": "",
      "description_tooltip": null,
      "layout": "IPY_MODEL_1034faf48fc44736803e3bea45a0b9b2",
      "max": 50,
      "min": 0,
      "orientation": "horizontal",
      "style": "IPY_MODEL_f111ae2060cf4e13ae02562ecfe971c1",
      "value": 50
     }
    },
    "f5798ebcbd3e4d6b8d6053af47494d87": {
     "model_module": "@jupyter-widgets/controls",
     "model_module_version": "1.5.0",
     "model_name": "DescriptionStyleModel",
     "state": {
      "_model_module": "@jupyter-widgets/controls",
      "_model_module_version": "1.5.0",
      "_model_name": "DescriptionStyleModel",
      "_view_count": null,
      "_view_module": "@jupyter-widgets/base",
      "_view_module_version": "1.2.0",
      "_view_name": "StyleView",
      "description_width": ""
     }
    },
    "f77f3a7e101846e6bae3b54786c9bdbb": {
     "model_module": "@jupyter-widgets/controls",
     "model_module_version": "1.5.0",
     "model_name": "DescriptionStyleModel",
     "state": {
      "_model_module": "@jupyter-widgets/controls",
      "_model_module_version": "1.5.0",
      "_model_name": "DescriptionStyleModel",
      "_view_count": null,
      "_view_module": "@jupyter-widgets/base",
      "_view_module_version": "1.2.0",
      "_view_name": "StyleView",
      "description_width": ""
     }
    },
    "fb459bf1bf8843538cd33472e687af88": {
     "model_module": "@jupyter-widgets/controls",
     "model_module_version": "1.5.0",
     "model_name": "DescriptionStyleModel",
     "state": {
      "_model_module": "@jupyter-widgets/controls",
      "_model_module_version": "1.5.0",
      "_model_name": "DescriptionStyleModel",
      "_view_count": null,
      "_view_module": "@jupyter-widgets/base",
      "_view_module_version": "1.2.0",
      "_view_name": "StyleView",
      "description_width": ""
     }
    },
    "ff2cd6f99b944a489d729b00f73efdf9": {
     "model_module": "@jupyter-widgets/base",
     "model_module_version": "1.2.0",
     "model_name": "LayoutModel",
     "state": {
      "_model_module": "@jupyter-widgets/base",
      "_model_module_version": "1.2.0",
      "_model_name": "LayoutModel",
      "_view_count": null,
      "_view_module": "@jupyter-widgets/base",
      "_view_module_version": "1.2.0",
      "_view_name": "LayoutView",
      "align_content": null,
      "align_items": null,
      "align_self": null,
      "border": null,
      "bottom": null,
      "display": null,
      "flex": null,
      "flex_flow": null,
      "grid_area": null,
      "grid_auto_columns": null,
      "grid_auto_flow": null,
      "grid_auto_rows": null,
      "grid_column": null,
      "grid_gap": null,
      "grid_row": null,
      "grid_template_areas": null,
      "grid_template_columns": null,
      "grid_template_rows": null,
      "height": null,
      "justify_content": null,
      "justify_items": null,
      "left": null,
      "margin": null,
      "max_height": null,
      "max_width": null,
      "min_height": null,
      "min_width": null,
      "object_fit": null,
      "object_position": null,
      "order": null,
      "overflow": null,
      "overflow_x": null,
      "overflow_y": null,
      "padding": null,
      "right": null,
      "top": null,
      "visibility": null,
      "width": null
     }
    }
   }
  }
 },
 "nbformat": 4,
 "nbformat_minor": 0
}
