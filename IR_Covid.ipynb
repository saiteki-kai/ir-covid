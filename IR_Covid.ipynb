{
  "cells": [
    {
      "cell_type": "code",
      "execution_count": 10,
      "metadata": {
        "id": "r5eME1ykuzTu"
      },
      "outputs": [],
      "source": [
        "%%capture\n",
        "# install and import libraries\n",
        "%pip install ir_datasets\n",
        "%pip install demoji\n",
        "\n",
        "import re\n",
        "import numpy as np\n",
        "import pandas as pd\n",
        "import ir_datasets\n",
        "import demoji\n",
        "\n",
        "import nltk\n",
        "nltk.download('punkt')\n",
        "nltk.download('stopwords')\n",
        "nltk.download('wordnet')\n",
        "nltk.download('averaged_perceptron_tagger')\n",
        "nltk.download('maxent_ne_chunker')\n",
        "nltk.download('words')\n",
        "\n",
        "from wordcloud import WordCloud\n",
        "\n",
        "import matplotlib.pyplot as plt\n",
        "import seaborn as sns\n",
        "\n",
        "from IPython.display import display\n",
        "from tqdm.notebook import tqdm\n",
        "\n",
        "from collections import Counter\n",
        "\n",
        "from utils import *\n",
        "\n",
        "pd.set_option('max_colwidth', 800)"
      ]
    },
    {
      "cell_type": "code",
      "execution_count": 347,
      "metadata": {
        "colab": {
          "base_uri": "https://localhost:8080/"
        },
        "id": "X4m0UNvlxRN0",
        "outputId": "c82c8aa1-2663-4b99-de4c-991079d18f35"
      },
      "outputs": [
        {
          "name": "stdout",
          "output_type": "stream",
          "text": [
            "queries: 50, docs: 192509, qrels: 69318\n"
          ]
        }
      ],
      "source": [
        "# load dataset\n",
        "dataset = ir_datasets.load(\"cord19/trec-covid\")\n",
        "print(\n",
        "    f\"queries: {dataset.queries_count()}, docs: {dataset.docs_count()}, qrels: {dataset.qrels_count()}\"\n",
        ")\n"
      ]
    },
    {
      "cell_type": "markdown",
      "metadata": {
        "id": "Jfk8csN4xuPT"
      },
      "source": [
        "# Part 1: Analysis of Queries and Documents"
      ]
    },
    {
      "cell_type": "code",
      "execution_count": 451,
      "metadata": {
        "id": "Y-vHi20Bv1Vt"
      },
      "outputs": [],
      "source": [
        "%%capture\n",
        "# convert the collection in a dataframe\n",
        "queries = pd.DataFrame(dataset.queries_iter())\n",
        "docs = pd.DataFrame(dataset.docs_iter())\n",
        "qrels = pd.DataFrame(dataset.qrels_iter())\n",
        "\n",
        "docs['date'] = pd.to_datetime(docs['date'])"
      ]
    },
    {
      "cell_type": "code",
      "execution_count": null,
      "metadata": {
        "colab": {
          "base_uri": "https://localhost:8080/",
          "height": 1000
        },
        "id": "gZGDFm1XYovW",
        "outputId": "84a211cf-17dd-4965-ac36-94568705c6af"
      },
      "outputs": [],
      "source": [
        "display(queries.sample(5))\n",
        "display(docs.sample(5))\n",
        "display(qrels.sample(5))"
      ]
    },
    {
      "cell_type": "markdown",
      "metadata": {},
      "source": [
        "## Analysis of Documents"
      ]
    },
    {
      "cell_type": "markdown",
      "metadata": {},
      "source": [
        "### Filter Covid documents"
      ]
    },
    {
      "cell_type": "markdown",
      "metadata": {},
      "source": [
        "Visualize years distribution"
      ]
    },
    {
      "cell_type": "code",
      "execution_count": null,
      "metadata": {},
      "outputs": [],
      "source": [
        "years = docs[\"date\"].dt.year\n",
        "years.dropna(inplace=True)\n",
        "years = years.astype(int)\n",
        "\n",
        "u_years, u_counts = np.unique(years, return_counts=True)\n",
        "\n",
        "fig, (ax1, ax2) = plt.subplots(2, 1, figsize=(25, 5))\n",
        "\n",
        "sns.barplot(x=u_years, y=u_counts, ax=ax1)\n",
        "ax1.set_xticklabels(ax1.get_xticklabels(), rotation=45)\n",
        "\n",
        "sns.boxplot(x=years, ax=ax2, orient=\"h\")\n",
        "ax2.margins(0)\n",
        "\n",
        "fig.tight_layout()"
      ]
    },
    {
      "cell_type": "code",
      "execution_count": 452,
      "metadata": {},
      "outputs": [
        {
          "data": {
            "application/vnd.jupyter.widget-view+json": {
              "model_id": "af9446c88d5b408aaeb2335f2b44f7a1",
              "version_major": 2,
              "version_minor": 0
            },
            "text/plain": [
              "  0%|          | 0/192509 [00:00<?, ?it/s]"
            ]
          },
          "metadata": {},
          "output_type": "display_data"
        },
        {
          "name": "stdout",
          "output_type": "stream",
          "text": [
            "84048, 44%\n"
          ]
        }
      ],
      "source": [
        "keywords = [\n",
        "    \"covid 19\",\n",
        "    \"covid-19\",\n",
        "    \"covid19\",\n",
        "    \"sars-cov-2\",\n",
        "    \"sarscov2\",\n",
        "    \"sars cov 2\",\n",
        "    \"2019-nCoV\",\n",
        "    \"Wuhan virus\",\n",
        "    \"Chinese flu\",\n",
        "    \"COronaVIrusDisease\",\n",
        "]\n",
        "\n",
        "keep = set()\n",
        "for index, row in tqdm(docs.iterrows(), total=len(docs)):\n",
        "    text = \" \".join([row[\"title\"], row[\"abstract\"]])\n",
        "    if any(re.findall(r\"|\".join(keywords), text, re.IGNORECASE)):\n",
        "        keep.add(index)\n",
        "\n",
        "    # the few documents without date contain at least one keyword\n",
        "    if row[\"date\"] and row[\"date\"] is not pd.NaT:\n",
        "        if row[\"date\"].year >= 2019:\n",
        "            if any(\n",
        "                re.findall(\n",
        "                    r\"coronavirus\",\n",
        "                    \" \".join([row[\"title\"], row[\"abstract\"]]),\n",
        "                    re.IGNORECASE,\n",
        "                )\n",
        "            ):\n",
        "                keep.add(index)\n",
        "\n",
        "print(f\"{len(keep)}, {round(len(keep) / len(docs) * 100)}%\")\n",
        "\n",
        "docs = docs.iloc[list(keep)]"
      ]
    },
    {
      "cell_type": "markdown",
      "metadata": {},
      "source": [
        "### Duplicates"
      ]
    },
    {
      "cell_type": "code",
      "execution_count": 453,
      "metadata": {},
      "outputs": [
        {
          "name": "stdout",
          "output_type": "stream",
          "text": [
            "duplicated rows: 179, 0.21%\n"
          ]
        }
      ],
      "source": [
        "duplicated = sum(docs.duplicated())\n",
        "duplicated_perc = duplicated / len(docs) * 100\n",
        "print(f\"duplicated rows: {duplicated}, {duplicated_perc:.2f}%\")"
      ]
    },
    {
      "cell_type": "code",
      "execution_count": 458,
      "metadata": {},
      "outputs": [],
      "source": [
        "def print_duplicates(docs, columns=None):\n",
        "  if columns is None:\n",
        "    columns = docs.columns\n",
        "\n",
        "  for col in columns:\n",
        "    d = sum(docs[col].duplicated())\n",
        "    p = d / len(docs) * 100\n",
        "    print(f\"{col:10} {d:5} ({p:.2f}%)\")"
      ]
    },
    {
      "cell_type": "code",
      "execution_count": 454,
      "metadata": {},
      "outputs": [
        {
          "name": "stdout",
          "output_type": "stream",
          "text": [
            "Duplicates for each column:\n",
            "doc_id      1214 (1.44%)\n",
            "title      23270 (27.69%)\n",
            "doi        42094 (50.08%)\n",
            "date       83589 (99.45%)\n",
            "abstract   44984 (53.52%)\n"
          ]
        }
      ],
      "source": [
        "print(\"Duplicates for each column:\")\n",
        "print_duplicates(docs)"
      ]
    },
    {
      "cell_type": "code",
      "execution_count": 455,
      "metadata": {},
      "outputs": [
        {
          "data": {
            "text/html": [
              "<div>\n",
              "<style scoped>\n",
              "    .dataframe tbody tr th:only-of-type {\n",
              "        vertical-align: middle;\n",
              "    }\n",
              "\n",
              "    .dataframe tbody tr th {\n",
              "        vertical-align: top;\n",
              "    }\n",
              "\n",
              "    .dataframe thead th {\n",
              "        text-align: right;\n",
              "    }\n",
              "</style>\n",
              "<table border=\"1\" class=\"dataframe\">\n",
              "  <thead>\n",
              "    <tr style=\"text-align: right;\">\n",
              "      <th></th>\n",
              "      <th>doc_id</th>\n",
              "      <th>title</th>\n",
              "      <th>doi</th>\n",
              "      <th>date</th>\n",
              "      <th>abstract</th>\n",
              "    </tr>\n",
              "  </thead>\n",
              "  <tbody>\n",
              "    <tr>\n",
              "      <th>29885</th>\n",
              "      <td>uym826bh</td>\n",
              "      <td>First Case of Covid-19 in the United States.</td>\n",
              "      <td>10.1056/nejmc2004794</td>\n",
              "      <td>2020-04-22</td>\n",
              "      <td></td>\n",
              "    </tr>\n",
              "    <tr>\n",
              "      <th>34884</th>\n",
              "      <td>uym826bh</td>\n",
              "      <td>First Case of Covid-19 in the United States. Reply.</td>\n",
              "      <td>10.1056/nejmc2004794</td>\n",
              "      <td>2020-04-22</td>\n",
              "      <td></td>\n",
              "    </tr>\n",
              "    <tr>\n",
              "      <th>39326</th>\n",
              "      <td>uym826bh</td>\n",
              "      <td>First Case of Covid-19 in the United States.</td>\n",
              "      <td>10.1056/nejmc2004794</td>\n",
              "      <td>2020-04-22</td>\n",
              "      <td></td>\n",
              "    </tr>\n",
              "    <tr>\n",
              "      <th>48825</th>\n",
              "      <td>uym826bh</td>\n",
              "      <td>First Case of Covid-19 in the United States.</td>\n",
              "      <td>10.1056/nejmc2004794</td>\n",
              "      <td>2020-04-22</td>\n",
              "      <td></td>\n",
              "    </tr>\n",
              "    <tr>\n",
              "      <th>50121</th>\n",
              "      <td>uym826bh</td>\n",
              "      <td>First Case of Covid-19 in the United States.</td>\n",
              "      <td>10.1056/nejmc2004794</td>\n",
              "      <td>2020-04-22</td>\n",
              "      <td></td>\n",
              "    </tr>\n",
              "    <tr>\n",
              "      <th>58677</th>\n",
              "      <td>uym826bh</td>\n",
              "      <td>First Case of Covid-19 in the United States.</td>\n",
              "      <td>10.1056/nejmc2004794</td>\n",
              "      <td>2020-04-22</td>\n",
              "      <td></td>\n",
              "    </tr>\n",
              "  </tbody>\n",
              "</table>\n",
              "</div>"
            ],
            "text/plain": [
              "         doc_id                                                title  \\\n",
              "29885  uym826bh         First Case of Covid-19 in the United States.   \n",
              "34884  uym826bh  First Case of Covid-19 in the United States. Reply.   \n",
              "39326  uym826bh         First Case of Covid-19 in the United States.   \n",
              "48825  uym826bh         First Case of Covid-19 in the United States.   \n",
              "50121  uym826bh         First Case of Covid-19 in the United States.   \n",
              "58677  uym826bh         First Case of Covid-19 in the United States.   \n",
              "\n",
              "                        doi       date abstract  \n",
              "29885  10.1056/nejmc2004794 2020-04-22           \n",
              "34884  10.1056/nejmc2004794 2020-04-22           \n",
              "39326  10.1056/nejmc2004794 2020-04-22           \n",
              "48825  10.1056/nejmc2004794 2020-04-22           \n",
              "50121  10.1056/nejmc2004794 2020-04-22           \n",
              "58677  10.1056/nejmc2004794 2020-04-22           "
            ]
          },
          "execution_count": 455,
          "metadata": {},
          "output_type": "execute_result"
        }
      ],
      "source": [
        "docs[docs[\"doc_id\"] == \"uym826bh\"]"
      ]
    },
    {
      "cell_type": "code",
      "execution_count": 456,
      "metadata": {},
      "outputs": [
        {
          "data": {
            "text/html": [
              "<div>\n",
              "<style scoped>\n",
              "    .dataframe tbody tr th:only-of-type {\n",
              "        vertical-align: middle;\n",
              "    }\n",
              "\n",
              "    .dataframe tbody tr th {\n",
              "        vertical-align: top;\n",
              "    }\n",
              "\n",
              "    .dataframe thead th {\n",
              "        text-align: right;\n",
              "    }\n",
              "</style>\n",
              "<table border=\"1\" class=\"dataframe\">\n",
              "  <thead>\n",
              "    <tr style=\"text-align: right;\">\n",
              "      <th></th>\n",
              "      <th>doc_id</th>\n",
              "      <th>title</th>\n",
              "      <th>doi</th>\n",
              "      <th>date</th>\n",
              "      <th>abstract</th>\n",
              "    </tr>\n",
              "  </thead>\n",
              "  <tbody>\n",
              "    <tr>\n",
              "      <th>29885</th>\n",
              "      <td>uym826bh</td>\n",
              "      <td>First Case of Covid-19 in the United States.</td>\n",
              "      <td>10.1056/nejmc2004794</td>\n",
              "      <td>2020-04-22</td>\n",
              "      <td></td>\n",
              "    </tr>\n",
              "    <tr>\n",
              "      <th>34884</th>\n",
              "      <td>uym826bh</td>\n",
              "      <td>First Case of Covid-19 in the United States. Reply.</td>\n",
              "      <td>10.1056/nejmc2004794</td>\n",
              "      <td>2020-04-22</td>\n",
              "      <td></td>\n",
              "    </tr>\n",
              "  </tbody>\n",
              "</table>\n",
              "</div>"
            ],
            "text/plain": [
              "         doc_id                                                title  \\\n",
              "29885  uym826bh         First Case of Covid-19 in the United States.   \n",
              "34884  uym826bh  First Case of Covid-19 in the United States. Reply.   \n",
              "\n",
              "                        doi       date abstract  \n",
              "29885  10.1056/nejmc2004794 2020-04-22           \n",
              "34884  10.1056/nejmc2004794 2020-04-22           "
            ]
          },
          "execution_count": 456,
          "metadata": {},
          "output_type": "execute_result"
        }
      ],
      "source": [
        "docs.drop_duplicates(inplace=True)\n",
        "docs[docs[\"doc_id\"] == \"uym826bh\"]"
      ]
    },
    {
      "cell_type": "code",
      "execution_count": 460,
      "metadata": {},
      "outputs": [
        {
          "name": "stdout",
          "output_type": "stream",
          "text": [
            "doc_id      1035 (1.23%)\n",
            "title      23091 (27.53%)\n",
            "doi        41915 (49.98%)\n",
            "abstract   44805 (53.42%)\n"
          ]
        }
      ],
      "source": [
        "print_duplicates(docs, columns=[\"doc_id\", \"title\", \"doi\", \"abstract\"])"
      ]
    },
    {
      "cell_type": "code",
      "execution_count": 473,
      "metadata": {},
      "outputs": [
        {
          "name": "stdout",
          "output_type": "stream",
          "text": [
            "Duplicates (title, abstract): 17973 (21.43%)\n",
            "Duplicates (doc_id, title, abstract): 198 (0.24%)\n"
          ]
        }
      ],
      "source": [
        "duplicated = sum(docs.duplicated([\"title\", \"abstract\"]))\n",
        "print(f\"Duplicates (title, abstract): {duplicated} ({duplicated / len(docs) * 100:.2f}%)\")\n",
        "\n",
        "duplicated = sum(docs.duplicated([\"doc_id\", \"title\", \"abstract\"]))\n",
        "print(f\"Duplicates (doc_id, title, abstract): {duplicated} ({duplicated / len(docs) * 100:.2f}%)\")"
      ]
    },
    {
      "cell_type": "markdown",
      "metadata": {},
      "source": [
        "### Find Emojis"
      ]
    },
    {
      "cell_type": "code",
      "execution_count": 481,
      "metadata": {},
      "outputs": [
        {
          "data": {
            "application/vnd.jupyter.widget-view+json": {
              "model_id": "be219456f37e4dd0899e5233a03b5598",
              "version_major": 2,
              "version_minor": 0
            },
            "text/plain": [
              "  0%|          | 0/83869 [00:00<?, ?it/s]"
            ]
          },
          "metadata": {},
          "output_type": "display_data"
        },
        {
          "data": {
            "text/plain": [
              "Counter({'®': 287, '™': 73, '♦': 3, '©': 86, '⬇': 1, '▪': 7})"
            ]
          },
          "execution_count": 481,
          "metadata": {},
          "output_type": "execute_result"
        }
      ],
      "source": [
        "emojis = []\n",
        "for index, row in tqdm(docs.iterrows(), total=len(docs)):\n",
        "    e1 = demoji.findall(row[\"title\"])\n",
        "    if e1:\n",
        "      emojis.extend(list(e1.keys()))\n",
        "\n",
        "    e2 = demoji.findall(row[\"abstract\"])\n",
        "    if e2:\n",
        "      emojis.extend(list(e2.keys()))\n",
        "\n",
        "Counter(emojis)"
      ]
    },
    {
      "cell_type": "markdown",
      "metadata": {
        "id": "Xysu3Q2ijJwz"
      },
      "source": [
        "## Preprocessing"
      ]
    },
    {
      "cell_type": "markdown",
      "metadata": {},
      "source": [
        "Apply the preprocess on the documents and the queries"
      ]
    },
    {
      "cell_type": "code",
      "execution_count": null,
      "metadata": {
        "colab": {
          "base_uri": "https://localhost:8080/",
          "height": 49,
          "referenced_widgets": [
            "2417e17b9f404dd6ba198463eb90e913",
            "36c859d3131f45a3b0d3af38f9bd5ffd",
            "8495991fa6264a38969b046a8cd5ec0f",
            "b28290eda6ec49028ae7ef8202889201",
            "a1f32b886af1471ca97c063c80c433e5",
            "efec88ca8b524f9e91ee7fb4851cc49f",
            "dc981ef5f3564b089d5ca0c3a5f50f9e",
            "23c39a94b61946c2b08c94a195021a3f",
            "d21c08f49fc744e59a0ae2a8818c14ed",
            "426fe655a447428189a81a34731902b8",
            "12093b93dc62400ab07d6fc57a77f359"
          ]
        },
        "id": "FZTME-F-ZGVo",
        "outputId": "4aec4692-be1f-4b1d-a003-75ae06231412"
      },
      "outputs": [],
      "source": [
        "# global lists of tokens for wordclouds\n",
        "titles = []\n",
        "abstracts = []\n",
        "\n",
        "docs_preprocessed = docs.copy()\n",
        "for index, row in tqdm(docs.iterrows(), total=len(docs)):\n",
        "    title_tokens = preprocess(row[\"title\"])\n",
        "    abstract_tokens = preprocess(row[\"abstract\"])\n",
        "\n",
        "    docs_preprocessed.loc[index, \"title\"] = \" \".join(title_tokens)\n",
        "    docs_preprocessed.loc[index, \"abstract\"] = \" \".join(abstract_tokens)\n",
        "\n",
        "    titles.extend(title_tokens)\n",
        "    abstracts.extend(abstract_tokens)\n",
        "\n",
        "docs_preprocessed.to_pickle(\"data/docs_processed.pkl\")\n"
      ]
    },
    {
      "cell_type": "code",
      "execution_count": null,
      "metadata": {},
      "outputs": [],
      "source": [
        "queries_preprocessed = queries.copy()\n",
        "for index, row in tqdm(queries.iterrows(), total=len(queries)):\n",
        "    queries_preprocessed.loc[index, \"title\"] = \" \".join(preprocess(row[\"title\"]))\n",
        "    queries_preprocessed.loc[index, \"description\"] = \" \".join(\n",
        "        preprocess(row[\"description\"])\n",
        "    )\n",
        "    queries_preprocessed.loc[index, \"narrative\"] = \" \".join(\n",
        "        preprocess(row[\"narrative\"])\n",
        "    )\n",
        "\n",
        "queries_preprocessed.to_pickle(\"data/queries_processed.pkl\")\n"
      ]
    },
    {
      "cell_type": "markdown",
      "metadata": {
        "id": "5YOYkue-ZG7c"
      },
      "source": [
        "## Word Cloud"
      ]
    },
    {
      "cell_type": "code",
      "execution_count": null,
      "metadata": {
        "colab": {
          "base_uri": "https://localhost:8080/",
          "height": 521
        },
        "id": "mlqkZ0EwZhjZ",
        "outputId": "1ee204a0-30a7-4343-d6f0-4b93d17daaa0"
      },
      "outputs": [],
      "source": [
        "counter_title = Counter(titles)\n",
        "counter_abstract = Counter(abstracts)\n",
        "\n",
        "wc1 = WordCloud(collocations=False, background_color=\"white\", width=600, height=400)\n",
        "wc2 = WordCloud(collocations=False, background_color=\"white\", width=600, height=400)\n",
        "\n",
        "wc_titles = wc1.fit_words(counter_title)\n",
        "wc_abstracts = wc2.fit_words(counter_abstract)\n",
        "\n",
        "wc_titles.to_file(\"out/wc_titles.png\")\n",
        "wc_abstracts.to_file(\"out/wc_abstracts.png\")\n",
        "\n",
        "fig, (ax1, ax2) = plt.subplots(1, 2, figsize=(20, 8))\n",
        "\n",
        "ax1.imshow(wc_titles)\n",
        "ax1.set_title(\"Titles\", fontsize=20)\n",
        "ax1.axis(\"off\")\n",
        "\n",
        "ax2.imshow(wc_abstracts)\n",
        "ax2.set_title(\"Abstracts\", fontsize=20)\n",
        "ax2.axis(\"off\")\n",
        "\n",
        "fig.tight_layout()\n"
      ]
    },
    {
      "cell_type": "markdown",
      "metadata": {
        "id": "kvKYrnM2gElN"
      },
      "source": [
        "## Token Statistics"
      ]
    },
    {
      "cell_type": "code",
      "execution_count": null,
      "metadata": {
        "colab": {
          "base_uri": "https://localhost:8080/"
        },
        "id": "cDHoGMEdgDln",
        "outputId": "4f0284b7-a513-4a03-981f-405830a24dad"
      },
      "outputs": [],
      "source": [
        "print(\"\\n[Number of Tokens]\")\n",
        "print(\"Titles:\", len(counter_title.keys()))\n",
        "print(\"Abstracts:\", len(counter_abstract.keys()))\n",
        "\n",
        "k = 10\n",
        "top_k_titles = [word for word, _ in counter_title.most_common(k)]\n",
        "top_k_abstracts = [word for word, _ in counter_abstract.most_common(k)]\n",
        "\n",
        "print(f\"\\n[Top {k} Most Common Tokens]\")\n",
        "print(f\"Titles: {', '.join(top_k_titles)}\")\n",
        "print(f\"Abstracts: {', '.join(top_k_abstracts)}\")\n"
      ]
    },
    {
      "cell_type": "code",
      "execution_count": 16,
      "metadata": {
        "colab": {
          "base_uri": "https://localhost:8080/",
          "height": 441
        },
        "id": "B7GLmQqZhSSj",
        "outputId": "9b1f2241-e731-4ec0-fca0-c75144b0687f"
      },
      "outputs": [
        {
          "data": {
            "image/png": "[encoded data removed]",
            "text/plain": [
              "<Figure size 1440x432 with 2 Axes>"
            ]
          },
          "metadata": {
            "needs_background": "light"
          },
          "output_type": "display_data"
        }
      ],
      "source": [
        "import seaborn as sns\n",
        "import matplotlib.pyplot as plt\n",
        "\n",
        "k = 30\n",
        "\n",
        "common_titles = dict(counter_title.most_common(k))\n",
        "x_title = list(common_titles.keys())\n",
        "y_title = list(common_titles.values())\n",
        "\n",
        "common_abstracts = dict(counter_abstract.most_common(k))\n",
        "x_abstract = list(common_abstracts.keys())\n",
        "y_abstract = list(common_abstracts.values())\n",
        "\n",
        "fig, (ax1, ax2) = plt.subplots(2, 1, figsize=(20, 6))\n",
        "sns.barplot(x=x_title, y=y_title, ax=ax1)\n",
        "sns.barplot(x=x_abstract, y=y_abstract, ax=ax2)\n",
        "ax1.set_xticklabels(ax1.get_xticklabels(), rotation=30)\n",
        "ax2.set_xticklabels(ax2.get_xticklabels(), rotation=30)\n",
        "fig.tight_layout()\n"
      ]
    },
    {
      "cell_type": "markdown",
      "metadata": {
        "id": "x6PRw71PxzRa"
      },
      "source": [
        "# Part 2: Basic Search"
      ]
    },
    {
      "cell_type": "markdown",
      "metadata": {
        "id": "_Ljj27Iik6Dh"
      },
      "source": [
        "## Preprocessing of the query\n",
        "Eliminate stopwords, remove punctuation. \n",
        "You can also perform any other pre-processing step.\n",
        "\n",
        "\n",
        "* Lowcase\n",
        "* Remove punctuation\n",
        "* Remove extra whitespaces\n",
        "* Normalize covid words\n",
        "* Stop words\n",
        "* Lemmatization\n",
        "* Remove HTML tags\n",
        "* Remove URLs\n",
        "* Remove emojis\n",
        "\n"
      ]
    },
    {
      "cell_type": "code",
      "execution_count": 482,
      "metadata": {
        "id": "TlFpIXU6l2hV"
      },
      "outputs": [],
      "source": [
        "test_query_old = [\n",
        "    \"CoVid\",\n",
        "    \"covid    19\",\n",
        "    \"covid-19  influenza\",\n",
        "    \"covid, influenza\",\n",
        "    \"a covid flue is going on\",\n",
        "    \"-term1 +term2\",\n",
        "    \"{term1 term2}\",\n",
        "    \"term1^2.3\",\n",
        "    \"title:term1\",\n",
        "    \"+title:term1\",\n",
        "    \"title:(term1 term2)^2.3\",\n",
        "    \"term1 -title:term2\",\n",
        "    '\"term1 term2\"',\n",
        "    '+\"term1 term2\"',\n",
        "    '\"term1 term2\"~n',\n",
        "]\n",
        "\n",
        "check_query_old = [\n",
        "    \"covid19\",\n",
        "    \"covid19\",\n",
        "    \"covid19 influenza\",\n",
        "    \"covid19 influenza\",\n",
        "    \"covid19 flue go\",\n",
        "    \"-term1 +term2\",\n",
        "    \"{ term1 term2 }\",\n",
        "    \"term1^2.3\",\n",
        "    \"title : term1\",\n",
        "    \"+title : term1\",\n",
        "    \"title : ( term1 term2 ) ^2.3\",\n",
        "    \"term1 -title : term2\",\n",
        "    '\" term1 term2 \"',\n",
        "    '+ \" term1 term2 \"',\n",
        "    '\" term1 term2 \" ~n',\n",
        "]\n"
      ]
    },
    {
      "cell_type": "code",
      "execution_count": 483,
      "metadata": {
        "id": "FJyO4n9uC8V8"
      },
      "outputs": [],
      "source": [
        "test_query = [\n",
        "    \"CoVid\",\n",
        "    \"covid    19\",\n",
        "    \"covid-19  influenza\",\n",
        "    \"covid, influenza\",\n",
        "    \"a covid flue is going on\",\n",
        "    \"-term1 +term2\",\n",
        "    \"{term1 term2}\",\n",
        "    \"term1^2.3\",\n",
        "    \"title:term1\",\n",
        "    \"+title:term1\",\n",
        "    \"title:(term1 term2)^2.3\",\n",
        "    \"term1 -title:term2\",\n",
        "    '\"term1 term2\"',\n",
        "    '+\"term1 term2\"',\n",
        "    '\"term1 term2\"~n',\n",
        "]\n",
        "\n",
        "check_query = [\n",
        "    \"covid\",\n",
        "    \"covid 19\",\n",
        "    \"covid-19 influenza\",\n",
        "    \"covid influenza\",\n",
        "    \"covid flue go\",\n",
        "    \"-term1 +term2\",\n",
        "    \"{ term1 term2 }\",\n",
        "    \"term1^2.3\",\n",
        "    \"title : term1\",\n",
        "    \"+title : term1\",\n",
        "    \"title : ( term1 term2 ) ^2.3\",\n",
        "    \"term1 -title : term2\",\n",
        "    '\" term1 term2 \"',\n",
        "    '+ \" term1 term2 \"',\n",
        "    '\" term1 term2 \" ~n',\n",
        "]\n"
      ]
    },
    {
      "cell_type": "code",
      "execution_count": 484,
      "metadata": {
        "colab": {
          "base_uri": "https://localhost:8080/"
        },
        "id": "DryDPDV1lz7K",
        "outputId": "2cd35817-7a4f-4d6b-e6c2-b0e510a6c6fd"
      },
      "outputs": [
        {
          "name": "stdout",
          "output_type": "stream",
          "text": [
            "['covid', 'covid 19', 'covid19 influenza', 'covid influenza', 'covid flue go', 'term1 term2', 'term1 term2', 'term123', 'titleterm1', 'titleterm1', 'titleterm1 term223', 'term1 titleterm2', 'term1 term2', 'term1 term2', 'term1 term2n']\n"
          ]
        }
      ],
      "source": [
        "preprocessed_query = []\n",
        "for query in test_query_old:\n",
        "    p = \" \".join(preprocess(query, covid_normalization=False))\n",
        "    preprocessed_query.append(p)\n",
        "print(preprocessed_query)\n"
      ]
    },
    {
      "cell_type": "code",
      "execution_count": null,
      "metadata": {
        "id": "7kULdDA8IDjy"
      },
      "outputs": [],
      "source": [
        "assert check_query == preprocessed_query"
      ]
    },
    {
      "cell_type": "code",
      "execution_count": 486,
      "metadata": {
        "colab": {
          "base_uri": "https://localhost:8080/"
        },
        "id": "tJgqLK8pE432",
        "outputId": "2a7c97ca-1cb6-4244-fec1-4681d64f41e3"
      },
      "outputs": [
        {
          "name": "stdout",
          "output_type": "stream",
          "text": [
            "['covid', 'covid 19', 'covid19 influenza', 'covid influenza', 'covid flue go', 'term1 term2', 'term1 term2', 'term123', 'titleterm1', 'titleterm1', 'titleterm1 term223', 'term1 titleterm2', 'term1 term2', 'term1 term2', 'term1 term2n']\n"
          ]
        }
      ],
      "source": [
        "preprocessed_query_old = []\n",
        "for query in test_query_old:\n",
        "    p = \" \".join(preprocess(query, covid_normalization=False))\n",
        "    preprocessed_query_old.append(p)\n",
        "print(preprocessed_query_old)"
      ]
    },
    {
      "cell_type": "code",
      "execution_count": null,
      "metadata": {
        "id": "d5EEKV-dE3vX"
      },
      "outputs": [],
      "source": [
        "assert check_query_old == preprocessed_query_old"
      ]
    },
    {
      "cell_type": "markdown",
      "metadata": {
        "id": "u_L9-hNry4Qe"
      },
      "source": [
        "## Index the documents\n",
        "\n",
        "Use PyTerrier to index the documents.\n",
        "\n",
        "You can choose freely the indexing configurations.\n",
        "You can index either the document’s titles, abstract, or both."
      ]
    },
    {
      "cell_type": "markdown",
      "metadata": {
        "id": "SKQyS_7mpL9X"
      },
      "source": [
        "### Libraries"
      ]
    },
    {
      "cell_type": "code",
      "execution_count": 488,
      "metadata": {
        "colab": {
          "base_uri": "https://localhost:8080/"
        },
        "id": "f7gT0XzgpN10",
        "outputId": "a59be62a-9970-48ce-b41e-09667ac1210c"
      },
      "outputs": [],
      "source": [
        "%%capture\n",
        "%pip install python-terrier\n",
        "\n",
        "import pyterrier as pt\n",
        "import pandas as pd\n",
        "import numpy as np"
      ]
    },
    {
      "cell_type": "markdown",
      "metadata": {
        "id": "EFyMlqvDA1Qp"
      },
      "source": [
        "### Data"
      ]
    },
    {
      "cell_type": "code",
      "execution_count": 489,
      "metadata": {},
      "outputs": [],
      "source": [
        "docs_preprocessed = pd.read_pickle(\"data/docs_processed.pkl\")"
      ]
    },
    {
      "cell_type": "code",
      "execution_count": 490,
      "metadata": {},
      "outputs": [
        {
          "name": "stdout",
          "output_type": "stream",
          "text": [
            "The dataset has 0 rows of ID empty\n",
            "The dataset has 8 rows of TITLE empty\n",
            "The dataset has 17 rows of DATE empty\n",
            "The dataset has 34043 rows of ABSTRACT empty\n",
            "The dataset has 40903 rows of DOI empty\n",
            "\n",
            "docs with empty title: 3palbki5, j633bvoz, vsypmeqd, 6zjdj8w7, o01w28gb, wu00wdlp, idhr2upe, npt8i9bc\n"
          ]
        }
      ],
      "source": [
        "empty_titles = docs_preprocessed[\"title\"] == \"\"\n",
        "\n",
        "print(\n",
        "    \"The dataset has {} rows of ID empty\".format(\n",
        "        len(docs_preprocessed[docs_preprocessed[\"doc_id\"] == \"\"])\n",
        "    )\n",
        ")\n",
        "print(\n",
        "    \"The dataset has {} rows of TITLE empty\".format(\n",
        "        len(docs_preprocessed[empty_titles])\n",
        "    )\n",
        ")\n",
        "print(\n",
        "    \"The dataset has {} rows of DATE empty\".format(\n",
        "        len(docs_preprocessed[docs_preprocessed[\"date\"].isnull()])\n",
        "    )\n",
        ")\n",
        "print(\n",
        "    \"The dataset has {} rows of ABSTRACT empty\".format(\n",
        "        len(docs_preprocessed[docs_preprocessed[\"abstract\"] == \"\"])\n",
        "    )\n",
        ")\n",
        "print(\n",
        "    \"The dataset has {} rows of DOI empty\".format(\n",
        "        len(docs_preprocessed[docs_preprocessed[\"doi\"] == \"\"])\n",
        "    )\n",
        ")\n",
        "\n",
        "print(\"\\ndocs with empty title: \" + \", \".join(docs_preprocessed[empty_titles][\"doc_id\"]))"
      ]
    },
    {
      "cell_type": "code",
      "execution_count": null,
      "metadata": {
        "id": "HdmmfMirBFFp"
      },
      "outputs": [],
      "source": [
        "docs_preprocessed[\"title\"].replace({\"\": \"Vuoto\"}, inplace=True)\n",
        "docs_preprocessed[\"abstract\"].replace({\"\": \"Vuoto\"}, inplace=True)\n",
        "docs_preprocessed[\"doi\"].replace({\"\": \"Vuoto\"}, inplace=True)\n",
        "docs_preprocessed[\"date\"].fillna(pd.Timestamp(0, unit=\"s\"), inplace=True)\n"
      ]
    },
    {
      "cell_type": "code",
      "execution_count": 80,
      "metadata": {
        "colab": {
          "base_uri": "https://localhost:8080/"
        },
        "id": "mD8HAlUZBGAM",
        "outputId": "4a4fae2f-8655-444d-aea0-89b0d71e4c22"
      },
      "outputs": [
        {
          "name": "stdout",
          "output_type": "stream",
          "text": [
            "The dataset has 0 rows of ID empty\n",
            "The dataset has 8 rows of TITLE empty\n",
            "The dataset has 0 rows of DATE empty\n",
            "The dataset has 34037 rows of ABSTRACT empty\n",
            "The dataset has 40891 rows of DOI empty\n"
          ]
        }
      ],
      "source": [
        "print(\"The dataset has {} rows of ID empty\".format(len(docs_preprocessed[docs_preprocessed[\"doc_id\"] == \"\"])))\n",
        "print(\n",
        "    \"The dataset has {} rows of TITLE empty\".format(\n",
        "        len(docs_preprocessed[docs_preprocessed[\"title\"] == \"\"])\n",
        "    )\n",
        ")\n",
        "print(\n",
        "    \"The dataset has {} rows of DATE empty\".format(\n",
        "        len(docs_preprocessed[docs_preprocessed[\"date\"].isnull()])\n",
        "    )\n",
        ")\n",
        "print(\n",
        "    \"The dataset has {} rows of ABSTRACT empty\".format(\n",
        "        len(docs_preprocessed[docs_preprocessed[\"abstract\"] == \"\"])\n",
        "    )\n",
        ")\n",
        "print(\"The dataset has {} rows of DOI empty\".format(len(docs_preprocessed[docs_preprocessed[\"doi\"] == \"\"])))\n"
      ]
    },
    {
      "cell_type": "code",
      "execution_count": 4,
      "metadata": {
        "colab": {
          "base_uri": "https://localhost:8080/"
        },
        "id": "RoMGw-BQBGqx",
        "outputId": "321253a2-4a90-4cba-d4dd-35d59cd58062"
      },
      "outputs": [
        {
          "data": {
            "text/plain": [
              "(array([12513, 14168, 14869, 15062, 17133, 20827, 21281, 27190, 36260,\n",
              "        36303, 36676, 38316, 41072, 48113, 49111, 51114, 57137]),\n",
              " array([3, 3, 3, 3, 3, 3, 3, 3, 3, 3, 3, 3, 3, 3, 3, 3, 3]))"
            ]
          },
          "execution_count": 4,
          "metadata": {},
          "output_type": "execute_result"
        }
      ],
      "source": [
        "np.where(pd.isnull(docs_preprocessed))"
      ]
    },
    {
      "cell_type": "code",
      "execution_count": 141,
      "metadata": {
        "id": "BtezL3wCBIOb"
      },
      "outputs": [],
      "source": [
        "num_id = [str(i) for i in range(1, len(docs_preprocessed.index) + 1)]\n",
        "# print(num_id)\n",
        "docs_preprocessed.insert(0, \"docno\", num_id, True)"
      ]
    },
    {
      "cell_type": "markdown",
      "metadata": {
        "id": "8otRa2-71IWg"
      },
      "source": [
        "### Index"
      ]
    },
    {
      "cell_type": "code",
      "execution_count": 491,
      "metadata": {
        "colab": {
          "base_uri": "https://localhost:8080/"
        },
        "id": "BSTDKlKDBLmO",
        "outputId": "579b5c1c-de0c-43f3-98d0-e47c01044597"
      },
      "outputs": [],
      "source": [
        "# import os\n",
        "# os.environ[\"JAVA_HOME\"] = \"/usr/lib/jvm/java-1.11.0-openjdk-amd64/\"\n",
        "\n",
        "if not pt.started():\n",
        "    pt.init()"
      ]
    },
    {
      "cell_type": "code",
      "execution_count": 492,
      "metadata": {
        "id": "QMG-D_3I_6k7"
      },
      "outputs": [],
      "source": [
        "def create_index(docs_df, mode=\"both\", indexer_path=\"./pd_index\"):\n",
        "\n",
        "    num_id = [str(i) for i in range(1, len(docs_df.index) + 1)]\n",
        "    # print(num_id)\n",
        "    docs_df.insert(0, \"docno\", num_id, True)\n",
        "\n",
        "    pd_indexer = pt.DFIndexer(indexer_path, remove_stopwords=False, overwrite=True)\n",
        "\n",
        "    if mode == \"title\":\n",
        "        index_ref = pd_indexer.index(docs_df[\"title\"], docs_df[\"docno\"])\n",
        "    elif mode == \"abstract\":\n",
        "        index_ref = pd_indexer.index(docs_df[\"abstract\"], docs_df[\"docno\"])\n",
        "    else:  # both or else\n",
        "        index_ref = pd_indexer.index(\n",
        "            docs_df[\"title\"], docs_df[\"abstract\"], docs_df[\"docno\"]\n",
        "        )\n",
        "\n",
        "    return index_ref\n"
      ]
    },
    {
      "cell_type": "code",
      "execution_count": null,
      "metadata": {},
      "outputs": [],
      "source": [
        "# docs_preprocessed['title'].replace(\"\", pd.NA, inplace=True)\n",
        "# docs_preprocessed['abstract'].replace(\"\", pd.NA, inplace=True)\n",
        "# docs_preprocessed['doi'].replace(\"\", pd.NA, inplace=True)\n",
        "# docs_preprocessed['doc_id'].replace(\"\", pd.NA, inplace=True)\n",
        "# docs_preprocessed.info()"
      ]
    },
    {
      "cell_type": "code",
      "execution_count": 493,
      "metadata": {
        "colab": {
          "base_uri": "https://localhost:8080/"
        },
        "id": "7jRX-Jbe_9yN",
        "outputId": "98466f44-bcbf-47a4-981c-29e4dbd1d836"
      },
      "outputs": [
        {
          "name": "stdout",
          "output_type": "stream",
          "text": [
            "13:34:14.232 [main] WARN org.terrier.structures.indexing.Indexer - Adding an empty document to the index (1804) - further warnings are suppressed\n",
            "13:35:03.135 [main] WARN org.terrier.structures.indexing.Indexer - Indexed 14 empty documents\n"
          ]
        }
      ],
      "source": [
        "# index the text, record the docnos as metadata\n",
        "index_ref = create_index(docs_preprocessed, mode=\"both\")"
      ]
    },
    {
      "cell_type": "code",
      "execution_count": 494,
      "metadata": {
        "colab": {
          "base_uri": "https://localhost:8080/"
        },
        "id": "BOyxg0WXBNx4",
        "outputId": "7fee5400-6919-400c-9ba7-5a117eb6164c"
      },
      "outputs": [
        {
          "name": "stdout",
          "output_type": "stream",
          "text": [
            "合計 35M\n",
            "-rw-rw-r-- 1 saiteki-kai saiteki-kai 1.5M  1月 14 13:35 data.direct.bf\n",
            "-rw-rw-r-- 1 saiteki-kai saiteki-kai 2.1M  1月 14 13:35 data.document.fsarrayfile\n",
            "-rw-rw-r-- 1 saiteki-kai saiteki-kai 1.3M  1月 14 13:35 data.inverted.bf\n",
            "-rw-rw-r-- 1 saiteki-kai saiteki-kai 2.2M  1月 14 13:35 data.lexicon.fsomapfile\n",
            "-rw-rw-r-- 1 saiteki-kai saiteki-kai 1017  1月 14 13:35 data.lexicon.fsomaphash\n",
            "-rw-rw-r-- 1 saiteki-kai saiteki-kai  93K  1月 14 13:35 data.lexicon.fsomapid\n",
            "-rw-rw-r-- 1 saiteki-kai saiteki-kai 1.7M  1月 14 13:35 data.meta-0.fsomapfile\n",
            "-rw-rw-r-- 1 saiteki-kai saiteki-kai 567K  1月 14 11:04 data.meta-0.fsomapfile.0\n",
            "-rw-rw-r-- 1 saiteki-kai saiteki-kai 227K  1月 14 11:04 data.meta-0.fsomapfile.1\n",
            "-rw-rw-r-- 1 saiteki-kai saiteki-kai 657K  1月 14 13:35 data.meta.idx\n",
            "-rw-rw-r-- 1 saiteki-kai saiteki-kai  25M  1月 14 13:35 data.meta.zdata\n",
            "-rw-rw-r-- 1 saiteki-kai saiteki-kai 4.4K  1月 14 13:35 data.properties\n",
            "-rw-rw-r-- 1 saiteki-kai saiteki-kai    0  1月 14 10:10 data_stream0_1.direct.bf\n",
            "-rw-rw-r-- 1 saiteki-kai saiteki-kai    0  1月 14 10:10 data_stream0_1.document.fsarrayfile\n",
            "-rw-rw-r-- 1 saiteki-kai saiteki-kai    0  1月 14 10:10 data_stream0_1.meta.idx\n",
            "-rw-rw-r-- 1 saiteki-kai saiteki-kai    0  1月 14 10:10 data_stream0_1.meta.zdata\n"
          ]
        }
      ],
      "source": [
        "!ls -lh pd_index/"
      ]
    },
    {
      "cell_type": "code",
      "execution_count": 495,
      "metadata": {
        "id": "AksUMf5QBO9J"
      },
      "outputs": [],
      "source": [
        "index = pt.IndexFactory.of(index_ref)"
      ]
    },
    {
      "cell_type": "code",
      "execution_count": 496,
      "metadata": {
        "colab": {
          "base_uri": "https://localhost:8080/"
        },
        "id": "AFsOaWIkBPzo",
        "outputId": "cbcf3448-7782-4c30-97e1-6e9fb4deddf3"
      },
      "outputs": [
        {
          "name": "stdout",
          "output_type": "stream",
          "text": [
            "Number of documents: 84048\n",
            "Number of terms: 23779\n",
            "Number of postings: 730918\n",
            "Number of fields: 2\n",
            "Number of tokens: 755236\n",
            "Field names: [title, abstract]\n",
            "Positions:   false\n",
            "\n",
            "0 -> term19326 Nt=5 TF=5 maxTF=1 @{0 0 0} TFf=0,0\n",
            "000 -> term3877 Nt=27 TF=27 maxTF=1 @{0 13 0} TFf=0,0\n",
            "002 -> term9282 Nt=4 TF=4 maxTF=1 @{0 83 0} TFf=0,0\n",
            "016 -> term9986 Nt=1 TF=1 maxTF=1 @{0 95 2} TFf=0,0\n",
            "019 -> term11918 Nt=1 TF=1 maxTF=1 @{0 99 0} TFf=0,0\n",
            "025 -> term17930 Nt=2 TF=2 maxTF=1 @{0 102 6} TFf=0,0\n",
            "03 -> term1335 Nt=4 TF=4 maxTF=1 @{0 111 0} TFf=0,0\n",
            "0354 -> term23229 Nt=1 TF=1 maxTF=1 @{0 121 4} TFf=0,0\n",
            "05 -> term1342 Nt=4 TF=4 maxTF=1 @{0 126 0} TFf=0,0\n",
            ".....\n"
          ]
        }
      ],
      "source": [
        "print(index.getCollectionStatistics().toString())\n",
        "\n",
        "i = 0\n",
        "max = 10\n",
        "for kv in index.getLexicon():\n",
        "    i = i + 1\n",
        "    if i < max:\n",
        "        print(\"%s -> %s\" % (kv.getKey(), kv.getValue().toString()))\n",
        "    if i == max:\n",
        "        print(\".....\")\n",
        "        break\n"
      ]
    },
    {
      "cell_type": "code",
      "execution_count": 497,
      "metadata": {
        "id": "_CgS8rGxBUxG"
      },
      "outputs": [],
      "source": [
        "def index_model(index, model=\"TF_IDF\"):\n",
        "    \"\"\"\n",
        "    Create and return an indexing model.\n",
        "    http://terrier.org/docs/current/javadoc/org/terrier/matching/models/package-summary.html\n",
        "    Model can be such as:\n",
        "    \"TF_IDF\", \"PL2\", \"DLH\",\n",
        "    \"Hiemstra_LM\", \"Dirichlet_LM\",\n",
        "    \"BM25\", etc\n",
        "    \"\"\"\n",
        "    list_model = [\"TF_IDF\", \"PL2\", \"DLH\", \"Hiemstra_LM\", \"Dirichlet_LM\", \"BM25\"]\n",
        "\n",
        "    indexing_model = pt.BatchRetrieve(index, wmodel=model)\n",
        "    return indexing_model"
      ]
    },
    {
      "cell_type": "code",
      "execution_count": 498,
      "metadata": {
        "id": "30wXOwJ7B_5C"
      },
      "outputs": [],
      "source": [
        "model = index_model(index, model=\"TF_IDF\")"
      ]
    },
    {
      "cell_type": "markdown",
      "metadata": {
        "id": "6la65-Q7B-vd"
      },
      "source": [
        "https://github.com/terrier-org/terrier-core/blob/5.x/doc/querylanguage.md"
      ]
    },
    {
      "cell_type": "code",
      "execution_count": 503,
      "metadata": {
        "colab": {
          "base_uri": "https://localhost:8080/",
          "height": 424
        },
        "id": "DpzR6R7NB4-i",
        "outputId": "619dc9b0-c9f9-44c8-9b0b-a58aca070392"
      },
      "outputs": [
        {
          "data": {
            "text/html": [
              "<div>\n",
              "<style scoped>\n",
              "    .dataframe tbody tr th:only-of-type {\n",
              "        vertical-align: middle;\n",
              "    }\n",
              "\n",
              "    .dataframe tbody tr th {\n",
              "        vertical-align: top;\n",
              "    }\n",
              "\n",
              "    .dataframe thead th {\n",
              "        text-align: right;\n",
              "    }\n",
              "</style>\n",
              "<table border=\"1\" class=\"dataframe\">\n",
              "  <thead>\n",
              "    <tr style=\"text-align: right;\">\n",
              "      <th></th>\n",
              "      <th>qid</th>\n",
              "      <th>docid</th>\n",
              "      <th>docno</th>\n",
              "      <th>rank</th>\n",
              "      <th>score</th>\n",
              "      <th>query</th>\n",
              "    </tr>\n",
              "  </thead>\n",
              "  <tbody>\n",
              "    <tr>\n",
              "      <th>0</th>\n",
              "      <td>1</td>\n",
              "      <td>2123</td>\n",
              "      <td>2124</td>\n",
              "      <td>0</td>\n",
              "      <td>16.758584</td>\n",
              "      <td>introduction modern climate change</td>\n",
              "    </tr>\n",
              "    <tr>\n",
              "      <th>1</th>\n",
              "      <td>1</td>\n",
              "      <td>2610</td>\n",
              "      <td>2611</td>\n",
              "      <td>1</td>\n",
              "      <td>16.758584</td>\n",
              "      <td>introduction modern climate change</td>\n",
              "    </tr>\n",
              "    <tr>\n",
              "      <th>2</th>\n",
              "      <td>1</td>\n",
              "      <td>7679</td>\n",
              "      <td>7680</td>\n",
              "      <td>2</td>\n",
              "      <td>16.758584</td>\n",
              "      <td>introduction modern climate change</td>\n",
              "    </tr>\n",
              "    <tr>\n",
              "      <th>3</th>\n",
              "      <td>1</td>\n",
              "      <td>7734</td>\n",
              "      <td>7735</td>\n",
              "      <td>3</td>\n",
              "      <td>16.758584</td>\n",
              "      <td>introduction modern climate change</td>\n",
              "    </tr>\n",
              "    <tr>\n",
              "      <th>4</th>\n",
              "      <td>1</td>\n",
              "      <td>9940</td>\n",
              "      <td>9941</td>\n",
              "      <td>4</td>\n",
              "      <td>16.758584</td>\n",
              "      <td>introduction modern climate change</td>\n",
              "    </tr>\n",
              "    <tr>\n",
              "      <th>5</th>\n",
              "      <td>1</td>\n",
              "      <td>16546</td>\n",
              "      <td>16547</td>\n",
              "      <td>5</td>\n",
              "      <td>16.758584</td>\n",
              "      <td>introduction modern climate change</td>\n",
              "    </tr>\n",
              "    <tr>\n",
              "      <th>6</th>\n",
              "      <td>1</td>\n",
              "      <td>16547</td>\n",
              "      <td>16548</td>\n",
              "      <td>6</td>\n",
              "      <td>16.758584</td>\n",
              "      <td>introduction modern climate change</td>\n",
              "    </tr>\n",
              "    <tr>\n",
              "      <th>7</th>\n",
              "      <td>1</td>\n",
              "      <td>33966</td>\n",
              "      <td>33967</td>\n",
              "      <td>7</td>\n",
              "      <td>10.531068</td>\n",
              "      <td>introduction modern climate change</td>\n",
              "    </tr>\n",
              "    <tr>\n",
              "      <th>8</th>\n",
              "      <td>1</td>\n",
              "      <td>54850</td>\n",
              "      <td>54851</td>\n",
              "      <td>8</td>\n",
              "      <td>10.531068</td>\n",
              "      <td>introduction modern climate change</td>\n",
              "    </tr>\n",
              "    <tr>\n",
              "      <th>9</th>\n",
              "      <td>1</td>\n",
              "      <td>58723</td>\n",
              "      <td>58724</td>\n",
              "      <td>9</td>\n",
              "      <td>10.531068</td>\n",
              "      <td>introduction modern climate change</td>\n",
              "    </tr>\n",
              "  </tbody>\n",
              "</table>\n",
              "</div>"
            ],
            "text/plain": [
              "  qid  docid  docno  rank      score                               query\n",
              "0   1   2123   2124     0  16.758584  introduction modern climate change\n",
              "1   1   2610   2611     1  16.758584  introduction modern climate change\n",
              "2   1   7679   7680     2  16.758584  introduction modern climate change\n",
              "3   1   7734   7735     3  16.758584  introduction modern climate change\n",
              "4   1   9940   9941     4  16.758584  introduction modern climate change\n",
              "5   1  16546  16547     5  16.758584  introduction modern climate change\n",
              "6   1  16547  16548     6  16.758584  introduction modern climate change\n",
              "7   1  33966  33967     7  10.531068  introduction modern climate change\n",
              "8   1  54850  54851     8  10.531068  introduction modern climate change\n",
              "9   1  58723  58724     9  10.531068  introduction modern climate change"
            ]
          },
          "metadata": {},
          "output_type": "display_data"
        },
        {
          "name": "stdout",
          "output_type": "stream",
          "text": [
            "[2123] TITLE: introduction modern climate change andrew e dessler cambridge university press 2011 252 pp isbn10 0521173159\n",
            "[2123] ABSTRACT: climate change variability climate system include atmosphere biogeochemical cycle carbon cycle nitro...\n",
            "[2610] TITLE: introduction modern climate change andrew e dessler cambridge university press 2011 252 pp isbn10 0521173159\n",
            "[2610] ABSTRACT: climate change variability climate system include atmosphere biogeochemical cycle carbon cycle nitro...\n",
            "[7679] TITLE: introduction modern climate change andrew e dessler cambridge university press 2011 252 pp isbn10 0521173159\n",
            "[7679] ABSTRACT: climate change variability climate system include atmosphere biogeochemical cycle carbon cycle nitro...\n",
            "[7734] TITLE: introduction modern climate change andrew e dessler cambridge university press 2011 252 pp isbn10 0521173159\n",
            "[7734] ABSTRACT: climate change variability climate system include atmosphere biogeochemical cycle carbon cycle nitro...\n",
            "[9940] TITLE: introduction modern climate change andrew e dessler cambridge university press 2011 252 pp isbn10 0521173159\n",
            "[9940] ABSTRACT: climate change variability climate system include atmosphere biogeochemical cycle carbon cycle nitro...\n"
          ]
        }
      ],
      "source": [
        "# A single query (that I manually provide)\n",
        "retr = model.search(\"introduction modern climate change\")\n",
        "display(retr.head(10))\n",
        "\n",
        "docids = retr[retr[\"rank\"] < 5][\"docid\"]\n",
        "for id in docids:\n",
        "  print(\"[\" + str(id) + \"] TITLE: \" + docs_preprocessed.iloc[id][\"title\"])\n",
        "  print(\"[\" + str(id) + \"] ABSTRACT: \" + docs_preprocessed.iloc[id][\"abstract\"][:100] + \"...\")"
      ]
    },
    {
      "cell_type": "code",
      "execution_count": 504,
      "metadata": {
        "colab": {
          "base_uri": "https://localhost:8080/",
          "height": 1000
        },
        "id": "lzgdheF3B9Bg",
        "outputId": "b82770c1-68ea-4c94-8578-63a1c437c894"
      },
      "outputs": [
        {
          "name": "stdout",
          "output_type": "stream",
          "text": [
            "+woman covid\n",
            "620\n"
          ]
        },
        {
          "data": {
            "text/html": [
              "<div>\n",
              "<style scoped>\n",
              "    .dataframe tbody tr th:only-of-type {\n",
              "        vertical-align: middle;\n",
              "    }\n",
              "\n",
              "    .dataframe tbody tr th {\n",
              "        vertical-align: top;\n",
              "    }\n",
              "\n",
              "    .dataframe thead th {\n",
              "        text-align: right;\n",
              "    }\n",
              "</style>\n",
              "<table border=\"1\" class=\"dataframe\">\n",
              "  <thead>\n",
              "    <tr style=\"text-align: right;\">\n",
              "      <th></th>\n",
              "      <th>qid</th>\n",
              "      <th>docid</th>\n",
              "      <th>docno</th>\n",
              "      <th>rank</th>\n",
              "      <th>score</th>\n",
              "      <th>query</th>\n",
              "    </tr>\n",
              "  </thead>\n",
              "  <tbody>\n",
              "    <tr>\n",
              "      <th>0</th>\n",
              "      <td>1</td>\n",
              "      <td>76668</td>\n",
              "      <td>76669</td>\n",
              "      <td>0</td>\n",
              "      <td>7.489326</td>\n",
              "      <td>+woman covid</td>\n",
              "    </tr>\n",
              "    <tr>\n",
              "      <th>1</th>\n",
              "      <td>1</td>\n",
              "      <td>81751</td>\n",
              "      <td>81752</td>\n",
              "      <td>1</td>\n",
              "      <td>7.489326</td>\n",
              "      <td>+woman covid</td>\n",
              "    </tr>\n",
              "    <tr>\n",
              "      <th>2</th>\n",
              "      <td>1</td>\n",
              "      <td>68732</td>\n",
              "      <td>68733</td>\n",
              "      <td>2</td>\n",
              "      <td>6.807841</td>\n",
              "      <td>+woman covid</td>\n",
              "    </tr>\n",
              "  </tbody>\n",
              "</table>\n",
              "</div>"
            ],
            "text/plain": [
              "  qid  docid  docno  rank     score         query\n",
              "0   1  76668  76669     0  7.489326  +woman covid\n",
              "1   1  81751  81752     1  7.489326  +woman covid\n",
              "2   1  68732  68733     2  6.807841  +woman covid"
            ]
          },
          "metadata": {},
          "output_type": "display_data"
        },
        {
          "name": "stdout",
          "output_type": "stream",
          "text": [
            "+woman covid\n",
            "620\n"
          ]
        },
        {
          "data": {
            "text/html": [
              "<div>\n",
              "<style scoped>\n",
              "    .dataframe tbody tr th:only-of-type {\n",
              "        vertical-align: middle;\n",
              "    }\n",
              "\n",
              "    .dataframe tbody tr th {\n",
              "        vertical-align: top;\n",
              "    }\n",
              "\n",
              "    .dataframe thead th {\n",
              "        text-align: right;\n",
              "    }\n",
              "</style>\n",
              "<table border=\"1\" class=\"dataframe\">\n",
              "  <thead>\n",
              "    <tr style=\"text-align: right;\">\n",
              "      <th></th>\n",
              "      <th>qid</th>\n",
              "      <th>docid</th>\n",
              "      <th>docno</th>\n",
              "      <th>rank</th>\n",
              "      <th>score</th>\n",
              "      <th>query</th>\n",
              "    </tr>\n",
              "  </thead>\n",
              "  <tbody>\n",
              "    <tr>\n",
              "      <th>0</th>\n",
              "      <td>1</td>\n",
              "      <td>76668</td>\n",
              "      <td>76669</td>\n",
              "      <td>0</td>\n",
              "      <td>7.489326</td>\n",
              "      <td>+woman covid</td>\n",
              "    </tr>\n",
              "    <tr>\n",
              "      <th>1</th>\n",
              "      <td>1</td>\n",
              "      <td>81751</td>\n",
              "      <td>81752</td>\n",
              "      <td>1</td>\n",
              "      <td>7.489326</td>\n",
              "      <td>+woman covid</td>\n",
              "    </tr>\n",
              "    <tr>\n",
              "      <th>2</th>\n",
              "      <td>1</td>\n",
              "      <td>68732</td>\n",
              "      <td>68733</td>\n",
              "      <td>2</td>\n",
              "      <td>6.807841</td>\n",
              "      <td>+woman covid</td>\n",
              "    </tr>\n",
              "  </tbody>\n",
              "</table>\n",
              "</div>"
            ],
            "text/plain": [
              "  qid  docid  docno  rank     score         query\n",
              "0   1  76668  76669     0  7.489326  +woman covid\n",
              "1   1  81751  81752     1  7.489326  +woman covid\n",
              "2   1  68732  68733     2  6.807841  +woman covid"
            ]
          },
          "metadata": {},
          "output_type": "display_data"
        },
        {
          "name": "stdout",
          "output_type": "stream",
          "text": [
            "+woman +covid\n",
            "15\n"
          ]
        },
        {
          "data": {
            "text/html": [
              "<div>\n",
              "<style scoped>\n",
              "    .dataframe tbody tr th:only-of-type {\n",
              "        vertical-align: middle;\n",
              "    }\n",
              "\n",
              "    .dataframe tbody tr th {\n",
              "        vertical-align: top;\n",
              "    }\n",
              "\n",
              "    .dataframe thead th {\n",
              "        text-align: right;\n",
              "    }\n",
              "</style>\n",
              "<table border=\"1\" class=\"dataframe\">\n",
              "  <thead>\n",
              "    <tr style=\"text-align: right;\">\n",
              "      <th></th>\n",
              "      <th>qid</th>\n",
              "      <th>docid</th>\n",
              "      <th>docno</th>\n",
              "      <th>rank</th>\n",
              "      <th>score</th>\n",
              "      <th>query</th>\n",
              "    </tr>\n",
              "  </thead>\n",
              "  <tbody>\n",
              "    <tr>\n",
              "      <th>0</th>\n",
              "      <td>1</td>\n",
              "      <td>76668</td>\n",
              "      <td>76669</td>\n",
              "      <td>0</td>\n",
              "      <td>7.489326</td>\n",
              "      <td>+woman +covid</td>\n",
              "    </tr>\n",
              "    <tr>\n",
              "      <th>1</th>\n",
              "      <td>1</td>\n",
              "      <td>81751</td>\n",
              "      <td>81752</td>\n",
              "      <td>1</td>\n",
              "      <td>7.489326</td>\n",
              "      <td>+woman +covid</td>\n",
              "    </tr>\n",
              "    <tr>\n",
              "      <th>2</th>\n",
              "      <td>1</td>\n",
              "      <td>68732</td>\n",
              "      <td>68733</td>\n",
              "      <td>2</td>\n",
              "      <td>6.807841</td>\n",
              "      <td>+woman +covid</td>\n",
              "    </tr>\n",
              "  </tbody>\n",
              "</table>\n",
              "</div>"
            ],
            "text/plain": [
              "  qid  docid  docno  rank     score          query\n",
              "0   1  76668  76669     0  7.489326  +woman +covid\n",
              "1   1  81751  81752     1  7.489326  +woman +covid\n",
              "2   1  68732  68733     2  6.807841  +woman +covid"
            ]
          },
          "metadata": {},
          "output_type": "display_data"
        },
        {
          "name": "stdout",
          "output_type": "stream",
          "text": [
            "+woman +covid\n",
            "15\n"
          ]
        },
        {
          "data": {
            "text/html": [
              "<div>\n",
              "<style scoped>\n",
              "    .dataframe tbody tr th:only-of-type {\n",
              "        vertical-align: middle;\n",
              "    }\n",
              "\n",
              "    .dataframe tbody tr th {\n",
              "        vertical-align: top;\n",
              "    }\n",
              "\n",
              "    .dataframe thead th {\n",
              "        text-align: right;\n",
              "    }\n",
              "</style>\n",
              "<table border=\"1\" class=\"dataframe\">\n",
              "  <thead>\n",
              "    <tr style=\"text-align: right;\">\n",
              "      <th></th>\n",
              "      <th>qid</th>\n",
              "      <th>docid</th>\n",
              "      <th>docno</th>\n",
              "      <th>rank</th>\n",
              "      <th>score</th>\n",
              "      <th>query</th>\n",
              "    </tr>\n",
              "  </thead>\n",
              "  <tbody>\n",
              "    <tr>\n",
              "      <th>0</th>\n",
              "      <td>1</td>\n",
              "      <td>76668</td>\n",
              "      <td>76669</td>\n",
              "      <td>0</td>\n",
              "      <td>7.489326</td>\n",
              "      <td>+woman +covid</td>\n",
              "    </tr>\n",
              "    <tr>\n",
              "      <th>1</th>\n",
              "      <td>1</td>\n",
              "      <td>81751</td>\n",
              "      <td>81752</td>\n",
              "      <td>1</td>\n",
              "      <td>7.489326</td>\n",
              "      <td>+woman +covid</td>\n",
              "    </tr>\n",
              "    <tr>\n",
              "      <th>2</th>\n",
              "      <td>1</td>\n",
              "      <td>68732</td>\n",
              "      <td>68733</td>\n",
              "      <td>2</td>\n",
              "      <td>6.807841</td>\n",
              "      <td>+woman +covid</td>\n",
              "    </tr>\n",
              "  </tbody>\n",
              "</table>\n",
              "</div>"
            ],
            "text/plain": [
              "  qid  docid  docno  rank     score          query\n",
              "0   1  76668  76669     0  7.489326  +woman +covid\n",
              "1   1  81751  81752     1  7.489326  +woman +covid\n",
              "2   1  68732  68733     2  6.807841  +woman +covid"
            ]
          },
          "metadata": {},
          "output_type": "display_data"
        },
        {
          "name": "stdout",
          "output_type": "stream",
          "text": [
            "-woman +covid\n",
            "1000\n"
          ]
        },
        {
          "data": {
            "text/html": [
              "<div>\n",
              "<style scoped>\n",
              "    .dataframe tbody tr th:only-of-type {\n",
              "        vertical-align: middle;\n",
              "    }\n",
              "\n",
              "    .dataframe tbody tr th {\n",
              "        vertical-align: top;\n",
              "    }\n",
              "\n",
              "    .dataframe thead th {\n",
              "        text-align: right;\n",
              "    }\n",
              "</style>\n",
              "<table border=\"1\" class=\"dataframe\">\n",
              "  <thead>\n",
              "    <tr style=\"text-align: right;\">\n",
              "      <th></th>\n",
              "      <th>qid</th>\n",
              "      <th>docid</th>\n",
              "      <th>docno</th>\n",
              "      <th>rank</th>\n",
              "      <th>score</th>\n",
              "      <th>query</th>\n",
              "    </tr>\n",
              "  </thead>\n",
              "  <tbody>\n",
              "    <tr>\n",
              "      <th>0</th>\n",
              "      <td>1</td>\n",
              "      <td>107</td>\n",
              "      <td>108</td>\n",
              "      <td>0</td>\n",
              "      <td>4.315667</td>\n",
              "      <td>-woman +covid</td>\n",
              "    </tr>\n",
              "    <tr>\n",
              "      <th>1</th>\n",
              "      <td>1</td>\n",
              "      <td>2078</td>\n",
              "      <td>2079</td>\n",
              "      <td>1</td>\n",
              "      <td>4.315667</td>\n",
              "      <td>-woman +covid</td>\n",
              "    </tr>\n",
              "    <tr>\n",
              "      <th>2</th>\n",
              "      <td>1</td>\n",
              "      <td>3440</td>\n",
              "      <td>3441</td>\n",
              "      <td>2</td>\n",
              "      <td>4.315667</td>\n",
              "      <td>-woman +covid</td>\n",
              "    </tr>\n",
              "  </tbody>\n",
              "</table>\n",
              "</div>"
            ],
            "text/plain": [
              "  qid  docid docno  rank     score          query\n",
              "0   1    107   108     0  4.315667  -woman +covid\n",
              "1   1   2078  2079     1  4.315667  -woman +covid\n",
              "2   1   3440  3441     2  4.315667  -woman +covid"
            ]
          },
          "metadata": {},
          "output_type": "display_data"
        },
        {
          "name": "stdout",
          "output_type": "stream",
          "text": [
            "-woman +covid\n",
            "1000\n"
          ]
        },
        {
          "data": {
            "text/html": [
              "<div>\n",
              "<style scoped>\n",
              "    .dataframe tbody tr th:only-of-type {\n",
              "        vertical-align: middle;\n",
              "    }\n",
              "\n",
              "    .dataframe tbody tr th {\n",
              "        vertical-align: top;\n",
              "    }\n",
              "\n",
              "    .dataframe thead th {\n",
              "        text-align: right;\n",
              "    }\n",
              "</style>\n",
              "<table border=\"1\" class=\"dataframe\">\n",
              "  <thead>\n",
              "    <tr style=\"text-align: right;\">\n",
              "      <th></th>\n",
              "      <th>qid</th>\n",
              "      <th>docid</th>\n",
              "      <th>docno</th>\n",
              "      <th>rank</th>\n",
              "      <th>score</th>\n",
              "      <th>query</th>\n",
              "    </tr>\n",
              "  </thead>\n",
              "  <tbody>\n",
              "    <tr>\n",
              "      <th>0</th>\n",
              "      <td>1</td>\n",
              "      <td>107</td>\n",
              "      <td>108</td>\n",
              "      <td>0</td>\n",
              "      <td>4.315667</td>\n",
              "      <td>-woman +covid</td>\n",
              "    </tr>\n",
              "    <tr>\n",
              "      <th>1</th>\n",
              "      <td>1</td>\n",
              "      <td>2078</td>\n",
              "      <td>2079</td>\n",
              "      <td>1</td>\n",
              "      <td>4.315667</td>\n",
              "      <td>-woman +covid</td>\n",
              "    </tr>\n",
              "    <tr>\n",
              "      <th>2</th>\n",
              "      <td>1</td>\n",
              "      <td>3440</td>\n",
              "      <td>3441</td>\n",
              "      <td>2</td>\n",
              "      <td>4.315667</td>\n",
              "      <td>-woman +covid</td>\n",
              "    </tr>\n",
              "  </tbody>\n",
              "</table>\n",
              "</div>"
            ],
            "text/plain": [
              "  qid  docid docno  rank     score          query\n",
              "0   1    107   108     0  4.315667  -woman +covid\n",
              "1   1   2078  2079     1  4.315667  -woman +covid\n",
              "2   1   3440  3441     2  4.315667  -woman +covid"
            ]
          },
          "metadata": {},
          "output_type": "display_data"
        },
        {
          "name": "stdout",
          "output_type": "stream",
          "text": [
            "{woman covid}\n",
            "1000\n"
          ]
        },
        {
          "data": {
            "text/html": [
              "<div>\n",
              "<style scoped>\n",
              "    .dataframe tbody tr th:only-of-type {\n",
              "        vertical-align: middle;\n",
              "    }\n",
              "\n",
              "    .dataframe tbody tr th {\n",
              "        vertical-align: top;\n",
              "    }\n",
              "\n",
              "    .dataframe thead th {\n",
              "        text-align: right;\n",
              "    }\n",
              "</style>\n",
              "<table border=\"1\" class=\"dataframe\">\n",
              "  <thead>\n",
              "    <tr style=\"text-align: right;\">\n",
              "      <th></th>\n",
              "      <th>qid</th>\n",
              "      <th>docid</th>\n",
              "      <th>docno</th>\n",
              "      <th>rank</th>\n",
              "      <th>score</th>\n",
              "      <th>query</th>\n",
              "    </tr>\n",
              "  </thead>\n",
              "  <tbody>\n",
              "    <tr>\n",
              "      <th>0</th>\n",
              "      <td>1</td>\n",
              "      <td>107</td>\n",
              "      <td>108</td>\n",
              "      <td>0</td>\n",
              "      <td>4.018384</td>\n",
              "      <td>{woman covid}</td>\n",
              "    </tr>\n",
              "    <tr>\n",
              "      <th>1</th>\n",
              "      <td>1</td>\n",
              "      <td>2078</td>\n",
              "      <td>2079</td>\n",
              "      <td>1</td>\n",
              "      <td>4.018384</td>\n",
              "      <td>{woman covid}</td>\n",
              "    </tr>\n",
              "    <tr>\n",
              "      <th>2</th>\n",
              "      <td>1</td>\n",
              "      <td>3440</td>\n",
              "      <td>3441</td>\n",
              "      <td>2</td>\n",
              "      <td>4.018384</td>\n",
              "      <td>{woman covid}</td>\n",
              "    </tr>\n",
              "  </tbody>\n",
              "</table>\n",
              "</div>"
            ],
            "text/plain": [
              "  qid  docid docno  rank     score          query\n",
              "0   1    107   108     0  4.018384  {woman covid}\n",
              "1   1   2078  2079     1  4.018384  {woman covid}\n",
              "2   1   3440  3441     2  4.018384  {woman covid}"
            ]
          },
          "metadata": {},
          "output_type": "display_data"
        },
        {
          "name": "stdout",
          "output_type": "stream",
          "text": [
            "{ woman term2 }\n",
            "1000\n"
          ]
        },
        {
          "data": {
            "text/html": [
              "<div>\n",
              "<style scoped>\n",
              "    .dataframe tbody tr th:only-of-type {\n",
              "        vertical-align: middle;\n",
              "    }\n",
              "\n",
              "    .dataframe tbody tr th {\n",
              "        vertical-align: top;\n",
              "    }\n",
              "\n",
              "    .dataframe thead th {\n",
              "        text-align: right;\n",
              "    }\n",
              "</style>\n",
              "<table border=\"1\" class=\"dataframe\">\n",
              "  <thead>\n",
              "    <tr style=\"text-align: right;\">\n",
              "      <th></th>\n",
              "      <th>qid</th>\n",
              "      <th>docid</th>\n",
              "      <th>docno</th>\n",
              "      <th>rank</th>\n",
              "      <th>score</th>\n",
              "      <th>query</th>\n",
              "    </tr>\n",
              "  </thead>\n",
              "  <tbody>\n",
              "    <tr>\n",
              "      <th>0</th>\n",
              "      <td>1</td>\n",
              "      <td>107</td>\n",
              "      <td>108</td>\n",
              "      <td>0</td>\n",
              "      <td>4.018384</td>\n",
              "      <td>{ woman covid }</td>\n",
              "    </tr>\n",
              "    <tr>\n",
              "      <th>1</th>\n",
              "      <td>1</td>\n",
              "      <td>2078</td>\n",
              "      <td>2079</td>\n",
              "      <td>1</td>\n",
              "      <td>4.018384</td>\n",
              "      <td>{ woman covid }</td>\n",
              "    </tr>\n",
              "    <tr>\n",
              "      <th>2</th>\n",
              "      <td>1</td>\n",
              "      <td>3440</td>\n",
              "      <td>3441</td>\n",
              "      <td>2</td>\n",
              "      <td>4.018384</td>\n",
              "      <td>{ woman covid }</td>\n",
              "    </tr>\n",
              "  </tbody>\n",
              "</table>\n",
              "</div>"
            ],
            "text/plain": [
              "  qid  docid docno  rank     score            query\n",
              "0   1    107   108     0  4.018384  { woman covid }\n",
              "1   1   2078  2079     1  4.018384  { woman covid }\n",
              "2   1   3440  3441     2  4.018384  { woman covid }"
            ]
          },
          "metadata": {},
          "output_type": "display_data"
        }
      ],
      "source": [
        "print(\"+woman covid\")\n",
        "retr = model.search(\"+woman covid\")\n",
        "print(len(retr.index))\n",
        "display(retr.head(3))\n",
        "\n",
        "print(\"+woman covid\")\n",
        "retr = model.search(\"+woman covid\")\n",
        "print(len(retr.index))\n",
        "display(retr.head(3))\n",
        "\n",
        "print(\"+woman +covid\")\n",
        "retr = model.search(\"+woman +covid\")\n",
        "print(len(retr.index))\n",
        "display(retr.head(3))\n",
        "\n",
        "print(\"+woman +covid\")\n",
        "retr = model.search(\"+woman +covid\")\n",
        "print(len(retr.index))\n",
        "display(retr.head(3))\n",
        "\n",
        "print(\"-woman +covid\")\n",
        "retr = model.search(\"-woman +covid\")\n",
        "print(len(retr.index))\n",
        "display(retr.head(3))\n",
        "\n",
        "print(\"-woman +covid\")\n",
        "retr = model.search(\"-woman +covid\")\n",
        "print(len(retr.index))\n",
        "display(retr.head(3))\n",
        "\n",
        "print(\"{woman covid}\")\n",
        "retr = model.search(\"{woman covid}\")\n",
        "print(len(retr.index))\n",
        "display(retr.head(3))\n",
        "\n",
        "print(\"{ woman term2 }\")\n",
        "retr = model.search(\"{ woman covid }\")\n",
        "print(len(retr.index))\n",
        "display(retr.head(3))\n"
      ]
    },
    {
      "cell_type": "markdown",
      "metadata": {
        "id": "-GeK9n6YQ6TM"
      },
      "source": [
        "To do indexing just choose the model to use through the function:\n",
        "\n",
        "`index_ref = create_index(docs_df, mode=\"both\")`\n",
        "\n",
        "mode decide if indexing just title, abstract or both.\n",
        "\n",
        "`index = pt.IndexFactory.of(index_ref)`\n",
        "\n",
        "`tfidf = index_model(index, model=\"TF_IDF\")`\n",
        "\n",
        "and then use the function:\n",
        "\n",
        "`tfidf.search(\"your query\")`\n",
        "\n",
        "\n",
        "To know more about the query look [here](https://github.com/terrier-org/terrier-core/blob/5.x/doc/querylanguage.md)\n",
        "\n",
        "To know more about the model you can use look [here](http://terrier.org/docs/current/javadoc/org/terrier/matching/models/package-summary.html). You can use model as \"TF_IDF\", \"PL2\", \"DLH\", \"Hiemstra_LM\", \"Dirichlet_LM\", etc.\n"
      ]
    },
    {
      "cell_type": "markdown",
      "metadata": {
        "id": "bHsXCNXAzARB"
      },
      "source": [
        "# Part 3: Advanced Search (Optional)"
      ]
    },
    {
      "cell_type": "markdown",
      "metadata": {
        "id": "eJr_Z7coEOtQ"
      },
      "source": [
        "# NOTE\n",
        "\n",
        "prof: importate la precision. l'obiettivo é riportare la risposta migliore\n"
      ]
    }
  ],
  "metadata": {
    "colab": {
      "collapsed_sections": [],
      "name": "IR_Covid_2.ipynb",
      "provenance": []
    },
    "kernelspec": {
      "display_name": "Python 3",
      "name": "python3"
    },
    "language_info": {
      "codemirror_mode": {
        "name": "ipython",
        "version": 3
      },
      "file_extension": ".py",
      "mimetype": "text/x-python",
      "name": "python",
      "nbconvert_exporter": "python",
      "pygments_lexer": "ipython3",
      "version": "3.8.10"
    },
    "widgets": {
      "application/vnd.jupyter.widget-state+json": {
        "0d0b630aac144f3fa26ae8870e18d442": {
          "model_module": "@jupyter-widgets/controls",
          "model_module_version": "1.5.0",
          "model_name": "HBoxModel",
          "state": {
            "_dom_classes": [],
            "_model_module": "@jupyter-widgets/controls",
            "_model_module_version": "1.5.0",
            "_model_name": "HBoxModel",
            "_view_count": null,
            "_view_module": "@jupyter-widgets/controls",
            "_view_module_version": "1.5.0",
            "_view_name": "HBoxView",
            "box_style": "",
            "children": [
              "IPY_MODEL_4e206fe6dead40c49a338dec6b30005f",
              "IPY_MODEL_5d29c69b8b0449689d9199622f226ef6",
              "IPY_MODEL_d42433ee7df1419fa0dc06d752059ac5"
            ],
            "layout": "IPY_MODEL_28df9259a85040bd9004edb02f7657f5"
          }
        },
        "12093b93dc62400ab07d6fc57a77f359": {
          "model_module": "@jupyter-widgets/base",
          "model_module_version": "1.2.0",
          "model_name": "LayoutModel",
          "state": {
            "_model_module": "@jupyter-widgets/base",
            "_model_module_version": "1.2.0",
            "_model_name": "LayoutModel",
            "_view_count": null,
            "_view_module": "@jupyter-widgets/base",
            "_view_module_version": "1.2.0",
            "_view_name": "LayoutView",
            "align_content": null,
            "align_items": null,
            "align_self": null,
            "border": null,
            "bottom": null,
            "display": null,
            "flex": null,
            "flex_flow": null,
            "grid_area": null,
            "grid_auto_columns": null,
            "grid_auto_flow": null,
            "grid_auto_rows": null,
            "grid_column": null,
            "grid_gap": null,
            "grid_row": null,
            "grid_template_areas": null,
            "grid_template_columns": null,
            "grid_template_rows": null,
            "height": null,
            "justify_content": null,
            "justify_items": null,
            "left": null,
            "margin": null,
            "max_height": null,
            "max_width": null,
            "min_height": null,
            "min_width": null,
            "object_fit": null,
            "object_position": null,
            "order": null,
            "overflow": null,
            "overflow_x": null,
            "overflow_y": null,
            "padding": null,
            "right": null,
            "top": null,
            "visibility": null,
            "width": null
          }
        },
        "13a8405c1d044285ab6339c09d0f0ca0": {
          "model_module": "@jupyter-widgets/base",
          "model_module_version": "1.2.0",
          "model_name": "LayoutModel",
          "state": {
            "_model_module": "@jupyter-widgets/base",
            "_model_module_version": "1.2.0",
            "_model_name": "LayoutModel",
            "_view_count": null,
            "_view_module": "@jupyter-widgets/base",
            "_view_module_version": "1.2.0",
            "_view_name": "LayoutView",
            "align_content": null,
            "align_items": null,
            "align_self": null,
            "border": null,
            "bottom": null,
            "display": null,
            "flex": null,
            "flex_flow": null,
            "grid_area": null,
            "grid_auto_columns": null,
            "grid_auto_flow": null,
            "grid_auto_rows": null,
            "grid_column": null,
            "grid_gap": null,
            "grid_row": null,
            "grid_template_areas": null,
            "grid_template_columns": null,
            "grid_template_rows": null,
            "height": null,
            "justify_content": null,
            "justify_items": null,
            "left": null,
            "margin": null,
            "max_height": null,
            "max_width": null,
            "min_height": null,
            "min_width": null,
            "object_fit": null,
            "object_position": null,
            "order": null,
            "overflow": null,
            "overflow_x": null,
            "overflow_y": null,
            "padding": null,
            "right": null,
            "top": null,
            "visibility": null,
            "width": null
          }
        },
        "2357438f55a04dd2bc4763fc05d1d8ee": {
          "model_module": "@jupyter-widgets/base",
          "model_module_version": "1.2.0",
          "model_name": "LayoutModel",
          "state": {
            "_model_module": "@jupyter-widgets/base",
            "_model_module_version": "1.2.0",
            "_model_name": "LayoutModel",
            "_view_count": null,
            "_view_module": "@jupyter-widgets/base",
            "_view_module_version": "1.2.0",
            "_view_name": "LayoutView",
            "align_content": null,
            "align_items": null,
            "align_self": null,
            "border": null,
            "bottom": null,
            "display": null,
            "flex": null,
            "flex_flow": null,
            "grid_area": null,
            "grid_auto_columns": null,
            "grid_auto_flow": null,
            "grid_auto_rows": null,
            "grid_column": null,
            "grid_gap": null,
            "grid_row": null,
            "grid_template_areas": null,
            "grid_template_columns": null,
            "grid_template_rows": null,
            "height": null,
            "justify_content": null,
            "justify_items": null,
            "left": null,
            "margin": null,
            "max_height": null,
            "max_width": null,
            "min_height": null,
            "min_width": null,
            "object_fit": null,
            "object_position": null,
            "order": null,
            "overflow": null,
            "overflow_x": null,
            "overflow_y": null,
            "padding": null,
            "right": null,
            "top": null,
            "visibility": null,
            "width": null
          }
        },
        "23c39a94b61946c2b08c94a195021a3f": {
          "model_module": "@jupyter-widgets/controls",
          "model_module_version": "1.5.0",
          "model_name": "ProgressStyleModel",
          "state": {
            "_model_module": "@jupyter-widgets/controls",
            "_model_module_version": "1.5.0",
            "_model_name": "ProgressStyleModel",
            "_view_count": null,
            "_view_module": "@jupyter-widgets/base",
            "_view_module_version": "1.2.0",
            "_view_name": "StyleView",
            "bar_color": null,
            "description_width": ""
          }
        },
        "2417e17b9f404dd6ba198463eb90e913": {
          "model_module": "@jupyter-widgets/controls",
          "model_module_version": "1.5.0",
          "model_name": "HBoxModel",
          "state": {
            "_dom_classes": [],
            "_model_module": "@jupyter-widgets/controls",
            "_model_module_version": "1.5.0",
            "_model_name": "HBoxModel",
            "_view_count": null,
            "_view_module": "@jupyter-widgets/controls",
            "_view_module_version": "1.5.0",
            "_view_name": "HBoxView",
            "box_style": "",
            "children": [
              "IPY_MODEL_8495991fa6264a38969b046a8cd5ec0f",
              "IPY_MODEL_b28290eda6ec49028ae7ef8202889201",
              "IPY_MODEL_a1f32b886af1471ca97c063c80c433e5"
            ],
            "layout": "IPY_MODEL_36c859d3131f45a3b0d3af38f9bd5ffd"
          }
        },
        "28df9259a85040bd9004edb02f7657f5": {
          "model_module": "@jupyter-widgets/base",
          "model_module_version": "1.2.0",
          "model_name": "LayoutModel",
          "state": {
            "_model_module": "@jupyter-widgets/base",
            "_model_module_version": "1.2.0",
            "_model_name": "LayoutModel",
            "_view_count": null,
            "_view_module": "@jupyter-widgets/base",
            "_view_module_version": "1.2.0",
            "_view_name": "LayoutView",
            "align_content": null,
            "align_items": null,
            "align_self": null,
            "border": null,
            "bottom": null,
            "display": null,
            "flex": null,
            "flex_flow": null,
            "grid_area": null,
            "grid_auto_columns": null,
            "grid_auto_flow": null,
            "grid_auto_rows": null,
            "grid_column": null,
            "grid_gap": null,
            "grid_row": null,
            "grid_template_areas": null,
            "grid_template_columns": null,
            "grid_template_rows": null,
            "height": null,
            "justify_content": null,
            "justify_items": null,
            "left": null,
            "margin": null,
            "max_height": null,
            "max_width": null,
            "min_height": null,
            "min_width": null,
            "object_fit": null,
            "object_position": null,
            "order": null,
            "overflow": null,
            "overflow_x": null,
            "overflow_y": null,
            "padding": null,
            "right": null,
            "top": null,
            "visibility": null,
            "width": null
          }
        },
        "2ce2bf5586b84884877bd4186ce5a7d3": {
          "model_module": "@jupyter-widgets/base",
          "model_module_version": "1.2.0",
          "model_name": "LayoutModel",
          "state": {
            "_model_module": "@jupyter-widgets/base",
            "_model_module_version": "1.2.0",
            "_model_name": "LayoutModel",
            "_view_count": null,
            "_view_module": "@jupyter-widgets/base",
            "_view_module_version": "1.2.0",
            "_view_name": "LayoutView",
            "align_content": null,
            "align_items": null,
            "align_self": null,
            "border": null,
            "bottom": null,
            "display": null,
            "flex": null,
            "flex_flow": null,
            "grid_area": null,
            "grid_auto_columns": null,
            "grid_auto_flow": null,
            "grid_auto_rows": null,
            "grid_column": null,
            "grid_gap": null,
            "grid_row": null,
            "grid_template_areas": null,
            "grid_template_columns": null,
            "grid_template_rows": null,
            "height": null,
            "justify_content": null,
            "justify_items": null,
            "left": null,
            "margin": null,
            "max_height": null,
            "max_width": null,
            "min_height": null,
            "min_width": null,
            "object_fit": null,
            "object_position": null,
            "order": null,
            "overflow": null,
            "overflow_x": null,
            "overflow_y": null,
            "padding": null,
            "right": null,
            "top": null,
            "visibility": null,
            "width": null
          }
        },
        "2e416cdf8ad84139ac2cc5f3bc7bd996": {
          "model_module": "@jupyter-widgets/controls",
          "model_module_version": "1.5.0",
          "model_name": "FloatProgressModel",
          "state": {
            "_dom_classes": [],
            "_model_module": "@jupyter-widgets/controls",
            "_model_module_version": "1.5.0",
            "_model_name": "FloatProgressModel",
            "_view_count": null,
            "_view_module": "@jupyter-widgets/controls",
            "_view_module_version": "1.5.0",
            "_view_name": "ProgressView",
            "bar_style": "success",
            "description": "",
            "description_tooltip": null,
            "layout": "IPY_MODEL_2ce2bf5586b84884877bd4186ce5a7d3",
            "max": 192509,
            "min": 0,
            "orientation": "horizontal",
            "style": "IPY_MODEL_970b9b588e7649ceba70926e334f722a",
            "value": 192509
          }
        },
        "36c859d3131f45a3b0d3af38f9bd5ffd": {
          "model_module": "@jupyter-widgets/base",
          "model_module_version": "1.2.0",
          "model_name": "LayoutModel",
          "state": {
            "_model_module": "@jupyter-widgets/base",
            "_model_module_version": "1.2.0",
            "_model_name": "LayoutModel",
            "_view_count": null,
            "_view_module": "@jupyter-widgets/base",
            "_view_module_version": "1.2.0",
            "_view_name": "LayoutView",
            "align_content": null,
            "align_items": null,
            "align_self": null,
            "border": null,
            "bottom": null,
            "display": null,
            "flex": null,
            "flex_flow": null,
            "grid_area": null,
            "grid_auto_columns": null,
            "grid_auto_flow": null,
            "grid_auto_rows": null,
            "grid_column": null,
            "grid_gap": null,
            "grid_row": null,
            "grid_template_areas": null,
            "grid_template_columns": null,
            "grid_template_rows": null,
            "height": null,
            "justify_content": null,
            "justify_items": null,
            "left": null,
            "margin": null,
            "max_height": null,
            "max_width": null,
            "min_height": null,
            "min_width": null,
            "object_fit": null,
            "object_position": null,
            "order": null,
            "overflow": null,
            "overflow_x": null,
            "overflow_y": null,
            "padding": null,
            "right": null,
            "top": null,
            "visibility": null,
            "width": null
          }
        },
        "426fe655a447428189a81a34731902b8": {
          "model_module": "@jupyter-widgets/controls",
          "model_module_version": "1.5.0",
          "model_name": "DescriptionStyleModel",
          "state": {
            "_model_module": "@jupyter-widgets/controls",
            "_model_module_version": "1.5.0",
            "_model_name": "DescriptionStyleModel",
            "_view_count": null,
            "_view_module": "@jupyter-widgets/base",
            "_view_module_version": "1.2.0",
            "_view_name": "StyleView",
            "description_width": ""
          }
        },
        "4e206fe6dead40c49a338dec6b30005f": {
          "model_module": "@jupyter-widgets/controls",
          "model_module_version": "1.5.0",
          "model_name": "HTMLModel",
          "state": {
            "_dom_classes": [],
            "_model_module": "@jupyter-widgets/controls",
            "_model_module_version": "1.5.0",
            "_model_name": "HTMLModel",
            "_view_count": null,
            "_view_module": "@jupyter-widgets/controls",
            "_view_module_version": "1.5.0",
            "_view_name": "HTMLView",
            "description": "",
            "description_tooltip": null,
            "layout": "IPY_MODEL_b7544b3438164470b06a15188f42403e",
            "placeholder": "​",
            "style": "IPY_MODEL_e56cb79e01b340eab5372660c0515991",
            "value": "100%"
          }
        },
        "58136da0fe2f4ab0afc6cd8f28286bf6": {
          "model_module": "@jupyter-widgets/controls",
          "model_module_version": "1.5.0",
          "model_name": "DescriptionStyleModel",
          "state": {
            "_model_module": "@jupyter-widgets/controls",
            "_model_module_version": "1.5.0",
            "_model_name": "DescriptionStyleModel",
            "_view_count": null,
            "_view_module": "@jupyter-widgets/base",
            "_view_module_version": "1.2.0",
            "_view_name": "StyleView",
            "description_width": ""
          }
        },
        "5d29c69b8b0449689d9199622f226ef6": {
          "model_module": "@jupyter-widgets/controls",
          "model_module_version": "1.5.0",
          "model_name": "FloatProgressModel",
          "state": {
            "_dom_classes": [],
            "_model_module": "@jupyter-widgets/controls",
            "_model_module_version": "1.5.0",
            "_model_name": "FloatProgressModel",
            "_view_count": null,
            "_view_module": "@jupyter-widgets/controls",
            "_view_module_version": "1.5.0",
            "_view_name": "ProgressView",
            "bar_style": "success",
            "description": "",
            "description_tooltip": null,
            "layout": "IPY_MODEL_a3ed8661f5a24ab1bb7e5e1ce7b77315",
            "max": 192509,
            "min": 0,
            "orientation": "horizontal",
            "style": "IPY_MODEL_7ccd09ae830842b9ad7968c27d3b58aa",
            "value": 192509
          }
        },
        "6cc42f9043ad47ed8da24a32b34c0bb4": {
          "model_module": "@jupyter-widgets/controls",
          "model_module_version": "1.5.0",
          "model_name": "DescriptionStyleModel",
          "state": {
            "_model_module": "@jupyter-widgets/controls",
            "_model_module_version": "1.5.0",
            "_model_name": "DescriptionStyleModel",
            "_view_count": null,
            "_view_module": "@jupyter-widgets/base",
            "_view_module_version": "1.2.0",
            "_view_name": "StyleView",
            "description_width": ""
          }
        },
        "70b04ec121884674b8dfc9ef6a035bdc": {
          "model_module": "@jupyter-widgets/controls",
          "model_module_version": "1.5.0",
          "model_name": "HTMLModel",
          "state": {
            "_dom_classes": [],
            "_model_module": "@jupyter-widgets/controls",
            "_model_module_version": "1.5.0",
            "_model_name": "HTMLModel",
            "_view_count": null,
            "_view_module": "@jupyter-widgets/controls",
            "_view_module_version": "1.5.0",
            "_view_name": "HTMLView",
            "description": "",
            "description_tooltip": null,
            "layout": "IPY_MODEL_93915c5bcc3a4276994e3ee5e8ff426b",
            "placeholder": "​",
            "style": "IPY_MODEL_6cc42f9043ad47ed8da24a32b34c0bb4",
            "value": " 192509/192509 [01:09&lt;00:00, 2682.33it/s]"
          }
        },
        "7ccd09ae830842b9ad7968c27d3b58aa": {
          "model_module": "@jupyter-widgets/controls",
          "model_module_version": "1.5.0",
          "model_name": "ProgressStyleModel",
          "state": {
            "_model_module": "@jupyter-widgets/controls",
            "_model_module_version": "1.5.0",
            "_model_name": "ProgressStyleModel",
            "_view_count": null,
            "_view_module": "@jupyter-widgets/base",
            "_view_module_version": "1.2.0",
            "_view_name": "StyleView",
            "bar_color": null,
            "description_width": ""
          }
        },
        "8495991fa6264a38969b046a8cd5ec0f": {
          "model_module": "@jupyter-widgets/controls",
          "model_module_version": "1.5.0",
          "model_name": "HTMLModel",
          "state": {
            "_dom_classes": [],
            "_model_module": "@jupyter-widgets/controls",
            "_model_module_version": "1.5.0",
            "_model_name": "HTMLModel",
            "_view_count": null,
            "_view_module": "@jupyter-widgets/controls",
            "_view_module_version": "1.5.0",
            "_view_name": "HTMLView",
            "description": "",
            "description_tooltip": null,
            "layout": "IPY_MODEL_dc981ef5f3564b089d5ca0c3a5f50f9e",
            "placeholder": "​",
            "style": "IPY_MODEL_efec88ca8b524f9e91ee7fb4851cc49f",
            "value": "100%"
          }
        },
        "93915c5bcc3a4276994e3ee5e8ff426b": {
          "model_module": "@jupyter-widgets/base",
          "model_module_version": "1.2.0",
          "model_name": "LayoutModel",
          "state": {
            "_model_module": "@jupyter-widgets/base",
            "_model_module_version": "1.2.0",
            "_model_name": "LayoutModel",
            "_view_count": null,
            "_view_module": "@jupyter-widgets/base",
            "_view_module_version": "1.2.0",
            "_view_name": "LayoutView",
            "align_content": null,
            "align_items": null,
            "align_self": null,
            "border": null,
            "bottom": null,
            "display": null,
            "flex": null,
            "flex_flow": null,
            "grid_area": null,
            "grid_auto_columns": null,
            "grid_auto_flow": null,
            "grid_auto_rows": null,
            "grid_column": null,
            "grid_gap": null,
            "grid_row": null,
            "grid_template_areas": null,
            "grid_template_columns": null,
            "grid_template_rows": null,
            "height": null,
            "justify_content": null,
            "justify_items": null,
            "left": null,
            "margin": null,
            "max_height": null,
            "max_width": null,
            "min_height": null,
            "min_width": null,
            "object_fit": null,
            "object_position": null,
            "order": null,
            "overflow": null,
            "overflow_x": null,
            "overflow_y": null,
            "padding": null,
            "right": null,
            "top": null,
            "visibility": null,
            "width": null
          }
        },
        "970b9b588e7649ceba70926e334f722a": {
          "model_module": "@jupyter-widgets/controls",
          "model_module_version": "1.5.0",
          "model_name": "ProgressStyleModel",
          "state": {
            "_model_module": "@jupyter-widgets/controls",
            "_model_module_version": "1.5.0",
            "_model_name": "ProgressStyleModel",
            "_view_count": null,
            "_view_module": "@jupyter-widgets/base",
            "_view_module_version": "1.2.0",
            "_view_name": "StyleView",
            "bar_color": null,
            "description_width": ""
          }
        },
        "98938358ca794283bf71a5045018c30a": {
          "model_module": "@jupyter-widgets/controls",
          "model_module_version": "1.5.0",
          "model_name": "HTMLModel",
          "state": {
            "_dom_classes": [],
            "_model_module": "@jupyter-widgets/controls",
            "_model_module_version": "1.5.0",
            "_model_name": "HTMLModel",
            "_view_count": null,
            "_view_module": "@jupyter-widgets/controls",
            "_view_module_version": "1.5.0",
            "_view_name": "HTMLView",
            "description": "",
            "description_tooltip": null,
            "layout": "IPY_MODEL_da14b9cd64654526a9fd80516de84081",
            "placeholder": "​",
            "style": "IPY_MODEL_ffbda87069304b099e82b2a7d77ac4cd",
            "value": "100%"
          }
        },
        "a1f32b886af1471ca97c063c80c433e5": {
          "model_module": "@jupyter-widgets/controls",
          "model_module_version": "1.5.0",
          "model_name": "HTMLModel",
          "state": {
            "_dom_classes": [],
            "_model_module": "@jupyter-widgets/controls",
            "_model_module_version": "1.5.0",
            "_model_name": "HTMLModel",
            "_view_count": null,
            "_view_module": "@jupyter-widgets/controls",
            "_view_module_version": "1.5.0",
            "_view_name": "HTMLView",
            "description": "",
            "description_tooltip": null,
            "layout": "IPY_MODEL_12093b93dc62400ab07d6fc57a77f359",
            "placeholder": "​",
            "style": "IPY_MODEL_426fe655a447428189a81a34731902b8",
            "value": " 84048/84048 [30:15&lt;00:00, 48.28it/s]"
          }
        },
        "a3ed8661f5a24ab1bb7e5e1ce7b77315": {
          "model_module": "@jupyter-widgets/base",
          "model_module_version": "1.2.0",
          "model_name": "LayoutModel",
          "state": {
            "_model_module": "@jupyter-widgets/base",
            "_model_module_version": "1.2.0",
            "_model_name": "LayoutModel",
            "_view_count": null,
            "_view_module": "@jupyter-widgets/base",
            "_view_module_version": "1.2.0",
            "_view_name": "LayoutView",
            "align_content": null,
            "align_items": null,
            "align_self": null,
            "border": null,
            "bottom": null,
            "display": null,
            "flex": null,
            "flex_flow": null,
            "grid_area": null,
            "grid_auto_columns": null,
            "grid_auto_flow": null,
            "grid_auto_rows": null,
            "grid_column": null,
            "grid_gap": null,
            "grid_row": null,
            "grid_template_areas": null,
            "grid_template_columns": null,
            "grid_template_rows": null,
            "height": null,
            "justify_content": null,
            "justify_items": null,
            "left": null,
            "margin": null,
            "max_height": null,
            "max_width": null,
            "min_height": null,
            "min_width": null,
            "object_fit": null,
            "object_position": null,
            "order": null,
            "overflow": null,
            "overflow_x": null,
            "overflow_y": null,
            "padding": null,
            "right": null,
            "top": null,
            "visibility": null,
            "width": null
          }
        },
        "b28290eda6ec49028ae7ef8202889201": {
          "model_module": "@jupyter-widgets/controls",
          "model_module_version": "1.5.0",
          "model_name": "FloatProgressModel",
          "state": {
            "_dom_classes": [],
            "_model_module": "@jupyter-widgets/controls",
            "_model_module_version": "1.5.0",
            "_model_name": "FloatProgressModel",
            "_view_count": null,
            "_view_module": "@jupyter-widgets/controls",
            "_view_module_version": "1.5.0",
            "_view_name": "ProgressView",
            "bar_style": "success",
            "description": "",
            "description_tooltip": null,
            "layout": "IPY_MODEL_d21c08f49fc744e59a0ae2a8818c14ed",
            "max": 84048,
            "min": 0,
            "orientation": "horizontal",
            "style": "IPY_MODEL_23c39a94b61946c2b08c94a195021a3f",
            "value": 84048
          }
        },
        "b7544b3438164470b06a15188f42403e": {
          "model_module": "@jupyter-widgets/base",
          "model_module_version": "1.2.0",
          "model_name": "LayoutModel",
          "state": {
            "_model_module": "@jupyter-widgets/base",
            "_model_module_version": "1.2.0",
            "_model_name": "LayoutModel",
            "_view_count": null,
            "_view_module": "@jupyter-widgets/base",
            "_view_module_version": "1.2.0",
            "_view_name": "LayoutView",
            "align_content": null,
            "align_items": null,
            "align_self": null,
            "border": null,
            "bottom": null,
            "display": null,
            "flex": null,
            "flex_flow": null,
            "grid_area": null,
            "grid_auto_columns": null,
            "grid_auto_flow": null,
            "grid_auto_rows": null,
            "grid_column": null,
            "grid_gap": null,
            "grid_row": null,
            "grid_template_areas": null,
            "grid_template_columns": null,
            "grid_template_rows": null,
            "height": null,
            "justify_content": null,
            "justify_items": null,
            "left": null,
            "margin": null,
            "max_height": null,
            "max_width": null,
            "min_height": null,
            "min_width": null,
            "object_fit": null,
            "object_position": null,
            "order": null,
            "overflow": null,
            "overflow_x": null,
            "overflow_y": null,
            "padding": null,
            "right": null,
            "top": null,
            "visibility": null,
            "width": null
          }
        },
        "bee8c2ff468b429d94aa2da270c32a7e": {
          "model_module": "@jupyter-widgets/controls",
          "model_module_version": "1.5.0",
          "model_name": "HBoxModel",
          "state": {
            "_dom_classes": [],
            "_model_module": "@jupyter-widgets/controls",
            "_model_module_version": "1.5.0",
            "_model_name": "HBoxModel",
            "_view_count": null,
            "_view_module": "@jupyter-widgets/controls",
            "_view_module_version": "1.5.0",
            "_view_name": "HBoxView",
            "box_style": "",
            "children": [
              "IPY_MODEL_98938358ca794283bf71a5045018c30a",
              "IPY_MODEL_2e416cdf8ad84139ac2cc5f3bc7bd996",
              "IPY_MODEL_70b04ec121884674b8dfc9ef6a035bdc"
            ],
            "layout": "IPY_MODEL_13a8405c1d044285ab6339c09d0f0ca0"
          }
        },
        "d21c08f49fc744e59a0ae2a8818c14ed": {
          "model_module": "@jupyter-widgets/base",
          "model_module_version": "1.2.0",
          "model_name": "LayoutModel",
          "state": {
            "_model_module": "@jupyter-widgets/base",
            "_model_module_version": "1.2.0",
            "_model_name": "LayoutModel",
            "_view_count": null,
            "_view_module": "@jupyter-widgets/base",
            "_view_module_version": "1.2.0",
            "_view_name": "LayoutView",
            "align_content": null,
            "align_items": null,
            "align_self": null,
            "border": null,
            "bottom": null,
            "display": null,
            "flex": null,
            "flex_flow": null,
            "grid_area": null,
            "grid_auto_columns": null,
            "grid_auto_flow": null,
            "grid_auto_rows": null,
            "grid_column": null,
            "grid_gap": null,
            "grid_row": null,
            "grid_template_areas": null,
            "grid_template_columns": null,
            "grid_template_rows": null,
            "height": null,
            "justify_content": null,
            "justify_items": null,
            "left": null,
            "margin": null,
            "max_height": null,
            "max_width": null,
            "min_height": null,
            "min_width": null,
            "object_fit": null,
            "object_position": null,
            "order": null,
            "overflow": null,
            "overflow_x": null,
            "overflow_y": null,
            "padding": null,
            "right": null,
            "top": null,
            "visibility": null,
            "width": null
          }
        },
        "d42433ee7df1419fa0dc06d752059ac5": {
          "model_module": "@jupyter-widgets/controls",
          "model_module_version": "1.5.0",
          "model_name": "HTMLModel",
          "state": {
            "_dom_classes": [],
            "_model_module": "@jupyter-widgets/controls",
            "_model_module_version": "1.5.0",
            "_model_name": "HTMLModel",
            "_view_count": null,
            "_view_module": "@jupyter-widgets/controls",
            "_view_module_version": "1.5.0",
            "_view_name": "HTMLView",
            "description": "",
            "description_tooltip": null,
            "layout": "IPY_MODEL_2357438f55a04dd2bc4763fc05d1d8ee",
            "placeholder": "​",
            "style": "IPY_MODEL_58136da0fe2f4ab0afc6cd8f28286bf6",
            "value": " 192509/192509 [17:48&lt;00:00, 198.37it/s]"
          }
        },
        "da14b9cd64654526a9fd80516de84081": {
          "model_module": "@jupyter-widgets/base",
          "model_module_version": "1.2.0",
          "model_name": "LayoutModel",
          "state": {
            "_model_module": "@jupyter-widgets/base",
            "_model_module_version": "1.2.0",
            "_model_name": "LayoutModel",
            "_view_count": null,
            "_view_module": "@jupyter-widgets/base",
            "_view_module_version": "1.2.0",
            "_view_name": "LayoutView",
            "align_content": null,
            "align_items": null,
            "align_self": null,
            "border": null,
            "bottom": null,
            "display": null,
            "flex": null,
            "flex_flow": null,
            "grid_area": null,
            "grid_auto_columns": null,
            "grid_auto_flow": null,
            "grid_auto_rows": null,
            "grid_column": null,
            "grid_gap": null,
            "grid_row": null,
            "grid_template_areas": null,
            "grid_template_columns": null,
            "grid_template_rows": null,
            "height": null,
            "justify_content": null,
            "justify_items": null,
            "left": null,
            "margin": null,
            "max_height": null,
            "max_width": null,
            "min_height": null,
            "min_width": null,
            "object_fit": null,
            "object_position": null,
            "order": null,
            "overflow": null,
            "overflow_x": null,
            "overflow_y": null,
            "padding": null,
            "right": null,
            "top": null,
            "visibility": null,
            "width": null
          }
        },
        "dc981ef5f3564b089d5ca0c3a5f50f9e": {
          "model_module": "@jupyter-widgets/base",
          "model_module_version": "1.2.0",
          "model_name": "LayoutModel",
          "state": {
            "_model_module": "@jupyter-widgets/base",
            "_model_module_version": "1.2.0",
            "_model_name": "LayoutModel",
            "_view_count": null,
            "_view_module": "@jupyter-widgets/base",
            "_view_module_version": "1.2.0",
            "_view_name": "LayoutView",
            "align_content": null,
            "align_items": null,
            "align_self": null,
            "border": null,
            "bottom": null,
            "display": null,
            "flex": null,
            "flex_flow": null,
            "grid_area": null,
            "grid_auto_columns": null,
            "grid_auto_flow": null,
            "grid_auto_rows": null,
            "grid_column": null,
            "grid_gap": null,
            "grid_row": null,
            "grid_template_areas": null,
            "grid_template_columns": null,
            "grid_template_rows": null,
            "height": null,
            "justify_content": null,
            "justify_items": null,
            "left": null,
            "margin": null,
            "max_height": null,
            "max_width": null,
            "min_height": null,
            "min_width": null,
            "object_fit": null,
            "object_position": null,
            "order": null,
            "overflow": null,
            "overflow_x": null,
            "overflow_y": null,
            "padding": null,
            "right": null,
            "top": null,
            "visibility": null,
            "width": null
          }
        },
        "e56cb79e01b340eab5372660c0515991": {
          "model_module": "@jupyter-widgets/controls",
          "model_module_version": "1.5.0",
          "model_name": "DescriptionStyleModel",
          "state": {
            "_model_module": "@jupyter-widgets/controls",
            "_model_module_version": "1.5.0",
            "_model_name": "DescriptionStyleModel",
            "_view_count": null,
            "_view_module": "@jupyter-widgets/base",
            "_view_module_version": "1.2.0",
            "_view_name": "StyleView",
            "description_width": ""
          }
        },
        "efec88ca8b524f9e91ee7fb4851cc49f": {
          "model_module": "@jupyter-widgets/controls",
          "model_module_version": "1.5.0",
          "model_name": "DescriptionStyleModel",
          "state": {
            "_model_module": "@jupyter-widgets/controls",
            "_model_module_version": "1.5.0",
            "_model_name": "DescriptionStyleModel",
            "_view_count": null,
            "_view_module": "@jupyter-widgets/base",
            "_view_module_version": "1.2.0",
            "_view_name": "StyleView",
            "description_width": ""
          }
        },
        "ffbda87069304b099e82b2a7d77ac4cd": {
          "model_module": "@jupyter-widgets/controls",
          "model_module_version": "1.5.0",
          "model_name": "DescriptionStyleModel",
          "state": {
            "_model_module": "@jupyter-widgets/controls",
            "_model_module_version": "1.5.0",
            "_model_name": "DescriptionStyleModel",
            "_view_count": null,
            "_view_module": "@jupyter-widgets/base",
            "_view_module_version": "1.2.0",
            "_view_name": "StyleView",
            "description_width": ""
          }
        }
      }
    }
  },
  "nbformat": 4,
  "nbformat_minor": 0
}
