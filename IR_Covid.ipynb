{
  "nbformat": 4,
  "nbformat_minor": 0,
  "metadata": {
    "colab": {
      "name": "IR - Covid.ipynb",
      "provenance": [],
      "collapsed_sections": []
    },
    "kernelspec": {
      "name": "python3",
      "display_name": "Python 3"
    },
    "language_info": {
      "name": "python"
    },
    "widgets": {
      "application/vnd.jupyter.widget-state+json": {
        "c24d32dc858d449db1c03a788eb1f020": {
          "model_module": "@jupyter-widgets/controls",
          "model_name": "HBoxModel",
          "model_module_version": "1.5.0",
          "state": {
            "_view_name": "HBoxView",
            "_dom_classes": [],
            "_model_name": "HBoxModel",
            "_view_module": "@jupyter-widgets/controls",
            "_model_module_version": "1.5.0",
            "_view_count": null,
            "_view_module_version": "1.5.0",
            "box_style": "",
            "layout": "IPY_MODEL_95a063392709427bbd8a0df832b2e1a0",
            "_model_module": "@jupyter-widgets/controls",
            "children": [
              "IPY_MODEL_6e68ebb9c61d41b19d78614aaab93d52",
              "IPY_MODEL_b52dd37067b3490aa8adac37cb2d4df9",
              "IPY_MODEL_a3becc32f1124e58b486bee59f6559bd"
            ]
          }
        },
        "95a063392709427bbd8a0df832b2e1a0": {
          "model_module": "@jupyter-widgets/base",
          "model_name": "LayoutModel",
          "model_module_version": "1.2.0",
          "state": {
            "_view_name": "LayoutView",
            "grid_template_rows": null,
            "right": null,
            "justify_content": null,
            "_view_module": "@jupyter-widgets/base",
            "overflow": null,
            "_model_module_version": "1.2.0",
            "_view_count": null,
            "flex_flow": null,
            "width": null,
            "min_width": null,
            "border": null,
            "align_items": null,
            "bottom": null,
            "_model_module": "@jupyter-widgets/base",
            "top": null,
            "grid_column": null,
            "overflow_y": null,
            "overflow_x": null,
            "grid_auto_flow": null,
            "grid_area": null,
            "grid_template_columns": null,
            "flex": null,
            "_model_name": "LayoutModel",
            "justify_items": null,
            "grid_row": null,
            "max_height": null,
            "align_content": null,
            "visibility": null,
            "align_self": null,
            "height": null,
            "min_height": null,
            "padding": null,
            "grid_auto_rows": null,
            "grid_gap": null,
            "max_width": null,
            "order": null,
            "_view_module_version": "1.2.0",
            "grid_template_areas": null,
            "object_position": null,
            "object_fit": null,
            "grid_auto_columns": null,
            "margin": null,
            "display": null,
            "left": null
          }
        },
        "6e68ebb9c61d41b19d78614aaab93d52": {
          "model_module": "@jupyter-widgets/controls",
          "model_name": "HTMLModel",
          "model_module_version": "1.5.0",
          "state": {
            "_view_name": "HTMLView",
            "style": "IPY_MODEL_4b01539f9f1141b8ba5d6b5d29e85d9b",
            "_dom_classes": [],
            "description": "",
            "_model_name": "HTMLModel",
            "placeholder": "​",
            "_view_module": "@jupyter-widgets/controls",
            "_model_module_version": "1.5.0",
            "value": " 23%",
            "_view_count": null,
            "_view_module_version": "1.5.0",
            "description_tooltip": null,
            "_model_module": "@jupyter-widgets/controls",
            "layout": "IPY_MODEL_5a2c109c728241c2b0aeb118b45aeffb"
          }
        },
        "b52dd37067b3490aa8adac37cb2d4df9": {
          "model_module": "@jupyter-widgets/controls",
          "model_name": "FloatProgressModel",
          "model_module_version": "1.5.0",
          "state": {
            "_view_name": "ProgressView",
            "style": "IPY_MODEL_55dbc98f309f48979368bea181b8b227",
            "_dom_classes": [],
            "description": "",
            "_model_name": "FloatProgressModel",
            "bar_style": "",
            "max": 192509,
            "_view_module": "@jupyter-widgets/controls",
            "_model_module_version": "1.5.0",
            "value": 43745,
            "_view_count": null,
            "_view_module_version": "1.5.0",
            "orientation": "horizontal",
            "min": 0,
            "description_tooltip": null,
            "_model_module": "@jupyter-widgets/controls",
            "layout": "IPY_MODEL_bbf627661c424b52ba358c0f6a246799"
          }
        },
        "a3becc32f1124e58b486bee59f6559bd": {
          "model_module": "@jupyter-widgets/controls",
          "model_name": "HTMLModel",
          "model_module_version": "1.5.0",
          "state": {
            "_view_name": "HTMLView",
            "style": "IPY_MODEL_0ffef1f767414f94832d9abd730e3b23",
            "_dom_classes": [],
            "description": "",
            "_model_name": "HTMLModel",
            "placeholder": "​",
            "_view_module": "@jupyter-widgets/controls",
            "_model_module_version": "1.5.0",
            "value": " 43745/192509 [09:26&lt;38:25, 64.54it/s]",
            "_view_count": null,
            "_view_module_version": "1.5.0",
            "description_tooltip": null,
            "_model_module": "@jupyter-widgets/controls",
            "layout": "IPY_MODEL_430d8215749c494eb47c1845bf131478"
          }
        },
        "4b01539f9f1141b8ba5d6b5d29e85d9b": {
          "model_module": "@jupyter-widgets/controls",
          "model_name": "DescriptionStyleModel",
          "model_module_version": "1.5.0",
          "state": {
            "_view_name": "StyleView",
            "_model_name": "DescriptionStyleModel",
            "description_width": "",
            "_view_module": "@jupyter-widgets/base",
            "_model_module_version": "1.5.0",
            "_view_count": null,
            "_view_module_version": "1.2.0",
            "_model_module": "@jupyter-widgets/controls"
          }
        },
        "5a2c109c728241c2b0aeb118b45aeffb": {
          "model_module": "@jupyter-widgets/base",
          "model_name": "LayoutModel",
          "model_module_version": "1.2.0",
          "state": {
            "_view_name": "LayoutView",
            "grid_template_rows": null,
            "right": null,
            "justify_content": null,
            "_view_module": "@jupyter-widgets/base",
            "overflow": null,
            "_model_module_version": "1.2.0",
            "_view_count": null,
            "flex_flow": null,
            "width": null,
            "min_width": null,
            "border": null,
            "align_items": null,
            "bottom": null,
            "_model_module": "@jupyter-widgets/base",
            "top": null,
            "grid_column": null,
            "overflow_y": null,
            "overflow_x": null,
            "grid_auto_flow": null,
            "grid_area": null,
            "grid_template_columns": null,
            "flex": null,
            "_model_name": "LayoutModel",
            "justify_items": null,
            "grid_row": null,
            "max_height": null,
            "align_content": null,
            "visibility": null,
            "align_self": null,
            "height": null,
            "min_height": null,
            "padding": null,
            "grid_auto_rows": null,
            "grid_gap": null,
            "max_width": null,
            "order": null,
            "_view_module_version": "1.2.0",
            "grid_template_areas": null,
            "object_position": null,
            "object_fit": null,
            "grid_auto_columns": null,
            "margin": null,
            "display": null,
            "left": null
          }
        },
        "55dbc98f309f48979368bea181b8b227": {
          "model_module": "@jupyter-widgets/controls",
          "model_name": "ProgressStyleModel",
          "model_module_version": "1.5.0",
          "state": {
            "_view_name": "StyleView",
            "_model_name": "ProgressStyleModel",
            "description_width": "",
            "_view_module": "@jupyter-widgets/base",
            "_model_module_version": "1.5.0",
            "_view_count": null,
            "_view_module_version": "1.2.0",
            "bar_color": null,
            "_model_module": "@jupyter-widgets/controls"
          }
        },
        "bbf627661c424b52ba358c0f6a246799": {
          "model_module": "@jupyter-widgets/base",
          "model_name": "LayoutModel",
          "model_module_version": "1.2.0",
          "state": {
            "_view_name": "LayoutView",
            "grid_template_rows": null,
            "right": null,
            "justify_content": null,
            "_view_module": "@jupyter-widgets/base",
            "overflow": null,
            "_model_module_version": "1.2.0",
            "_view_count": null,
            "flex_flow": null,
            "width": null,
            "min_width": null,
            "border": null,
            "align_items": null,
            "bottom": null,
            "_model_module": "@jupyter-widgets/base",
            "top": null,
            "grid_column": null,
            "overflow_y": null,
            "overflow_x": null,
            "grid_auto_flow": null,
            "grid_area": null,
            "grid_template_columns": null,
            "flex": null,
            "_model_name": "LayoutModel",
            "justify_items": null,
            "grid_row": null,
            "max_height": null,
            "align_content": null,
            "visibility": null,
            "align_self": null,
            "height": null,
            "min_height": null,
            "padding": null,
            "grid_auto_rows": null,
            "grid_gap": null,
            "max_width": null,
            "order": null,
            "_view_module_version": "1.2.0",
            "grid_template_areas": null,
            "object_position": null,
            "object_fit": null,
            "grid_auto_columns": null,
            "margin": null,
            "display": null,
            "left": null
          }
        },
        "0ffef1f767414f94832d9abd730e3b23": {
          "model_module": "@jupyter-widgets/controls",
          "model_name": "DescriptionStyleModel",
          "model_module_version": "1.5.0",
          "state": {
            "_view_name": "StyleView",
            "_model_name": "DescriptionStyleModel",
            "description_width": "",
            "_view_module": "@jupyter-widgets/base",
            "_model_module_version": "1.5.0",
            "_view_count": null,
            "_view_module_version": "1.2.0",
            "_model_module": "@jupyter-widgets/controls"
          }
        },
        "430d8215749c494eb47c1845bf131478": {
          "model_module": "@jupyter-widgets/base",
          "model_name": "LayoutModel",
          "model_module_version": "1.2.0",
          "state": {
            "_view_name": "LayoutView",
            "grid_template_rows": null,
            "right": null,
            "justify_content": null,
            "_view_module": "@jupyter-widgets/base",
            "overflow": null,
            "_model_module_version": "1.2.0",
            "_view_count": null,
            "flex_flow": null,
            "width": null,
            "min_width": null,
            "border": null,
            "align_items": null,
            "bottom": null,
            "_model_module": "@jupyter-widgets/base",
            "top": null,
            "grid_column": null,
            "overflow_y": null,
            "overflow_x": null,
            "grid_auto_flow": null,
            "grid_area": null,
            "grid_template_columns": null,
            "flex": null,
            "_model_name": "LayoutModel",
            "justify_items": null,
            "grid_row": null,
            "max_height": null,
            "align_content": null,
            "visibility": null,
            "align_self": null,
            "height": null,
            "min_height": null,
            "padding": null,
            "grid_auto_rows": null,
            "grid_gap": null,
            "max_width": null,
            "order": null,
            "_view_module_version": "1.2.0",
            "grid_template_areas": null,
            "object_position": null,
            "object_fit": null,
            "grid_auto_columns": null,
            "margin": null,
            "display": null,
            "left": null
          }
        }
      }
    }
  },
  "cells": [
    {
      "cell_type": "code",
      "execution_count": 1,
      "metadata": {
        "id": "r5eME1ykuzTu"
      },
      "outputs": [],
      "source": [
        "# install and import libraries\n",
        "%%capture\n",
        "!pip install ir_datasets\n",
        "!pip install demoji\n",
        "\n",
        "import numpy as np\n",
        "import pandas as pd\n",
        "import ir_datasets\n",
        "import demoji\n",
        "\n",
        "import spacy\n",
        "from spacy import displacy\n",
        "from wordcloud import WordCloud\n",
        "\n",
        "import nltk\n",
        "nltk.download('punkt')\n",
        "nltk.download('stopwords')\n",
        "nltk.download('wordnet')\n",
        "nltk.download('averaged_perceptron_tagger')\n",
        "nltk.download('maxent_ne_chunker')\n",
        "nltk.download('words')\n",
        "\n",
        "import matplotlib.pyplot as plt\n",
        "\n",
        "pd.set_option('max_colwidth', 800)\n",
        "\n",
        "nlp = spacy.load(\"en_core_web_sm\")"
      ]
    },
    {
      "cell_type": "code",
      "source": [
        "# load dataset\n",
        "dataset = ir_datasets.load(\"cord19/trec-covid\")\n",
        "print(f\"queries: {dataset.queries_count()}, docs: {dataset.docs_count()}, qrels: {dataset.qrels_count()}\")"
      ],
      "metadata": {
        "colab": {
          "base_uri": "https://localhost:8080/"
        },
        "id": "X4m0UNvlxRN0",
        "outputId": "d70e98b9-5371-47d3-ae4a-c25da18541c2"
      },
      "execution_count": 2,
      "outputs": [
        {
          "output_type": "stream",
          "name": "stdout",
          "text": [
            "queries: 50, docs: 192509, qrels: 69318\n"
          ]
        }
      ]
    },
    {
      "cell_type": "markdown",
      "source": [
        "# Part 1: Analysis of Queries and Documents"
      ],
      "metadata": {
        "id": "Jfk8csN4xuPT"
      }
    },
    {
      "cell_type": "code",
      "source": [
        "%%capture\n",
        "# convert the collection in a dataframe\n",
        "queries = pd.DataFrame(dataset.queries_iter())\n",
        "docs = pd.DataFrame(dataset.docs_iter())\n",
        "qrels = pd.DataFrame(dataset.qrels_iter())"
      ],
      "metadata": {
        "id": "Y-vHi20Bv1Vt"
      },
      "execution_count": 3,
      "outputs": []
    },
    {
      "cell_type": "code",
      "source": [
        "display(queries.sample(5))\n",
        "display(docs.sample(5))\n",
        "display(qrels.sample(5))"
      ],
      "metadata": {
        "id": "gZGDFm1XYovW"
      },
      "execution_count": null,
      "outputs": []
    },
    {
      "cell_type": "markdown",
      "source": [
        "* numbers\n",
        "* punctuation\n",
        "* symbols\n",
        "* whitespaces\n",
        "* stop words\n",
        "* HTML tags\n",
        "* repeated characters\n",
        "* URLs\n",
        "* emojis\n",
        "\n",
        "---\n",
        "\n",
        "- stemming / lemmatization ?"
      ],
      "metadata": {
        "id": "a_CDGzzQf6uY"
      }
    },
    {
      "cell_type": "markdown",
      "source": [
        "## Preprocessing"
      ],
      "metadata": {
        "id": "Xysu3Q2ijJwz"
      }
    },
    {
      "cell_type": "code",
      "source": [
        "import re\n",
        "import html\n",
        "import string\n",
        "\n",
        "from nltk.tokenize import sent_tokenize\n",
        "from nltk.stem import WordNetLemmatizer\n",
        "from nltk.corpus import stopwords, wordnet as wn\n",
        "\n",
        "def remove_urls(text):\n",
        "    return re.sub(r'https?://\\S+|www.\\.\\S+', '', text)\n",
        "\n",
        "# decidere se tenere qualche carattere\n",
        "def remove_punctuation(text):\n",
        "    return \"\".join([i for i in text if i not in string.punctuation])\n",
        "\n",
        "def remove_extra_whitespace(text):\n",
        "    return \" \".join(text.split())\n",
        "\n",
        "def replace_html_entities(text):\n",
        "    return html.unescape(text)\n",
        "\n",
        "def remove_stopwords(text):\n",
        "    stop_words = set(stopwords.words('english'))\n",
        "    return \" \".join([word for word in text.split() if word.lower() not in stop_words])\n",
        "\n",
        "# TODO\n",
        "def replace_emojis(text):\n",
        "    pass\n",
        "def remove_numbers(text):\n",
        "    pass\n",
        "\n",
        "\n",
        "# il lemmatizer di wordnet ha solo questi 4 tag \n",
        "def pos2wordnet(nltk_pos):\n",
        "  if nltk_pos.startswith('J'):\n",
        "    return wn.ADJ\n",
        "  elif nltk_pos.startswith('V'):\n",
        "    return wn.VERB\n",
        "  elif nltk_pos.startswith('N'):\n",
        "    return wn.NOUN\n",
        "  elif nltk_pos.startswith('R'):\n",
        "    return wn.ADV\n",
        "  else:\n",
        "    return wn.NOUN\n",
        "\n",
        "\n",
        "def preprocess(text):\n",
        "  sentences = nltk.sent_tokenize(text)\n",
        "  \n",
        "  tokens_list = []\n",
        "  for sent in sentences:\n",
        "    sent = sent.lower()\n",
        "    sent = remove_extra_whitespace(sent)\n",
        "    sent = remove_urls(sent)\n",
        "    sent = replace_html_entities(sent) # before removing punctuation (&\\w+;)\n",
        "    sent = remove_punctuation(sent)\n",
        "    sent = remove_stopwords(sent)\n",
        "\n",
        "    tokens = nltk.word_tokenize(sent)\n",
        "    tokens_list.append(tokens)\n",
        "\n",
        "  tagged_tokens = nltk.pos_tag_sents(tokens_list)\n",
        "\n",
        "  wnl = WordNetLemmatizer()\n",
        "\n",
        "  result = []\n",
        "  for tokens in tagged_tokens:\n",
        "    for (token, pos) in tokens:\n",
        "      t = wnl.lemmatize(token, pos2wordnet(pos))\n",
        "      result.append(t)\n",
        "    \n",
        "  return result"
      ],
      "metadata": {
        "id": "jByneEyJjJJb"
      },
      "execution_count": 5,
      "outputs": []
    },
    {
      "cell_type": "code",
      "source": [
        "text = docs[\"abstract\"][0]\n",
        "x = preprocess(text)"
      ],
      "metadata": {
        "id": "zJ9Leb4--4UW"
      },
      "execution_count": 6,
      "outputs": []
    },
    {
      "cell_type": "markdown",
      "source": [
        "TODO: tenere solo i documenti riguardanti il covid19\n",
        "\n",
        "IDEA: se non contengono [covid19, SARS-CoV-2, ...] cercare in un range di date"
      ],
      "metadata": {
        "id": "kgpMwyPMMgnz"
      }
    },
    {
      "cell_type": "markdown",
      "source": [
        "## Word Cloud"
      ],
      "metadata": {
        "id": "5YOYkue-ZG7c"
      }
    },
    {
      "cell_type": "code",
      "source": [
        "from tqdm.notebook import tqdm\n",
        "\n",
        "titles = []\n",
        "abstracts = []\n",
        "\n",
        "# docs = docs[:50000]  # limit data for fast test\n",
        "\n",
        "for index, row in tqdm(docs.iterrows(), total=len(docs)):\n",
        "  title_tokens = preprocess(row[\"title\"])\n",
        "  abstract_tokens = preprocess(row[\"abstract\"])\n",
        "\n",
        "  titles.extend(title_tokens)\n",
        "  abstracts.extend(abstract_tokens)"
      ],
      "metadata": {
        "colab": {
          "base_uri": "https://localhost:8080/",
          "height": 48,
          "referenced_widgets": [
            "c24d32dc858d449db1c03a788eb1f020",
            "95a063392709427bbd8a0df832b2e1a0",
            "6e68ebb9c61d41b19d78614aaab93d52",
            "b52dd37067b3490aa8adac37cb2d4df9",
            "a3becc32f1124e58b486bee59f6559bd",
            "4b01539f9f1141b8ba5d6b5d29e85d9b",
            "5a2c109c728241c2b0aeb118b45aeffb",
            "55dbc98f309f48979368bea181b8b227",
            "bbf627661c424b52ba358c0f6a246799",
            "0ffef1f767414f94832d9abd730e3b23",
            "430d8215749c494eb47c1845bf131478"
          ]
        },
        "id": "FZTME-F-ZGVo",
        "outputId": "394c5ebd-5ee2-4073-8c97-2c66be73c3d0"
      },
      "execution_count": null,
      "outputs": [
        {
          "output_type": "display_data",
          "data": {
            "application/vnd.jupyter.widget-view+json": {
              "model_id": "c24d32dc858d449db1c03a788eb1f020",
              "version_minor": 0,
              "version_major": 2
            },
            "text/plain": [
              "  0%|          | 0/192509 [00:00<?, ?it/s]"
            ]
          },
          "metadata": {}
        }
      ]
    },
    {
      "cell_type": "code",
      "source": [
        "from collections import Counter\n",
        "counter_title = Counter(titles)\n",
        "counter_abstract = Counter(abstracts)"
      ],
      "metadata": {
        "id": "uCHJ6oRruyHZ"
      },
      "execution_count": null,
      "outputs": []
    },
    {
      "cell_type": "code",
      "source": [
        "wc = WordCloud(collocations=False, background_color=\"white\", width=600, height=400)\n",
        "\n",
        "word_cloud = wc.generate_from_frequencies(counter_title)\n",
        "word_cloud.to_image()"
      ],
      "metadata": {
        "id": "mlqkZ0EwZhjZ"
      },
      "execution_count": null,
      "outputs": []
    },
    {
      "cell_type": "code",
      "source": [
        "word_cloud = wc.generate_from_frequencies(counter_abstract)\n",
        "word_cloud.to_image()"
      ],
      "metadata": {
        "id": "dNINNfTnsK1_"
      },
      "execution_count": null,
      "outputs": []
    },
    {
      "cell_type": "markdown",
      "source": [
        "## Token Statistics"
      ],
      "metadata": {
        "id": "kvKYrnM2gElN"
      }
    },
    {
      "cell_type": "code",
      "source": [
        "print(\"\\n[Number of Tokens]\")\n",
        "print(\"Titles:\", len(counter_title.keys()))\n",
        "print(\"Abstracts:\", len(counter_abstract.keys()))\n",
        "\n",
        "k = 10\n",
        "top_k_titles = [word for word, count in counter_title.most_common(k)]\n",
        "top_k_abstracts = [word for word, count in counter_abstract.most_common(k)]\n",
        "\n",
        "print(f\"\\n[Top {k} Most Common Tokens]\")\n",
        "print(f\"Titles: {', '.join(top_k_titles)}\")\n",
        "print(f\"Abstracts: {', '.join(top_k_abstracts)}\")"
      ],
      "metadata": {
        "id": "cDHoGMEdgDln"
      },
      "execution_count": null,
      "outputs": []
    },
    {
      "cell_type": "code",
      "source": [
        "import seaborn as sns\n",
        "import matplotlib.pyplot as plt\n",
        "\n",
        "k = 30\n",
        "\n",
        "common_titles = dict(counter_title.most_common(k))\n",
        "x_title = list(common_titles.keys())\n",
        "y_title = list(common_titles.values())\n",
        "\n",
        "common_abstracts = dict(counter_abstract.most_common(k))\n",
        "x_abstract = list(common_abstracts.keys())\n",
        "y_abstract = list(common_abstracts.values())\n",
        "\n",
        "fig, (ax1, ax2) = plt.subplots(2, 1, figsize=(20, 6))\n",
        "sns.barplot(x=x_title, y=y_title, ax=ax1)\n",
        "sns.barplot(x=x_abstract, y=y_abstract, ax=ax2)\n",
        "ax1.set_xticklabels(ax1.get_xticklabels(), rotation = 30)\n",
        "ax2.set_xticklabels(ax2.get_xticklabels(), rotation = 30)\n",
        "fig.tight_layout()"
      ],
      "metadata": {
        "id": "B7GLmQqZhSSj"
      },
      "execution_count": null,
      "outputs": []
    },
    {
      "cell_type": "markdown",
      "source": [
        "## Entities"
      ],
      "metadata": {
        "id": "zE3dHsCt2iSP"
      }
    },
    {
      "cell_type": "markdown",
      "source": [
        "# Part 2: Basic Search"
      ],
      "metadata": {
        "id": "x6PRw71PxzRa"
      }
    },
    {
      "cell_type": "markdown",
      "source": [
        "# Part 3: Advanced Search (Optional)"
      ],
      "metadata": {
        "id": "bHsXCNXAzARB"
      }
    },
    {
      "cell_type": "markdown",
      "source": [
        "# NOTE\n",
        "\n",
        "prof: importate la precision. l'obiettivo é riportare la risposta migliore\n"
      ],
      "metadata": {
        "id": "eJr_Z7coEOtQ"
      }
    }
  ]
}