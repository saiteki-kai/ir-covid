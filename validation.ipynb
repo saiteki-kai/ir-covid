{
 "cells": [
  {
   "cell_type": "markdown",
   "metadata": {
    "id": "Jfk8csN4xuPT"
   },
   "source": [
    "# Part 3: Validation"
   ]
  },
  {
   "cell_type": "code",
   "execution_count": 1,
   "metadata": {},
   "outputs": [],
   "source": [
    "%%capture\n",
    "%pip install python-terrier\n",
    "\n",
    "import pyterrier as pt\n",
    "from pyterrier.measures import *\n",
    "import pandas as pd\n",
    "import numpy as np\n",
    "from tqdm.notebook import tqdm\n",
    "\n",
    "from utils import preprocess"
   ]
  },
  {
   "cell_type": "code",
   "execution_count": 2,
   "metadata": {},
   "outputs": [
    {
     "name": "stdout",
     "output_type": "stream",
     "text": [
      "PyTerrier 0.7.2 has loaded Terrier 5.6 (built by craigmacdonald on 2021-09-17 13:27)\n"
     ]
    },
    {
     "name": "stderr",
     "output_type": "stream",
     "text": [
      "No etc/terrier.properties, using terrier.default.properties for bootstrap configuration.\n"
     ]
    }
   ],
   "source": [
    "import os\n",
    "os.environ[\"JAVA_HOME\"] = \"/usr/lib/jvm/java-1.11.0-openjdk-amd64/\"\n",
    "\n",
    "if not pt.started():\n",
    "  pt.init()"
   ]
  },
  {
   "cell_type": "code",
   "execution_count": 3,
   "metadata": {},
   "outputs": [],
   "source": [
    "def create_index(docs_df, mode=\"both\", indexer_path=\"./pd_index\"):\n",
    "\n",
    "    pd_indexer = pt.DFIndexer(indexer_path, remove_stopwords=False, overwrite=True)\n",
    "    pd_indexer.setProperty(\"termpipelines\", \"\")\n",
    "    #pd_indexer.setProperty(\"metaindex.compressed.reverse.allow.duplicates\", \"False\")\n",
    "\n",
    "    if mode == \"title\":\n",
    "        index_ref = pd_indexer.index(docs_df[\"title\"], docs_df[\"docno\"])\n",
    "    elif mode == \"abstract\":\n",
    "        index_ref = pd_indexer.index(docs_df[\"abstract\"], docs_df[\"docno\"])\n",
    "    else:  # both or else\n",
    "        index_ref = pd_indexer.index(docs_df[\"title\"], docs_df[\"abstract\"], docs_df[\"docno\"])\n",
    "\n",
    "    return index_ref\n",
    "\n",
    "def index_model(index, model=\"TF_IDF\"):\n",
    "    \"\"\"\n",
    "    Create and return an indexing model.\n",
    "    http://terrier.org/docs/current/javadoc/org/terrier/matching/models/package-summary.html\n",
    "    Model can be such as:\n",
    "    \"TF_IDF\", \"PL2\", \"DLH\",\n",
    "    \"Hiemstra_LM\", \"Dirichlet_LM\",\n",
    "    \"BM25\", etc\n",
    "    \"\"\"\n",
    "    list_model = [\"TF_IDF\", \"PL2\", \"DLH\", \"Hiemstra_LM\", \"Dirichlet_LM\", \"BM25\"]\n",
    "\n",
    "    indexing_model = pt.BatchRetrieve(index, wmodel=model)\n",
    "    return indexing_model\n",
    "\n",
    "def preprocess_queries(queries):\n",
    "    queries_preprocessed = queries.copy()\n",
    "    for index, row in tqdm(queries.iterrows(), total=len(queries)):\n",
    "        queries_preprocessed.loc[index, \"title\"] = \" \".join(preprocess(row[\"title\"]))\n",
    "        queries_preprocessed.loc[index, \"description\"] = \" \".join(\n",
    "            preprocess(row[\"description\"])\n",
    "        )\n",
    "        queries_preprocessed.loc[index, \"narrative\"] = \" \".join(\n",
    "            preprocess(row[\"narrative\"])\n",
    "        )\n",
    "\n",
    "    queries_preprocessed.to_pickle(\"data/queries_processed.pkl\")\n",
    "    return queries_preprocessed\n",
    "\n",
    "def expirement(indexed_docs, preprocessed_query, qrels):\n",
    "    tfidf = index_model(indexed_docs, model=\"TF_IDF\")\n",
    "    bm25 = index_model(indexed_docs, model=\"BM25\")\n",
    "    dirichlet_lm = index_model(indexed_docs, model=\"DirichletLM\")\n",
    "\n",
    "    exp = pt.Experiment(\n",
    "        [tfidf, bm25, dirichlet_lm],\n",
    "        preprocessed_query,\n",
    "        qrels,\n",
    "        eval_metrics=[P@5, P@10, nDCG@10, RR(rel=2)],\n",
    "        names=[\"TF_IDF\", \"BM25\", \"DirichletLM\"]\n",
    "    )\n",
    "    return exp"
   ]
  },
  {
   "cell_type": "markdown",
   "metadata": {},
   "source": [
    "# Experiments\n",
    "# - preprocessing: {all languages, only english}\n",
    "# - topics: {title, description, narrative}\n",
    "# - indexing: {title, abstract, both}\n",
    "# - models: {tf_idf, bm25, dirichlet_lm}"
   ]
  },
  {
   "cell_type": "code",
   "execution_count": null,
   "metadata": {
    "pycharm": {
     "is_executing": true
    }
   },
   "outputs": [],
   "source": [
    "%%capture\n",
    "\n",
    "# read preprocessed en-documents\n",
    "en_docs = pd.read_pickle('./data/en_docs_processed.pkl')\n",
    "en_docs.rename(columns={\"doc_id\":\"docno\"}, inplace=True)\n",
    "\n",
    "# index en-documents by (title, abstract, both)\n",
    "index_ref_en_docs_title = create_index(en_docs, mode=\"title\", indexer_path=\"./indexes/en/title\")\n",
    "index_en_docs_title = pt.IndexFactory.of(index_ref_en_docs_title)\n",
    "\n",
    "index_ref_en_docs_abstract = create_index(en_docs, mode=\"abstract\", indexer_path=\"./indexes/en/abstract\")\n",
    "index_en_docs_abstract = pt.IndexFactory.of(index_ref_en_docs_abstract)\n",
    "\n",
    "index_ref_en_docs_both = create_index(en_docs, mode=\"both\", indexer_path=\"./indexes/en/both\")\n",
    "index_en_docs_both = pt.IndexFactory.of(index_ref_en_docs_both)"
   ]
  },
  {
   "cell_type": "code",
   "execution_count": null,
   "metadata": {
    "pycharm": {
     "is_executing": true
    }
   },
   "outputs": [],
   "source": [
    "%%capture\n",
    "# read preprocessed documents\n",
    "docs = pd.read_pickle('./data/docs_processed.pkl')\n",
    "docs.rename(columns={\"doc_id\":\"docno\"}, inplace=True)\n",
    "\n",
    "# index documents by (title, abstract, both)\n",
    "index_ref_docs_title = create_index(docs, mode=\"title\", indexer_path=\"./indexes/all/title\")\n",
    "index_docs_title = pt.IndexFactory.of(index_ref_docs_title)\n",
    "\n",
    "index_ref_docs_abstract = create_index(docs, mode=\"abstract\", indexer_path=\"./indexes/all/abstract\")\n",
    "index_docs_abstract = pt.IndexFactory.of(index_ref_docs_abstract)\n",
    "\n",
    "index_ref_docs_both = create_index(docs, mode=\"both\", indexer_path=\"./indexes/all/both\")\n",
    "index_docs_both = pt.IndexFactory.of(index_ref_docs_title)"
   ]
  },
  {
   "cell_type": "code",
   "execution_count": 6,
   "metadata": {},
   "outputs": [
    {
     "data": {
      "text/plain": "  0%|          | 0/50 [00:00<?, ?it/s]",
      "application/vnd.jupyter.widget-view+json": {
       "version_major": 2,
       "version_minor": 0,
       "model_id": "c0d116d0cdc94ae4ae4e9ef37f327c25"
      }
     },
     "metadata": {},
     "output_type": "display_data"
    },
    {
     "data": {
      "text/plain": "  query_id                                title  \\\n0        1                   coronavirus origin   \n1        2  coronavirus response weather change   \n2        3                 coronavirus immunity   \n3        4               people die coronavirus   \n4        5                 animal model covid19   \n\n                                         description  \\\n0                                     origin covid19   \n1                 coronavirus respond change weather   \n2  sarscov2 infect people develop immunity cross ...   \n3                                cause death covid19   \n4          drug active sarscov sarscov2 animal study   \n\n                                           narrative  \n0  seek range information sarscov2 virus origin i...  \n1  seek range information sarscov2 virus viabilit...  \n2  seek study immunity develop due infection sars...  \n3                 study look mechanism death covid19  \n4  paper describe result test drug bind spike pro...  ",
      "text/html": "<div>\n<style scoped>\n    .dataframe tbody tr th:only-of-type {\n        vertical-align: middle;\n    }\n\n    .dataframe tbody tr th {\n        vertical-align: top;\n    }\n\n    .dataframe thead th {\n        text-align: right;\n    }\n</style>\n<table border=\"1\" class=\"dataframe\">\n  <thead>\n    <tr style=\"text-align: right;\">\n      <th></th>\n      <th>query_id</th>\n      <th>title</th>\n      <th>description</th>\n      <th>narrative</th>\n    </tr>\n  </thead>\n  <tbody>\n    <tr>\n      <th>0</th>\n      <td>1</td>\n      <td>coronavirus origin</td>\n      <td>origin covid19</td>\n      <td>seek range information sarscov2 virus origin i...</td>\n    </tr>\n    <tr>\n      <th>1</th>\n      <td>2</td>\n      <td>coronavirus response weather change</td>\n      <td>coronavirus respond change weather</td>\n      <td>seek range information sarscov2 virus viabilit...</td>\n    </tr>\n    <tr>\n      <th>2</th>\n      <td>3</td>\n      <td>coronavirus immunity</td>\n      <td>sarscov2 infect people develop immunity cross ...</td>\n      <td>seek study immunity develop due infection sars...</td>\n    </tr>\n    <tr>\n      <th>3</th>\n      <td>4</td>\n      <td>people die coronavirus</td>\n      <td>cause death covid19</td>\n      <td>study look mechanism death covid19</td>\n    </tr>\n    <tr>\n      <th>4</th>\n      <td>5</td>\n      <td>animal model covid19</td>\n      <td>drug active sarscov sarscov2 animal study</td>\n      <td>paper describe result test drug bind spike pro...</td>\n    </tr>\n  </tbody>\n</table>\n</div>"
     },
     "metadata": {},
     "output_type": "display_data"
    },
    {
     "data": {
      "text/plain": "  qid                                query\n0   1                   coronavirus origin\n1   2  coronavirus response weather change\n2   3                 coronavirus immunity\n3   4               people die coronavirus\n4   5                 animal model covid19",
      "text/html": "<div>\n<style scoped>\n    .dataframe tbody tr th:only-of-type {\n        vertical-align: middle;\n    }\n\n    .dataframe tbody tr th {\n        vertical-align: top;\n    }\n\n    .dataframe thead th {\n        text-align: right;\n    }\n</style>\n<table border=\"1\" class=\"dataframe\">\n  <thead>\n    <tr style=\"text-align: right;\">\n      <th></th>\n      <th>qid</th>\n      <th>query</th>\n    </tr>\n  </thead>\n  <tbody>\n    <tr>\n      <th>0</th>\n      <td>1</td>\n      <td>coronavirus origin</td>\n    </tr>\n    <tr>\n      <th>1</th>\n      <td>2</td>\n      <td>coronavirus response weather change</td>\n    </tr>\n    <tr>\n      <th>2</th>\n      <td>3</td>\n      <td>coronavirus immunity</td>\n    </tr>\n    <tr>\n      <th>3</th>\n      <td>4</td>\n      <td>people die coronavirus</td>\n    </tr>\n    <tr>\n      <th>4</th>\n      <td>5</td>\n      <td>animal model covid19</td>\n    </tr>\n  </tbody>\n</table>\n</div>"
     },
     "metadata": {},
     "output_type": "display_data"
    },
    {
     "data": {
      "text/plain": "  qid                                              query\n0   1                                     origin covid19\n1   2                 coronavirus respond change weather\n2   3  sarscov2 infect people develop immunity cross ...\n3   4                                cause death covid19\n4   5          drug active sarscov sarscov2 animal study",
      "text/html": "<div>\n<style scoped>\n    .dataframe tbody tr th:only-of-type {\n        vertical-align: middle;\n    }\n\n    .dataframe tbody tr th {\n        vertical-align: top;\n    }\n\n    .dataframe thead th {\n        text-align: right;\n    }\n</style>\n<table border=\"1\" class=\"dataframe\">\n  <thead>\n    <tr style=\"text-align: right;\">\n      <th></th>\n      <th>qid</th>\n      <th>query</th>\n    </tr>\n  </thead>\n  <tbody>\n    <tr>\n      <th>0</th>\n      <td>1</td>\n      <td>origin covid19</td>\n    </tr>\n    <tr>\n      <th>1</th>\n      <td>2</td>\n      <td>coronavirus respond change weather</td>\n    </tr>\n    <tr>\n      <th>2</th>\n      <td>3</td>\n      <td>sarscov2 infect people develop immunity cross ...</td>\n    </tr>\n    <tr>\n      <th>3</th>\n      <td>4</td>\n      <td>cause death covid19</td>\n    </tr>\n    <tr>\n      <th>4</th>\n      <td>5</td>\n      <td>drug active sarscov sarscov2 animal study</td>\n    </tr>\n  </tbody>\n</table>\n</div>"
     },
     "metadata": {},
     "output_type": "display_data"
    },
    {
     "data": {
      "text/plain": "  qid                                              query\n0   1  seek range information sarscov2 virus origin i...\n1   2  seek range information sarscov2 virus viabilit...\n2   3  seek study immunity develop due infection sars...\n3   4                 study look mechanism death covid19\n4   5  paper describe result test drug bind spike pro...",
      "text/html": "<div>\n<style scoped>\n    .dataframe tbody tr th:only-of-type {\n        vertical-align: middle;\n    }\n\n    .dataframe tbody tr th {\n        vertical-align: top;\n    }\n\n    .dataframe thead th {\n        text-align: right;\n    }\n</style>\n<table border=\"1\" class=\"dataframe\">\n  <thead>\n    <tr style=\"text-align: right;\">\n      <th></th>\n      <th>qid</th>\n      <th>query</th>\n    </tr>\n  </thead>\n  <tbody>\n    <tr>\n      <th>0</th>\n      <td>1</td>\n      <td>seek range information sarscov2 virus origin i...</td>\n    </tr>\n    <tr>\n      <th>1</th>\n      <td>2</td>\n      <td>seek range information sarscov2 virus viabilit...</td>\n    </tr>\n    <tr>\n      <th>2</th>\n      <td>3</td>\n      <td>seek study immunity develop due infection sars...</td>\n    </tr>\n    <tr>\n      <th>3</th>\n      <td>4</td>\n      <td>study look mechanism death covid19</td>\n    </tr>\n    <tr>\n      <th>4</th>\n      <td>5</td>\n      <td>paper describe result test drug bind spike pro...</td>\n    </tr>\n  </tbody>\n</table>\n</div>"
     },
     "metadata": {},
     "output_type": "display_data"
    }
   ],
   "source": [
    "# preprocess queries by (title, description, narrative)\n",
    "import ir_datasets\n",
    "dataset = ir_datasets.load(\"cord19/trec-covid\")\n",
    "queries = pd.DataFrame(dataset.queries_iter())\n",
    "queries = preprocess_queries(queries)\n",
    "display(queries.head(5))\n",
    "\n",
    "pq_title = queries[['query_id', 'title']]\n",
    "pq_title = pq_title.rename(columns={'query_id':'qid', 'title':'query'})\n",
    "display(pq_title.head(5))\n",
    "\n",
    "pq_desc = queries[['query_id', 'description']]\n",
    "pq_desc = pq_desc.rename(columns={'query_id':'qid', 'description':'query'})\n",
    "display(pq_desc.head(5))\n",
    "\n",
    "pq_narr = queries[['query_id', 'narrative']]\n",
    "pq_narr = pq_narr.rename(columns={'query_id':'qid', 'narrative':'query'})\n",
    "display(pq_narr.head(5))"
   ]
  },
  {
   "cell_type": "code",
   "execution_count": 7,
   "metadata": {},
   "outputs": [],
   "source": [
    "# load trec-covid dataset\n",
    "cord19 = pt.get_dataset(\"irds:cord19/trec-covid\")\n",
    "qrels = cord19.get_qrels()"
   ]
  },
  {
   "cell_type": "code",
   "execution_count": 8,
   "metadata": {},
   "outputs": [
    {
     "data": {
      "text/plain": "          name    P@5   P@10   nDCG@10  RR(rel=2)\n0       TF_IDF  0.568  0.560  0.519932   0.622459\n1         BM25  0.576  0.546  0.509432   0.613922\n2  DirichletLM  0.540  0.508  0.468562   0.551351",
      "text/html": "<div>\n<style scoped>\n    .dataframe tbody tr th:only-of-type {\n        vertical-align: middle;\n    }\n\n    .dataframe tbody tr th {\n        vertical-align: top;\n    }\n\n    .dataframe thead th {\n        text-align: right;\n    }\n</style>\n<table border=\"1\" class=\"dataframe\">\n  <thead>\n    <tr style=\"text-align: right;\">\n      <th></th>\n      <th>name</th>\n      <th>P@5</th>\n      <th>P@10</th>\n      <th>nDCG@10</th>\n      <th>RR(rel=2)</th>\n    </tr>\n  </thead>\n  <tbody>\n    <tr>\n      <th>0</th>\n      <td>TF_IDF</td>\n      <td>0.568</td>\n      <td>0.560</td>\n      <td>0.519932</td>\n      <td>0.622459</td>\n    </tr>\n    <tr>\n      <th>1</th>\n      <td>BM25</td>\n      <td>0.576</td>\n      <td>0.546</td>\n      <td>0.509432</td>\n      <td>0.613922</td>\n    </tr>\n    <tr>\n      <th>2</th>\n      <td>DirichletLM</td>\n      <td>0.540</td>\n      <td>0.508</td>\n      <td>0.468562</td>\n      <td>0.551351</td>\n    </tr>\n  </tbody>\n</table>\n</div>"
     },
     "metadata": {},
     "output_type": "display_data"
    },
    {
     "data": {
      "text/plain": "          name    P@5   P@10   nDCG@10  RR(rel=2)\n0       TF_IDF  0.728  0.688  0.632865   0.724063\n1         BM25  0.664  0.646  0.588473   0.700447\n2  DirichletLM  0.672  0.670  0.594023   0.591624",
      "text/html": "<div>\n<style scoped>\n    .dataframe tbody tr th:only-of-type {\n        vertical-align: middle;\n    }\n\n    .dataframe tbody tr th {\n        vertical-align: top;\n    }\n\n    .dataframe thead th {\n        text-align: right;\n    }\n</style>\n<table border=\"1\" class=\"dataframe\">\n  <thead>\n    <tr style=\"text-align: right;\">\n      <th></th>\n      <th>name</th>\n      <th>P@5</th>\n      <th>P@10</th>\n      <th>nDCG@10</th>\n      <th>RR(rel=2)</th>\n    </tr>\n  </thead>\n  <tbody>\n    <tr>\n      <th>0</th>\n      <td>TF_IDF</td>\n      <td>0.728</td>\n      <td>0.688</td>\n      <td>0.632865</td>\n      <td>0.724063</td>\n    </tr>\n    <tr>\n      <th>1</th>\n      <td>BM25</td>\n      <td>0.664</td>\n      <td>0.646</td>\n      <td>0.588473</td>\n      <td>0.700447</td>\n    </tr>\n    <tr>\n      <th>2</th>\n      <td>DirichletLM</td>\n      <td>0.672</td>\n      <td>0.670</td>\n      <td>0.594023</td>\n      <td>0.591624</td>\n    </tr>\n  </tbody>\n</table>\n</div>"
     },
     "metadata": {},
     "output_type": "display_data"
    },
    {
     "data": {
      "text/plain": "          name    P@5   P@10   nDCG@10  RR(rel=2)\n0       TF_IDF  0.620  0.584  0.550996   0.657000\n1         BM25  0.624  0.576  0.542067   0.648562\n2  DirichletLM  0.560  0.540  0.495038   0.599225",
      "text/html": "<div>\n<style scoped>\n    .dataframe tbody tr th:only-of-type {\n        vertical-align: middle;\n    }\n\n    .dataframe tbody tr th {\n        vertical-align: top;\n    }\n\n    .dataframe thead th {\n        text-align: right;\n    }\n</style>\n<table border=\"1\" class=\"dataframe\">\n  <thead>\n    <tr style=\"text-align: right;\">\n      <th></th>\n      <th>name</th>\n      <th>P@5</th>\n      <th>P@10</th>\n      <th>nDCG@10</th>\n      <th>RR(rel=2)</th>\n    </tr>\n  </thead>\n  <tbody>\n    <tr>\n      <th>0</th>\n      <td>TF_IDF</td>\n      <td>0.620</td>\n      <td>0.584</td>\n      <td>0.550996</td>\n      <td>0.657000</td>\n    </tr>\n    <tr>\n      <th>1</th>\n      <td>BM25</td>\n      <td>0.624</td>\n      <td>0.576</td>\n      <td>0.542067</td>\n      <td>0.648562</td>\n    </tr>\n    <tr>\n      <th>2</th>\n      <td>DirichletLM</td>\n      <td>0.560</td>\n      <td>0.540</td>\n      <td>0.495038</td>\n      <td>0.599225</td>\n    </tr>\n  </tbody>\n</table>\n</div>"
     },
     "metadata": {},
     "output_type": "display_data"
    },
    {
     "data": {
      "text/plain": "          name    P@5   P@10   nDCG@10  RR(rel=2)\n0       TF_IDF  0.632  0.546  0.535308   0.671064\n1         BM25  0.640  0.548  0.521520   0.611938\n2  DirichletLM  0.440  0.428  0.396092   0.488072",
      "text/html": "<div>\n<style scoped>\n    .dataframe tbody tr th:only-of-type {\n        vertical-align: middle;\n    }\n\n    .dataframe tbody tr th {\n        vertical-align: top;\n    }\n\n    .dataframe thead th {\n        text-align: right;\n    }\n</style>\n<table border=\"1\" class=\"dataframe\">\n  <thead>\n    <tr style=\"text-align: right;\">\n      <th></th>\n      <th>name</th>\n      <th>P@5</th>\n      <th>P@10</th>\n      <th>nDCG@10</th>\n      <th>RR(rel=2)</th>\n    </tr>\n  </thead>\n  <tbody>\n    <tr>\n      <th>0</th>\n      <td>TF_IDF</td>\n      <td>0.632</td>\n      <td>0.546</td>\n      <td>0.535308</td>\n      <td>0.671064</td>\n    </tr>\n    <tr>\n      <th>1</th>\n      <td>BM25</td>\n      <td>0.640</td>\n      <td>0.548</td>\n      <td>0.521520</td>\n      <td>0.611938</td>\n    </tr>\n    <tr>\n      <th>2</th>\n      <td>DirichletLM</td>\n      <td>0.440</td>\n      <td>0.428</td>\n      <td>0.396092</td>\n      <td>0.488072</td>\n    </tr>\n  </tbody>\n</table>\n</div>"
     },
     "metadata": {},
     "output_type": "display_data"
    },
    {
     "data": {
      "text/plain": "          name    P@5   P@10   nDCG@10  RR(rel=2)\n0       TF_IDF  0.736  0.702  0.645485   0.784202\n1         BM25  0.676  0.640  0.566200   0.633944\n2  DirichletLM  0.696  0.660  0.606684   0.665928",
      "text/html": "<div>\n<style scoped>\n    .dataframe tbody tr th:only-of-type {\n        vertical-align: middle;\n    }\n\n    .dataframe tbody tr th {\n        vertical-align: top;\n    }\n\n    .dataframe thead th {\n        text-align: right;\n    }\n</style>\n<table border=\"1\" class=\"dataframe\">\n  <thead>\n    <tr style=\"text-align: right;\">\n      <th></th>\n      <th>name</th>\n      <th>P@5</th>\n      <th>P@10</th>\n      <th>nDCG@10</th>\n      <th>RR(rel=2)</th>\n    </tr>\n  </thead>\n  <tbody>\n    <tr>\n      <th>0</th>\n      <td>TF_IDF</td>\n      <td>0.736</td>\n      <td>0.702</td>\n      <td>0.645485</td>\n      <td>0.784202</td>\n    </tr>\n    <tr>\n      <th>1</th>\n      <td>BM25</td>\n      <td>0.676</td>\n      <td>0.640</td>\n      <td>0.566200</td>\n      <td>0.633944</td>\n    </tr>\n    <tr>\n      <th>2</th>\n      <td>DirichletLM</td>\n      <td>0.696</td>\n      <td>0.660</td>\n      <td>0.606684</td>\n      <td>0.665928</td>\n    </tr>\n  </tbody>\n</table>\n</div>"
     },
     "metadata": {},
     "output_type": "display_data"
    },
    {
     "data": {
      "text/plain": "          name    P@5   P@10   nDCG@10  RR(rel=2)\n0       TF_IDF  0.652  0.578  0.556238   0.674510\n1         BM25  0.656  0.566  0.546837   0.673774\n2  DirichletLM  0.496  0.458  0.417565   0.511969",
      "text/html": "<div>\n<style scoped>\n    .dataframe tbody tr th:only-of-type {\n        vertical-align: middle;\n    }\n\n    .dataframe tbody tr th {\n        vertical-align: top;\n    }\n\n    .dataframe thead th {\n        text-align: right;\n    }\n</style>\n<table border=\"1\" class=\"dataframe\">\n  <thead>\n    <tr style=\"text-align: right;\">\n      <th></th>\n      <th>name</th>\n      <th>P@5</th>\n      <th>P@10</th>\n      <th>nDCG@10</th>\n      <th>RR(rel=2)</th>\n    </tr>\n  </thead>\n  <tbody>\n    <tr>\n      <th>0</th>\n      <td>TF_IDF</td>\n      <td>0.652</td>\n      <td>0.578</td>\n      <td>0.556238</td>\n      <td>0.674510</td>\n    </tr>\n    <tr>\n      <th>1</th>\n      <td>BM25</td>\n      <td>0.656</td>\n      <td>0.566</td>\n      <td>0.546837</td>\n      <td>0.673774</td>\n    </tr>\n    <tr>\n      <th>2</th>\n      <td>DirichletLM</td>\n      <td>0.496</td>\n      <td>0.458</td>\n      <td>0.417565</td>\n      <td>0.511969</td>\n    </tr>\n  </tbody>\n</table>\n</div>"
     },
     "metadata": {},
     "output_type": "display_data"
    },
    {
     "data": {
      "text/plain": "          name    P@5   P@10   nDCG@10  RR(rel=2)\n0       TF_IDF  0.468  0.418  0.383628   0.496482\n1         BM25  0.448  0.432  0.386476   0.477315\n2  DirichletLM  0.252  0.226  0.213848   0.337682",
      "text/html": "<div>\n<style scoped>\n    .dataframe tbody tr th:only-of-type {\n        vertical-align: middle;\n    }\n\n    .dataframe tbody tr th {\n        vertical-align: top;\n    }\n\n    .dataframe thead th {\n        text-align: right;\n    }\n</style>\n<table border=\"1\" class=\"dataframe\">\n  <thead>\n    <tr style=\"text-align: right;\">\n      <th></th>\n      <th>name</th>\n      <th>P@5</th>\n      <th>P@10</th>\n      <th>nDCG@10</th>\n      <th>RR(rel=2)</th>\n    </tr>\n  </thead>\n  <tbody>\n    <tr>\n      <th>0</th>\n      <td>TF_IDF</td>\n      <td>0.468</td>\n      <td>0.418</td>\n      <td>0.383628</td>\n      <td>0.496482</td>\n    </tr>\n    <tr>\n      <th>1</th>\n      <td>BM25</td>\n      <td>0.448</td>\n      <td>0.432</td>\n      <td>0.386476</td>\n      <td>0.477315</td>\n    </tr>\n    <tr>\n      <th>2</th>\n      <td>DirichletLM</td>\n      <td>0.252</td>\n      <td>0.226</td>\n      <td>0.213848</td>\n      <td>0.337682</td>\n    </tr>\n  </tbody>\n</table>\n</div>"
     },
     "metadata": {},
     "output_type": "display_data"
    },
    {
     "data": {
      "text/plain": "          name    P@5   P@10   nDCG@10  RR(rel=2)\n0       TF_IDF  0.584  0.574  0.519027   0.602736\n1         BM25  0.548  0.548  0.493708   0.614159\n2  DirichletLM  0.440  0.436  0.391514   0.525963",
      "text/html": "<div>\n<style scoped>\n    .dataframe tbody tr th:only-of-type {\n        vertical-align: middle;\n    }\n\n    .dataframe tbody tr th {\n        vertical-align: top;\n    }\n\n    .dataframe thead th {\n        text-align: right;\n    }\n</style>\n<table border=\"1\" class=\"dataframe\">\n  <thead>\n    <tr style=\"text-align: right;\">\n      <th></th>\n      <th>name</th>\n      <th>P@5</th>\n      <th>P@10</th>\n      <th>nDCG@10</th>\n      <th>RR(rel=2)</th>\n    </tr>\n  </thead>\n  <tbody>\n    <tr>\n      <th>0</th>\n      <td>TF_IDF</td>\n      <td>0.584</td>\n      <td>0.574</td>\n      <td>0.519027</td>\n      <td>0.602736</td>\n    </tr>\n    <tr>\n      <th>1</th>\n      <td>BM25</td>\n      <td>0.548</td>\n      <td>0.548</td>\n      <td>0.493708</td>\n      <td>0.614159</td>\n    </tr>\n    <tr>\n      <th>2</th>\n      <td>DirichletLM</td>\n      <td>0.440</td>\n      <td>0.436</td>\n      <td>0.391514</td>\n      <td>0.525963</td>\n    </tr>\n  </tbody>\n</table>\n</div>"
     },
     "metadata": {},
     "output_type": "display_data"
    },
    {
     "data": {
      "text/plain": "          name    P@5   P@10   nDCG@10  RR(rel=2)\n0       TF_IDF  0.468  0.428  0.399881   0.538915\n1         BM25  0.468  0.434  0.403713   0.535349\n2  DirichletLM  0.248  0.210  0.203448   0.322527",
      "text/html": "<div>\n<style scoped>\n    .dataframe tbody tr th:only-of-type {\n        vertical-align: middle;\n    }\n\n    .dataframe tbody tr th {\n        vertical-align: top;\n    }\n\n    .dataframe thead th {\n        text-align: right;\n    }\n</style>\n<table border=\"1\" class=\"dataframe\">\n  <thead>\n    <tr style=\"text-align: right;\">\n      <th></th>\n      <th>name</th>\n      <th>P@5</th>\n      <th>P@10</th>\n      <th>nDCG@10</th>\n      <th>RR(rel=2)</th>\n    </tr>\n  </thead>\n  <tbody>\n    <tr>\n      <th>0</th>\n      <td>TF_IDF</td>\n      <td>0.468</td>\n      <td>0.428</td>\n      <td>0.399881</td>\n      <td>0.538915</td>\n    </tr>\n    <tr>\n      <th>1</th>\n      <td>BM25</td>\n      <td>0.468</td>\n      <td>0.434</td>\n      <td>0.403713</td>\n      <td>0.535349</td>\n    </tr>\n    <tr>\n      <th>2</th>\n      <td>DirichletLM</td>\n      <td>0.248</td>\n      <td>0.210</td>\n      <td>0.203448</td>\n      <td>0.322527</td>\n    </tr>\n  </tbody>\n</table>\n</div>"
     },
     "metadata": {},
     "output_type": "display_data"
    }
   ],
   "source": [
    "# en_docs {title, abstract, both} with query_title\n",
    "exp1 = expirement(index_en_docs_title, pq_title, qrels)\n",
    "display(exp1)\n",
    "\n",
    "exp2 = expirement(index_en_docs_abstract, pq_title, qrels)\n",
    "display(exp2)\n",
    "\n",
    "exp3 = expirement(index_en_docs_both, pq_title, qrels)\n",
    "display(exp3)\n",
    "\n",
    "# en_docs {title, abstract, both} with query_description\n",
    "exp4 = expirement(index_en_docs_title, pq_desc, qrels)\n",
    "display(exp4)\n",
    "\n",
    "exp5 = expirement(index_en_docs_abstract, pq_desc, qrels)\n",
    "display(exp5)\n",
    "\n",
    "exp6 = expirement(index_en_docs_both, pq_desc, qrels)\n",
    "display(exp6)\n",
    "\n",
    "# en_docs {title, abstract, both} with query_narrative\n",
    "exp7 = expirement(index_en_docs_title, pq_narr, qrels)\n",
    "display(exp7)\n",
    "\n",
    "exp8 = expirement(index_en_docs_abstract, pq_narr, qrels)\n",
    "display(exp8)\n",
    "\n",
    "exp9 = expirement(index_en_docs_both, pq_narr, qrels)\n",
    "display(exp9)"
   ]
  },
  {
   "cell_type": "code",
   "execution_count": 9,
   "metadata": {},
   "outputs": [
    {
     "data": {
      "text/plain": "          name    P@5   P@10   nDCG@10  RR(rel=2)\n0       TF_IDF  0.568  0.560  0.520710   0.622443\n1         BM25  0.576  0.544  0.507961   0.613891\n2  DirichletLM  0.524  0.502  0.460846   0.547692",
      "text/html": "<div>\n<style scoped>\n    .dataframe tbody tr th:only-of-type {\n        vertical-align: middle;\n    }\n\n    .dataframe tbody tr th {\n        vertical-align: top;\n    }\n\n    .dataframe thead th {\n        text-align: right;\n    }\n</style>\n<table border=\"1\" class=\"dataframe\">\n  <thead>\n    <tr style=\"text-align: right;\">\n      <th></th>\n      <th>name</th>\n      <th>P@5</th>\n      <th>P@10</th>\n      <th>nDCG@10</th>\n      <th>RR(rel=2)</th>\n    </tr>\n  </thead>\n  <tbody>\n    <tr>\n      <th>0</th>\n      <td>TF_IDF</td>\n      <td>0.568</td>\n      <td>0.560</td>\n      <td>0.520710</td>\n      <td>0.622443</td>\n    </tr>\n    <tr>\n      <th>1</th>\n      <td>BM25</td>\n      <td>0.576</td>\n      <td>0.544</td>\n      <td>0.507961</td>\n      <td>0.613891</td>\n    </tr>\n    <tr>\n      <th>2</th>\n      <td>DirichletLM</td>\n      <td>0.524</td>\n      <td>0.502</td>\n      <td>0.460846</td>\n      <td>0.547692</td>\n    </tr>\n  </tbody>\n</table>\n</div>"
     },
     "metadata": {},
     "output_type": "display_data"
    },
    {
     "data": {
      "text/plain": "          name    P@5   P@10   nDCG@10  RR(rel=2)\n0       TF_IDF  0.728  0.690  0.633469   0.724053\n1         BM25  0.668  0.650  0.591848   0.697077\n2  DirichletLM  0.672  0.666  0.591385   0.590859",
      "text/html": "<div>\n<style scoped>\n    .dataframe tbody tr th:only-of-type {\n        vertical-align: middle;\n    }\n\n    .dataframe tbody tr th {\n        vertical-align: top;\n    }\n\n    .dataframe thead th {\n        text-align: right;\n    }\n</style>\n<table border=\"1\" class=\"dataframe\">\n  <thead>\n    <tr style=\"text-align: right;\">\n      <th></th>\n      <th>name</th>\n      <th>P@5</th>\n      <th>P@10</th>\n      <th>nDCG@10</th>\n      <th>RR(rel=2)</th>\n    </tr>\n  </thead>\n  <tbody>\n    <tr>\n      <th>0</th>\n      <td>TF_IDF</td>\n      <td>0.728</td>\n      <td>0.690</td>\n      <td>0.633469</td>\n      <td>0.724053</td>\n    </tr>\n    <tr>\n      <th>1</th>\n      <td>BM25</td>\n      <td>0.668</td>\n      <td>0.650</td>\n      <td>0.591848</td>\n      <td>0.697077</td>\n    </tr>\n    <tr>\n      <th>2</th>\n      <td>DirichletLM</td>\n      <td>0.672</td>\n      <td>0.666</td>\n      <td>0.591385</td>\n      <td>0.590859</td>\n    </tr>\n  </tbody>\n</table>\n</div>"
     },
     "metadata": {},
     "output_type": "display_data"
    },
    {
     "data": {
      "text/plain": "          name    P@5   P@10   nDCG@10  RR(rel=2)\n0       TF_IDF  0.568  0.560  0.520710   0.622443\n1         BM25  0.576  0.544  0.507961   0.613891\n2  DirichletLM  0.524  0.502  0.460846   0.547692",
      "text/html": "<div>\n<style scoped>\n    .dataframe tbody tr th:only-of-type {\n        vertical-align: middle;\n    }\n\n    .dataframe tbody tr th {\n        vertical-align: top;\n    }\n\n    .dataframe thead th {\n        text-align: right;\n    }\n</style>\n<table border=\"1\" class=\"dataframe\">\n  <thead>\n    <tr style=\"text-align: right;\">\n      <th></th>\n      <th>name</th>\n      <th>P@5</th>\n      <th>P@10</th>\n      <th>nDCG@10</th>\n      <th>RR(rel=2)</th>\n    </tr>\n  </thead>\n  <tbody>\n    <tr>\n      <th>0</th>\n      <td>TF_IDF</td>\n      <td>0.568</td>\n      <td>0.560</td>\n      <td>0.520710</td>\n      <td>0.622443</td>\n    </tr>\n    <tr>\n      <th>1</th>\n      <td>BM25</td>\n      <td>0.576</td>\n      <td>0.544</td>\n      <td>0.507961</td>\n      <td>0.613891</td>\n    </tr>\n    <tr>\n      <th>2</th>\n      <td>DirichletLM</td>\n      <td>0.524</td>\n      <td>0.502</td>\n      <td>0.460846</td>\n      <td>0.547692</td>\n    </tr>\n  </tbody>\n</table>\n</div>"
     },
     "metadata": {},
     "output_type": "display_data"
    },
    {
     "data": {
      "text/plain": "          name    P@5   P@10   nDCG@10  RR(rel=2)\n0       TF_IDF  0.636  0.546  0.535941   0.670968\n1         BM25  0.640  0.554  0.524817   0.610791\n2  DirichletLM  0.440  0.426  0.394819   0.488832",
      "text/html": "<div>\n<style scoped>\n    .dataframe tbody tr th:only-of-type {\n        vertical-align: middle;\n    }\n\n    .dataframe tbody tr th {\n        vertical-align: top;\n    }\n\n    .dataframe thead th {\n        text-align: right;\n    }\n</style>\n<table border=\"1\" class=\"dataframe\">\n  <thead>\n    <tr style=\"text-align: right;\">\n      <th></th>\n      <th>name</th>\n      <th>P@5</th>\n      <th>P@10</th>\n      <th>nDCG@10</th>\n      <th>RR(rel=2)</th>\n    </tr>\n  </thead>\n  <tbody>\n    <tr>\n      <th>0</th>\n      <td>TF_IDF</td>\n      <td>0.636</td>\n      <td>0.546</td>\n      <td>0.535941</td>\n      <td>0.670968</td>\n    </tr>\n    <tr>\n      <th>1</th>\n      <td>BM25</td>\n      <td>0.640</td>\n      <td>0.554</td>\n      <td>0.524817</td>\n      <td>0.610791</td>\n    </tr>\n    <tr>\n      <th>2</th>\n      <td>DirichletLM</td>\n      <td>0.440</td>\n      <td>0.426</td>\n      <td>0.394819</td>\n      <td>0.488832</td>\n    </tr>\n  </tbody>\n</table>\n</div>"
     },
     "metadata": {},
     "output_type": "display_data"
    },
    {
     "data": {
      "text/plain": "          name    P@5   P@10   nDCG@10  RR(rel=2)\n0       TF_IDF  0.736  0.702  0.644987   0.784202\n1         BM25  0.676  0.642  0.567748   0.633944\n2  DirichletLM  0.692  0.658  0.605711   0.665928",
      "text/html": "<div>\n<style scoped>\n    .dataframe tbody tr th:only-of-type {\n        vertical-align: middle;\n    }\n\n    .dataframe tbody tr th {\n        vertical-align: top;\n    }\n\n    .dataframe thead th {\n        text-align: right;\n    }\n</style>\n<table border=\"1\" class=\"dataframe\">\n  <thead>\n    <tr style=\"text-align: right;\">\n      <th></th>\n      <th>name</th>\n      <th>P@5</th>\n      <th>P@10</th>\n      <th>nDCG@10</th>\n      <th>RR(rel=2)</th>\n    </tr>\n  </thead>\n  <tbody>\n    <tr>\n      <th>0</th>\n      <td>TF_IDF</td>\n      <td>0.736</td>\n      <td>0.702</td>\n      <td>0.644987</td>\n      <td>0.784202</td>\n    </tr>\n    <tr>\n      <th>1</th>\n      <td>BM25</td>\n      <td>0.676</td>\n      <td>0.642</td>\n      <td>0.567748</td>\n      <td>0.633944</td>\n    </tr>\n    <tr>\n      <th>2</th>\n      <td>DirichletLM</td>\n      <td>0.692</td>\n      <td>0.658</td>\n      <td>0.605711</td>\n      <td>0.665928</td>\n    </tr>\n  </tbody>\n</table>\n</div>"
     },
     "metadata": {},
     "output_type": "display_data"
    },
    {
     "data": {
      "text/plain": "          name    P@5   P@10   nDCG@10  RR(rel=2)\n0       TF_IDF  0.636  0.546  0.535941   0.670968\n1         BM25  0.640  0.554  0.524817   0.610791\n2  DirichletLM  0.440  0.426  0.394819   0.488832",
      "text/html": "<div>\n<style scoped>\n    .dataframe tbody tr th:only-of-type {\n        vertical-align: middle;\n    }\n\n    .dataframe tbody tr th {\n        vertical-align: top;\n    }\n\n    .dataframe thead th {\n        text-align: right;\n    }\n</style>\n<table border=\"1\" class=\"dataframe\">\n  <thead>\n    <tr style=\"text-align: right;\">\n      <th></th>\n      <th>name</th>\n      <th>P@5</th>\n      <th>P@10</th>\n      <th>nDCG@10</th>\n      <th>RR(rel=2)</th>\n    </tr>\n  </thead>\n  <tbody>\n    <tr>\n      <th>0</th>\n      <td>TF_IDF</td>\n      <td>0.636</td>\n      <td>0.546</td>\n      <td>0.535941</td>\n      <td>0.670968</td>\n    </tr>\n    <tr>\n      <th>1</th>\n      <td>BM25</td>\n      <td>0.640</td>\n      <td>0.554</td>\n      <td>0.524817</td>\n      <td>0.610791</td>\n    </tr>\n    <tr>\n      <th>2</th>\n      <td>DirichletLM</td>\n      <td>0.440</td>\n      <td>0.426</td>\n      <td>0.394819</td>\n      <td>0.488832</td>\n    </tr>\n  </tbody>\n</table>\n</div>"
     },
     "metadata": {},
     "output_type": "display_data"
    },
    {
     "data": {
      "text/plain": "          name    P@5   P@10   nDCG@10  RR(rel=2)\n0       TF_IDF  0.460  0.416  0.379654   0.483632\n1         BM25  0.448  0.430  0.383058   0.474036\n2  DirichletLM  0.260  0.224  0.214477   0.342784",
      "text/html": "<div>\n<style scoped>\n    .dataframe tbody tr th:only-of-type {\n        vertical-align: middle;\n    }\n\n    .dataframe tbody tr th {\n        vertical-align: top;\n    }\n\n    .dataframe thead th {\n        text-align: right;\n    }\n</style>\n<table border=\"1\" class=\"dataframe\">\n  <thead>\n    <tr style=\"text-align: right;\">\n      <th></th>\n      <th>name</th>\n      <th>P@5</th>\n      <th>P@10</th>\n      <th>nDCG@10</th>\n      <th>RR(rel=2)</th>\n    </tr>\n  </thead>\n  <tbody>\n    <tr>\n      <th>0</th>\n      <td>TF_IDF</td>\n      <td>0.460</td>\n      <td>0.416</td>\n      <td>0.379654</td>\n      <td>0.483632</td>\n    </tr>\n    <tr>\n      <th>1</th>\n      <td>BM25</td>\n      <td>0.448</td>\n      <td>0.430</td>\n      <td>0.383058</td>\n      <td>0.474036</td>\n    </tr>\n    <tr>\n      <th>2</th>\n      <td>DirichletLM</td>\n      <td>0.260</td>\n      <td>0.224</td>\n      <td>0.214477</td>\n      <td>0.342784</td>\n    </tr>\n  </tbody>\n</table>\n</div>"
     },
     "metadata": {},
     "output_type": "display_data"
    },
    {
     "data": {
      "text/plain": "          name    P@5   P@10   nDCG@10  RR(rel=2)\n0       TF_IDF  0.584  0.574  0.518834   0.602724\n1         BM25  0.548  0.548  0.493827   0.615167\n2  DirichletLM  0.436  0.434  0.388331   0.525703",
      "text/html": "<div>\n<style scoped>\n    .dataframe tbody tr th:only-of-type {\n        vertical-align: middle;\n    }\n\n    .dataframe tbody tr th {\n        vertical-align: top;\n    }\n\n    .dataframe thead th {\n        text-align: right;\n    }\n</style>\n<table border=\"1\" class=\"dataframe\">\n  <thead>\n    <tr style=\"text-align: right;\">\n      <th></th>\n      <th>name</th>\n      <th>P@5</th>\n      <th>P@10</th>\n      <th>nDCG@10</th>\n      <th>RR(rel=2)</th>\n    </tr>\n  </thead>\n  <tbody>\n    <tr>\n      <th>0</th>\n      <td>TF_IDF</td>\n      <td>0.584</td>\n      <td>0.574</td>\n      <td>0.518834</td>\n      <td>0.602724</td>\n    </tr>\n    <tr>\n      <th>1</th>\n      <td>BM25</td>\n      <td>0.548</td>\n      <td>0.548</td>\n      <td>0.493827</td>\n      <td>0.615167</td>\n    </tr>\n    <tr>\n      <th>2</th>\n      <td>DirichletLM</td>\n      <td>0.436</td>\n      <td>0.434</td>\n      <td>0.388331</td>\n      <td>0.525703</td>\n    </tr>\n  </tbody>\n</table>\n</div>"
     },
     "metadata": {},
     "output_type": "display_data"
    },
    {
     "data": {
      "text/plain": "          name    P@5   P@10   nDCG@10  RR(rel=2)\n0       TF_IDF  0.460  0.416  0.379654   0.483632\n1         BM25  0.448  0.430  0.383058   0.474036\n2  DirichletLM  0.260  0.224  0.214477   0.342784",
      "text/html": "<div>\n<style scoped>\n    .dataframe tbody tr th:only-of-type {\n        vertical-align: middle;\n    }\n\n    .dataframe tbody tr th {\n        vertical-align: top;\n    }\n\n    .dataframe thead th {\n        text-align: right;\n    }\n</style>\n<table border=\"1\" class=\"dataframe\">\n  <thead>\n    <tr style=\"text-align: right;\">\n      <th></th>\n      <th>name</th>\n      <th>P@5</th>\n      <th>P@10</th>\n      <th>nDCG@10</th>\n      <th>RR(rel=2)</th>\n    </tr>\n  </thead>\n  <tbody>\n    <tr>\n      <th>0</th>\n      <td>TF_IDF</td>\n      <td>0.460</td>\n      <td>0.416</td>\n      <td>0.379654</td>\n      <td>0.483632</td>\n    </tr>\n    <tr>\n      <th>1</th>\n      <td>BM25</td>\n      <td>0.448</td>\n      <td>0.430</td>\n      <td>0.383058</td>\n      <td>0.474036</td>\n    </tr>\n    <tr>\n      <th>2</th>\n      <td>DirichletLM</td>\n      <td>0.260</td>\n      <td>0.224</td>\n      <td>0.214477</td>\n      <td>0.342784</td>\n    </tr>\n  </tbody>\n</table>\n</div>"
     },
     "metadata": {},
     "output_type": "display_data"
    }
   ],
   "source": [
    "# docs {title, abstract, both} with query_title\n",
    "exp1 = expirement(index_docs_title, pq_title, qrels)\n",
    "display(exp1)\n",
    "\n",
    "exp2 = expirement(index_docs_abstract, pq_title, qrels)\n",
    "display(exp2)\n",
    "\n",
    "exp3 = expirement(index_docs_both, pq_title, qrels)\n",
    "display(exp3)\n",
    "\n",
    "# docs {title, abstract, both} with query_description\n",
    "exp4 = expirement(index_docs_title, pq_desc, qrels)\n",
    "display(exp4)\n",
    "\n",
    "exp5 = expirement(index_docs_abstract, pq_desc, qrels)\n",
    "display(exp5)\n",
    "\n",
    "exp6 = expirement(index_docs_both, pq_desc, qrels)\n",
    "display(exp6)\n",
    "\n",
    "# docs {title, abstract, both} with query_narrative\n",
    "exp7 = expirement(index_docs_title, pq_narr, qrels)\n",
    "display(exp7)\n",
    "\n",
    "exp8 = expirement(index_docs_abstract, pq_narr, qrels)\n",
    "display(exp8)\n",
    "\n",
    "exp9 = expirement(index_docs_both, pq_narr, qrels)\n",
    "display(exp9)"
   ]
  },
  {
   "cell_type": "markdown",
   "metadata": {},
   "source": [
    "# Pairwise Similarity of Queries\n",
    "# - TF-IDF\n",
    "# - DOC2VEC\n",
    "\n",
    "Write a function that measures the pairwise similarity of the provided \n",
    "queries. Create a list of similar queries and a word-cloud of their qids."
   ]
  },
  {
   "cell_type": "code",
   "execution_count": 10,
   "metadata": {},
   "outputs": [],
   "source": [
    "%%capture\n",
    "%pip install gensim\n",
    "\n",
    "import pandas as pd\n",
    "import numpy as np\n",
    "import wordcloud\n",
    "\n",
    "from sklearn.feature_extraction.text import TfidfVectorizer\n",
    "from sklearn.metrics.pairwise import cosine_similarity\n",
    "\n",
    "from sklearn.cluster import AgglomerativeClustering\n",
    "from scipy.cluster.hierarchy import dendrogram\n",
    "from gensim.models.doc2vec import Doc2Vec, TaggedDocument\n",
    "\n",
    "\n",
    "def plot_dendrogram(model, **kwargs):\n",
    "    # Create linkage matrix and then plot the dendrogram\n",
    "\n",
    "    # create the counts of samples under each node\n",
    "    counts = np.zeros(model.children_.shape[0])\n",
    "    n_samples = len(model.labels_)\n",
    "    for i, merge in enumerate(model.children_):\n",
    "        current_count = 0\n",
    "        for child_idx in merge:\n",
    "            if child_idx < n_samples:\n",
    "                current_count += 1  # leaf node\n",
    "            else:\n",
    "                current_count += counts[child_idx - n_samples]\n",
    "        counts[i] = current_count\n",
    "\n",
    "    linkage_matrix = np.column_stack(\n",
    "        [model.children_, model.distances_, counts]\n",
    "    ).astype(float)\n",
    "\n",
    "    # Plot the corresponding dendrogram\n",
    "    dendrogram(linkage_matrix, **kwargs)\n",
    "\n",
    "def compute_freqs(queries, labels):\n",
    "    freqs = {}\n",
    "    for i in range(max(labels)):\n",
    "        # print(f\"cluster {i:2} {queries.loc[labels==i]['title'].values}\")\n",
    "\n",
    "        similar_queries = queries.loc[labels==i]['query_id'].values\n",
    "        for qid in similar_queries:\n",
    "            freqs[qid] = len(similar_queries)\n",
    "\n",
    "    return freqs\n",
    "\n",
    "def print_clustered_queries(queries, labels):\n",
    "    for i in range(max(labels)):\n",
    "        print(f\"cluster {i:2} {queries.loc[labels==i]['description'].values}\")"
   ]
  },
  {
   "cell_type": "code",
   "execution_count": 11,
   "metadata": {},
   "outputs": [
    {
     "name": "stdout",
     "output_type": "stream",
     "text": [
      "cluster  0 ['covid19 pandemic impact violence society include violent crime'\n",
      " 'covid19 pandemic impact mental health'\n",
      " 'health outcome child contract covid19'\n",
      " 'benefit risk reopen school midst covid19 pandemic']\n",
      "cluster  1 ['coronavirus respond change weather'\n",
      " 'serological test detect antibody coronavirus'\n",
      " 'transmission route coronavirus' 'long coronavirus live outside body'\n",
      " 'long coronavirus remain stable surface']\n",
      "cluster  2 ['evidence relate covid19 super spreader'\n",
      " 'evidence value hydroxychloroquine treat covid19'\n",
      " 'remdesivir effective treatment covid19'\n",
      " 'vitamin impact covid19 prevention treatment'\n",
      " 'evidence dexamethasone treatment covid19']\n",
      "cluster  3 ['cardiac complication likely patient covid19'\n",
      " 'kind complication related covid19 associate hypertension'\n",
      " 'kind complication related covid19 associate diabetes'\n",
      " 'longerterm complication recover covid19']\n",
      "cluster  4 ['social distance impact slow spread covid19'\n",
      " 'best mask prevent infection covid19'\n",
      " 'much impact mask prevent spread covid19']\n",
      "cluster  5 ['sarscov2 subtypes' 'protein structure sarscov2 spike'\n",
      " 'result phylogenetic analysis sarscov2 genome sequence'\n",
      " 'observed mutation sarscov2 genome often mutation occur']\n",
      "cluster  6 ['know infected covid19 asymptomatic' 'vaccine candidate test covid19'\n",
      " 'know mrna vaccine sarscov2 virus']\n",
      "cluster  7 ['patient take angiotensinconverting enzyme inhibitor ace increase risk covid19']\n",
      "cluster  8 ['mechanism inflammatory response pathogenesis covid19 case'\n",
      " 'mechanism cytokine storm syndrome covid19']\n",
      "cluster  9 ['type rapid test covid19 develop'\n",
      " 'type hand sanitizer need destroy covid19']\n",
      "cluster 10 ['biomarkers predict severe clinical course 2019ncov infection']\n",
      "cluster 11 ['coronavirus differ seasonal flu'\n",
      " 'impact covid19 among africanamericans differ rest u population']\n",
      "cluster 12 ['clinical trial available coronavirus'\n",
      " 'new public datasets available related covid19']\n",
      "cluster 13 ['sarscov2 infect people develop immunity cross protection possible'\n",
      " 'guideline triaging patient infect coronavirus']\n",
      "cluster 14 ['initial symptom covid19']\n",
      "cluster 15 ['best practice hospital home maintain quarantine']\n",
      "cluster 16 ['covid19 affect canada']\n",
      "cluster 17 ['origin covid19']\n",
      "cluster 18 ['drug active sarscov sarscov2 animal study'\n",
      " 'sarscov2 proteinshuman proteins interaction indicate potential drug target approve drug repurposed base information']\n",
      "cluster 19 ['mortality rate overall specific population']\n",
      "cluster 20 ['individual recover covid19 show sufficient immune response include antibody level tcell mediate immunity prevent reinfection']\n",
      "cluster 21 ['cause death covid19']\n"
     ]
    }
   ],
   "source": [
    "queries = pd.read_pickle('./data/queries_processed.pkl')\n",
    "\n",
    "vectorizer = TfidfVectorizer()\n",
    "vectors = vectorizer.fit_transform(queries['description']).toarray()\n",
    "\n",
    "cluster = AgglomerativeClustering(n_clusters=None, affinity='cosine', linkage='average', distance_threshold=0.9)\n",
    "labels = cluster.fit_predict(vectors)\n",
    "\n",
    "print_clustered_queries(queries, labels)"
   ]
  },
  {
   "cell_type": "code",
   "execution_count": 12,
   "metadata": {},
   "outputs": [
    {
     "data": {
      "text/plain": "<PIL.Image.Image image mode=RGB size=400x200 at 0x7FCA904A2730>",
      "image/png": "[encoded data removed]"
     },
     "execution_count": 12,
     "metadata": {},
     "output_type": "execute_result"
    }
   ],
   "source": [
    "wordcloud.WordCloud().fit_words(compute_freqs(queries, labels)).to_image()"
   ]
  },
  {
   "cell_type": "code",
   "execution_count": 31,
   "metadata": {},
   "outputs": [
    {
     "name": "stdout",
     "output_type": "stream",
     "text": [
      "(50, 100)\n",
      "cluster  0 ['best practice hospital home maintain quarantine'\n",
      " 'clinical trial available coronavirus'\n",
      " 'mortality rate overall specific population'\n",
      " 'cardiac complication likely patient covid19'\n",
      " 'kind complication related covid19 associate diabetes'\n",
      " 'protein structure sarscov2 spike']\n",
      "cluster  1 ['origin covid19' 'type rapid test covid19 develop'\n",
      " 'type hand sanitizer need destroy covid19'\n",
      " 'longerterm complication recover covid19']\n",
      "cluster  2 ['best mask prevent infection covid19'\n",
      " 'kind complication related covid19 associate hypertension'\n",
      " 'observed mutation sarscov2 genome often mutation occur'\n",
      " 'much impact mask prevent spread covid19']\n",
      "cluster  3 ['serological test detect antibody coronavirus'\n",
      " 'long coronavirus live outside body' 'initial symptom covid19'\n",
      " 'know infected covid19 asymptomatic'\n",
      " 'new public datasets available related covid19'\n",
      " 'know mrna vaccine sarscov2 virus']\n",
      "cluster  4 ['drug active sarscov sarscov2 animal study'\n",
      " 'guideline triaging patient infect coronavirus'\n",
      " 'long coronavirus remain stable surface'\n",
      " 'remdesivir effective treatment covid19'\n",
      " 'health outcome child contract covid19']\n",
      "cluster  5 ['covid19 affect canada'\n",
      " 'biomarkers predict severe clinical course 2019ncov infection'\n",
      " 'impact covid19 among africanamericans differ rest u population'\n",
      " 'vitamin impact covid19 prevention treatment']\n",
      "cluster  6 ['coronavirus respond change weather'\n",
      " 'sarscov2 infect people develop immunity cross protection possible'\n",
      " 'sarscov2 proteinshuman proteins interaction indicate potential drug target approve drug repurposed base information'\n",
      " 'covid19 pandemic impact violence society include violent crime'\n",
      " 'evidence dexamethasone treatment covid19']\n",
      "cluster  7 ['cause death covid19'\n",
      " 'lack test availability lead underreporting true incidence covid19'\n",
      " 'result phylogenetic analysis sarscov2 genome sequence'\n",
      " 'covid19 pandemic impact mental health']\n",
      "cluster  8 ['social distance impact slow spread covid19'\n",
      " 'mechanism cytokine storm syndrome covid19']\n",
      "cluster  9 ['evidence relate covid19 super spreader'\n",
      " 'evidence value hydroxychloroquine treat covid19' 'sarscov2 subtypes'\n",
      " 'mechanism inflammatory response pathogenesis covid19 case']\n",
      "cluster 10 ['transmission route coronavirus'\n",
      " 'patient take angiotensinconverting enzyme inhibitor ace increase risk covid19'\n",
      " 'coronavirus differ seasonal flu' 'vaccine candidate test covid19'\n",
      " 'benefit risk reopen school midst covid19 pandemic']\n"
     ]
    }
   ],
   "source": [
    "tagged_data = [TaggedDocument(words=doc.split(), tags=[str(i)]) for i, doc in enumerate(queries['description'])]\n",
    "doc_model = Doc2Vec(tagged_data, window=5, seed=1)\n",
    "d2v_doc_embeddings = np.array([doc_model.infer_vector(doc.split()) for doc in queries['description']])\n",
    "print(d2v_doc_embeddings.shape)\n",
    "\n",
    "cluster = AgglomerativeClustering(n_clusters=None, affinity='cosine', linkage='average', distance_threshold=0.95)\n",
    "labels = cluster.fit_predict(d2v_doc_embeddings)\n",
    "\n",
    "print_clustered_queries(queries, labels)"
   ]
  },
  {
   "cell_type": "code",
   "execution_count": 14,
   "metadata": {},
   "outputs": [
    {
     "data": {
      "text/plain": "<PIL.Image.Image image mode=RGB size=400x200 at 0x7FCB23AF1F70>",
      "image/png": "[encoded data removed]"
     },
     "execution_count": 14,
     "metadata": {},
     "output_type": "execute_result"
    }
   ],
   "source": [
    "wordcloud.WordCloud().fit_words(compute_freqs(queries, labels)).to_image()"
   ]
  },
  {
   "cell_type": "code",
   "execution_count": 32,
   "outputs": [
    {
     "data": {
      "text/plain": "   qid                                              query\n11  12    best practice hospital home maintain quarantine\n16  17               clinical trial available coronavirus\n20  21         mortality rate overall specific population\n21  22        cardiac complication likely patient covid19\n23  24  kind complication related covid19 associate di...\n35  36                   protein structure sarscov2 spike",
      "text/html": "<div>\n<style scoped>\n    .dataframe tbody tr th:only-of-type {\n        vertical-align: middle;\n    }\n\n    .dataframe tbody tr th {\n        vertical-align: top;\n    }\n\n    .dataframe thead th {\n        text-align: right;\n    }\n</style>\n<table border=\"1\" class=\"dataframe\">\n  <thead>\n    <tr style=\"text-align: right;\">\n      <th></th>\n      <th>qid</th>\n      <th>query</th>\n    </tr>\n  </thead>\n  <tbody>\n    <tr>\n      <th>11</th>\n      <td>12</td>\n      <td>best practice hospital home maintain quarantine</td>\n    </tr>\n    <tr>\n      <th>16</th>\n      <td>17</td>\n      <td>clinical trial available coronavirus</td>\n    </tr>\n    <tr>\n      <th>20</th>\n      <td>21</td>\n      <td>mortality rate overall specific population</td>\n    </tr>\n    <tr>\n      <th>21</th>\n      <td>22</td>\n      <td>cardiac complication likely patient covid19</td>\n    </tr>\n    <tr>\n      <th>23</th>\n      <td>24</td>\n      <td>kind complication related covid19 associate di...</td>\n    </tr>\n    <tr>\n      <th>35</th>\n      <td>36</td>\n      <td>protein structure sarscov2 spike</td>\n    </tr>\n  </tbody>\n</table>\n</div>"
     },
     "execution_count": 32,
     "metadata": {},
     "output_type": "execute_result"
    }
   ],
   "source": [
    "similar_queries = queries[labels == 0][['query_id', 'description']]\n",
    "similar_queries = similar_queries.rename(columns={'query_id':'qid', 'description':'query'})\n",
    "similar_queries"
   ],
   "metadata": {
    "collapsed": false,
    "pycharm": {
     "name": "#%%\n"
    }
   }
  },
  {
   "cell_type": "code",
   "execution_count": 33,
   "outputs": [
    {
     "data": {
      "text/plain": "    name qid    measure     value\n0   BM25  12        P@5  0.200000\n1   BM25  12       P@10  0.100000\n2   BM25  12    nDCG@10  0.042572\n3   BM25  12  RR(rel=2)  0.066667\n4   BM25  17        P@5  1.000000\n5   BM25  17       P@10  0.700000\n6   BM25  17    nDCG@10  0.625882\n7   BM25  17  RR(rel=2)  0.500000\n8   BM25  21        P@5  1.000000\n9   BM25  21       P@10  0.800000\n10  BM25  21    nDCG@10  0.821299\n11  BM25  21  RR(rel=2)  1.000000\n12  BM25  22        P@5  1.000000\n13  BM25  22       P@10  0.700000\n14  BM25  22    nDCG@10  0.793584\n15  BM25  22  RR(rel=2)  1.000000\n16  BM25  24        P@5  1.000000\n17  BM25  24       P@10  0.800000\n18  BM25  24    nDCG@10  0.848238\n19  BM25  24  RR(rel=2)  1.000000\n20  BM25  36        P@5  1.000000\n21  BM25  36       P@10  0.900000\n22  BM25  36    nDCG@10  0.879030\n23  BM25  36  RR(rel=2)  1.000000",
      "text/html": "<div>\n<style scoped>\n    .dataframe tbody tr th:only-of-type {\n        vertical-align: middle;\n    }\n\n    .dataframe tbody tr th {\n        vertical-align: top;\n    }\n\n    .dataframe thead th {\n        text-align: right;\n    }\n</style>\n<table border=\"1\" class=\"dataframe\">\n  <thead>\n    <tr style=\"text-align: right;\">\n      <th></th>\n      <th>name</th>\n      <th>qid</th>\n      <th>measure</th>\n      <th>value</th>\n    </tr>\n  </thead>\n  <tbody>\n    <tr>\n      <th>0</th>\n      <td>BM25</td>\n      <td>12</td>\n      <td>P@5</td>\n      <td>0.200000</td>\n    </tr>\n    <tr>\n      <th>1</th>\n      <td>BM25</td>\n      <td>12</td>\n      <td>P@10</td>\n      <td>0.100000</td>\n    </tr>\n    <tr>\n      <th>2</th>\n      <td>BM25</td>\n      <td>12</td>\n      <td>nDCG@10</td>\n      <td>0.042572</td>\n    </tr>\n    <tr>\n      <th>3</th>\n      <td>BM25</td>\n      <td>12</td>\n      <td>RR(rel=2)</td>\n      <td>0.066667</td>\n    </tr>\n    <tr>\n      <th>4</th>\n      <td>BM25</td>\n      <td>17</td>\n      <td>P@5</td>\n      <td>1.000000</td>\n    </tr>\n    <tr>\n      <th>5</th>\n      <td>BM25</td>\n      <td>17</td>\n      <td>P@10</td>\n      <td>0.700000</td>\n    </tr>\n    <tr>\n      <th>6</th>\n      <td>BM25</td>\n      <td>17</td>\n      <td>nDCG@10</td>\n      <td>0.625882</td>\n    </tr>\n    <tr>\n      <th>7</th>\n      <td>BM25</td>\n      <td>17</td>\n      <td>RR(rel=2)</td>\n      <td>0.500000</td>\n    </tr>\n    <tr>\n      <th>8</th>\n      <td>BM25</td>\n      <td>21</td>\n      <td>P@5</td>\n      <td>1.000000</td>\n    </tr>\n    <tr>\n      <th>9</th>\n      <td>BM25</td>\n      <td>21</td>\n      <td>P@10</td>\n      <td>0.800000</td>\n    </tr>\n    <tr>\n      <th>10</th>\n      <td>BM25</td>\n      <td>21</td>\n      <td>nDCG@10</td>\n      <td>0.821299</td>\n    </tr>\n    <tr>\n      <th>11</th>\n      <td>BM25</td>\n      <td>21</td>\n      <td>RR(rel=2)</td>\n      <td>1.000000</td>\n    </tr>\n    <tr>\n      <th>12</th>\n      <td>BM25</td>\n      <td>22</td>\n      <td>P@5</td>\n      <td>1.000000</td>\n    </tr>\n    <tr>\n      <th>13</th>\n      <td>BM25</td>\n      <td>22</td>\n      <td>P@10</td>\n      <td>0.700000</td>\n    </tr>\n    <tr>\n      <th>14</th>\n      <td>BM25</td>\n      <td>22</td>\n      <td>nDCG@10</td>\n      <td>0.793584</td>\n    </tr>\n    <tr>\n      <th>15</th>\n      <td>BM25</td>\n      <td>22</td>\n      <td>RR(rel=2)</td>\n      <td>1.000000</td>\n    </tr>\n    <tr>\n      <th>16</th>\n      <td>BM25</td>\n      <td>24</td>\n      <td>P@5</td>\n      <td>1.000000</td>\n    </tr>\n    <tr>\n      <th>17</th>\n      <td>BM25</td>\n      <td>24</td>\n      <td>P@10</td>\n      <td>0.800000</td>\n    </tr>\n    <tr>\n      <th>18</th>\n      <td>BM25</td>\n      <td>24</td>\n      <td>nDCG@10</td>\n      <td>0.848238</td>\n    </tr>\n    <tr>\n      <th>19</th>\n      <td>BM25</td>\n      <td>24</td>\n      <td>RR(rel=2)</td>\n      <td>1.000000</td>\n    </tr>\n    <tr>\n      <th>20</th>\n      <td>BM25</td>\n      <td>36</td>\n      <td>P@5</td>\n      <td>1.000000</td>\n    </tr>\n    <tr>\n      <th>21</th>\n      <td>BM25</td>\n      <td>36</td>\n      <td>P@10</td>\n      <td>0.900000</td>\n    </tr>\n    <tr>\n      <th>22</th>\n      <td>BM25</td>\n      <td>36</td>\n      <td>nDCG@10</td>\n      <td>0.879030</td>\n    </tr>\n    <tr>\n      <th>23</th>\n      <td>BM25</td>\n      <td>36</td>\n      <td>RR(rel=2)</td>\n      <td>1.000000</td>\n    </tr>\n  </tbody>\n</table>\n</div>"
     },
     "metadata": {},
     "output_type": "display_data"
    }
   ],
   "source": [
    "tfidf = index_model(index_en_docs_abstract, model=\"TF_IDF\")\n",
    "bm25 = index_model(index_en_docs_abstract, model=\"BM25\")\n",
    "dirichlet_lm = index_model(index_en_docs_abstract, model=\"DirichletLM\")\n",
    "\n",
    "exp = pt.Experiment(\n",
    "    [bm25],\n",
    "    similar_queries,\n",
    "    qrels,\n",
    "    perquery=True,\n",
    "    eval_metrics=[P@5, P@10, nDCG@10, RR(rel=2)],\n",
    "    names=[\"BM25\"]\n",
    ")\n",
    "display(exp)"
   ],
   "metadata": {
    "collapsed": false,
    "pycharm": {
     "name": "#%%\n"
    }
   }
  },
  {
   "cell_type": "code",
   "execution_count": null,
   "outputs": [],
   "source": [],
   "metadata": {
    "collapsed": false,
    "pycharm": {
     "name": "#%%\n"
    }
   }
  }
 ],
 "metadata": {
  "colab": {
   "collapsed_sections": [],
   "name": "IR_Covid_2.ipynb",
   "provenance": []
  },
  "interpreter": {
   "hash": "ac6245020a857d0f9635773ad5334ed026e56de49fb86ce3408fe2ffa5d64a8a"
  },
  "kernelspec": {
   "display_name": "Python 3.10.2 64-bit ('irproject')",
   "name": "python3"
  },
  "language_info": {
   "codemirror_mode": {
    "name": "ipython",
    "version": 3
   },
   "file_extension": ".py",
   "mimetype": "text/x-python",
   "name": "python",
   "nbconvert_exporter": "python",
   "pygments_lexer": "ipython3",
   "version": "3.8.10"
  },
  "widgets": {
   "application/vnd.jupyter.widget-state+json": {
    "0d0b630aac144f3fa26ae8870e18d442": {
     "model_module": "@jupyter-widgets/controls",
     "model_module_version": "1.5.0",
     "model_name": "HBoxModel",
     "state": {
      "_dom_classes": [],
      "_model_module": "@jupyter-widgets/controls",
      "_model_module_version": "1.5.0",
      "_model_name": "HBoxModel",
      "_view_count": null,
      "_view_module": "@jupyter-widgets/controls",
      "_view_module_version": "1.5.0",
      "_view_name": "HBoxView",
      "box_style": "",
      "children": [
       "IPY_MODEL_4e206fe6dead40c49a338dec6b30005f",
       "IPY_MODEL_5d29c69b8b0449689d9199622f226ef6",
       "IPY_MODEL_d42433ee7df1419fa0dc06d752059ac5"
      ],
      "layout": "IPY_MODEL_28df9259a85040bd9004edb02f7657f5"
     }
    },
    "12093b93dc62400ab07d6fc57a77f359": {
     "model_module": "@jupyter-widgets/base",
     "model_module_version": "1.2.0",
     "model_name": "LayoutModel",
     "state": {
      "_model_module": "@jupyter-widgets/base",
      "_model_module_version": "1.2.0",
      "_model_name": "LayoutModel",
      "_view_count": null,
      "_view_module": "@jupyter-widgets/base",
      "_view_module_version": "1.2.0",
      "_view_name": "LayoutView",
      "align_content": null,
      "align_items": null,
      "align_self": null,
      "border": null,
      "bottom": null,
      "display": null,
      "flex": null,
      "flex_flow": null,
      "grid_area": null,
      "grid_auto_columns": null,
      "grid_auto_flow": null,
      "grid_auto_rows": null,
      "grid_column": null,
      "grid_gap": null,
      "grid_row": null,
      "grid_template_areas": null,
      "grid_template_columns": null,
      "grid_template_rows": null,
      "height": null,
      "justify_content": null,
      "justify_items": null,
      "left": null,
      "margin": null,
      "max_height": null,
      "max_width": null,
      "min_height": null,
      "min_width": null,
      "object_fit": null,
      "object_position": null,
      "order": null,
      "overflow": null,
      "overflow_x": null,
      "overflow_y": null,
      "padding": null,
      "right": null,
      "top": null,
      "visibility": null,
      "width": null
     }
    },
    "13a8405c1d044285ab6339c09d0f0ca0": {
     "model_module": "@jupyter-widgets/base",
     "model_module_version": "1.2.0",
     "model_name": "LayoutModel",
     "state": {
      "_model_module": "@jupyter-widgets/base",
      "_model_module_version": "1.2.0",
      "_model_name": "LayoutModel",
      "_view_count": null,
      "_view_module": "@jupyter-widgets/base",
      "_view_module_version": "1.2.0",
      "_view_name": "LayoutView",
      "align_content": null,
      "align_items": null,
      "align_self": null,
      "border": null,
      "bottom": null,
      "display": null,
      "flex": null,
      "flex_flow": null,
      "grid_area": null,
      "grid_auto_columns": null,
      "grid_auto_flow": null,
      "grid_auto_rows": null,
      "grid_column": null,
      "grid_gap": null,
      "grid_row": null,
      "grid_template_areas": null,
      "grid_template_columns": null,
      "grid_template_rows": null,
      "height": null,
      "justify_content": null,
      "justify_items": null,
      "left": null,
      "margin": null,
      "max_height": null,
      "max_width": null,
      "min_height": null,
      "min_width": null,
      "object_fit": null,
      "object_position": null,
      "order": null,
      "overflow": null,
      "overflow_x": null,
      "overflow_y": null,
      "padding": null,
      "right": null,
      "top": null,
      "visibility": null,
      "width": null
     }
    },
    "2357438f55a04dd2bc4763fc05d1d8ee": {
     "model_module": "@jupyter-widgets/base",
     "model_module_version": "1.2.0",
     "model_name": "LayoutModel",
     "state": {
      "_model_module": "@jupyter-widgets/base",
      "_model_module_version": "1.2.0",
      "_model_name": "LayoutModel",
      "_view_count": null,
      "_view_module": "@jupyter-widgets/base",
      "_view_module_version": "1.2.0",
      "_view_name": "LayoutView",
      "align_content": null,
      "align_items": null,
      "align_self": null,
      "border": null,
      "bottom": null,
      "display": null,
      "flex": null,
      "flex_flow": null,
      "grid_area": null,
      "grid_auto_columns": null,
      "grid_auto_flow": null,
      "grid_auto_rows": null,
      "grid_column": null,
      "grid_gap": null,
      "grid_row": null,
      "grid_template_areas": null,
      "grid_template_columns": null,
      "grid_template_rows": null,
      "height": null,
      "justify_content": null,
      "justify_items": null,
      "left": null,
      "margin": null,
      "max_height": null,
      "max_width": null,
      "min_height": null,
      "min_width": null,
      "object_fit": null,
      "object_position": null,
      "order": null,
      "overflow": null,
      "overflow_x": null,
      "overflow_y": null,
      "padding": null,
      "right": null,
      "top": null,
      "visibility": null,
      "width": null
     }
    },
    "23c39a94b61946c2b08c94a195021a3f": {
     "model_module": "@jupyter-widgets/controls",
     "model_module_version": "1.5.0",
     "model_name": "ProgressStyleModel",
     "state": {
      "_model_module": "@jupyter-widgets/controls",
      "_model_module_version": "1.5.0",
      "_model_name": "ProgressStyleModel",
      "_view_count": null,
      "_view_module": "@jupyter-widgets/base",
      "_view_module_version": "1.2.0",
      "_view_name": "StyleView",
      "bar_color": null,
      "description_width": ""
     }
    },
    "2417e17b9f404dd6ba198463eb90e913": {
     "model_module": "@jupyter-widgets/controls",
     "model_module_version": "1.5.0",
     "model_name": "HBoxModel",
     "state": {
      "_dom_classes": [],
      "_model_module": "@jupyter-widgets/controls",
      "_model_module_version": "1.5.0",
      "_model_name": "HBoxModel",
      "_view_count": null,
      "_view_module": "@jupyter-widgets/controls",
      "_view_module_version": "1.5.0",
      "_view_name": "HBoxView",
      "box_style": "",
      "children": [
       "IPY_MODEL_8495991fa6264a38969b046a8cd5ec0f",
       "IPY_MODEL_b28290eda6ec49028ae7ef8202889201",
       "IPY_MODEL_a1f32b886af1471ca97c063c80c433e5"
      ],
      "layout": "IPY_MODEL_36c859d3131f45a3b0d3af38f9bd5ffd"
     }
    },
    "28df9259a85040bd9004edb02f7657f5": {
     "model_module": "@jupyter-widgets/base",
     "model_module_version": "1.2.0",
     "model_name": "LayoutModel",
     "state": {
      "_model_module": "@jupyter-widgets/base",
      "_model_module_version": "1.2.0",
      "_model_name": "LayoutModel",
      "_view_count": null,
      "_view_module": "@jupyter-widgets/base",
      "_view_module_version": "1.2.0",
      "_view_name": "LayoutView",
      "align_content": null,
      "align_items": null,
      "align_self": null,
      "border": null,
      "bottom": null,
      "display": null,
      "flex": null,
      "flex_flow": null,
      "grid_area": null,
      "grid_auto_columns": null,
      "grid_auto_flow": null,
      "grid_auto_rows": null,
      "grid_column": null,
      "grid_gap": null,
      "grid_row": null,
      "grid_template_areas": null,
      "grid_template_columns": null,
      "grid_template_rows": null,
      "height": null,
      "justify_content": null,
      "justify_items": null,
      "left": null,
      "margin": null,
      "max_height": null,
      "max_width": null,
      "min_height": null,
      "min_width": null,
      "object_fit": null,
      "object_position": null,
      "order": null,
      "overflow": null,
      "overflow_x": null,
      "overflow_y": null,
      "padding": null,
      "right": null,
      "top": null,
      "visibility": null,
      "width": null
     }
    },
    "2ce2bf5586b84884877bd4186ce5a7d3": {
     "model_module": "@jupyter-widgets/base",
     "model_module_version": "1.2.0",
     "model_name": "LayoutModel",
     "state": {
      "_model_module": "@jupyter-widgets/base",
      "_model_module_version": "1.2.0",
      "_model_name": "LayoutModel",
      "_view_count": null,
      "_view_module": "@jupyter-widgets/base",
      "_view_module_version": "1.2.0",
      "_view_name": "LayoutView",
      "align_content": null,
      "align_items": null,
      "align_self": null,
      "border": null,
      "bottom": null,
      "display": null,
      "flex": null,
      "flex_flow": null,
      "grid_area": null,
      "grid_auto_columns": null,
      "grid_auto_flow": null,
      "grid_auto_rows": null,
      "grid_column": null,
      "grid_gap": null,
      "grid_row": null,
      "grid_template_areas": null,
      "grid_template_columns": null,
      "grid_template_rows": null,
      "height": null,
      "justify_content": null,
      "justify_items": null,
      "left": null,
      "margin": null,
      "max_height": null,
      "max_width": null,
      "min_height": null,
      "min_width": null,
      "object_fit": null,
      "object_position": null,
      "order": null,
      "overflow": null,
      "overflow_x": null,
      "overflow_y": null,
      "padding": null,
      "right": null,
      "top": null,
      "visibility": null,
      "width": null
     }
    },
    "2e416cdf8ad84139ac2cc5f3bc7bd996": {
     "model_module": "@jupyter-widgets/controls",
     "model_module_version": "1.5.0",
     "model_name": "FloatProgressModel",
     "state": {
      "_dom_classes": [],
      "_model_module": "@jupyter-widgets/controls",
      "_model_module_version": "1.5.0",
      "_model_name": "FloatProgressModel",
      "_view_count": null,
      "_view_module": "@jupyter-widgets/controls",
      "_view_module_version": "1.5.0",
      "_view_name": "ProgressView",
      "bar_style": "success",
      "description": "",
      "description_tooltip": null,
      "layout": "IPY_MODEL_2ce2bf5586b84884877bd4186ce5a7d3",
      "max": 192509,
      "min": 0,
      "orientation": "horizontal",
      "style": "IPY_MODEL_970b9b588e7649ceba70926e334f722a",
      "value": 192509
     }
    },
    "36c859d3131f45a3b0d3af38f9bd5ffd": {
     "model_module": "@jupyter-widgets/base",
     "model_module_version": "1.2.0",
     "model_name": "LayoutModel",
     "state": {
      "_model_module": "@jupyter-widgets/base",
      "_model_module_version": "1.2.0",
      "_model_name": "LayoutModel",
      "_view_count": null,
      "_view_module": "@jupyter-widgets/base",
      "_view_module_version": "1.2.0",
      "_view_name": "LayoutView",
      "align_content": null,
      "align_items": null,
      "align_self": null,
      "border": null,
      "bottom": null,
      "display": null,
      "flex": null,
      "flex_flow": null,
      "grid_area": null,
      "grid_auto_columns": null,
      "grid_auto_flow": null,
      "grid_auto_rows": null,
      "grid_column": null,
      "grid_gap": null,
      "grid_row": null,
      "grid_template_areas": null,
      "grid_template_columns": null,
      "grid_template_rows": null,
      "height": null,
      "justify_content": null,
      "justify_items": null,
      "left": null,
      "margin": null,
      "max_height": null,
      "max_width": null,
      "min_height": null,
      "min_width": null,
      "object_fit": null,
      "object_position": null,
      "order": null,
      "overflow": null,
      "overflow_x": null,
      "overflow_y": null,
      "padding": null,
      "right": null,
      "top": null,
      "visibility": null,
      "width": null
     }
    },
    "426fe655a447428189a81a34731902b8": {
     "model_module": "@jupyter-widgets/controls",
     "model_module_version": "1.5.0",
     "model_name": "DescriptionStyleModel",
     "state": {
      "_model_module": "@jupyter-widgets/controls",
      "_model_module_version": "1.5.0",
      "_model_name": "DescriptionStyleModel",
      "_view_count": null,
      "_view_module": "@jupyter-widgets/base",
      "_view_module_version": "1.2.0",
      "_view_name": "StyleView",
      "description_width": ""
     }
    },
    "4e206fe6dead40c49a338dec6b30005f": {
     "model_module": "@jupyter-widgets/controls",
     "model_module_version": "1.5.0",
     "model_name": "HTMLModel",
     "state": {
      "_dom_classes": [],
      "_model_module": "@jupyter-widgets/controls",
      "_model_module_version": "1.5.0",
      "_model_name": "HTMLModel",
      "_view_count": null,
      "_view_module": "@jupyter-widgets/controls",
      "_view_module_version": "1.5.0",
      "_view_name": "HTMLView",
      "description": "",
      "description_tooltip": null,
      "layout": "IPY_MODEL_b7544b3438164470b06a15188f42403e",
      "placeholder": "​",
      "style": "IPY_MODEL_e56cb79e01b340eab5372660c0515991",
      "value": "100%"
     }
    },
    "58136da0fe2f4ab0afc6cd8f28286bf6": {
     "model_module": "@jupyter-widgets/controls",
     "model_module_version": "1.5.0",
     "model_name": "DescriptionStyleModel",
     "state": {
      "_model_module": "@jupyter-widgets/controls",
      "_model_module_version": "1.5.0",
      "_model_name": "DescriptionStyleModel",
      "_view_count": null,
      "_view_module": "@jupyter-widgets/base",
      "_view_module_version": "1.2.0",
      "_view_name": "StyleView",
      "description_width": ""
     }
    },
    "5d29c69b8b0449689d9199622f226ef6": {
     "model_module": "@jupyter-widgets/controls",
     "model_module_version": "1.5.0",
     "model_name": "FloatProgressModel",
     "state": {
      "_dom_classes": [],
      "_model_module": "@jupyter-widgets/controls",
      "_model_module_version": "1.5.0",
      "_model_name": "FloatProgressModel",
      "_view_count": null,
      "_view_module": "@jupyter-widgets/controls",
      "_view_module_version": "1.5.0",
      "_view_name": "ProgressView",
      "bar_style": "success",
      "description": "",
      "description_tooltip": null,
      "layout": "IPY_MODEL_a3ed8661f5a24ab1bb7e5e1ce7b77315",
      "max": 192509,
      "min": 0,
      "orientation": "horizontal",
      "style": "IPY_MODEL_7ccd09ae830842b9ad7968c27d3b58aa",
      "value": 192509
     }
    },
    "6cc42f9043ad47ed8da24a32b34c0bb4": {
     "model_module": "@jupyter-widgets/controls",
     "model_module_version": "1.5.0",
     "model_name": "DescriptionStyleModel",
     "state": {
      "_model_module": "@jupyter-widgets/controls",
      "_model_module_version": "1.5.0",
      "_model_name": "DescriptionStyleModel",
      "_view_count": null,
      "_view_module": "@jupyter-widgets/base",
      "_view_module_version": "1.2.0",
      "_view_name": "StyleView",
      "description_width": ""
     }
    },
    "70b04ec121884674b8dfc9ef6a035bdc": {
     "model_module": "@jupyter-widgets/controls",
     "model_module_version": "1.5.0",
     "model_name": "HTMLModel",
     "state": {
      "_dom_classes": [],
      "_model_module": "@jupyter-widgets/controls",
      "_model_module_version": "1.5.0",
      "_model_name": "HTMLModel",
      "_view_count": null,
      "_view_module": "@jupyter-widgets/controls",
      "_view_module_version": "1.5.0",
      "_view_name": "HTMLView",
      "description": "",
      "description_tooltip": null,
      "layout": "IPY_MODEL_93915c5bcc3a4276994e3ee5e8ff426b",
      "placeholder": "​",
      "style": "IPY_MODEL_6cc42f9043ad47ed8da24a32b34c0bb4",
      "value": " 192509/192509 [01:09&lt;00:00, 2682.33it/s]"
     }
    },
    "7ccd09ae830842b9ad7968c27d3b58aa": {
     "model_module": "@jupyter-widgets/controls",
     "model_module_version": "1.5.0",
     "model_name": "ProgressStyleModel",
     "state": {
      "_model_module": "@jupyter-widgets/controls",
      "_model_module_version": "1.5.0",
      "_model_name": "ProgressStyleModel",
      "_view_count": null,
      "_view_module": "@jupyter-widgets/base",
      "_view_module_version": "1.2.0",
      "_view_name": "StyleView",
      "bar_color": null,
      "description_width": ""
     }
    },
    "8495991fa6264a38969b046a8cd5ec0f": {
     "model_module": "@jupyter-widgets/controls",
     "model_module_version": "1.5.0",
     "model_name": "HTMLModel",
     "state": {
      "_dom_classes": [],
      "_model_module": "@jupyter-widgets/controls",
      "_model_module_version": "1.5.0",
      "_model_name": "HTMLModel",
      "_view_count": null,
      "_view_module": "@jupyter-widgets/controls",
      "_view_module_version": "1.5.0",
      "_view_name": "HTMLView",
      "description": "",
      "description_tooltip": null,
      "layout": "IPY_MODEL_dc981ef5f3564b089d5ca0c3a5f50f9e",
      "placeholder": "​",
      "style": "IPY_MODEL_efec88ca8b524f9e91ee7fb4851cc49f",
      "value": "100%"
     }
    },
    "93915c5bcc3a4276994e3ee5e8ff426b": {
     "model_module": "@jupyter-widgets/base",
     "model_module_version": "1.2.0",
     "model_name": "LayoutModel",
     "state": {
      "_model_module": "@jupyter-widgets/base",
      "_model_module_version": "1.2.0",
      "_model_name": "LayoutModel",
      "_view_count": null,
      "_view_module": "@jupyter-widgets/base",
      "_view_module_version": "1.2.0",
      "_view_name": "LayoutView",
      "align_content": null,
      "align_items": null,
      "align_self": null,
      "border": null,
      "bottom": null,
      "display": null,
      "flex": null,
      "flex_flow": null,
      "grid_area": null,
      "grid_auto_columns": null,
      "grid_auto_flow": null,
      "grid_auto_rows": null,
      "grid_column": null,
      "grid_gap": null,
      "grid_row": null,
      "grid_template_areas": null,
      "grid_template_columns": null,
      "grid_template_rows": null,
      "height": null,
      "justify_content": null,
      "justify_items": null,
      "left": null,
      "margin": null,
      "max_height": null,
      "max_width": null,
      "min_height": null,
      "min_width": null,
      "object_fit": null,
      "object_position": null,
      "order": null,
      "overflow": null,
      "overflow_x": null,
      "overflow_y": null,
      "padding": null,
      "right": null,
      "top": null,
      "visibility": null,
      "width": null
     }
    },
    "970b9b588e7649ceba70926e334f722a": {
     "model_module": "@jupyter-widgets/controls",
     "model_module_version": "1.5.0",
     "model_name": "ProgressStyleModel",
     "state": {
      "_model_module": "@jupyter-widgets/controls",
      "_model_module_version": "1.5.0",
      "_model_name": "ProgressStyleModel",
      "_view_count": null,
      "_view_module": "@jupyter-widgets/base",
      "_view_module_version": "1.2.0",
      "_view_name": "StyleView",
      "bar_color": null,
      "description_width": ""
     }
    },
    "98938358ca794283bf71a5045018c30a": {
     "model_module": "@jupyter-widgets/controls",
     "model_module_version": "1.5.0",
     "model_name": "HTMLModel",
     "state": {
      "_dom_classes": [],
      "_model_module": "@jupyter-widgets/controls",
      "_model_module_version": "1.5.0",
      "_model_name": "HTMLModel",
      "_view_count": null,
      "_view_module": "@jupyter-widgets/controls",
      "_view_module_version": "1.5.0",
      "_view_name": "HTMLView",
      "description": "",
      "description_tooltip": null,
      "layout": "IPY_MODEL_da14b9cd64654526a9fd80516de84081",
      "placeholder": "​",
      "style": "IPY_MODEL_ffbda87069304b099e82b2a7d77ac4cd",
      "value": "100%"
     }
    },
    "a1f32b886af1471ca97c063c80c433e5": {
     "model_module": "@jupyter-widgets/controls",
     "model_module_version": "1.5.0",
     "model_name": "HTMLModel",
     "state": {
      "_dom_classes": [],
      "_model_module": "@jupyter-widgets/controls",
      "_model_module_version": "1.5.0",
      "_model_name": "HTMLModel",
      "_view_count": null,
      "_view_module": "@jupyter-widgets/controls",
      "_view_module_version": "1.5.0",
      "_view_name": "HTMLView",
      "description": "",
      "description_tooltip": null,
      "layout": "IPY_MODEL_12093b93dc62400ab07d6fc57a77f359",
      "placeholder": "​",
      "style": "IPY_MODEL_426fe655a447428189a81a34731902b8",
      "value": " 84048/84048 [30:15&lt;00:00, 48.28it/s]"
     }
    },
    "a3ed8661f5a24ab1bb7e5e1ce7b77315": {
     "model_module": "@jupyter-widgets/base",
     "model_module_version": "1.2.0",
     "model_name": "LayoutModel",
     "state": {
      "_model_module": "@jupyter-widgets/base",
      "_model_module_version": "1.2.0",
      "_model_name": "LayoutModel",
      "_view_count": null,
      "_view_module": "@jupyter-widgets/base",
      "_view_module_version": "1.2.0",
      "_view_name": "LayoutView",
      "align_content": null,
      "align_items": null,
      "align_self": null,
      "border": null,
      "bottom": null,
      "display": null,
      "flex": null,
      "flex_flow": null,
      "grid_area": null,
      "grid_auto_columns": null,
      "grid_auto_flow": null,
      "grid_auto_rows": null,
      "grid_column": null,
      "grid_gap": null,
      "grid_row": null,
      "grid_template_areas": null,
      "grid_template_columns": null,
      "grid_template_rows": null,
      "height": null,
      "justify_content": null,
      "justify_items": null,
      "left": null,
      "margin": null,
      "max_height": null,
      "max_width": null,
      "min_height": null,
      "min_width": null,
      "object_fit": null,
      "object_position": null,
      "order": null,
      "overflow": null,
      "overflow_x": null,
      "overflow_y": null,
      "padding": null,
      "right": null,
      "top": null,
      "visibility": null,
      "width": null
     }
    },
    "b28290eda6ec49028ae7ef8202889201": {
     "model_module": "@jupyter-widgets/controls",
     "model_module_version": "1.5.0",
     "model_name": "FloatProgressModel",
     "state": {
      "_dom_classes": [],
      "_model_module": "@jupyter-widgets/controls",
      "_model_module_version": "1.5.0",
      "_model_name": "FloatProgressModel",
      "_view_count": null,
      "_view_module": "@jupyter-widgets/controls",
      "_view_module_version": "1.5.0",
      "_view_name": "ProgressView",
      "bar_style": "success",
      "description": "",
      "description_tooltip": null,
      "layout": "IPY_MODEL_d21c08f49fc744e59a0ae2a8818c14ed",
      "max": 84048,
      "min": 0,
      "orientation": "horizontal",
      "style": "IPY_MODEL_23c39a94b61946c2b08c94a195021a3f",
      "value": 84048
     }
    },
    "b7544b3438164470b06a15188f42403e": {
     "model_module": "@jupyter-widgets/base",
     "model_module_version": "1.2.0",
     "model_name": "LayoutModel",
     "state": {
      "_model_module": "@jupyter-widgets/base",
      "_model_module_version": "1.2.0",
      "_model_name": "LayoutModel",
      "_view_count": null,
      "_view_module": "@jupyter-widgets/base",
      "_view_module_version": "1.2.0",
      "_view_name": "LayoutView",
      "align_content": null,
      "align_items": null,
      "align_self": null,
      "border": null,
      "bottom": null,
      "display": null,
      "flex": null,
      "flex_flow": null,
      "grid_area": null,
      "grid_auto_columns": null,
      "grid_auto_flow": null,
      "grid_auto_rows": null,
      "grid_column": null,
      "grid_gap": null,
      "grid_row": null,
      "grid_template_areas": null,
      "grid_template_columns": null,
      "grid_template_rows": null,
      "height": null,
      "justify_content": null,
      "justify_items": null,
      "left": null,
      "margin": null,
      "max_height": null,
      "max_width": null,
      "min_height": null,
      "min_width": null,
      "object_fit": null,
      "object_position": null,
      "order": null,
      "overflow": null,
      "overflow_x": null,
      "overflow_y": null,
      "padding": null,
      "right": null,
      "top": null,
      "visibility": null,
      "width": null
     }
    },
    "bee8c2ff468b429d94aa2da270c32a7e": {
     "model_module": "@jupyter-widgets/controls",
     "model_module_version": "1.5.0",
     "model_name": "HBoxModel",
     "state": {
      "_dom_classes": [],
      "_model_module": "@jupyter-widgets/controls",
      "_model_module_version": "1.5.0",
      "_model_name": "HBoxModel",
      "_view_count": null,
      "_view_module": "@jupyter-widgets/controls",
      "_view_module_version": "1.5.0",
      "_view_name": "HBoxView",
      "box_style": "",
      "children": [
       "IPY_MODEL_98938358ca794283bf71a5045018c30a",
       "IPY_MODEL_2e416cdf8ad84139ac2cc5f3bc7bd996",
       "IPY_MODEL_70b04ec121884674b8dfc9ef6a035bdc"
      ],
      "layout": "IPY_MODEL_13a8405c1d044285ab6339c09d0f0ca0"
     }
    },
    "d21c08f49fc744e59a0ae2a8818c14ed": {
     "model_module": "@jupyter-widgets/base",
     "model_module_version": "1.2.0",
     "model_name": "LayoutModel",
     "state": {
      "_model_module": "@jupyter-widgets/base",
      "_model_module_version": "1.2.0",
      "_model_name": "LayoutModel",
      "_view_count": null,
      "_view_module": "@jupyter-widgets/base",
      "_view_module_version": "1.2.0",
      "_view_name": "LayoutView",
      "align_content": null,
      "align_items": null,
      "align_self": null,
      "border": null,
      "bottom": null,
      "display": null,
      "flex": null,
      "flex_flow": null,
      "grid_area": null,
      "grid_auto_columns": null,
      "grid_auto_flow": null,
      "grid_auto_rows": null,
      "grid_column": null,
      "grid_gap": null,
      "grid_row": null,
      "grid_template_areas": null,
      "grid_template_columns": null,
      "grid_template_rows": null,
      "height": null,
      "justify_content": null,
      "justify_items": null,
      "left": null,
      "margin": null,
      "max_height": null,
      "max_width": null,
      "min_height": null,
      "min_width": null,
      "object_fit": null,
      "object_position": null,
      "order": null,
      "overflow": null,
      "overflow_x": null,
      "overflow_y": null,
      "padding": null,
      "right": null,
      "top": null,
      "visibility": null,
      "width": null
     }
    },
    "d42433ee7df1419fa0dc06d752059ac5": {
     "model_module": "@jupyter-widgets/controls",
     "model_module_version": "1.5.0",
     "model_name": "HTMLModel",
     "state": {
      "_dom_classes": [],
      "_model_module": "@jupyter-widgets/controls",
      "_model_module_version": "1.5.0",
      "_model_name": "HTMLModel",
      "_view_count": null,
      "_view_module": "@jupyter-widgets/controls",
      "_view_module_version": "1.5.0",
      "_view_name": "HTMLView",
      "description": "",
      "description_tooltip": null,
      "layout": "IPY_MODEL_2357438f55a04dd2bc4763fc05d1d8ee",
      "placeholder": "​",
      "style": "IPY_MODEL_58136da0fe2f4ab0afc6cd8f28286bf6",
      "value": " 192509/192509 [17:48&lt;00:00, 198.37it/s]"
     }
    },
    "da14b9cd64654526a9fd80516de84081": {
     "model_module": "@jupyter-widgets/base",
     "model_module_version": "1.2.0",
     "model_name": "LayoutModel",
     "state": {
      "_model_module": "@jupyter-widgets/base",
      "_model_module_version": "1.2.0",
      "_model_name": "LayoutModel",
      "_view_count": null,
      "_view_module": "@jupyter-widgets/base",
      "_view_module_version": "1.2.0",
      "_view_name": "LayoutView",
      "align_content": null,
      "align_items": null,
      "align_self": null,
      "border": null,
      "bottom": null,
      "display": null,
      "flex": null,
      "flex_flow": null,
      "grid_area": null,
      "grid_auto_columns": null,
      "grid_auto_flow": null,
      "grid_auto_rows": null,
      "grid_column": null,
      "grid_gap": null,
      "grid_row": null,
      "grid_template_areas": null,
      "grid_template_columns": null,
      "grid_template_rows": null,
      "height": null,
      "justify_content": null,
      "justify_items": null,
      "left": null,
      "margin": null,
      "max_height": null,
      "max_width": null,
      "min_height": null,
      "min_width": null,
      "object_fit": null,
      "object_position": null,
      "order": null,
      "overflow": null,
      "overflow_x": null,
      "overflow_y": null,
      "padding": null,
      "right": null,
      "top": null,
      "visibility": null,
      "width": null
     }
    },
    "dc981ef5f3564b089d5ca0c3a5f50f9e": {
     "model_module": "@jupyter-widgets/base",
     "model_module_version": "1.2.0",
     "model_name": "LayoutModel",
     "state": {
      "_model_module": "@jupyter-widgets/base",
      "_model_module_version": "1.2.0",
      "_model_name": "LayoutModel",
      "_view_count": null,
      "_view_module": "@jupyter-widgets/base",
      "_view_module_version": "1.2.0",
      "_view_name": "LayoutView",
      "align_content": null,
      "align_items": null,
      "align_self": null,
      "border": null,
      "bottom": null,
      "display": null,
      "flex": null,
      "flex_flow": null,
      "grid_area": null,
      "grid_auto_columns": null,
      "grid_auto_flow": null,
      "grid_auto_rows": null,
      "grid_column": null,
      "grid_gap": null,
      "grid_row": null,
      "grid_template_areas": null,
      "grid_template_columns": null,
      "grid_template_rows": null,
      "height": null,
      "justify_content": null,
      "justify_items": null,
      "left": null,
      "margin": null,
      "max_height": null,
      "max_width": null,
      "min_height": null,
      "min_width": null,
      "object_fit": null,
      "object_position": null,
      "order": null,
      "overflow": null,
      "overflow_x": null,
      "overflow_y": null,
      "padding": null,
      "right": null,
      "top": null,
      "visibility": null,
      "width": null
     }
    },
    "e56cb79e01b340eab5372660c0515991": {
     "model_module": "@jupyter-widgets/controls",
     "model_module_version": "1.5.0",
     "model_name": "DescriptionStyleModel",
     "state": {
      "_model_module": "@jupyter-widgets/controls",
      "_model_module_version": "1.5.0",
      "_model_name": "DescriptionStyleModel",
      "_view_count": null,
      "_view_module": "@jupyter-widgets/base",
      "_view_module_version": "1.2.0",
      "_view_name": "StyleView",
      "description_width": ""
     }
    },
    "efec88ca8b524f9e91ee7fb4851cc49f": {
     "model_module": "@jupyter-widgets/controls",
     "model_module_version": "1.5.0",
     "model_name": "DescriptionStyleModel",
     "state": {
      "_model_module": "@jupyter-widgets/controls",
      "_model_module_version": "1.5.0",
      "_model_name": "DescriptionStyleModel",
      "_view_count": null,
      "_view_module": "@jupyter-widgets/base",
      "_view_module_version": "1.2.0",
      "_view_name": "StyleView",
      "description_width": ""
     }
    },
    "ffbda87069304b099e82b2a7d77ac4cd": {
     "model_module": "@jupyter-widgets/controls",
     "model_module_version": "1.5.0",
     "model_name": "DescriptionStyleModel",
     "state": {
      "_model_module": "@jupyter-widgets/controls",
      "_model_module_version": "1.5.0",
      "_model_name": "DescriptionStyleModel",
      "_view_count": null,
      "_view_module": "@jupyter-widgets/base",
      "_view_module_version": "1.2.0",
      "_view_name": "StyleView",
      "description_width": ""
     }
    }
   }
  }
 },
 "nbformat": 4,
 "nbformat_minor": 0
}