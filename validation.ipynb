{
 "cells": [
  {
   "cell_type": "markdown",
   "metadata": {
    "id": "Jfk8csN4xuPT"
   },
   "source": [
    "# Part 3: Validation"
   ]
  },
  {
   "cell_type": "code",
   "execution_count": 99,
   "metadata": {},
   "outputs": [
    {
     "name": "stdout",
     "output_type": "stream",
     "text": [
      "Requirement already satisfied: python-terrier in /home/saitekikai/.local/lib/python3.8/site-packages (0.8.0)\r\n",
      "Requirement already satisfied: tqdm in /home/saitekikai/.local/lib/python3.8/site-packages (from python-terrier) (4.62.3)\r\n",
      "Requirement already satisfied: statsmodels in /home/saitekikai/.local/lib/python3.8/site-packages (from python-terrier) (0.13.2)\r\n",
      "Requirement already satisfied: deprecation in /home/saitekikai/.local/lib/python3.8/site-packages (from python-terrier) (2.1.0)\r\n",
      "Requirement already satisfied: ir-measures>=0.2.0 in /home/saitekikai/.local/lib/python3.8/site-packages (from python-terrier) (0.2.3)\r\n",
      "Requirement already satisfied: matchpy in /home/saitekikai/.local/lib/python3.8/site-packages (from python-terrier) (0.5.5)\r\n",
      "Requirement already satisfied: dill in /home/saitekikai/.local/lib/python3.8/site-packages (from python-terrier) (0.3.4)\r\n",
      "Requirement already satisfied: chest in /home/saitekikai/.local/lib/python3.8/site-packages (from python-terrier) (0.2.3)\r\n",
      "Requirement already satisfied: scipy in /usr/lib/python3/dist-packages (from python-terrier) (1.3.3)\r\n",
      "Requirement already satisfied: joblib in /home/saitekikai/.local/lib/python3.8/site-packages (from python-terrier) (1.1.0)\r\n",
      "Requirement already satisfied: ir-datasets>=0.3.2 in /home/saitekikai/.local/lib/python3.8/site-packages (from python-terrier) (0.5.0)\r\n",
      "Requirement already satisfied: nptyping in /home/saitekikai/.local/lib/python3.8/site-packages (from python-terrier) (1.4.4)\r\n",
      "Requirement already satisfied: more-itertools in /usr/lib/python3/dist-packages (from python-terrier) (4.2.0)\r\n",
      "Requirement already satisfied: pandas in /home/saitekikai/.local/lib/python3.8/site-packages (from python-terrier) (1.4.1)\r\n",
      "Requirement already satisfied: wget in /home/saitekikai/.local/lib/python3.8/site-packages (from python-terrier) (3.2)\r\n",
      "Requirement already satisfied: sklearn in /home/saitekikai/.local/lib/python3.8/site-packages (from python-terrier) (0.0)\r\n",
      "Requirement already satisfied: jinja2 in /usr/local/lib/python3.8/dist-packages (from python-terrier) (3.0.1)\r\n",
      "Requirement already satisfied: requests in /usr/lib/python3/dist-packages (from python-terrier) (2.22.0)\r\n",
      "Requirement already satisfied: pyjnius~=1.3.0 in /home/saitekikai/.local/lib/python3.8/site-packages (from python-terrier) (1.3.0)\r\n",
      "Requirement already satisfied: numpy in /home/saitekikai/.local/lib/python3.8/site-packages (from python-terrier) (1.22.2)\r\n",
      "Requirement already satisfied: packaging>=21.3 in /home/saitekikai/.local/lib/python3.8/site-packages (from statsmodels->python-terrier) (21.3)\r\n",
      "Requirement already satisfied: patsy>=0.5.2 in /home/saitekikai/.local/lib/python3.8/site-packages (from statsmodels->python-terrier) (0.5.2)\r\n",
      "Requirement already satisfied: pytrec-eval-terrier==0.5.1 in /home/saitekikai/.local/lib/python3.8/site-packages (from ir-measures>=0.2.0->python-terrier) (0.5.1)\r\n",
      "Requirement already satisfied: cwl-eval>=1.0.10 in /home/saitekikai/.local/lib/python3.8/site-packages (from ir-measures>=0.2.0->python-terrier) (1.0.10)\r\n",
      "Requirement already satisfied: pyndeval>=0.0.2 in /home/saitekikai/.local/lib/python3.8/site-packages (from ir-measures>=0.2.0->python-terrier) (0.0.2)\r\n",
      "Requirement already satisfied: multiset<3.0,>=2.0 in /home/saitekikai/.local/lib/python3.8/site-packages (from matchpy->python-terrier) (2.1.1)\r\n",
      "Requirement already satisfied: heapdict in /home/saitekikai/.local/lib/python3.8/site-packages (from chest->python-terrier) (1.0.1)\r\n",
      "Requirement already satisfied: lz4>=3.1.1 in /home/saitekikai/.local/lib/python3.8/site-packages (from ir-datasets>=0.3.2->python-terrier) (4.0.0)\r\n",
      "Requirement already satisfied: trec-car-tools>=2.5.4 in /home/saitekikai/.local/lib/python3.8/site-packages (from ir-datasets>=0.3.2->python-terrier) (2.6)\r\n",
      "Requirement already satisfied: pyyaml>=5.3.1 in /usr/lib/python3/dist-packages (from ir-datasets>=0.3.2->python-terrier) (5.3.1)\r\n",
      "Requirement already satisfied: warc3-wet>=0.2.3 in /home/saitekikai/.local/lib/python3.8/site-packages (from ir-datasets>=0.3.2->python-terrier) (0.2.3)\r\n",
      "Requirement already satisfied: ijson>=3.1.3 in /home/saitekikai/.local/lib/python3.8/site-packages (from ir-datasets>=0.3.2->python-terrier) (3.1.4)\r\n",
      "Requirement already satisfied: beautifulsoup4>=4.4.1 in /home/saitekikai/.local/lib/python3.8/site-packages (from ir-datasets>=0.3.2->python-terrier) (4.10.0)\r\n",
      "Requirement already satisfied: zlib-state>=0.1.3 in /home/saitekikai/.local/lib/python3.8/site-packages (from ir-datasets>=0.3.2->python-terrier) (0.1.5)\r\n",
      "Requirement already satisfied: warc3-wet-clueweb09>=0.2.5 in /home/saitekikai/.local/lib/python3.8/site-packages (from ir-datasets>=0.3.2->python-terrier) (0.2.5)\r\n",
      "Requirement already satisfied: pyautocorpus>=0.1.1 in /home/saitekikai/.local/lib/python3.8/site-packages (from ir-datasets>=0.3.2->python-terrier) (0.1.8)\r\n",
      "Requirement already satisfied: lxml>=4.5.2 in /home/saitekikai/.local/lib/python3.8/site-packages (from ir-datasets>=0.3.2->python-terrier) (4.7.1)\r\n",
      "Requirement already satisfied: typish>=1.7.0 in /home/saitekikai/.local/lib/python3.8/site-packages (from nptyping->python-terrier) (1.9.3)\r\n",
      "Requirement already satisfied: pytz>=2020.1 in /home/saitekikai/.local/lib/python3.8/site-packages (from pandas->python-terrier) (2021.3)\r\n",
      "Requirement already satisfied: python-dateutil>=2.8.1 in /home/saitekikai/.local/lib/python3.8/site-packages (from pandas->python-terrier) (2.8.2)\r\n",
      "Requirement already satisfied: scikit-learn in /home/saitekikai/.local/lib/python3.8/site-packages (from sklearn->python-terrier) (1.0.2)\r\n",
      "Requirement already satisfied: MarkupSafe>=2.0 in /usr/local/lib/python3.8/dist-packages (from jinja2->python-terrier) (2.0.1)\r\n",
      "Requirement already satisfied: six>=1.7.0 in /usr/local/lib/python3.8/dist-packages (from pyjnius~=1.3.0->python-terrier) (1.15.0)\r\n",
      "Requirement already satisfied: cython in /home/saitekikai/.local/lib/python3.8/site-packages (from pyjnius~=1.3.0->python-terrier) (0.29.27)\r\n",
      "Requirement already satisfied: pyparsing!=3.0.5,>=2.0.2 in /home/saitekikai/.local/lib/python3.8/site-packages (from packaging>=21.3->statsmodels->python-terrier) (3.0.7)\r\n",
      "Requirement already satisfied: cbor>=1.0.0 in /home/saitekikai/.local/lib/python3.8/site-packages (from trec-car-tools>=2.5.4->ir-datasets>=0.3.2->python-terrier) (1.0.0)\r\n",
      "Requirement already satisfied: soupsieve>1.2 in /home/saitekikai/.local/lib/python3.8/site-packages (from beautifulsoup4>=4.4.1->ir-datasets>=0.3.2->python-terrier) (2.3.1)\r\n",
      "Requirement already satisfied: threadpoolctl>=2.0.0 in /home/saitekikai/.local/lib/python3.8/site-packages (from scikit-learn->sklearn->python-terrier) (3.0.0)\r\n",
      "Note: you may need to restart the kernel to use updated packages.\n"
     ]
    }
   ],
   "source": [
    "# %%capture\n",
    "%pip install python-terrier\n",
    "\n",
    "import pyterrier as pt\n",
    "from pyterrier.measures import *\n",
    "import pandas as pd\n",
    "import numpy as np\n",
    "from tqdm.notebook import tqdm\n",
    "\n",
    "\n",
    "from my_utils import query_similar_words\n",
    "from my_utils import preprocess\n",
    "pd.set_option('max_colwidth', 800)"
   ]
  },
  {
   "cell_type": "code",
   "execution_count": 100,
   "metadata": {},
   "outputs": [],
   "source": [
    "import os\n",
    "os.environ[\"JAVA_HOME\"] = \"/usr/lib/jvm/java-1.11.0-openjdk-amd64/\"\n",
    "\n",
    "if not pt.started():\n",
    "  pt.init()"
   ]
  },
  {
   "cell_type": "code",
   "execution_count": 101,
   "metadata": {},
   "outputs": [],
   "source": [
    "def create_index(docs_df, mode=\"both\", indexer_path=\"./pd_index\"):\n",
    "\n",
    "    pd_indexer = pt.DFIndexer(indexer_path, remove_stopwords=False, overwrite=True)\n",
    "    pd_indexer.setProperty(\"termpipelines\", \"\")\n",
    "    #pd_indexer.setProperty(\"metaindex.compressed.reverse.allow.duplicates\", \"False\")\n",
    "\n",
    "    if mode == \"title\":\n",
    "        index_ref = pd_indexer.index(docs_df[\"title\"], docs_df[\"docno\"])\n",
    "    elif mode == \"abstract\":\n",
    "        index_ref = pd_indexer.index(docs_df[\"abstract\"], docs_df[\"docno\"])\n",
    "    else:  # both or else\n",
    "        index_ref = pd_indexer.index(docs_df[\"title\"], docs_df[\"abstract\"], docs_df[\"docno\"])\n",
    "\n",
    "    return index_ref\n",
    "\n",
    "def index_model(index, model=\"TF_IDF\"):\n",
    "    \"\"\"\n",
    "    Create and return an indexing model.\n",
    "    http://terrier.org/docs/current/javadoc/org/terrier/matching/models/package-summary.html\n",
    "    Model can be such as:\n",
    "    \"TF_IDF\", \"PL2\", \"DLH\",\n",
    "    \"Hiemstra_LM\", \"Dirichlet_LM\",\n",
    "    \"BM25\", etc\n",
    "    \"\"\"\n",
    "    list_model = [\"TF_IDF\", \"PL2\", \"DLH\", \"Hiemstra_LM\", \"Dirichlet_LM\", \"BM25\"]\n",
    "\n",
    "    indexing_model = pt.BatchRetrieve(index, wmodel=model)\n",
    "    return indexing_model\n",
    "\n",
    "def preprocess_queries(queries, augemented=False, mv_model=None):\n",
    "    queries_preprocessed = queries.copy()\n",
    "    for index, row in tqdm(queries.iterrows(), total=len(queries)):\n",
    "        pre_processed_title = \" \".join(preprocess(row[\"title\"]))\n",
    "        pre_processed_description = \" \".join(preprocess(row[\"description\"]))\n",
    "        pre_processed_narrative = \" \".join(preprocess(row[\"narrative\"]))\n",
    "\n",
    "        if augemented:\n",
    "            pre_processed_title = query_similar_words(pre_processed_title, mv_model)\n",
    "            pre_processed_description = query_similar_words(pre_processed_description, mv_model)\n",
    "            pre_processed_narrative = query_similar_words(pre_processed_narrative, mv_model)\n",
    "\n",
    "        queries_preprocessed.loc[index, \"title\"] = pre_processed_title\n",
    "        queries_preprocessed.loc[index, \"description\"] = pre_processed_description\n",
    "        queries_preprocessed.loc[index, \"narrative\"] = pre_processed_narrative\n",
    "\n",
    "    if augemented:\n",
    "        queries_preprocessed.to_pickle(\"data/queries_processed_aug.pkl\")\n",
    "    else:\n",
    "        queries_preprocessed.to_pickle(\"data/queries_processed.pkl\")\n",
    "\n",
    "    return queries_preprocessed\n",
    "\n",
    "def expirement(indexed_docs, preprocessed_query, qrels):\n",
    "    tfidf = index_model(indexed_docs, model=\"TF_IDF\")\n",
    "    bm25 = index_model(indexed_docs, model=\"BM25\")\n",
    "    dirichlet_lm = index_model(indexed_docs, model=\"DirichletLM\")\n",
    "\n",
    "    exp = pt.Experiment(\n",
    "        [tfidf, bm25, dirichlet_lm],\n",
    "        preprocessed_query,\n",
    "        qrels,\n",
    "        eval_metrics=[P@5, P@10, nDCG@10, RR(rel=2)],\n",
    "        names=[\"TF_IDF\", \"BM25\", \"DirichletLM\"]\n",
    "    )\n",
    "    return exp"
   ]
  },
  {
   "cell_type": "markdown",
   "metadata": {},
   "source": [
    "## Experiments\n",
    " - preprocessing: {all languages, only english}\n",
    " - topics: {title, description, narrative}\n",
    " - indexing: {title, abstract, both}\n",
    " - models: {tf_idf, bm25, dirichlet_lm}"
   ]
  },
  {
   "cell_type": "code",
   "execution_count": 102,
   "outputs": [],
   "source": [
    "# read preprocessed en documents\n",
    "en_docs = pd.read_pickle('./data/en_docs_processed.pkl')\n",
    "en_docs.rename(columns={\"doc_id\":\"docno\"}, inplace=True)\n",
    "\n",
    "# read preprocessed documents\n",
    "docs = pd.read_pickle('./data/docs_processed.pkl')\n",
    "docs.rename(columns={\"doc_id\":\"docno\"}, inplace=True)"
   ],
   "metadata": {
    "collapsed": false,
    "pycharm": {
     "name": "#%%\n"
    }
   }
  },
  {
   "cell_type": "code",
   "execution_count": 103,
   "outputs": [
    {
     "data": {
      "text/plain": "(84195, 81823)"
     },
     "execution_count": 103,
     "metadata": {},
     "output_type": "execute_result"
    }
   ],
   "source": [
    "len(docs), len(en_docs)"
   ],
   "metadata": {
    "collapsed": false,
    "pycharm": {
     "name": "#%%\n"
    }
   }
  },
  {
   "cell_type": "code",
   "execution_count": 104,
   "outputs": [
    {
     "data": {
      "text/plain": "False"
     },
     "execution_count": 104,
     "metadata": {},
     "output_type": "execute_result"
    }
   ],
   "source": [
    "# check if there are newer versions of the documents after the last TREC-COVID release\n",
    "sum(docs[(docs['date'] > '2020-07-16')].value_counts('docno') != 1) > 0"
   ],
   "metadata": {
    "collapsed": false,
    "pycharm": {
     "name": "#%%\n"
    }
   }
  },
  {
   "cell_type": "code",
   "execution_count": 105,
   "outputs": [],
   "source": [
    "def keep_recent_versions(df):\n",
    "    df.sort_values(by=\"date\", ascending=False, inplace=True)\n",
    "    df.drop_duplicates(subset=[\"docno\"], inplace=True)\n",
    "    return df\n",
    "\n",
    "docs = keep_recent_versions(docs)\n",
    "en_docs = keep_recent_versions(en_docs)"
   ],
   "metadata": {
    "collapsed": false,
    "pycharm": {
     "name": "#%%\n"
    }
   }
  },
  {
   "cell_type": "code",
   "execution_count": 106,
   "outputs": [
    {
     "data": {
      "text/plain": "(83159, 80847)"
     },
     "execution_count": 106,
     "metadata": {},
     "output_type": "execute_result"
    }
   ],
   "source": [
    "len(docs), len(en_docs)"
   ],
   "metadata": {
    "collapsed": false,
    "pycharm": {
     "name": "#%%\n"
    }
   }
  },
  {
   "cell_type": "code",
   "execution_count": null,
   "metadata": {
    "pycharm": {
     "is_executing": true
    }
   },
   "outputs": [],
   "source": [
    "%%capture\n",
    "\n",
    "# index en-documents by (title, abstract, both)\n",
    "index_ref_en_docs_title = create_index(en_docs, mode=\"title\", indexer_path=\"./indexes/en/title\")\n",
    "index_en_docs_title = pt.IndexFactory.of(index_ref_en_docs_title)\n",
    "\n",
    "index_ref_en_docs_abstract = create_index(en_docs, mode=\"abstract\", indexer_path=\"./indexes/en/abstract\")\n",
    "index_en_docs_abstract = pt.IndexFactory.of(index_ref_en_docs_abstract)\n",
    "\n",
    "index_ref_en_docs_both = create_index(en_docs, mode=\"both\", indexer_path=\"./indexes/en/both\")\n",
    "index_en_docs_both = pt.IndexFactory.of(index_ref_en_docs_both)"
   ]
  },
  {
   "cell_type": "code",
   "execution_count": null,
   "metadata": {
    "pycharm": {
     "is_executing": true
    }
   },
   "outputs": [],
   "source": [
    "%%capture\n",
    "\n",
    "# index documents by (title, abstract, both)\n",
    "index_ref_docs_title = create_index(docs, mode=\"title\", indexer_path=\"./indexes/all/title\")\n",
    "index_docs_title = pt.IndexFactory.of(index_ref_docs_title)\n",
    "\n",
    "index_ref_docs_abstract = create_index(docs, mode=\"abstract\", indexer_path=\"./indexes/all/abstract\")\n",
    "index_docs_abstract = pt.IndexFactory.of(index_ref_docs_abstract)\n",
    "\n",
    "index_ref_docs_both = create_index(docs, mode=\"both\", indexer_path=\"./indexes/all/both\")\n",
    "index_docs_both = pt.IndexFactory.of(index_ref_docs_both)"
   ]
  },
  {
   "cell_type": "code",
   "execution_count": 109,
   "metadata": {},
   "outputs": [
    {
     "data": {
      "text/plain": "  0%|          | 0/50 [00:00<?, ?it/s]",
      "application/vnd.jupyter.widget-view+json": {
       "version_major": 2,
       "version_minor": 0,
       "model_id": "d3664136cdca4249b8e4715c242d42ce"
      }
     },
     "metadata": {},
     "output_type": "display_data"
    },
    {
     "data": {
      "text/plain": "  query_id                                title  \\\n0        1                   coronavirus origin   \n1        2  coronavirus response weather change   \n2        3                 coronavirus immunity   \n3        4               people die coronavirus   \n4        5                 animal model covid19   \n\n                                                         description  \\\n0                                                     origin covid19   \n1                                 coronavirus respond change weather   \n2  sarscov2 infect people develop immunity cross protection possible   \n3                                                cause death covid19   \n4                          drug active sarscov sarscov2 animal study   \n\n                                                                                                                                                   narrative  \n0                                                      seek range information sarscov2 virus origin include evolution animal source first transmission human  \n1  seek range information sarscov2 virus viability different weatherclimate condition well information relate transmission virus different climate condition  \n2                                                    seek study immunity develop due infection sarscov2 cross protection gain due infection coronavirus type  \n3                                                                                                                         study look mechanism death covid19  \n4                       paper describe result test drug bind spike protein virus drug animal model paper sarscov2 infection cell culture assay also relevant  ",
      "text/html": "<div>\n<style scoped>\n    .dataframe tbody tr th:only-of-type {\n        vertical-align: middle;\n    }\n\n    .dataframe tbody tr th {\n        vertical-align: top;\n    }\n\n    .dataframe thead th {\n        text-align: right;\n    }\n</style>\n<table border=\"1\" class=\"dataframe\">\n  <thead>\n    <tr style=\"text-align: right;\">\n      <th></th>\n      <th>query_id</th>\n      <th>title</th>\n      <th>description</th>\n      <th>narrative</th>\n    </tr>\n  </thead>\n  <tbody>\n    <tr>\n      <th>0</th>\n      <td>1</td>\n      <td>coronavirus origin</td>\n      <td>origin covid19</td>\n      <td>seek range information sarscov2 virus origin include evolution animal source first transmission human</td>\n    </tr>\n    <tr>\n      <th>1</th>\n      <td>2</td>\n      <td>coronavirus response weather change</td>\n      <td>coronavirus respond change weather</td>\n      <td>seek range information sarscov2 virus viability different weatherclimate condition well information relate transmission virus different climate condition</td>\n    </tr>\n    <tr>\n      <th>2</th>\n      <td>3</td>\n      <td>coronavirus immunity</td>\n      <td>sarscov2 infect people develop immunity cross protection possible</td>\n      <td>seek study immunity develop due infection sarscov2 cross protection gain due infection coronavirus type</td>\n    </tr>\n    <tr>\n      <th>3</th>\n      <td>4</td>\n      <td>people die coronavirus</td>\n      <td>cause death covid19</td>\n      <td>study look mechanism death covid19</td>\n    </tr>\n    <tr>\n      <th>4</th>\n      <td>5</td>\n      <td>animal model covid19</td>\n      <td>drug active sarscov sarscov2 animal study</td>\n      <td>paper describe result test drug bind spike protein virus drug animal model paper sarscov2 infection cell culture assay also relevant</td>\n    </tr>\n  </tbody>\n</table>\n</div>"
     },
     "metadata": {},
     "output_type": "display_data"
    },
    {
     "data": {
      "text/plain": "  qid                                query\n0   1                   coronavirus origin\n1   2  coronavirus response weather change\n2   3                 coronavirus immunity\n3   4               people die coronavirus\n4   5                 animal model covid19",
      "text/html": "<div>\n<style scoped>\n    .dataframe tbody tr th:only-of-type {\n        vertical-align: middle;\n    }\n\n    .dataframe tbody tr th {\n        vertical-align: top;\n    }\n\n    .dataframe thead th {\n        text-align: right;\n    }\n</style>\n<table border=\"1\" class=\"dataframe\">\n  <thead>\n    <tr style=\"text-align: right;\">\n      <th></th>\n      <th>qid</th>\n      <th>query</th>\n    </tr>\n  </thead>\n  <tbody>\n    <tr>\n      <th>0</th>\n      <td>1</td>\n      <td>coronavirus origin</td>\n    </tr>\n    <tr>\n      <th>1</th>\n      <td>2</td>\n      <td>coronavirus response weather change</td>\n    </tr>\n    <tr>\n      <th>2</th>\n      <td>3</td>\n      <td>coronavirus immunity</td>\n    </tr>\n    <tr>\n      <th>3</th>\n      <td>4</td>\n      <td>people die coronavirus</td>\n    </tr>\n    <tr>\n      <th>4</th>\n      <td>5</td>\n      <td>animal model covid19</td>\n    </tr>\n  </tbody>\n</table>\n</div>"
     },
     "metadata": {},
     "output_type": "display_data"
    },
    {
     "data": {
      "text/plain": "  qid                                                              query\n0   1                                                     origin covid19\n1   2                                 coronavirus respond change weather\n2   3  sarscov2 infect people develop immunity cross protection possible\n3   4                                                cause death covid19\n4   5                          drug active sarscov sarscov2 animal study",
      "text/html": "<div>\n<style scoped>\n    .dataframe tbody tr th:only-of-type {\n        vertical-align: middle;\n    }\n\n    .dataframe tbody tr th {\n        vertical-align: top;\n    }\n\n    .dataframe thead th {\n        text-align: right;\n    }\n</style>\n<table border=\"1\" class=\"dataframe\">\n  <thead>\n    <tr style=\"text-align: right;\">\n      <th></th>\n      <th>qid</th>\n      <th>query</th>\n    </tr>\n  </thead>\n  <tbody>\n    <tr>\n      <th>0</th>\n      <td>1</td>\n      <td>origin covid19</td>\n    </tr>\n    <tr>\n      <th>1</th>\n      <td>2</td>\n      <td>coronavirus respond change weather</td>\n    </tr>\n    <tr>\n      <th>2</th>\n      <td>3</td>\n      <td>sarscov2 infect people develop immunity cross protection possible</td>\n    </tr>\n    <tr>\n      <th>3</th>\n      <td>4</td>\n      <td>cause death covid19</td>\n    </tr>\n    <tr>\n      <th>4</th>\n      <td>5</td>\n      <td>drug active sarscov sarscov2 animal study</td>\n    </tr>\n  </tbody>\n</table>\n</div>"
     },
     "metadata": {},
     "output_type": "display_data"
    },
    {
     "data": {
      "text/plain": "  qid  \\\n0   1   \n1   2   \n2   3   \n3   4   \n4   5   \n\n                                                                                                                                                       query  \n0                                                      seek range information sarscov2 virus origin include evolution animal source first transmission human  \n1  seek range information sarscov2 virus viability different weatherclimate condition well information relate transmission virus different climate condition  \n2                                                    seek study immunity develop due infection sarscov2 cross protection gain due infection coronavirus type  \n3                                                                                                                         study look mechanism death covid19  \n4                       paper describe result test drug bind spike protein virus drug animal model paper sarscov2 infection cell culture assay also relevant  ",
      "text/html": "<div>\n<style scoped>\n    .dataframe tbody tr th:only-of-type {\n        vertical-align: middle;\n    }\n\n    .dataframe tbody tr th {\n        vertical-align: top;\n    }\n\n    .dataframe thead th {\n        text-align: right;\n    }\n</style>\n<table border=\"1\" class=\"dataframe\">\n  <thead>\n    <tr style=\"text-align: right;\">\n      <th></th>\n      <th>qid</th>\n      <th>query</th>\n    </tr>\n  </thead>\n  <tbody>\n    <tr>\n      <th>0</th>\n      <td>1</td>\n      <td>seek range information sarscov2 virus origin include evolution animal source first transmission human</td>\n    </tr>\n    <tr>\n      <th>1</th>\n      <td>2</td>\n      <td>seek range information sarscov2 virus viability different weatherclimate condition well information relate transmission virus different climate condition</td>\n    </tr>\n    <tr>\n      <th>2</th>\n      <td>3</td>\n      <td>seek study immunity develop due infection sarscov2 cross protection gain due infection coronavirus type</td>\n    </tr>\n    <tr>\n      <th>3</th>\n      <td>4</td>\n      <td>study look mechanism death covid19</td>\n    </tr>\n    <tr>\n      <th>4</th>\n      <td>5</td>\n      <td>paper describe result test drug bind spike protein virus drug animal model paper sarscov2 infection cell culture assay also relevant</td>\n    </tr>\n  </tbody>\n</table>\n</div>"
     },
     "metadata": {},
     "output_type": "display_data"
    }
   ],
   "source": [
    "pd.set_option('max_colwidth', 800)\n",
    "#preprocess queries by (title, description, narrative)\n",
    "import ir_datasets\n",
    "dataset = ir_datasets.load(\"cord19/trec-covid\")\n",
    "queries = pd.DataFrame(dataset.queries_iter())\n",
    "queries = preprocess_queries(queries, augemented=False, mv_model=None)\n",
    "display(queries.head(5))\n",
    "\n",
    "pq_title = queries[['query_id', 'title']]\n",
    "pq_title = pq_title.rename(columns={'query_id':'qid', 'title':'query'})\n",
    "display(pq_title.head(5))\n",
    "\n",
    "pq_desc = queries[['query_id', 'description']]\n",
    "pq_desc = pq_desc.rename(columns={'query_id':'qid', 'description':'query'})\n",
    "display(pq_desc.head(5))\n",
    "\n",
    "pq_narr = queries[['query_id', 'narrative']]\n",
    "pq_narr = pq_narr.rename(columns={'query_id':'qid', 'narrative':'query'})\n",
    "display(pq_narr.head(5))"
   ]
  },
  {
   "cell_type": "code",
   "execution_count": 110,
   "metadata": {},
   "outputs": [],
   "source": [
    "# load trec-covid dataset\n",
    "cord19 = pt.get_dataset(\"irds:cord19/trec-covid\")\n",
    "qrels = cord19.get_qrels()"
   ]
  },
  {
   "cell_type": "code",
   "execution_count": 111,
   "metadata": {},
   "outputs": [
    {
     "data": {
      "text/plain": "          name    P@5   P@10   nDCG@10  RR(rel=2)\n0       TF_IDF  0.572  0.562  0.521739   0.622446\n1         BM25  0.576  0.550  0.512641   0.615589\n2  DirichletLM  0.540  0.508  0.468562   0.551330",
      "text/html": "<div>\n<style scoped>\n    .dataframe tbody tr th:only-of-type {\n        vertical-align: middle;\n    }\n\n    .dataframe tbody tr th {\n        vertical-align: top;\n    }\n\n    .dataframe thead th {\n        text-align: right;\n    }\n</style>\n<table border=\"1\" class=\"dataframe\">\n  <thead>\n    <tr style=\"text-align: right;\">\n      <th></th>\n      <th>name</th>\n      <th>P@5</th>\n      <th>P@10</th>\n      <th>nDCG@10</th>\n      <th>RR(rel=2)</th>\n    </tr>\n  </thead>\n  <tbody>\n    <tr>\n      <th>0</th>\n      <td>TF_IDF</td>\n      <td>0.572</td>\n      <td>0.562</td>\n      <td>0.521739</td>\n      <td>0.622446</td>\n    </tr>\n    <tr>\n      <th>1</th>\n      <td>BM25</td>\n      <td>0.576</td>\n      <td>0.550</td>\n      <td>0.512641</td>\n      <td>0.615589</td>\n    </tr>\n    <tr>\n      <th>2</th>\n      <td>DirichletLM</td>\n      <td>0.540</td>\n      <td>0.508</td>\n      <td>0.468562</td>\n      <td>0.551330</td>\n    </tr>\n  </tbody>\n</table>\n</div>"
     },
     "metadata": {},
     "output_type": "display_data"
    },
    {
     "data": {
      "text/plain": "          name    P@5   P@10   nDCG@10  RR(rel=2)\n0       TF_IDF  0.732  0.688  0.633095   0.724063\n1         BM25  0.668  0.648  0.589952   0.700447\n2  DirichletLM  0.676  0.670  0.594187   0.591624",
      "text/html": "<div>\n<style scoped>\n    .dataframe tbody tr th:only-of-type {\n        vertical-align: middle;\n    }\n\n    .dataframe tbody tr th {\n        vertical-align: top;\n    }\n\n    .dataframe thead th {\n        text-align: right;\n    }\n</style>\n<table border=\"1\" class=\"dataframe\">\n  <thead>\n    <tr style=\"text-align: right;\">\n      <th></th>\n      <th>name</th>\n      <th>P@5</th>\n      <th>P@10</th>\n      <th>nDCG@10</th>\n      <th>RR(rel=2)</th>\n    </tr>\n  </thead>\n  <tbody>\n    <tr>\n      <th>0</th>\n      <td>TF_IDF</td>\n      <td>0.732</td>\n      <td>0.688</td>\n      <td>0.633095</td>\n      <td>0.724063</td>\n    </tr>\n    <tr>\n      <th>1</th>\n      <td>BM25</td>\n      <td>0.668</td>\n      <td>0.648</td>\n      <td>0.589952</td>\n      <td>0.700447</td>\n    </tr>\n    <tr>\n      <th>2</th>\n      <td>DirichletLM</td>\n      <td>0.676</td>\n      <td>0.670</td>\n      <td>0.594187</td>\n      <td>0.591624</td>\n    </tr>\n  </tbody>\n</table>\n</div>"
     },
     "metadata": {},
     "output_type": "display_data"
    },
    {
     "data": {
      "text/plain": "          name    P@5   P@10   nDCG@10  RR(rel=2)\n0       TF_IDF  0.624  0.586  0.552496   0.657000\n1         BM25  0.632  0.578  0.543770   0.645228\n2  DirichletLM  0.564  0.540  0.495286   0.599225",
      "text/html": "<div>\n<style scoped>\n    .dataframe tbody tr th:only-of-type {\n        vertical-align: middle;\n    }\n\n    .dataframe tbody tr th {\n        vertical-align: top;\n    }\n\n    .dataframe thead th {\n        text-align: right;\n    }\n</style>\n<table border=\"1\" class=\"dataframe\">\n  <thead>\n    <tr style=\"text-align: right;\">\n      <th></th>\n      <th>name</th>\n      <th>P@5</th>\n      <th>P@10</th>\n      <th>nDCG@10</th>\n      <th>RR(rel=2)</th>\n    </tr>\n  </thead>\n  <tbody>\n    <tr>\n      <th>0</th>\n      <td>TF_IDF</td>\n      <td>0.624</td>\n      <td>0.586</td>\n      <td>0.552496</td>\n      <td>0.657000</td>\n    </tr>\n    <tr>\n      <th>1</th>\n      <td>BM25</td>\n      <td>0.632</td>\n      <td>0.578</td>\n      <td>0.543770</td>\n      <td>0.645228</td>\n    </tr>\n    <tr>\n      <th>2</th>\n      <td>DirichletLM</td>\n      <td>0.564</td>\n      <td>0.540</td>\n      <td>0.495286</td>\n      <td>0.599225</td>\n    </tr>\n  </tbody>\n</table>\n</div>"
     },
     "metadata": {},
     "output_type": "display_data"
    },
    {
     "data": {
      "text/plain": "          name    P@5   P@10   nDCG@10  RR(rel=2)\n0       TF_IDF  0.632  0.546  0.535381   0.671064\n1         BM25  0.636  0.548  0.520960   0.611938\n2  DirichletLM  0.440  0.428  0.395899   0.489001",
      "text/html": "<div>\n<style scoped>\n    .dataframe tbody tr th:only-of-type {\n        vertical-align: middle;\n    }\n\n    .dataframe tbody tr th {\n        vertical-align: top;\n    }\n\n    .dataframe thead th {\n        text-align: right;\n    }\n</style>\n<table border=\"1\" class=\"dataframe\">\n  <thead>\n    <tr style=\"text-align: right;\">\n      <th></th>\n      <th>name</th>\n      <th>P@5</th>\n      <th>P@10</th>\n      <th>nDCG@10</th>\n      <th>RR(rel=2)</th>\n    </tr>\n  </thead>\n  <tbody>\n    <tr>\n      <th>0</th>\n      <td>TF_IDF</td>\n      <td>0.632</td>\n      <td>0.546</td>\n      <td>0.535381</td>\n      <td>0.671064</td>\n    </tr>\n    <tr>\n      <th>1</th>\n      <td>BM25</td>\n      <td>0.636</td>\n      <td>0.548</td>\n      <td>0.520960</td>\n      <td>0.611938</td>\n    </tr>\n    <tr>\n      <th>2</th>\n      <td>DirichletLM</td>\n      <td>0.440</td>\n      <td>0.428</td>\n      <td>0.395899</td>\n      <td>0.489001</td>\n    </tr>\n  </tbody>\n</table>\n</div>"
     },
     "metadata": {},
     "output_type": "display_data"
    },
    {
     "data": {
      "text/plain": "          name    P@5  P@10   nDCG@10  RR(rel=2)\n0       TF_IDF  0.736  0.70  0.644823   0.784202\n1         BM25  0.676  0.64  0.566200   0.633944\n2  DirichletLM  0.696  0.66  0.610008   0.685928",
      "text/html": "<div>\n<style scoped>\n    .dataframe tbody tr th:only-of-type {\n        vertical-align: middle;\n    }\n\n    .dataframe tbody tr th {\n        vertical-align: top;\n    }\n\n    .dataframe thead th {\n        text-align: right;\n    }\n</style>\n<table border=\"1\" class=\"dataframe\">\n  <thead>\n    <tr style=\"text-align: right;\">\n      <th></th>\n      <th>name</th>\n      <th>P@5</th>\n      <th>P@10</th>\n      <th>nDCG@10</th>\n      <th>RR(rel=2)</th>\n    </tr>\n  </thead>\n  <tbody>\n    <tr>\n      <th>0</th>\n      <td>TF_IDF</td>\n      <td>0.736</td>\n      <td>0.70</td>\n      <td>0.644823</td>\n      <td>0.784202</td>\n    </tr>\n    <tr>\n      <th>1</th>\n      <td>BM25</td>\n      <td>0.676</td>\n      <td>0.64</td>\n      <td>0.566200</td>\n      <td>0.633944</td>\n    </tr>\n    <tr>\n      <th>2</th>\n      <td>DirichletLM</td>\n      <td>0.696</td>\n      <td>0.66</td>\n      <td>0.610008</td>\n      <td>0.685928</td>\n    </tr>\n  </tbody>\n</table>\n</div>"
     },
     "metadata": {},
     "output_type": "display_data"
    },
    {
     "data": {
      "text/plain": "          name    P@5   P@10   nDCG@10  RR(rel=2)\n0       TF_IDF  0.648  0.576  0.554599   0.675530\n1         BM25  0.652  0.564  0.545502   0.673774\n2  DirichletLM  0.496  0.458  0.417565   0.511969",
      "text/html": "<div>\n<style scoped>\n    .dataframe tbody tr th:only-of-type {\n        vertical-align: middle;\n    }\n\n    .dataframe tbody tr th {\n        vertical-align: top;\n    }\n\n    .dataframe thead th {\n        text-align: right;\n    }\n</style>\n<table border=\"1\" class=\"dataframe\">\n  <thead>\n    <tr style=\"text-align: right;\">\n      <th></th>\n      <th>name</th>\n      <th>P@5</th>\n      <th>P@10</th>\n      <th>nDCG@10</th>\n      <th>RR(rel=2)</th>\n    </tr>\n  </thead>\n  <tbody>\n    <tr>\n      <th>0</th>\n      <td>TF_IDF</td>\n      <td>0.648</td>\n      <td>0.576</td>\n      <td>0.554599</td>\n      <td>0.675530</td>\n    </tr>\n    <tr>\n      <th>1</th>\n      <td>BM25</td>\n      <td>0.652</td>\n      <td>0.564</td>\n      <td>0.545502</td>\n      <td>0.673774</td>\n    </tr>\n    <tr>\n      <th>2</th>\n      <td>DirichletLM</td>\n      <td>0.496</td>\n      <td>0.458</td>\n      <td>0.417565</td>\n      <td>0.511969</td>\n    </tr>\n  </tbody>\n</table>\n</div>"
     },
     "metadata": {},
     "output_type": "display_data"
    },
    {
     "data": {
      "text/plain": "          name    P@5   P@10   nDCG@10  RR(rel=2)\n0       TF_IDF  0.468  0.418  0.381715   0.486482\n1         BM25  0.448  0.432  0.386476   0.477303\n2  DirichletLM  0.248  0.226  0.213624   0.337663",
      "text/html": "<div>\n<style scoped>\n    .dataframe tbody tr th:only-of-type {\n        vertical-align: middle;\n    }\n\n    .dataframe tbody tr th {\n        vertical-align: top;\n    }\n\n    .dataframe thead th {\n        text-align: right;\n    }\n</style>\n<table border=\"1\" class=\"dataframe\">\n  <thead>\n    <tr style=\"text-align: right;\">\n      <th></th>\n      <th>name</th>\n      <th>P@5</th>\n      <th>P@10</th>\n      <th>nDCG@10</th>\n      <th>RR(rel=2)</th>\n    </tr>\n  </thead>\n  <tbody>\n    <tr>\n      <th>0</th>\n      <td>TF_IDF</td>\n      <td>0.468</td>\n      <td>0.418</td>\n      <td>0.381715</td>\n      <td>0.486482</td>\n    </tr>\n    <tr>\n      <th>1</th>\n      <td>BM25</td>\n      <td>0.448</td>\n      <td>0.432</td>\n      <td>0.386476</td>\n      <td>0.477303</td>\n    </tr>\n    <tr>\n      <th>2</th>\n      <td>DirichletLM</td>\n      <td>0.248</td>\n      <td>0.226</td>\n      <td>0.213624</td>\n      <td>0.337663</td>\n    </tr>\n  </tbody>\n</table>\n</div>"
     },
     "metadata": {},
     "output_type": "display_data"
    },
    {
     "data": {
      "text/plain": "          name    P@5   P@10   nDCG@10  RR(rel=2)\n0       TF_IDF  0.584  0.574  0.519124   0.602461\n1         BM25  0.548  0.548  0.493708   0.614169\n2  DirichletLM  0.436  0.436  0.387638   0.506611",
      "text/html": "<div>\n<style scoped>\n    .dataframe tbody tr th:only-of-type {\n        vertical-align: middle;\n    }\n\n    .dataframe tbody tr th {\n        vertical-align: top;\n    }\n\n    .dataframe thead th {\n        text-align: right;\n    }\n</style>\n<table border=\"1\" class=\"dataframe\">\n  <thead>\n    <tr style=\"text-align: right;\">\n      <th></th>\n      <th>name</th>\n      <th>P@5</th>\n      <th>P@10</th>\n      <th>nDCG@10</th>\n      <th>RR(rel=2)</th>\n    </tr>\n  </thead>\n  <tbody>\n    <tr>\n      <th>0</th>\n      <td>TF_IDF</td>\n      <td>0.584</td>\n      <td>0.574</td>\n      <td>0.519124</td>\n      <td>0.602461</td>\n    </tr>\n    <tr>\n      <th>1</th>\n      <td>BM25</td>\n      <td>0.548</td>\n      <td>0.548</td>\n      <td>0.493708</td>\n      <td>0.614169</td>\n    </tr>\n    <tr>\n      <th>2</th>\n      <td>DirichletLM</td>\n      <td>0.436</td>\n      <td>0.436</td>\n      <td>0.387638</td>\n      <td>0.506611</td>\n    </tr>\n  </tbody>\n</table>\n</div>"
     },
     "metadata": {},
     "output_type": "display_data"
    },
    {
     "data": {
      "text/plain": "          name    P@5   P@10   nDCG@10  RR(rel=2)\n0       TF_IDF  0.480  0.426  0.399389   0.528925\n1         BM25  0.480  0.432  0.405134   0.535337\n2  DirichletLM  0.244  0.206  0.200178   0.322545",
      "text/html": "<div>\n<style scoped>\n    .dataframe tbody tr th:only-of-type {\n        vertical-align: middle;\n    }\n\n    .dataframe tbody tr th {\n        vertical-align: top;\n    }\n\n    .dataframe thead th {\n        text-align: right;\n    }\n</style>\n<table border=\"1\" class=\"dataframe\">\n  <thead>\n    <tr style=\"text-align: right;\">\n      <th></th>\n      <th>name</th>\n      <th>P@5</th>\n      <th>P@10</th>\n      <th>nDCG@10</th>\n      <th>RR(rel=2)</th>\n    </tr>\n  </thead>\n  <tbody>\n    <tr>\n      <th>0</th>\n      <td>TF_IDF</td>\n      <td>0.480</td>\n      <td>0.426</td>\n      <td>0.399389</td>\n      <td>0.528925</td>\n    </tr>\n    <tr>\n      <th>1</th>\n      <td>BM25</td>\n      <td>0.480</td>\n      <td>0.432</td>\n      <td>0.405134</td>\n      <td>0.535337</td>\n    </tr>\n    <tr>\n      <th>2</th>\n      <td>DirichletLM</td>\n      <td>0.244</td>\n      <td>0.206</td>\n      <td>0.200178</td>\n      <td>0.322545</td>\n    </tr>\n  </tbody>\n</table>\n</div>"
     },
     "metadata": {},
     "output_type": "display_data"
    }
   ],
   "source": [
    "# en_docs {title, abstract, both} with query_title\n",
    "exp1 = expirement(index_en_docs_title, pq_title, qrels)\n",
    "display(exp1)\n",
    "\n",
    "exp2 = expirement(index_en_docs_abstract, pq_title, qrels)\n",
    "display(exp2)\n",
    "\n",
    "exp3 = expirement(index_en_docs_both, pq_title, qrels)\n",
    "display(exp3)\n",
    "\n",
    "# en_docs {title, abstract, both} with query_description\n",
    "exp4 = expirement(index_en_docs_title, pq_desc, qrels)\n",
    "display(exp4)\n",
    "\n",
    "exp5 = expirement(index_en_docs_abstract, pq_desc, qrels)\n",
    "display(exp5)\n",
    "\n",
    "exp6 = expirement(index_en_docs_both, pq_desc, qrels)\n",
    "display(exp6)\n",
    "\n",
    "# en_docs {title, abstract, both} with query_narrative\n",
    "exp7 = expirement(index_en_docs_title, pq_narr, qrels)\n",
    "display(exp7)\n",
    "\n",
    "exp8 = expirement(index_en_docs_abstract, pq_narr, qrels)\n",
    "display(exp8)\n",
    "\n",
    "exp9 = expirement(index_en_docs_both, pq_narr, qrels)\n",
    "display(exp9)"
   ]
  },
  {
   "cell_type": "code",
   "execution_count": 112,
   "metadata": {},
   "outputs": [
    {
     "data": {
      "text/plain": "          name    P@5   P@10   nDCG@10  RR(rel=2)\n0       TF_IDF  0.572  0.564  0.523648   0.622441\n1         BM25  0.576  0.548  0.511069   0.615557\n2  DirichletLM  0.524  0.502  0.460846   0.547692",
      "text/html": "<div>\n<style scoped>\n    .dataframe tbody tr th:only-of-type {\n        vertical-align: middle;\n    }\n\n    .dataframe tbody tr th {\n        vertical-align: top;\n    }\n\n    .dataframe thead th {\n        text-align: right;\n    }\n</style>\n<table border=\"1\" class=\"dataframe\">\n  <thead>\n    <tr style=\"text-align: right;\">\n      <th></th>\n      <th>name</th>\n      <th>P@5</th>\n      <th>P@10</th>\n      <th>nDCG@10</th>\n      <th>RR(rel=2)</th>\n    </tr>\n  </thead>\n  <tbody>\n    <tr>\n      <th>0</th>\n      <td>TF_IDF</td>\n      <td>0.572</td>\n      <td>0.564</td>\n      <td>0.523648</td>\n      <td>0.622441</td>\n    </tr>\n    <tr>\n      <th>1</th>\n      <td>BM25</td>\n      <td>0.576</td>\n      <td>0.548</td>\n      <td>0.511069</td>\n      <td>0.615557</td>\n    </tr>\n    <tr>\n      <th>2</th>\n      <td>DirichletLM</td>\n      <td>0.524</td>\n      <td>0.502</td>\n      <td>0.460846</td>\n      <td>0.547692</td>\n    </tr>\n  </tbody>\n</table>\n</div>"
     },
     "metadata": {},
     "output_type": "display_data"
    },
    {
     "data": {
      "text/plain": "          name    P@5   P@10   nDCG@10  RR(rel=2)\n0       TF_IDF  0.732  0.692  0.634998   0.724053\n1         BM25  0.664  0.646  0.589287   0.695181\n2  DirichletLM  0.672  0.664  0.590112   0.590859",
      "text/html": "<div>\n<style scoped>\n    .dataframe tbody tr th:only-of-type {\n        vertical-align: middle;\n    }\n\n    .dataframe tbody tr th {\n        vertical-align: top;\n    }\n\n    .dataframe thead th {\n        text-align: right;\n    }\n</style>\n<table border=\"1\" class=\"dataframe\">\n  <thead>\n    <tr style=\"text-align: right;\">\n      <th></th>\n      <th>name</th>\n      <th>P@5</th>\n      <th>P@10</th>\n      <th>nDCG@10</th>\n      <th>RR(rel=2)</th>\n    </tr>\n  </thead>\n  <tbody>\n    <tr>\n      <th>0</th>\n      <td>TF_IDF</td>\n      <td>0.732</td>\n      <td>0.692</td>\n      <td>0.634998</td>\n      <td>0.724053</td>\n    </tr>\n    <tr>\n      <th>1</th>\n      <td>BM25</td>\n      <td>0.664</td>\n      <td>0.646</td>\n      <td>0.589287</td>\n      <td>0.695181</td>\n    </tr>\n    <tr>\n      <th>2</th>\n      <td>DirichletLM</td>\n      <td>0.672</td>\n      <td>0.664</td>\n      <td>0.590112</td>\n      <td>0.590859</td>\n    </tr>\n  </tbody>\n</table>\n</div>"
     },
     "metadata": {},
     "output_type": "display_data"
    },
    {
     "data": {
      "text/plain": "          name    P@5   P@10   nDCG@10  RR(rel=2)\n0       TF_IDF  0.620  0.580  0.548256   0.656998\n1         BM25  0.628  0.574  0.540893   0.645207\n2  DirichletLM  0.564  0.540  0.495286   0.599223",
      "text/html": "<div>\n<style scoped>\n    .dataframe tbody tr th:only-of-type {\n        vertical-align: middle;\n    }\n\n    .dataframe tbody tr th {\n        vertical-align: top;\n    }\n\n    .dataframe thead th {\n        text-align: right;\n    }\n</style>\n<table border=\"1\" class=\"dataframe\">\n  <thead>\n    <tr style=\"text-align: right;\">\n      <th></th>\n      <th>name</th>\n      <th>P@5</th>\n      <th>P@10</th>\n      <th>nDCG@10</th>\n      <th>RR(rel=2)</th>\n    </tr>\n  </thead>\n  <tbody>\n    <tr>\n      <th>0</th>\n      <td>TF_IDF</td>\n      <td>0.620</td>\n      <td>0.580</td>\n      <td>0.548256</td>\n      <td>0.656998</td>\n    </tr>\n    <tr>\n      <th>1</th>\n      <td>BM25</td>\n      <td>0.628</td>\n      <td>0.574</td>\n      <td>0.540893</td>\n      <td>0.645207</td>\n    </tr>\n    <tr>\n      <th>2</th>\n      <td>DirichletLM</td>\n      <td>0.564</td>\n      <td>0.540</td>\n      <td>0.495286</td>\n      <td>0.599223</td>\n    </tr>\n  </tbody>\n</table>\n</div>"
     },
     "metadata": {},
     "output_type": "display_data"
    },
    {
     "data": {
      "text/plain": "          name    P@5   P@10   nDCG@10  RR(rel=2)\n0       TF_IDF  0.632  0.546  0.535381   0.670968\n1         BM25  0.636  0.548  0.520810   0.610791\n2  DirichletLM  0.440  0.426  0.394819   0.488832",
      "text/html": "<div>\n<style scoped>\n    .dataframe tbody tr th:only-of-type {\n        vertical-align: middle;\n    }\n\n    .dataframe tbody tr th {\n        vertical-align: top;\n    }\n\n    .dataframe thead th {\n        text-align: right;\n    }\n</style>\n<table border=\"1\" class=\"dataframe\">\n  <thead>\n    <tr style=\"text-align: right;\">\n      <th></th>\n      <th>name</th>\n      <th>P@5</th>\n      <th>P@10</th>\n      <th>nDCG@10</th>\n      <th>RR(rel=2)</th>\n    </tr>\n  </thead>\n  <tbody>\n    <tr>\n      <th>0</th>\n      <td>TF_IDF</td>\n      <td>0.632</td>\n      <td>0.546</td>\n      <td>0.535381</td>\n      <td>0.670968</td>\n    </tr>\n    <tr>\n      <th>1</th>\n      <td>BM25</td>\n      <td>0.636</td>\n      <td>0.548</td>\n      <td>0.520810</td>\n      <td>0.610791</td>\n    </tr>\n    <tr>\n      <th>2</th>\n      <td>DirichletLM</td>\n      <td>0.440</td>\n      <td>0.426</td>\n      <td>0.394819</td>\n      <td>0.488832</td>\n    </tr>\n  </tbody>\n</table>\n</div>"
     },
     "metadata": {},
     "output_type": "display_data"
    },
    {
     "data": {
      "text/plain": "          name    P@5   P@10   nDCG@10  RR(rel=2)\n0       TF_IDF  0.736  0.700  0.644396   0.784202\n1         BM25  0.680  0.642  0.567955   0.633944\n2  DirichletLM  0.692  0.658  0.607796   0.675928",
      "text/html": "<div>\n<style scoped>\n    .dataframe tbody tr th:only-of-type {\n        vertical-align: middle;\n    }\n\n    .dataframe tbody tr th {\n        vertical-align: top;\n    }\n\n    .dataframe thead th {\n        text-align: right;\n    }\n</style>\n<table border=\"1\" class=\"dataframe\">\n  <thead>\n    <tr style=\"text-align: right;\">\n      <th></th>\n      <th>name</th>\n      <th>P@5</th>\n      <th>P@10</th>\n      <th>nDCG@10</th>\n      <th>RR(rel=2)</th>\n    </tr>\n  </thead>\n  <tbody>\n    <tr>\n      <th>0</th>\n      <td>TF_IDF</td>\n      <td>0.736</td>\n      <td>0.700</td>\n      <td>0.644396</td>\n      <td>0.784202</td>\n    </tr>\n    <tr>\n      <th>1</th>\n      <td>BM25</td>\n      <td>0.680</td>\n      <td>0.642</td>\n      <td>0.567955</td>\n      <td>0.633944</td>\n    </tr>\n    <tr>\n      <th>2</th>\n      <td>DirichletLM</td>\n      <td>0.692</td>\n      <td>0.658</td>\n      <td>0.607796</td>\n      <td>0.675928</td>\n    </tr>\n  </tbody>\n</table>\n</div>"
     },
     "metadata": {},
     "output_type": "display_data"
    },
    {
     "data": {
      "text/plain": "          name    P@5   P@10   nDCG@10  RR(rel=2)\n0       TF_IDF  0.648  0.576  0.554443   0.675530\n1         BM25  0.656  0.564  0.545712   0.673496\n2  DirichletLM  0.496  0.458  0.417476   0.511969",
      "text/html": "<div>\n<style scoped>\n    .dataframe tbody tr th:only-of-type {\n        vertical-align: middle;\n    }\n\n    .dataframe tbody tr th {\n        vertical-align: top;\n    }\n\n    .dataframe thead th {\n        text-align: right;\n    }\n</style>\n<table border=\"1\" class=\"dataframe\">\n  <thead>\n    <tr style=\"text-align: right;\">\n      <th></th>\n      <th>name</th>\n      <th>P@5</th>\n      <th>P@10</th>\n      <th>nDCG@10</th>\n      <th>RR(rel=2)</th>\n    </tr>\n  </thead>\n  <tbody>\n    <tr>\n      <th>0</th>\n      <td>TF_IDF</td>\n      <td>0.648</td>\n      <td>0.576</td>\n      <td>0.554443</td>\n      <td>0.675530</td>\n    </tr>\n    <tr>\n      <th>1</th>\n      <td>BM25</td>\n      <td>0.656</td>\n      <td>0.564</td>\n      <td>0.545712</td>\n      <td>0.673496</td>\n    </tr>\n    <tr>\n      <th>2</th>\n      <td>DirichletLM</td>\n      <td>0.496</td>\n      <td>0.458</td>\n      <td>0.417476</td>\n      <td>0.511969</td>\n    </tr>\n  </tbody>\n</table>\n</div>"
     },
     "metadata": {},
     "output_type": "display_data"
    },
    {
     "data": {
      "text/plain": "          name    P@5   P@10   nDCG@10  RR(rel=2)\n0       TF_IDF  0.456  0.418  0.378497   0.472017\n1         BM25  0.448  0.430  0.383058   0.474036\n2  DirichletLM  0.256  0.224  0.214163   0.342773",
      "text/html": "<div>\n<style scoped>\n    .dataframe tbody tr th:only-of-type {\n        vertical-align: middle;\n    }\n\n    .dataframe tbody tr th {\n        vertical-align: top;\n    }\n\n    .dataframe thead th {\n        text-align: right;\n    }\n</style>\n<table border=\"1\" class=\"dataframe\">\n  <thead>\n    <tr style=\"text-align: right;\">\n      <th></th>\n      <th>name</th>\n      <th>P@5</th>\n      <th>P@10</th>\n      <th>nDCG@10</th>\n      <th>RR(rel=2)</th>\n    </tr>\n  </thead>\n  <tbody>\n    <tr>\n      <th>0</th>\n      <td>TF_IDF</td>\n      <td>0.456</td>\n      <td>0.418</td>\n      <td>0.378497</td>\n      <td>0.472017</td>\n    </tr>\n    <tr>\n      <th>1</th>\n      <td>BM25</td>\n      <td>0.448</td>\n      <td>0.430</td>\n      <td>0.383058</td>\n      <td>0.474036</td>\n    </tr>\n    <tr>\n      <th>2</th>\n      <td>DirichletLM</td>\n      <td>0.256</td>\n      <td>0.224</td>\n      <td>0.214163</td>\n      <td>0.342773</td>\n    </tr>\n  </tbody>\n</table>\n</div>"
     },
     "metadata": {},
     "output_type": "display_data"
    },
    {
     "data": {
      "text/plain": "          name    P@5   P@10   nDCG@10  RR(rel=2)\n0       TF_IDF  0.584  0.574  0.519034   0.602448\n1         BM25  0.552  0.548  0.493880   0.614167\n2  DirichletLM  0.432  0.432  0.384271   0.506665",
      "text/html": "<div>\n<style scoped>\n    .dataframe tbody tr th:only-of-type {\n        vertical-align: middle;\n    }\n\n    .dataframe tbody tr th {\n        vertical-align: top;\n    }\n\n    .dataframe thead th {\n        text-align: right;\n    }\n</style>\n<table border=\"1\" class=\"dataframe\">\n  <thead>\n    <tr style=\"text-align: right;\">\n      <th></th>\n      <th>name</th>\n      <th>P@5</th>\n      <th>P@10</th>\n      <th>nDCG@10</th>\n      <th>RR(rel=2)</th>\n    </tr>\n  </thead>\n  <tbody>\n    <tr>\n      <th>0</th>\n      <td>TF_IDF</td>\n      <td>0.584</td>\n      <td>0.574</td>\n      <td>0.519034</td>\n      <td>0.602448</td>\n    </tr>\n    <tr>\n      <th>1</th>\n      <td>BM25</td>\n      <td>0.552</td>\n      <td>0.548</td>\n      <td>0.493880</td>\n      <td>0.614167</td>\n    </tr>\n    <tr>\n      <th>2</th>\n      <td>DirichletLM</td>\n      <td>0.432</td>\n      <td>0.432</td>\n      <td>0.384271</td>\n      <td>0.506665</td>\n    </tr>\n  </tbody>\n</table>\n</div>"
     },
     "metadata": {},
     "output_type": "display_data"
    },
    {
     "data": {
      "text/plain": "          name    P@5   P@10   nDCG@10  RR(rel=2)\n0       TF_IDF  0.480  0.426  0.399389   0.528927\n1         BM25  0.476  0.432  0.404772   0.535345\n2  DirichletLM  0.244  0.208  0.202026   0.322534",
      "text/html": "<div>\n<style scoped>\n    .dataframe tbody tr th:only-of-type {\n        vertical-align: middle;\n    }\n\n    .dataframe tbody tr th {\n        vertical-align: top;\n    }\n\n    .dataframe thead th {\n        text-align: right;\n    }\n</style>\n<table border=\"1\" class=\"dataframe\">\n  <thead>\n    <tr style=\"text-align: right;\">\n      <th></th>\n      <th>name</th>\n      <th>P@5</th>\n      <th>P@10</th>\n      <th>nDCG@10</th>\n      <th>RR(rel=2)</th>\n    </tr>\n  </thead>\n  <tbody>\n    <tr>\n      <th>0</th>\n      <td>TF_IDF</td>\n      <td>0.480</td>\n      <td>0.426</td>\n      <td>0.399389</td>\n      <td>0.528927</td>\n    </tr>\n    <tr>\n      <th>1</th>\n      <td>BM25</td>\n      <td>0.476</td>\n      <td>0.432</td>\n      <td>0.404772</td>\n      <td>0.535345</td>\n    </tr>\n    <tr>\n      <th>2</th>\n      <td>DirichletLM</td>\n      <td>0.244</td>\n      <td>0.208</td>\n      <td>0.202026</td>\n      <td>0.322534</td>\n    </tr>\n  </tbody>\n</table>\n</div>"
     },
     "metadata": {},
     "output_type": "display_data"
    }
   ],
   "source": [
    "# docs {title, abstract, both} with query_title\n",
    "exp1 = expirement(index_docs_title, pq_title, qrels)\n",
    "display(exp1)\n",
    "\n",
    "exp2 = expirement(index_docs_abstract, pq_title, qrels)\n",
    "display(exp2)\n",
    "\n",
    "exp3 = expirement(index_docs_both, pq_title, qrels)\n",
    "display(exp3)\n",
    "\n",
    "# docs {title, abstract, both} with query_description\n",
    "exp4 = expirement(index_docs_title, pq_desc, qrels)\n",
    "display(exp4)\n",
    "\n",
    "exp5 = expirement(index_docs_abstract, pq_desc, qrels)\n",
    "display(exp5)\n",
    "\n",
    "exp6 = expirement(index_docs_both, pq_desc, qrels)\n",
    "display(exp6)\n",
    "\n",
    "# docs {title, abstract, both} with query_narrative\n",
    "exp7 = expirement(index_docs_title, pq_narr, qrels)\n",
    "display(exp7)\n",
    "\n",
    "exp8 = expirement(index_docs_abstract, pq_narr, qrels)\n",
    "display(exp8)\n",
    "\n",
    "exp9 = expirement(index_docs_both, pq_narr, qrels)\n",
    "display(exp9)"
   ]
  },
  {
   "cell_type": "markdown",
   "metadata": {
    "collapsed": false
   },
   "source": [
    "## Query Expansion"
   ]
  },
  {
   "cell_type": "code",
   "execution_count": 115,
   "metadata": {
    "collapsed": false,
    "pycharm": {
     "name": "#%%\n"
    }
   },
   "outputs": [
    {
     "data": {
      "text/plain": "  0%|          | 0/50 [00:00<?, ?it/s]",
      "application/vnd.jupyter.widget-view+json": {
       "version_major": 2,
       "version_minor": 0,
       "model_id": "c3ef679d55e643a9af5e2d54c2e7921a"
      }
     },
     "metadata": {},
     "output_type": "display_data"
    },
    {
     "data": {
      "text/plain": "  query_id  \\\n0        1   \n1        2   \n2        3   \n3        4   \n4        5   \n\n                                                                        title  \\\n0                                         coronavirus 2019 origin origination   \n1  coronavirus 2019 response commentary weather meteorological change forcing   \n2                                    coronavirus 2019 immunity vaccineinduced   \n3                               people individual die studie coronavirus 2019   \n4                  animal domesticate model compartmental covid19 coronavirus   \n\n                                                                                                                                             description  \\\n0                                                                                                                 origin origination covid19 coronavirus   \n1                                                                              coronavirus 2019 respond ghdemphnet change forcing weather meteorological   \n2  sarscov2 covid19 infect infected people individual develop developed immunity vaccineinduced cross sectional protection protective possible potential   \n3                                                                                                        cause provokes death deaths covid19 coronavirus   \n4                                                   drug repurposing active dayuanyin sarscov sars sarscov2 covid19 animal domesticate study prospective   \n\n                                                                                                                                                                                                                                                                                                                               narrative  \n0                                                                                            seek wary range interquartile information distill sarscov2 covid19 virus viral origin origination include included evolution evolutionary animal domesticate source information first 7755 transmission aerosolsborne human diseaserelevant  \n1                            seek wary range interquartile information distill sarscov2 covid19 virus viral viability pasteurization different various weatherclimate condition preexist well also information distill relate related transmission aerosolsborne virus viral different various climate climatological condition preexist  \n2                                                                                                  seek wary study prospective immunity vaccineinduced develop developed due cause infection disease sarscov2 covid19 cross sectional protection protective gain operandi due cause infection disease coronavirus 2019 type blockerbased  \n3                                                                                                                                                                                                                                               study prospective look covid19what mechanism mechanisms death deaths covid19 coronavirus  \n4  paper addressing describe present result study test testing drug repurposing bind affinity spike glycoprotein protein spike virus viral drug repurposing animal domesticate model compartmental paper addressing sarscov2 covid19 infection disease cell epithelial culture e6 assay covid19rdrphel also furthermore relevant detract  ",
      "text/html": "<div>\n<style scoped>\n    .dataframe tbody tr th:only-of-type {\n        vertical-align: middle;\n    }\n\n    .dataframe tbody tr th {\n        vertical-align: top;\n    }\n\n    .dataframe thead th {\n        text-align: right;\n    }\n</style>\n<table border=\"1\" class=\"dataframe\">\n  <thead>\n    <tr style=\"text-align: right;\">\n      <th></th>\n      <th>query_id</th>\n      <th>title</th>\n      <th>description</th>\n      <th>narrative</th>\n    </tr>\n  </thead>\n  <tbody>\n    <tr>\n      <th>0</th>\n      <td>1</td>\n      <td>coronavirus 2019 origin origination</td>\n      <td>origin origination covid19 coronavirus</td>\n      <td>seek wary range interquartile information distill sarscov2 covid19 virus viral origin origination include included evolution evolutionary animal domesticate source information first 7755 transmission aerosolsborne human diseaserelevant</td>\n    </tr>\n    <tr>\n      <th>1</th>\n      <td>2</td>\n      <td>coronavirus 2019 response commentary weather meteorological change forcing</td>\n      <td>coronavirus 2019 respond ghdemphnet change forcing weather meteorological</td>\n      <td>seek wary range interquartile information distill sarscov2 covid19 virus viral viability pasteurization different various weatherclimate condition preexist well also information distill relate related transmission aerosolsborne virus viral different various climate climatological condition preexist</td>\n    </tr>\n    <tr>\n      <th>2</th>\n      <td>3</td>\n      <td>coronavirus 2019 immunity vaccineinduced</td>\n      <td>sarscov2 covid19 infect infected people individual develop developed immunity vaccineinduced cross sectional protection protective possible potential</td>\n      <td>seek wary study prospective immunity vaccineinduced develop developed due cause infection disease sarscov2 covid19 cross sectional protection protective gain operandi due cause infection disease coronavirus 2019 type blockerbased</td>\n    </tr>\n    <tr>\n      <th>3</th>\n      <td>4</td>\n      <td>people individual die studie coronavirus 2019</td>\n      <td>cause provokes death deaths covid19 coronavirus</td>\n      <td>study prospective look covid19what mechanism mechanisms death deaths covid19 coronavirus</td>\n    </tr>\n    <tr>\n      <th>4</th>\n      <td>5</td>\n      <td>animal domesticate model compartmental covid19 coronavirus</td>\n      <td>drug repurposing active dayuanyin sarscov sars sarscov2 covid19 animal domesticate study prospective</td>\n      <td>paper addressing describe present result study test testing drug repurposing bind affinity spike glycoprotein protein spike virus viral drug repurposing animal domesticate model compartmental paper addressing sarscov2 covid19 infection disease cell epithelial culture e6 assay covid19rdrphel also furthermore relevant detract</td>\n    </tr>\n  </tbody>\n</table>\n</div>"
     },
     "metadata": {},
     "output_type": "display_data"
    },
    {
     "data": {
      "text/plain": "  qid  \\\n0   1   \n1   2   \n2   3   \n3   4   \n4   5   \n\n                                                                        query  \n0                                         coronavirus 2019 origin origination  \n1  coronavirus 2019 response commentary weather meteorological change forcing  \n2                                    coronavirus 2019 immunity vaccineinduced  \n3                               people individual die studie coronavirus 2019  \n4                  animal domesticate model compartmental covid19 coronavirus  ",
      "text/html": "<div>\n<style scoped>\n    .dataframe tbody tr th:only-of-type {\n        vertical-align: middle;\n    }\n\n    .dataframe tbody tr th {\n        vertical-align: top;\n    }\n\n    .dataframe thead th {\n        text-align: right;\n    }\n</style>\n<table border=\"1\" class=\"dataframe\">\n  <thead>\n    <tr style=\"text-align: right;\">\n      <th></th>\n      <th>qid</th>\n      <th>query</th>\n    </tr>\n  </thead>\n  <tbody>\n    <tr>\n      <th>0</th>\n      <td>1</td>\n      <td>coronavirus 2019 origin origination</td>\n    </tr>\n    <tr>\n      <th>1</th>\n      <td>2</td>\n      <td>coronavirus 2019 response commentary weather meteorological change forcing</td>\n    </tr>\n    <tr>\n      <th>2</th>\n      <td>3</td>\n      <td>coronavirus 2019 immunity vaccineinduced</td>\n    </tr>\n    <tr>\n      <th>3</th>\n      <td>4</td>\n      <td>people individual die studie coronavirus 2019</td>\n    </tr>\n    <tr>\n      <th>4</th>\n      <td>5</td>\n      <td>animal domesticate model compartmental covid19 coronavirus</td>\n    </tr>\n  </tbody>\n</table>\n</div>"
     },
     "metadata": {},
     "output_type": "display_data"
    },
    {
     "data": {
      "text/plain": "  qid  \\\n0   1   \n1   2   \n2   3   \n3   4   \n4   5   \n\n                                                                                                                                                   query  \n0                                                                                                                 origin origination covid19 coronavirus  \n1                                                                              coronavirus 2019 respond ghdemphnet change forcing weather meteorological  \n2  sarscov2 covid19 infect infected people individual develop developed immunity vaccineinduced cross sectional protection protective possible potential  \n3                                                                                                        cause provokes death deaths covid19 coronavirus  \n4                                                   drug repurposing active dayuanyin sarscov sars sarscov2 covid19 animal domesticate study prospective  ",
      "text/html": "<div>\n<style scoped>\n    .dataframe tbody tr th:only-of-type {\n        vertical-align: middle;\n    }\n\n    .dataframe tbody tr th {\n        vertical-align: top;\n    }\n\n    .dataframe thead th {\n        text-align: right;\n    }\n</style>\n<table border=\"1\" class=\"dataframe\">\n  <thead>\n    <tr style=\"text-align: right;\">\n      <th></th>\n      <th>qid</th>\n      <th>query</th>\n    </tr>\n  </thead>\n  <tbody>\n    <tr>\n      <th>0</th>\n      <td>1</td>\n      <td>origin origination covid19 coronavirus</td>\n    </tr>\n    <tr>\n      <th>1</th>\n      <td>2</td>\n      <td>coronavirus 2019 respond ghdemphnet change forcing weather meteorological</td>\n    </tr>\n    <tr>\n      <th>2</th>\n      <td>3</td>\n      <td>sarscov2 covid19 infect infected people individual develop developed immunity vaccineinduced cross sectional protection protective possible potential</td>\n    </tr>\n    <tr>\n      <th>3</th>\n      <td>4</td>\n      <td>cause provokes death deaths covid19 coronavirus</td>\n    </tr>\n    <tr>\n      <th>4</th>\n      <td>5</td>\n      <td>drug repurposing active dayuanyin sarscov sars sarscov2 covid19 animal domesticate study prospective</td>\n    </tr>\n  </tbody>\n</table>\n</div>"
     },
     "metadata": {},
     "output_type": "display_data"
    },
    {
     "data": {
      "text/plain": "  qid  \\\n0   1   \n1   2   \n2   3   \n3   4   \n4   5   \n\n                                                                                                                                                                                                                                                                                                                                   query  \n0                                                                                            seek wary range interquartile information distill sarscov2 covid19 virus viral origin origination include included evolution evolutionary animal domesticate source information first 7755 transmission aerosolsborne human diseaserelevant  \n1                            seek wary range interquartile information distill sarscov2 covid19 virus viral viability pasteurization different various weatherclimate condition preexist well also information distill relate related transmission aerosolsborne virus viral different various climate climatological condition preexist  \n2                                                                                                  seek wary study prospective immunity vaccineinduced develop developed due cause infection disease sarscov2 covid19 cross sectional protection protective gain operandi due cause infection disease coronavirus 2019 type blockerbased  \n3                                                                                                                                                                                                                                               study prospective look covid19what mechanism mechanisms death deaths covid19 coronavirus  \n4  paper addressing describe present result study test testing drug repurposing bind affinity spike glycoprotein protein spike virus viral drug repurposing animal domesticate model compartmental paper addressing sarscov2 covid19 infection disease cell epithelial culture e6 assay covid19rdrphel also furthermore relevant detract  ",
      "text/html": "<div>\n<style scoped>\n    .dataframe tbody tr th:only-of-type {\n        vertical-align: middle;\n    }\n\n    .dataframe tbody tr th {\n        vertical-align: top;\n    }\n\n    .dataframe thead th {\n        text-align: right;\n    }\n</style>\n<table border=\"1\" class=\"dataframe\">\n  <thead>\n    <tr style=\"text-align: right;\">\n      <th></th>\n      <th>qid</th>\n      <th>query</th>\n    </tr>\n  </thead>\n  <tbody>\n    <tr>\n      <th>0</th>\n      <td>1</td>\n      <td>seek wary range interquartile information distill sarscov2 covid19 virus viral origin origination include included evolution evolutionary animal domesticate source information first 7755 transmission aerosolsborne human diseaserelevant</td>\n    </tr>\n    <tr>\n      <th>1</th>\n      <td>2</td>\n      <td>seek wary range interquartile information distill sarscov2 covid19 virus viral viability pasteurization different various weatherclimate condition preexist well also information distill relate related transmission aerosolsborne virus viral different various climate climatological condition preexist</td>\n    </tr>\n    <tr>\n      <th>2</th>\n      <td>3</td>\n      <td>seek wary study prospective immunity vaccineinduced develop developed due cause infection disease sarscov2 covid19 cross sectional protection protective gain operandi due cause infection disease coronavirus 2019 type blockerbased</td>\n    </tr>\n    <tr>\n      <th>3</th>\n      <td>4</td>\n      <td>study prospective look covid19what mechanism mechanisms death deaths covid19 coronavirus</td>\n    </tr>\n    <tr>\n      <th>4</th>\n      <td>5</td>\n      <td>paper addressing describe present result study test testing drug repurposing bind affinity spike glycoprotein protein spike virus viral drug repurposing animal domesticate model compartmental paper addressing sarscov2 covid19 infection disease cell epithelial culture e6 assay covid19rdrphel also furthermore relevant detract</td>\n    </tr>\n  </tbody>\n</table>\n</div>"
     },
     "metadata": {},
     "output_type": "display_data"
    }
   ],
   "source": [
    "AUGMENTED = True\n",
    "if AUGMENTED:\n",
    "    from gensim.models import Word2Vec\n",
    "    mv_model = Word2Vec.load(\"data/word2vec.model\")\n",
    "\n",
    "dataset = ir_datasets.load(\"cord19/trec-covid\")\n",
    "queries = pd.DataFrame(dataset.queries_iter())\n",
    "queries = preprocess_queries(queries, augemented=True, mv_model=mv_model)\n",
    "display(queries.head(5))\n",
    "\n",
    "pq_title = queries[['query_id', 'title']]\n",
    "pq_title = pq_title.rename(columns={'query_id':'qid', 'title':'query'})\n",
    "display(pq_title.head(5))\n",
    "\n",
    "pq_desc = queries[['query_id', 'description']]\n",
    "pq_desc = pq_desc.rename(columns={'query_id':'qid', 'description':'query'})\n",
    "display(pq_desc.head(5))\n",
    "\n",
    "pq_narr = queries[['query_id', 'narrative']]\n",
    "pq_narr = pq_narr.rename(columns={'query_id':'qid', 'narrative':'query'})\n",
    "display(pq_narr.head(5))"
   ]
  },
  {
   "cell_type": "code",
   "execution_count": 116,
   "metadata": {
    "collapsed": false,
    "pycharm": {
     "name": "#%%\n"
    }
   },
   "outputs": [
    {
     "data": {
      "text/plain": "          name    P@5   P@10   nDCG@10  RR(rel=2)\n0       TF_IDF  0.532  0.494  0.452778   0.535714\n1         BM25  0.544  0.500  0.453458   0.519733\n2  DirichletLM  0.448  0.450  0.399052   0.471594",
      "text/html": "<div>\n<style scoped>\n    .dataframe tbody tr th:only-of-type {\n        vertical-align: middle;\n    }\n\n    .dataframe tbody tr th {\n        vertical-align: top;\n    }\n\n    .dataframe thead th {\n        text-align: right;\n    }\n</style>\n<table border=\"1\" class=\"dataframe\">\n  <thead>\n    <tr style=\"text-align: right;\">\n      <th></th>\n      <th>name</th>\n      <th>P@5</th>\n      <th>P@10</th>\n      <th>nDCG@10</th>\n      <th>RR(rel=2)</th>\n    </tr>\n  </thead>\n  <tbody>\n    <tr>\n      <th>0</th>\n      <td>TF_IDF</td>\n      <td>0.532</td>\n      <td>0.494</td>\n      <td>0.452778</td>\n      <td>0.535714</td>\n    </tr>\n    <tr>\n      <th>1</th>\n      <td>BM25</td>\n      <td>0.544</td>\n      <td>0.500</td>\n      <td>0.453458</td>\n      <td>0.519733</td>\n    </tr>\n    <tr>\n      <th>2</th>\n      <td>DirichletLM</td>\n      <td>0.448</td>\n      <td>0.450</td>\n      <td>0.399052</td>\n      <td>0.471594</td>\n    </tr>\n  </tbody>\n</table>\n</div>"
     },
     "metadata": {},
     "output_type": "display_data"
    },
    {
     "data": {
      "text/plain": "          name    P@5   P@10   nDCG@10  RR(rel=2)\n0       TF_IDF  0.548  0.524  0.466770   0.561011\n1         BM25  0.528  0.520  0.467649   0.566811\n2  DirichletLM  0.484  0.506  0.454407   0.592929",
      "text/html": "<div>\n<style scoped>\n    .dataframe tbody tr th:only-of-type {\n        vertical-align: middle;\n    }\n\n    .dataframe tbody tr th {\n        vertical-align: top;\n    }\n\n    .dataframe thead th {\n        text-align: right;\n    }\n</style>\n<table border=\"1\" class=\"dataframe\">\n  <thead>\n    <tr style=\"text-align: right;\">\n      <th></th>\n      <th>name</th>\n      <th>P@5</th>\n      <th>P@10</th>\n      <th>nDCG@10</th>\n      <th>RR(rel=2)</th>\n    </tr>\n  </thead>\n  <tbody>\n    <tr>\n      <th>0</th>\n      <td>TF_IDF</td>\n      <td>0.548</td>\n      <td>0.524</td>\n      <td>0.466770</td>\n      <td>0.561011</td>\n    </tr>\n    <tr>\n      <th>1</th>\n      <td>BM25</td>\n      <td>0.528</td>\n      <td>0.520</td>\n      <td>0.467649</td>\n      <td>0.566811</td>\n    </tr>\n    <tr>\n      <th>2</th>\n      <td>DirichletLM</td>\n      <td>0.484</td>\n      <td>0.506</td>\n      <td>0.454407</td>\n      <td>0.592929</td>\n    </tr>\n  </tbody>\n</table>\n</div>"
     },
     "metadata": {},
     "output_type": "display_data"
    },
    {
     "data": {
      "text/plain": "          name    P@5   P@10   nDCG@10  RR(rel=2)\n0       TF_IDF  0.564  0.522  0.475555   0.531976\n1         BM25  0.576  0.530  0.479270   0.521706\n2  DirichletLM  0.508  0.482  0.435032   0.514882",
      "text/html": "<div>\n<style scoped>\n    .dataframe tbody tr th:only-of-type {\n        vertical-align: middle;\n    }\n\n    .dataframe tbody tr th {\n        vertical-align: top;\n    }\n\n    .dataframe thead th {\n        text-align: right;\n    }\n</style>\n<table border=\"1\" class=\"dataframe\">\n  <thead>\n    <tr style=\"text-align: right;\">\n      <th></th>\n      <th>name</th>\n      <th>P@5</th>\n      <th>P@10</th>\n      <th>nDCG@10</th>\n      <th>RR(rel=2)</th>\n    </tr>\n  </thead>\n  <tbody>\n    <tr>\n      <th>0</th>\n      <td>TF_IDF</td>\n      <td>0.564</td>\n      <td>0.522</td>\n      <td>0.475555</td>\n      <td>0.531976</td>\n    </tr>\n    <tr>\n      <th>1</th>\n      <td>BM25</td>\n      <td>0.576</td>\n      <td>0.530</td>\n      <td>0.479270</td>\n      <td>0.521706</td>\n    </tr>\n    <tr>\n      <th>2</th>\n      <td>DirichletLM</td>\n      <td>0.508</td>\n      <td>0.482</td>\n      <td>0.435032</td>\n      <td>0.514882</td>\n    </tr>\n  </tbody>\n</table>\n</div>"
     },
     "metadata": {},
     "output_type": "display_data"
    },
    {
     "data": {
      "text/plain": "          name    P@5   P@10   nDCG@10  RR(rel=2)\n0       TF_IDF  0.480  0.504  0.448074   0.554496\n1         BM25  0.468  0.472  0.433398   0.560993\n2  DirichletLM  0.332  0.362  0.306742   0.325157",
      "text/html": "<div>\n<style scoped>\n    .dataframe tbody tr th:only-of-type {\n        vertical-align: middle;\n    }\n\n    .dataframe tbody tr th {\n        vertical-align: top;\n    }\n\n    .dataframe thead th {\n        text-align: right;\n    }\n</style>\n<table border=\"1\" class=\"dataframe\">\n  <thead>\n    <tr style=\"text-align: right;\">\n      <th></th>\n      <th>name</th>\n      <th>P@5</th>\n      <th>P@10</th>\n      <th>nDCG@10</th>\n      <th>RR(rel=2)</th>\n    </tr>\n  </thead>\n  <tbody>\n    <tr>\n      <th>0</th>\n      <td>TF_IDF</td>\n      <td>0.480</td>\n      <td>0.504</td>\n      <td>0.448074</td>\n      <td>0.554496</td>\n    </tr>\n    <tr>\n      <th>1</th>\n      <td>BM25</td>\n      <td>0.468</td>\n      <td>0.472</td>\n      <td>0.433398</td>\n      <td>0.560993</td>\n    </tr>\n    <tr>\n      <th>2</th>\n      <td>DirichletLM</td>\n      <td>0.332</td>\n      <td>0.362</td>\n      <td>0.306742</td>\n      <td>0.325157</td>\n    </tr>\n  </tbody>\n</table>\n</div>"
     },
     "metadata": {},
     "output_type": "display_data"
    },
    {
     "data": {
      "text/plain": "          name    P@5   P@10   nDCG@10  RR(rel=2)\n0       TF_IDF  0.624  0.622  0.572639   0.717423\n1         BM25  0.608  0.598  0.540148   0.672818\n2  DirichletLM  0.512  0.494  0.453331   0.592243",
      "text/html": "<div>\n<style scoped>\n    .dataframe tbody tr th:only-of-type {\n        vertical-align: middle;\n    }\n\n    .dataframe tbody tr th {\n        vertical-align: top;\n    }\n\n    .dataframe thead th {\n        text-align: right;\n    }\n</style>\n<table border=\"1\" class=\"dataframe\">\n  <thead>\n    <tr style=\"text-align: right;\">\n      <th></th>\n      <th>name</th>\n      <th>P@5</th>\n      <th>P@10</th>\n      <th>nDCG@10</th>\n      <th>RR(rel=2)</th>\n    </tr>\n  </thead>\n  <tbody>\n    <tr>\n      <th>0</th>\n      <td>TF_IDF</td>\n      <td>0.624</td>\n      <td>0.622</td>\n      <td>0.572639</td>\n      <td>0.717423</td>\n    </tr>\n    <tr>\n      <th>1</th>\n      <td>BM25</td>\n      <td>0.608</td>\n      <td>0.598</td>\n      <td>0.540148</td>\n      <td>0.672818</td>\n    </tr>\n    <tr>\n      <th>2</th>\n      <td>DirichletLM</td>\n      <td>0.512</td>\n      <td>0.494</td>\n      <td>0.453331</td>\n      <td>0.592243</td>\n    </tr>\n  </tbody>\n</table>\n</div>"
     },
     "metadata": {},
     "output_type": "display_data"
    },
    {
     "data": {
      "text/plain": "          name    P@5   P@10   nDCG@10  RR(rel=2)\n0       TF_IDF  0.548  0.512  0.464506   0.535792\n1         BM25  0.516  0.506  0.459182   0.542897\n2  DirichletLM  0.420  0.392  0.339867   0.385004",
      "text/html": "<div>\n<style scoped>\n    .dataframe tbody tr th:only-of-type {\n        vertical-align: middle;\n    }\n\n    .dataframe tbody tr th {\n        vertical-align: top;\n    }\n\n    .dataframe thead th {\n        text-align: right;\n    }\n</style>\n<table border=\"1\" class=\"dataframe\">\n  <thead>\n    <tr style=\"text-align: right;\">\n      <th></th>\n      <th>name</th>\n      <th>P@5</th>\n      <th>P@10</th>\n      <th>nDCG@10</th>\n      <th>RR(rel=2)</th>\n    </tr>\n  </thead>\n  <tbody>\n    <tr>\n      <th>0</th>\n      <td>TF_IDF</td>\n      <td>0.548</td>\n      <td>0.512</td>\n      <td>0.464506</td>\n      <td>0.535792</td>\n    </tr>\n    <tr>\n      <th>1</th>\n      <td>BM25</td>\n      <td>0.516</td>\n      <td>0.506</td>\n      <td>0.459182</td>\n      <td>0.542897</td>\n    </tr>\n    <tr>\n      <th>2</th>\n      <td>DirichletLM</td>\n      <td>0.420</td>\n      <td>0.392</td>\n      <td>0.339867</td>\n      <td>0.385004</td>\n    </tr>\n  </tbody>\n</table>\n</div>"
     },
     "metadata": {},
     "output_type": "display_data"
    },
    {
     "data": {
      "text/plain": "          name    P@5   P@10   nDCG@10  RR(rel=2)\n0       TF_IDF  0.352  0.340  0.322414   0.453734\n1         BM25  0.356  0.346  0.329723   0.471402\n2  DirichletLM  0.144  0.134  0.128628   0.236268",
      "text/html": "<div>\n<style scoped>\n    .dataframe tbody tr th:only-of-type {\n        vertical-align: middle;\n    }\n\n    .dataframe tbody tr th {\n        vertical-align: top;\n    }\n\n    .dataframe thead th {\n        text-align: right;\n    }\n</style>\n<table border=\"1\" class=\"dataframe\">\n  <thead>\n    <tr style=\"text-align: right;\">\n      <th></th>\n      <th>name</th>\n      <th>P@5</th>\n      <th>P@10</th>\n      <th>nDCG@10</th>\n      <th>RR(rel=2)</th>\n    </tr>\n  </thead>\n  <tbody>\n    <tr>\n      <th>0</th>\n      <td>TF_IDF</td>\n      <td>0.352</td>\n      <td>0.340</td>\n      <td>0.322414</td>\n      <td>0.453734</td>\n    </tr>\n    <tr>\n      <th>1</th>\n      <td>BM25</td>\n      <td>0.356</td>\n      <td>0.346</td>\n      <td>0.329723</td>\n      <td>0.471402</td>\n    </tr>\n    <tr>\n      <th>2</th>\n      <td>DirichletLM</td>\n      <td>0.144</td>\n      <td>0.134</td>\n      <td>0.128628</td>\n      <td>0.236268</td>\n    </tr>\n  </tbody>\n</table>\n</div>"
     },
     "metadata": {},
     "output_type": "display_data"
    },
    {
     "data": {
      "text/plain": "          name    P@5   P@10   nDCG@10  RR(rel=2)\n0       TF_IDF  0.496  0.482  0.438156   0.523814\n1         BM25  0.496  0.476  0.431302   0.542480\n2  DirichletLM  0.360  0.328  0.307753   0.435134",
      "text/html": "<div>\n<style scoped>\n    .dataframe tbody tr th:only-of-type {\n        vertical-align: middle;\n    }\n\n    .dataframe tbody tr th {\n        vertical-align: top;\n    }\n\n    .dataframe thead th {\n        text-align: right;\n    }\n</style>\n<table border=\"1\" class=\"dataframe\">\n  <thead>\n    <tr style=\"text-align: right;\">\n      <th></th>\n      <th>name</th>\n      <th>P@5</th>\n      <th>P@10</th>\n      <th>nDCG@10</th>\n      <th>RR(rel=2)</th>\n    </tr>\n  </thead>\n  <tbody>\n    <tr>\n      <th>0</th>\n      <td>TF_IDF</td>\n      <td>0.496</td>\n      <td>0.482</td>\n      <td>0.438156</td>\n      <td>0.523814</td>\n    </tr>\n    <tr>\n      <th>1</th>\n      <td>BM25</td>\n      <td>0.496</td>\n      <td>0.476</td>\n      <td>0.431302</td>\n      <td>0.542480</td>\n    </tr>\n    <tr>\n      <th>2</th>\n      <td>DirichletLM</td>\n      <td>0.360</td>\n      <td>0.328</td>\n      <td>0.307753</td>\n      <td>0.435134</td>\n    </tr>\n  </tbody>\n</table>\n</div>"
     },
     "metadata": {},
     "output_type": "display_data"
    },
    {
     "data": {
      "text/plain": "          name    P@5   P@10   nDCG@10  RR(rel=2)\n0       TF_IDF  0.376  0.342  0.323990   0.433431\n1         BM25  0.356  0.356  0.333035   0.433061\n2  DirichletLM  0.200  0.194  0.173502   0.246312",
      "text/html": "<div>\n<style scoped>\n    .dataframe tbody tr th:only-of-type {\n        vertical-align: middle;\n    }\n\n    .dataframe tbody tr th {\n        vertical-align: top;\n    }\n\n    .dataframe thead th {\n        text-align: right;\n    }\n</style>\n<table border=\"1\" class=\"dataframe\">\n  <thead>\n    <tr style=\"text-align: right;\">\n      <th></th>\n      <th>name</th>\n      <th>P@5</th>\n      <th>P@10</th>\n      <th>nDCG@10</th>\n      <th>RR(rel=2)</th>\n    </tr>\n  </thead>\n  <tbody>\n    <tr>\n      <th>0</th>\n      <td>TF_IDF</td>\n      <td>0.376</td>\n      <td>0.342</td>\n      <td>0.323990</td>\n      <td>0.433431</td>\n    </tr>\n    <tr>\n      <th>1</th>\n      <td>BM25</td>\n      <td>0.356</td>\n      <td>0.356</td>\n      <td>0.333035</td>\n      <td>0.433061</td>\n    </tr>\n    <tr>\n      <th>2</th>\n      <td>DirichletLM</td>\n      <td>0.200</td>\n      <td>0.194</td>\n      <td>0.173502</td>\n      <td>0.246312</td>\n    </tr>\n  </tbody>\n</table>\n</div>"
     },
     "metadata": {},
     "output_type": "display_data"
    }
   ],
   "source": [
    "# en_docs {title, abstract, both} with query_title\n",
    "exp1 = expirement(index_en_docs_title, pq_title, qrels)\n",
    "display(exp1)\n",
    "\n",
    "exp2 = expirement(index_en_docs_abstract, pq_title, qrels)\n",
    "display(exp2)\n",
    "\n",
    "exp3 = expirement(index_en_docs_both, pq_title, qrels)\n",
    "display(exp3)\n",
    "\n",
    "# en_docs {title, abstract, both} with query_description\n",
    "exp4 = expirement(index_en_docs_title, pq_desc, qrels)\n",
    "display(exp4)\n",
    "\n",
    "exp5 = expirement(index_en_docs_abstract, pq_desc, qrels)\n",
    "display(exp5)\n",
    "\n",
    "exp6 = expirement(index_en_docs_both, pq_desc, qrels)\n",
    "display(exp6)\n",
    "\n",
    "# en_docs {title, abstract, both} with query_narrative\n",
    "exp7 = expirement(index_en_docs_title, pq_narr, qrels)\n",
    "display(exp7)\n",
    "\n",
    "exp8 = expirement(index_en_docs_abstract, pq_narr, qrels)\n",
    "display(exp8)\n",
    "\n",
    "exp9 = expirement(index_en_docs_both, pq_narr, qrels)\n",
    "display(exp9)"
   ]
  },
  {
   "cell_type": "code",
   "execution_count": 117,
   "metadata": {
    "collapsed": false,
    "pycharm": {
     "name": "#%%\n"
    }
   },
   "outputs": [
    {
     "data": {
      "text/plain": "          name    P@5   P@10   nDCG@10  RR(rel=2)\n0       TF_IDF  0.540  0.496  0.454909   0.536840\n1         BM25  0.544  0.496  0.454054   0.532317\n2  DirichletLM  0.452  0.450  0.399308   0.471269",
      "text/html": "<div>\n<style scoped>\n    .dataframe tbody tr th:only-of-type {\n        vertical-align: middle;\n    }\n\n    .dataframe tbody tr th {\n        vertical-align: top;\n    }\n\n    .dataframe thead th {\n        text-align: right;\n    }\n</style>\n<table border=\"1\" class=\"dataframe\">\n  <thead>\n    <tr style=\"text-align: right;\">\n      <th></th>\n      <th>name</th>\n      <th>P@5</th>\n      <th>P@10</th>\n      <th>nDCG@10</th>\n      <th>RR(rel=2)</th>\n    </tr>\n  </thead>\n  <tbody>\n    <tr>\n      <th>0</th>\n      <td>TF_IDF</td>\n      <td>0.540</td>\n      <td>0.496</td>\n      <td>0.454909</td>\n      <td>0.536840</td>\n    </tr>\n    <tr>\n      <th>1</th>\n      <td>BM25</td>\n      <td>0.544</td>\n      <td>0.496</td>\n      <td>0.454054</td>\n      <td>0.532317</td>\n    </tr>\n    <tr>\n      <th>2</th>\n      <td>DirichletLM</td>\n      <td>0.452</td>\n      <td>0.450</td>\n      <td>0.399308</td>\n      <td>0.471269</td>\n    </tr>\n  </tbody>\n</table>\n</div>"
     },
     "metadata": {},
     "output_type": "display_data"
    },
    {
     "data": {
      "text/plain": "          name    P@5   P@10   nDCG@10  RR(rel=2)\n0       TF_IDF  0.544  0.526  0.467783   0.560968\n1         BM25  0.524  0.524  0.468037   0.566583\n2  DirichletLM  0.480  0.500  0.452263   0.592820",
      "text/html": "<div>\n<style scoped>\n    .dataframe tbody tr th:only-of-type {\n        vertical-align: middle;\n    }\n\n    .dataframe tbody tr th {\n        vertical-align: top;\n    }\n\n    .dataframe thead th {\n        text-align: right;\n    }\n</style>\n<table border=\"1\" class=\"dataframe\">\n  <thead>\n    <tr style=\"text-align: right;\">\n      <th></th>\n      <th>name</th>\n      <th>P@5</th>\n      <th>P@10</th>\n      <th>nDCG@10</th>\n      <th>RR(rel=2)</th>\n    </tr>\n  </thead>\n  <tbody>\n    <tr>\n      <th>0</th>\n      <td>TF_IDF</td>\n      <td>0.544</td>\n      <td>0.526</td>\n      <td>0.467783</td>\n      <td>0.560968</td>\n    </tr>\n    <tr>\n      <th>1</th>\n      <td>BM25</td>\n      <td>0.524</td>\n      <td>0.524</td>\n      <td>0.468037</td>\n      <td>0.566583</td>\n    </tr>\n    <tr>\n      <th>2</th>\n      <td>DirichletLM</td>\n      <td>0.480</td>\n      <td>0.500</td>\n      <td>0.452263</td>\n      <td>0.592820</td>\n    </tr>\n  </tbody>\n</table>\n</div>"
     },
     "metadata": {},
     "output_type": "display_data"
    },
    {
     "data": {
      "text/plain": "          name    P@5   P@10   nDCG@10  RR(rel=2)\n0       TF_IDF  0.564  0.522  0.475555   0.531976\n1         BM25  0.576  0.530  0.479270   0.521706\n2  DirichletLM  0.508  0.482  0.435032   0.514882",
      "text/html": "<div>\n<style scoped>\n    .dataframe tbody tr th:only-of-type {\n        vertical-align: middle;\n    }\n\n    .dataframe tbody tr th {\n        vertical-align: top;\n    }\n\n    .dataframe thead th {\n        text-align: right;\n    }\n</style>\n<table border=\"1\" class=\"dataframe\">\n  <thead>\n    <tr style=\"text-align: right;\">\n      <th></th>\n      <th>name</th>\n      <th>P@5</th>\n      <th>P@10</th>\n      <th>nDCG@10</th>\n      <th>RR(rel=2)</th>\n    </tr>\n  </thead>\n  <tbody>\n    <tr>\n      <th>0</th>\n      <td>TF_IDF</td>\n      <td>0.564</td>\n      <td>0.522</td>\n      <td>0.475555</td>\n      <td>0.531976</td>\n    </tr>\n    <tr>\n      <th>1</th>\n      <td>BM25</td>\n      <td>0.576</td>\n      <td>0.530</td>\n      <td>0.479270</td>\n      <td>0.521706</td>\n    </tr>\n    <tr>\n      <th>2</th>\n      <td>DirichletLM</td>\n      <td>0.508</td>\n      <td>0.482</td>\n      <td>0.435032</td>\n      <td>0.514882</td>\n    </tr>\n  </tbody>\n</table>\n</div>"
     },
     "metadata": {},
     "output_type": "display_data"
    },
    {
     "data": {
      "text/plain": "          name    P@5   P@10   nDCG@10  RR(rel=2)\n0       TF_IDF  0.484  0.498  0.445158   0.554496\n1         BM25  0.456  0.472  0.428597   0.540275\n2  DirichletLM  0.336  0.356  0.307708   0.336533",
      "text/html": "<div>\n<style scoped>\n    .dataframe tbody tr th:only-of-type {\n        vertical-align: middle;\n    }\n\n    .dataframe tbody tr th {\n        vertical-align: top;\n    }\n\n    .dataframe thead th {\n        text-align: right;\n    }\n</style>\n<table border=\"1\" class=\"dataframe\">\n  <thead>\n    <tr style=\"text-align: right;\">\n      <th></th>\n      <th>name</th>\n      <th>P@5</th>\n      <th>P@10</th>\n      <th>nDCG@10</th>\n      <th>RR(rel=2)</th>\n    </tr>\n  </thead>\n  <tbody>\n    <tr>\n      <th>0</th>\n      <td>TF_IDF</td>\n      <td>0.484</td>\n      <td>0.498</td>\n      <td>0.445158</td>\n      <td>0.554496</td>\n    </tr>\n    <tr>\n      <th>1</th>\n      <td>BM25</td>\n      <td>0.456</td>\n      <td>0.472</td>\n      <td>0.428597</td>\n      <td>0.540275</td>\n    </tr>\n    <tr>\n      <th>2</th>\n      <td>DirichletLM</td>\n      <td>0.336</td>\n      <td>0.356</td>\n      <td>0.307708</td>\n      <td>0.336533</td>\n    </tr>\n  </tbody>\n</table>\n</div>"
     },
     "metadata": {},
     "output_type": "display_data"
    },
    {
     "data": {
      "text/plain": "          name    P@5   P@10   nDCG@10  RR(rel=2)\n0       TF_IDF  0.620  0.622  0.572504   0.716730\n1         BM25  0.608  0.598  0.540103   0.672818\n2  DirichletLM  0.512  0.498  0.455876   0.592294",
      "text/html": "<div>\n<style scoped>\n    .dataframe tbody tr th:only-of-type {\n        vertical-align: middle;\n    }\n\n    .dataframe tbody tr th {\n        vertical-align: top;\n    }\n\n    .dataframe thead th {\n        text-align: right;\n    }\n</style>\n<table border=\"1\" class=\"dataframe\">\n  <thead>\n    <tr style=\"text-align: right;\">\n      <th></th>\n      <th>name</th>\n      <th>P@5</th>\n      <th>P@10</th>\n      <th>nDCG@10</th>\n      <th>RR(rel=2)</th>\n    </tr>\n  </thead>\n  <tbody>\n    <tr>\n      <th>0</th>\n      <td>TF_IDF</td>\n      <td>0.620</td>\n      <td>0.622</td>\n      <td>0.572504</td>\n      <td>0.716730</td>\n    </tr>\n    <tr>\n      <th>1</th>\n      <td>BM25</td>\n      <td>0.608</td>\n      <td>0.598</td>\n      <td>0.540103</td>\n      <td>0.672818</td>\n    </tr>\n    <tr>\n      <th>2</th>\n      <td>DirichletLM</td>\n      <td>0.512</td>\n      <td>0.498</td>\n      <td>0.455876</td>\n      <td>0.592294</td>\n    </tr>\n  </tbody>\n</table>\n</div>"
     },
     "metadata": {},
     "output_type": "display_data"
    },
    {
     "data": {
      "text/plain": "          name    P@5   P@10   nDCG@10  RR(rel=2)\n0       TF_IDF  0.548  0.512  0.464564   0.535790\n1         BM25  0.516  0.504  0.457666   0.542712\n2  DirichletLM  0.420  0.398  0.344099   0.385004",
      "text/html": "<div>\n<style scoped>\n    .dataframe tbody tr th:only-of-type {\n        vertical-align: middle;\n    }\n\n    .dataframe tbody tr th {\n        vertical-align: top;\n    }\n\n    .dataframe thead th {\n        text-align: right;\n    }\n</style>\n<table border=\"1\" class=\"dataframe\">\n  <thead>\n    <tr style=\"text-align: right;\">\n      <th></th>\n      <th>name</th>\n      <th>P@5</th>\n      <th>P@10</th>\n      <th>nDCG@10</th>\n      <th>RR(rel=2)</th>\n    </tr>\n  </thead>\n  <tbody>\n    <tr>\n      <th>0</th>\n      <td>TF_IDF</td>\n      <td>0.548</td>\n      <td>0.512</td>\n      <td>0.464564</td>\n      <td>0.535790</td>\n    </tr>\n    <tr>\n      <th>1</th>\n      <td>BM25</td>\n      <td>0.516</td>\n      <td>0.504</td>\n      <td>0.457666</td>\n      <td>0.542712</td>\n    </tr>\n    <tr>\n      <th>2</th>\n      <td>DirichletLM</td>\n      <td>0.420</td>\n      <td>0.398</td>\n      <td>0.344099</td>\n      <td>0.385004</td>\n    </tr>\n  </tbody>\n</table>\n</div>"
     },
     "metadata": {},
     "output_type": "display_data"
    },
    {
     "data": {
      "text/plain": "          name    P@5   P@10   nDCG@10  RR(rel=2)\n0       TF_IDF  0.352  0.340  0.321736   0.451448\n1         BM25  0.348  0.338  0.323725   0.456486\n2  DirichletLM  0.152  0.142  0.135078   0.239603",
      "text/html": "<div>\n<style scoped>\n    .dataframe tbody tr th:only-of-type {\n        vertical-align: middle;\n    }\n\n    .dataframe tbody tr th {\n        vertical-align: top;\n    }\n\n    .dataframe thead th {\n        text-align: right;\n    }\n</style>\n<table border=\"1\" class=\"dataframe\">\n  <thead>\n    <tr style=\"text-align: right;\">\n      <th></th>\n      <th>name</th>\n      <th>P@5</th>\n      <th>P@10</th>\n      <th>nDCG@10</th>\n      <th>RR(rel=2)</th>\n    </tr>\n  </thead>\n  <tbody>\n    <tr>\n      <th>0</th>\n      <td>TF_IDF</td>\n      <td>0.352</td>\n      <td>0.340</td>\n      <td>0.321736</td>\n      <td>0.451448</td>\n    </tr>\n    <tr>\n      <th>1</th>\n      <td>BM25</td>\n      <td>0.348</td>\n      <td>0.338</td>\n      <td>0.323725</td>\n      <td>0.456486</td>\n    </tr>\n    <tr>\n      <th>2</th>\n      <td>DirichletLM</td>\n      <td>0.152</td>\n      <td>0.142</td>\n      <td>0.135078</td>\n      <td>0.239603</td>\n    </tr>\n  </tbody>\n</table>\n</div>"
     },
     "metadata": {},
     "output_type": "display_data"
    },
    {
     "data": {
      "text/plain": "          name    P@5   P@10   nDCG@10  RR(rel=2)\n0       TF_IDF  0.496  0.486  0.440753   0.523800\n1         BM25  0.492  0.478  0.433184   0.545769\n2  DirichletLM  0.364  0.330  0.309017   0.434837",
      "text/html": "<div>\n<style scoped>\n    .dataframe tbody tr th:only-of-type {\n        vertical-align: middle;\n    }\n\n    .dataframe tbody tr th {\n        vertical-align: top;\n    }\n\n    .dataframe thead th {\n        text-align: right;\n    }\n</style>\n<table border=\"1\" class=\"dataframe\">\n  <thead>\n    <tr style=\"text-align: right;\">\n      <th></th>\n      <th>name</th>\n      <th>P@5</th>\n      <th>P@10</th>\n      <th>nDCG@10</th>\n      <th>RR(rel=2)</th>\n    </tr>\n  </thead>\n  <tbody>\n    <tr>\n      <th>0</th>\n      <td>TF_IDF</td>\n      <td>0.496</td>\n      <td>0.486</td>\n      <td>0.440753</td>\n      <td>0.523800</td>\n    </tr>\n    <tr>\n      <th>1</th>\n      <td>BM25</td>\n      <td>0.492</td>\n      <td>0.478</td>\n      <td>0.433184</td>\n      <td>0.545769</td>\n    </tr>\n    <tr>\n      <th>2</th>\n      <td>DirichletLM</td>\n      <td>0.364</td>\n      <td>0.330</td>\n      <td>0.309017</td>\n      <td>0.434837</td>\n    </tr>\n  </tbody>\n</table>\n</div>"
     },
     "metadata": {},
     "output_type": "display_data"
    },
    {
     "data": {
      "text/plain": "          name    P@5   P@10   nDCG@10  RR(rel=2)\n0       TF_IDF  0.376  0.344  0.325315   0.433419\n1         BM25  0.356  0.358  0.334307   0.433224\n2  DirichletLM  0.200  0.196  0.174954   0.247377",
      "text/html": "<div>\n<style scoped>\n    .dataframe tbody tr th:only-of-type {\n        vertical-align: middle;\n    }\n\n    .dataframe tbody tr th {\n        vertical-align: top;\n    }\n\n    .dataframe thead th {\n        text-align: right;\n    }\n</style>\n<table border=\"1\" class=\"dataframe\">\n  <thead>\n    <tr style=\"text-align: right;\">\n      <th></th>\n      <th>name</th>\n      <th>P@5</th>\n      <th>P@10</th>\n      <th>nDCG@10</th>\n      <th>RR(rel=2)</th>\n    </tr>\n  </thead>\n  <tbody>\n    <tr>\n      <th>0</th>\n      <td>TF_IDF</td>\n      <td>0.376</td>\n      <td>0.344</td>\n      <td>0.325315</td>\n      <td>0.433419</td>\n    </tr>\n    <tr>\n      <th>1</th>\n      <td>BM25</td>\n      <td>0.356</td>\n      <td>0.358</td>\n      <td>0.334307</td>\n      <td>0.433224</td>\n    </tr>\n    <tr>\n      <th>2</th>\n      <td>DirichletLM</td>\n      <td>0.200</td>\n      <td>0.196</td>\n      <td>0.174954</td>\n      <td>0.247377</td>\n    </tr>\n  </tbody>\n</table>\n</div>"
     },
     "metadata": {},
     "output_type": "display_data"
    }
   ],
   "source": [
    "# docs {title, abstract, both} with query_title\n",
    "exp1 = expirement(index_docs_title, pq_title, qrels)\n",
    "display(exp1)\n",
    "\n",
    "exp2 = expirement(index_docs_abstract, pq_title, qrels)\n",
    "display(exp2)\n",
    "\n",
    "exp3 = expirement(index_docs_both, pq_title, qrels)\n",
    "display(exp3)\n",
    "\n",
    "# docs {title, abstract, both} with query_description\n",
    "exp4 = expirement(index_docs_title, pq_desc, qrels)\n",
    "display(exp4)\n",
    "\n",
    "exp5 = expirement(index_docs_abstract, pq_desc, qrels)\n",
    "display(exp5)\n",
    "\n",
    "exp6 = expirement(index_docs_both, pq_desc, qrels)\n",
    "display(exp6)\n",
    "\n",
    "# docs {title, abstract, both} with query_narrative\n",
    "exp7 = expirement(index_docs_title, pq_narr, qrels)\n",
    "display(exp7)\n",
    "\n",
    "exp8 = expirement(index_docs_abstract, pq_narr, qrels)\n",
    "display(exp8)\n",
    "\n",
    "exp9 = expirement(index_docs_both, pq_narr, qrels)\n",
    "display(exp9)"
   ]
  },
  {
   "cell_type": "markdown",
   "metadata": {},
   "source": [
    "## Try to reduce the size of the narrative and description queries\n",
    "\n",
    "To do this we can eliminate the very frequent words or the less important ones."
   ]
  },
  {
   "cell_type": "code",
   "execution_count": 118,
   "metadata": {},
   "outputs": [
    {
     "data": {
      "text/plain": "  0%|          | 0/50 [00:00<?, ?it/s]",
      "application/vnd.jupyter.widget-view+json": {
       "version_major": 2,
       "version_minor": 0,
       "model_id": "02a1c1b95ed349b2aa5e773bd29158a6"
      }
     },
     "metadata": {},
     "output_type": "display_data"
    }
   ],
   "source": [
    "import ir_datasets\n",
    "import nltk\n",
    "import pandas as pd\n",
    "dataset = ir_datasets.load(\"cord19/trec-covid\")\n",
    "queries = pd.DataFrame(dataset.queries_iter())\n",
    "# preprocess the query\n",
    "queries = preprocess_queries(queries, augemented=False, mv_model=None)"
   ]
  },
  {
   "cell_type": "code",
   "execution_count": 119,
   "metadata": {},
   "outputs": [],
   "source": [
    "narrative = queries.narrative.str.split(expand=True).stack().value_counts().to_dict()\n",
    "description = queries.description.str.split(expand=True).stack().value_counts().to_dict()"
   ]
  },
  {
   "cell_type": "code",
   "execution_count": 120,
   "metadata": {},
   "outputs": [
    {
     "name": "stdout",
     "output_type": "stream",
     "text": [
      "{'covid19': 31, 'coronavirus': 8, 'sarscov2': 8, 'impact': 6, 'test': 4, 'complication': 4, 'patient': 3, 'treatment': 3, 'evidence': 3, 'drug': 3, 'pandemic': 3, 'prevent': 3, 'related': 3, 'spread': 2, 'vaccine': 2, 'include': 2, 'population': 2, 'best': 2, 'risk': 2, 'recover': 2, 'mutation': 2, 'long': 2, 'infection': 2, 'response': 2, 'mechanism': 2, 'mask': 2, 'clinical': 2, 'available': 2, 'genome': 2, 'infect': 2, 'differ': 2, 'health': 2, 'immunity': 2, 'develop': 2, 'type': 2, 'know': 2, 'associate': 2, 'antibody': 2, 'kind': 2, 'indicate': 1, 'potential': 1, 'structure': 1, 'target': 1, 'analysis': 1, 'phylogenetic': 1, 'result': 1, 'interaction': 1, 'spike': 1, 'seasonal': 1, 'public': 1, 'approve': 1, 'protein': 1, 'datasets': 1, 'new': 1, 'repurposed': 1, 'base': 1, 'information': 1, 'remdesivir': 1, 'longerterm': 1, 'effective': 1, 'candidate': 1, 'subtypes': 1, 'flu': 1, 'origin': 1, 'syndrome': 1, 'sequence': 1, 'inflammatory': 1, 'dexamethasone': 1, 'outcome': 1, 'child': 1, 'contract': 1, 'benefit': 1, 'reopen': 1, 'school': 1, 'midst': 1, 'individual': 1, 'show': 1, 'sufficient': 1, 'immune': 1, 'level': 1, 'tcell': 1, 'mediate': 1, 'reinfection': 1, 'mrna': 1, 'mental': 1, 'much': 1, 'crime': 1, 'occur': 1, 'pathogenesis': 1, 'case': 1, 'cytokine': 1, 'storm': 1, 'proteinshuman': 1, 'observed': 1, 'often': 1, 'among': 1, 'violent': 1, 'africanamericans': 1, 'rest': 1, 'u': 1, 'vitamin': 1, 'prevention': 1, 'violence': 1, 'society': 1, 'proteins': 1, 'diabetes': 1, 'treat': 1, 'slow': 1, 'underreporting': 1, 'true': 1, 'incidence': 1, 'affect': 1, 'canada': 1, 'social': 1, 'distance': 1, 'guideline': 1, 'hydroxychloroquine': 1, 'triaging': 1, 'practice': 1, 'hospital': 1, 'home': 1, 'maintain': 1, 'quarantine': 1, 'transmission': 1, 'lead': 1, 'availability': 1, 'lack': 1, 'detect': 1, 'respond': 1, 'change': 1, 'weather': 1, 'people': 1, 'cross': 1, 'protection': 1, 'possible': 1, 'cause': 1, 'death': 1, 'active': 1, 'sarscov': 1, 'animal': 1, 'study': 1, 'rapid': 1, 'serological': 1, 'route': 1, 'relate': 1, 'super': 1, 'mortality': 1, 'overall': 1, 'specific': 1, 'cardiac': 1, 'likely': 1, 'hypertension': 1, 'biomarkers': 1, 'predict': 1, 'severe': 1, 'course': 1, '2019ncov': 1, 'initial': 1, 'symptom': 1, 'infected': 1, 'asymptomatic': 1, 'value': 1, 'rate': 1, 'increase': 1, 'spreader': 1, 'ace': 1, 'live': 1, 'outside': 1, 'body': 1, 'remain': 1, 'stable': 1, 'surface': 1, 'trial': 1, 'hand': 1, 'sanitizer': 1, 'need': 1, 'destroy': 1, 'take': 1, 'angiotensinconverting': 1, 'enzyme': 1, 'inhibitor': 1, 'virus': 1}\n"
     ]
    }
   ],
   "source": [
    "print( description )"
   ]
  },
  {
   "cell_type": "code",
   "execution_count": 121,
   "metadata": {},
   "outputs": [
    {
     "name": "stdout",
     "output_type": "stream",
     "text": [
      "{'study': 30, 'covid19': 29, 'look': 20, 'seek': 19, 'include': 18, 'information': 17, 'virus': 14, 'specific': 10, 'range': 9, 'sarscov2': 9, 'clinical': 9, 'patient': 9, 'infection': 8, 'health': 8, 'outcome': 8, 'coronavirus': 7, 'type': 6, 'transmission': 6, 'drug': 6, 'describe': 6, 'data': 6, 'infect': 5, 'vaccine': 5, 'impact': 5, 'potential': 5, 'mechanism': 5, 'genomic': 5, 'different': 5, 'result': 4, 'possible': 4, 'specifically': 4, 'article': 4, 'relate': 4, 'trial': 4, 'group': 3, 'focus': 3, 'subtypes': 3, 'related': 3, 'benefit': 3, 'mortality': 3, 'face': 3, 'base': 3, 'population': 3, 'rate': 3, 'infected': 3, 'vitamin': 3, 'cytokine': 3, 'people': 3, 'storm': 3, 'response': 3, 'use': 3, 'pandemic': 3, 'test': 3, 'human': 3, 'due': 3, 'well': 3, 'condition': 3, 'cell': 3, 'protein': 3, 'immunity': 3, 'paper': 3, 'animal': 3, 'prevention': 2, 'target': 2, 'assess': 2, 'mask': 2, 'among': 2, 'object': 2, 'case': 2, 'mutation': 2, 'time': 2, 'implication': 2, 'still': 2, 'super': 2, 'spreader': 2, 'death': 2, 'surface': 2, 'etc': 2, 'measure': 2, 'develop': 2, 'actual': 2, 'mrna': 2, 'discuss': 2, 'may': 2, 'name': 2, 'first': 2, 'mechanisms': 2, 'treat': 2, 'harm': 2, 'adverse': 2, 'quarantine': 2, 'effect': 2, 'disease': 2, 'predict': 2, 'likely': 2, 'moreless': 2, 'postinfection': 2, 'analysis': 2, 'receptor': 2, 'interaction': 2, 'public': 2, 'hospitalization': 2, 'child': 2, 'reopen': 2, 'spike': 2, 'dexamethasone': 2, 'complete': 2, 'topic': 2, 'evidence': 2, 'way': 2, 'school': 2, 'also': 2, 'assay': 2, 'violence': 2, 'relevant': 2, 'level': 1, 'reference': 1, 'underlying': 1, 'previously': 1, 'exist': 1, 'new': 1, 'biological': 1, 'structure': 1, 'datasets': 1, 'release': 1, 'antibody': 1, 'method': 1, 'cryoem': 1, 'crystallography': 1, 'explain': 1, 'provide': 1, 'phylogenetic': 1, 'network': 1, 'teacher': 1, 'recover': 1, 'particular': 1, 'geographic': 1, 'draw': 1, 'direct': 1, 'work': 1, 'deaths': 1, 'comparison': 1, 'seasonal': 1, 'influenza': 1, 'projection': 1, 'ongoing': 1, 'speculative': 1, 'clustering': 1, 'differ': 1, 'individual': 1, 'student': 1, 'possibility': 1, 'action': 1, 'propose': 1, 'exclude': 1, 'candidate': 1, 'genome': 1, 'excludes': 1, 'adult': 1, 'attempt': 1, 'association': 1, 'inflammatory': 1, 'discussion': 1, 'increasingdecreasing': 1, 'analyze': 1, 'burden': 1, 'wider': 1, 'illness': 1, 'africanamericanblack': 1, 'racialethnic': 1, 'reason': 1, 'morbidity': 1, 'concern': 1, 'lab': 1, 'community': 1, 'status': 1, 'r0': 1, 'minority': 1, 'contain': 1, 'disparity': 1, 'africanamericans': 1, 'slow': 1, 'domesticfamily': 1, 'must': 1, 'role': 1, 'impacting': 1, 'suppression': 1, 'pathogenicity': 1, 'depression': 1, 'anxiety': 1, 'observed': 1, 'pathogenesis': 1, '2019': 1, 'outbreak': 1, 'antiinflammatory': 1, 'corticosteroid': 1, 'benefittedharmed': 1, 'supplement': 1, 'development': 1, 'family': 1, 'treatment': 1, 'suggest': 1, 'mental': 1, 'syndrome': 1, 'reinfection': 1, 'psychiatric': 1, 'disorder': 1, 'therapy': 1, 'emergence': 1, 'diversity': 1, 'recurrent': 1, 'panic': 1, 'explore': 1, 'term': 1, 'site': 1, 'frequency': 1, 'global': 1, 'activity': 1, 'one': 1, 'social': 1, 'distance': 1, 'nonsocial': 1, 'distancing': 1, 'approach': 1, 'guideline': 1, 'prioritize': 1, 'demographic': 1, 'sign': 1, 'serology': 1, 'best': 1, 'practice': 1, 'duration': 1, 'care': 1, 'expose': 1, 'contract': 1, 'number': 1, 'proportion': 1, 'pattern': 1, 'behavior': 1, 'lead': 1, 'spread': 1, 'strategy': 1, 'toward': 1, 'sarscov2s': 1, 'survival': 1, 'environment': 1, 'covid19s': 1, 'intensive': 1, 'outside': 1, 'diagnose': 1, 'origin': 1, 'evolution': 1, 'source': 1, 'viability': 1, 'weatherclimate': 1, 'climate': 1, 'cross': 1, 'protection': 1, 'gain': 1, 'bind': 1, 'model': 1, 'culture': 1, 'identify': 1, 'rapidly': 1, 'symptoms': 1, 'immune': 1, 'help': 1, 'determine': 1, 'past': 1, 'subsequent': 1, 'answer': 1, 'question': 1, 'lack': 1, 'incidence': 1, 'prevalence': 1, 'confirm': 1, 'suspect': 1, 'projected': 1, 'liquid': 1, 'body': 1, 'difference': 1, 'symptom': 1, 'complication': 1, 'cause': 1, 'hypertensive': 1, 'diabetic': 1, 'biomarkers': 1, 'outcomes': 1, 'severe': 1, 'fatal': 1, 'manifestation': 1, 'upon': 1, 'active': 1, 'know': 1, 'show': 1, 'basic': 1, 'factor': 1, 'science': 1, 'hydroxychloroquine': 1, 'proteinprotein': 1, 'structural': 1, 'represent': 1, 'promise': 1, 'therapeutic': 1, 'molecule': 1, 'inhibit': 1, 'host': 1, 'entry': 1, 'step': 1, 'remdesivir': 1, 'cardiac': 1, 'blood': 1, 'viable': 1, 'chemical': 1, 'another': 1, 'remain': 1, 'stable': 1, 'deposit': 1, 'person': 1, 'everyday': 1, 'household': 1, 'hospital': 1, 'set': 1, 'cough': 1, 'touching': 1, 'recruitment': 1, 'prevent': 1, 'concentration': 1, 'gender': 1, 'need': 1, 'destroy': 1, 'angiotensin': 1, 'convert': 1, 'enzyme': 1, '2': 1, 'ace2': 1, 'risk': 1, 'take': 1, 'medication': 1, 'recommendation': 1, 'fatality': 1, 'country': 1, 'promising': 1}\n"
     ]
    }
   ],
   "source": [
    "print( narrative )"
   ]
  },
  {
   "cell_type": "code",
   "execution_count": 122,
   "metadata": {},
   "outputs": [
    {
     "name": "stderr",
     "output_type": "stream",
     "text": [
      "/tmp/ipykernel_8780/2876694636.py:4: MatplotlibDeprecationWarning: Support for passing numbers through unit converters is deprecated since 3.5 and support will be removed two minor releases later; use Axis.convert_units instead.\n",
      "  plt.xticks([], [])\n"
     ]
    },
    {
     "data": {
      "text/plain": "<Figure size 432x288 with 1 Axes>",
      "image/png": "[encoded data removed]"
     },
     "metadata": {
      "needs_background": "light"
     },
     "output_type": "display_data"
    },
    {
     "name": "stderr",
     "output_type": "stream",
     "text": [
      "/tmp/ipykernel_8780/2876694636.py:8: MatplotlibDeprecationWarning: Support for passing numbers through unit converters is deprecated since 3.5 and support will be removed two minor releases later; use Axis.convert_units instead.\n",
      "  plt.xticks([], [])\n"
     ]
    },
    {
     "data": {
      "text/plain": "<Figure size 432x288 with 1 Axes>",
      "image/png": "[encoded data removed]"
     },
     "metadata": {
      "needs_background": "light"
     },
     "output_type": "display_data"
    }
   ],
   "source": [
    "import matplotlib.pyplot as plt\n",
    "\n",
    "plt.bar(*zip(*narrative.items()))\n",
    "plt.xticks([], [])\n",
    "plt.show()\n",
    "\n",
    "plt.bar(*zip(*description.items()))\n",
    "plt.xticks([], [])\n",
    "plt.show()"
   ]
  },
  {
   "cell_type": "code",
   "execution_count": 123,
   "metadata": {},
   "outputs": [],
   "source": [
    "to_remove_word = []\n",
    "\n",
    "for key in narrative:\n",
    "    if narrative[key] > 10:\n",
    "        to_remove_word.append(key)\n",
    "\n",
    "for key in description:\n",
    "    if description[key] > 10:\n",
    "        to_remove_word.append(key)\n"
   ]
  },
  {
   "cell_type": "code",
   "execution_count": 124,
   "metadata": {},
   "outputs": [
    {
     "name": "stdout",
     "output_type": "stream",
     "text": [
      "['study', 'covid19', 'look', 'seek', 'include', 'information', 'virus', 'covid19']\n"
     ]
    }
   ],
   "source": [
    "print(to_remove_word)"
   ]
  },
  {
   "cell_type": "code",
   "execution_count": 125,
   "metadata": {},
   "outputs": [],
   "source": [
    "from my_utils import reduce_queries\n",
    "resized_queries = reduce_queries(queries)"
   ]
  },
  {
   "cell_type": "markdown",
   "metadata": {},
   "source": [
    "    ## Query Reduction"
   ]
  },
  {
   "cell_type": "code",
   "execution_count": 126,
   "metadata": {},
   "outputs": [
    {
     "data": {
      "text/plain": "  0%|          | 0/50 [00:00<?, ?it/s]",
      "application/vnd.jupyter.widget-view+json": {
       "version_major": 2,
       "version_minor": 0,
       "model_id": "5c589d947f684c03a0adf45b795d5f49"
      }
     },
     "metadata": {},
     "output_type": "display_data"
    },
    {
     "data": {
      "text/plain": "  query_id                                title  \\\n0        1                   coronavirus origin   \n1        2  coronavirus response weather change   \n2        3                 coronavirus immunity   \n3        4               people die coronavirus   \n4        5                 animal model covid19   \n\n                                                          description  \\\n0                                                              origin   \n1                                  coronavirus respond change weather   \n2   sarscov2 infect people develop immunity cross protection possible   \n3                                                         cause death   \n4                                 drug active sarscov sarscov2 animal   \n\n                                                                                                                         narrative  \n0                                                           range sarscov2 origin evolution animal source first transmission human  \n1                 range sarscov2 viability different weatherclimate condition well relate transmission different climate condition  \n2                                     immunity develop due infection sarscov2 cross protection gain due infection coronavirus type  \n3                                                                                                                  mechanism death  \n4   paper describe result test drug bind spike protein drug animal model paper sarscov2 infection cell culture assay also relevant  ",
      "text/html": "<div>\n<style scoped>\n    .dataframe tbody tr th:only-of-type {\n        vertical-align: middle;\n    }\n\n    .dataframe tbody tr th {\n        vertical-align: top;\n    }\n\n    .dataframe thead th {\n        text-align: right;\n    }\n</style>\n<table border=\"1\" class=\"dataframe\">\n  <thead>\n    <tr style=\"text-align: right;\">\n      <th></th>\n      <th>query_id</th>\n      <th>title</th>\n      <th>description</th>\n      <th>narrative</th>\n    </tr>\n  </thead>\n  <tbody>\n    <tr>\n      <th>0</th>\n      <td>1</td>\n      <td>coronavirus origin</td>\n      <td>origin</td>\n      <td>range sarscov2 origin evolution animal source first transmission human</td>\n    </tr>\n    <tr>\n      <th>1</th>\n      <td>2</td>\n      <td>coronavirus response weather change</td>\n      <td>coronavirus respond change weather</td>\n      <td>range sarscov2 viability different weatherclimate condition well relate transmission different climate condition</td>\n    </tr>\n    <tr>\n      <th>2</th>\n      <td>3</td>\n      <td>coronavirus immunity</td>\n      <td>sarscov2 infect people develop immunity cross protection possible</td>\n      <td>immunity develop due infection sarscov2 cross protection gain due infection coronavirus type</td>\n    </tr>\n    <tr>\n      <th>3</th>\n      <td>4</td>\n      <td>people die coronavirus</td>\n      <td>cause death</td>\n      <td>mechanism death</td>\n    </tr>\n    <tr>\n      <th>4</th>\n      <td>5</td>\n      <td>animal model covid19</td>\n      <td>drug active sarscov sarscov2 animal</td>\n      <td>paper describe result test drug bind spike protein drug animal model paper sarscov2 infection cell culture assay also relevant</td>\n    </tr>\n  </tbody>\n</table>\n</div>"
     },
     "metadata": {},
     "output_type": "display_data"
    },
    {
     "data": {
      "text/plain": "  qid                                query\n0   1                   coronavirus origin\n1   2  coronavirus response weather change\n2   3                 coronavirus immunity\n3   4               people die coronavirus\n4   5                 animal model covid19",
      "text/html": "<div>\n<style scoped>\n    .dataframe tbody tr th:only-of-type {\n        vertical-align: middle;\n    }\n\n    .dataframe tbody tr th {\n        vertical-align: top;\n    }\n\n    .dataframe thead th {\n        text-align: right;\n    }\n</style>\n<table border=\"1\" class=\"dataframe\">\n  <thead>\n    <tr style=\"text-align: right;\">\n      <th></th>\n      <th>qid</th>\n      <th>query</th>\n    </tr>\n  </thead>\n  <tbody>\n    <tr>\n      <th>0</th>\n      <td>1</td>\n      <td>coronavirus origin</td>\n    </tr>\n    <tr>\n      <th>1</th>\n      <td>2</td>\n      <td>coronavirus response weather change</td>\n    </tr>\n    <tr>\n      <th>2</th>\n      <td>3</td>\n      <td>coronavirus immunity</td>\n    </tr>\n    <tr>\n      <th>3</th>\n      <td>4</td>\n      <td>people die coronavirus</td>\n    </tr>\n    <tr>\n      <th>4</th>\n      <td>5</td>\n      <td>animal model covid19</td>\n    </tr>\n  </tbody>\n</table>\n</div>"
     },
     "metadata": {},
     "output_type": "display_data"
    },
    {
     "data": {
      "text/plain": "  qid                                                               query\n0   1                                                              origin\n1   2                                  coronavirus respond change weather\n2   3   sarscov2 infect people develop immunity cross protection possible\n3   4                                                         cause death\n4   5                                 drug active sarscov sarscov2 animal",
      "text/html": "<div>\n<style scoped>\n    .dataframe tbody tr th:only-of-type {\n        vertical-align: middle;\n    }\n\n    .dataframe tbody tr th {\n        vertical-align: top;\n    }\n\n    .dataframe thead th {\n        text-align: right;\n    }\n</style>\n<table border=\"1\" class=\"dataframe\">\n  <thead>\n    <tr style=\"text-align: right;\">\n      <th></th>\n      <th>qid</th>\n      <th>query</th>\n    </tr>\n  </thead>\n  <tbody>\n    <tr>\n      <th>0</th>\n      <td>1</td>\n      <td>origin</td>\n    </tr>\n    <tr>\n      <th>1</th>\n      <td>2</td>\n      <td>coronavirus respond change weather</td>\n    </tr>\n    <tr>\n      <th>2</th>\n      <td>3</td>\n      <td>sarscov2 infect people develop immunity cross protection possible</td>\n    </tr>\n    <tr>\n      <th>3</th>\n      <td>4</td>\n      <td>cause death</td>\n    </tr>\n    <tr>\n      <th>4</th>\n      <td>5</td>\n      <td>drug active sarscov sarscov2 animal</td>\n    </tr>\n  </tbody>\n</table>\n</div>"
     },
     "metadata": {},
     "output_type": "display_data"
    },
    {
     "data": {
      "text/plain": "  qid  \\\n0   1   \n1   2   \n2   3   \n3   4   \n4   5   \n\n                                                                                                                             query  \n0                                                           range sarscov2 origin evolution animal source first transmission human  \n1                 range sarscov2 viability different weatherclimate condition well relate transmission different climate condition  \n2                                     immunity develop due infection sarscov2 cross protection gain due infection coronavirus type  \n3                                                                                                                  mechanism death  \n4   paper describe result test drug bind spike protein drug animal model paper sarscov2 infection cell culture assay also relevant  ",
      "text/html": "<div>\n<style scoped>\n    .dataframe tbody tr th:only-of-type {\n        vertical-align: middle;\n    }\n\n    .dataframe tbody tr th {\n        vertical-align: top;\n    }\n\n    .dataframe thead th {\n        text-align: right;\n    }\n</style>\n<table border=\"1\" class=\"dataframe\">\n  <thead>\n    <tr style=\"text-align: right;\">\n      <th></th>\n      <th>qid</th>\n      <th>query</th>\n    </tr>\n  </thead>\n  <tbody>\n    <tr>\n      <th>0</th>\n      <td>1</td>\n      <td>range sarscov2 origin evolution animal source first transmission human</td>\n    </tr>\n    <tr>\n      <th>1</th>\n      <td>2</td>\n      <td>range sarscov2 viability different weatherclimate condition well relate transmission different climate condition</td>\n    </tr>\n    <tr>\n      <th>2</th>\n      <td>3</td>\n      <td>immunity develop due infection sarscov2 cross protection gain due infection coronavirus type</td>\n    </tr>\n    <tr>\n      <th>3</th>\n      <td>4</td>\n      <td>mechanism death</td>\n    </tr>\n    <tr>\n      <th>4</th>\n      <td>5</td>\n      <td>paper describe result test drug bind spike protein drug animal model paper sarscov2 infection cell culture assay also relevant</td>\n    </tr>\n  </tbody>\n</table>\n</div>"
     },
     "metadata": {},
     "output_type": "display_data"
    }
   ],
   "source": [
    "dataset = ir_datasets.load(\"cord19/trec-covid\")\n",
    "queries = pd.DataFrame(dataset.queries_iter())\n",
    "queries = preprocess_queries(queries, augemented=False)\n",
    "queries = reduce_queries(queries)\n",
    "display(queries.head(5))\n",
    "\n",
    "pq_title = queries[['query_id', 'title']]\n",
    "pq_title = pq_title.rename(columns={'query_id':'qid', 'title':'query'})\n",
    "display(pq_title.head(5))\n",
    "\n",
    "pq_desc = queries[['query_id', 'description']]\n",
    "pq_desc = pq_desc.rename(columns={'query_id':'qid', 'description':'query'})\n",
    "display(pq_desc.head(5))\n",
    "\n",
    "pq_narr = queries[['query_id', 'narrative']]\n",
    "pq_narr = pq_narr.rename(columns={'query_id':'qid', 'narrative':'query'})\n",
    "display(pq_narr.head(5))"
   ]
  },
  {
   "cell_type": "code",
   "execution_count": 127,
   "metadata": {},
   "outputs": [
    {
     "data": {
      "text/plain": "          name    P@5   P@10   nDCG@10  RR(rel=2)\n0       TF_IDF  0.648  0.552  0.540841   0.672157\n1         BM25  0.648  0.550  0.536981   0.669379\n2  DirichletLM  0.452  0.438  0.406525   0.498696",
      "text/html": "<div>\n<style scoped>\n    .dataframe tbody tr th:only-of-type {\n        vertical-align: middle;\n    }\n\n    .dataframe tbody tr th {\n        vertical-align: top;\n    }\n\n    .dataframe thead th {\n        text-align: right;\n    }\n</style>\n<table border=\"1\" class=\"dataframe\">\n  <thead>\n    <tr style=\"text-align: right;\">\n      <th></th>\n      <th>name</th>\n      <th>P@5</th>\n      <th>P@10</th>\n      <th>nDCG@10</th>\n      <th>RR(rel=2)</th>\n    </tr>\n  </thead>\n  <tbody>\n    <tr>\n      <th>0</th>\n      <td>TF_IDF</td>\n      <td>0.648</td>\n      <td>0.552</td>\n      <td>0.540841</td>\n      <td>0.672157</td>\n    </tr>\n    <tr>\n      <th>1</th>\n      <td>BM25</td>\n      <td>0.648</td>\n      <td>0.550</td>\n      <td>0.536981</td>\n      <td>0.669379</td>\n    </tr>\n    <tr>\n      <th>2</th>\n      <td>DirichletLM</td>\n      <td>0.452</td>\n      <td>0.438</td>\n      <td>0.406525</td>\n      <td>0.498696</td>\n    </tr>\n  </tbody>\n</table>\n</div>"
     },
     "metadata": {},
     "output_type": "display_data"
    },
    {
     "data": {
      "text/plain": "          name    P@5   P@10   nDCG@10  RR(rel=2)\n0       TF_IDF  0.736  0.696  0.638426   0.753717\n1         BM25  0.736  0.690  0.628885   0.713130\n2  DirichletLM  0.692  0.660  0.606479   0.677555",
      "text/html": "<div>\n<style scoped>\n    .dataframe tbody tr th:only-of-type {\n        vertical-align: middle;\n    }\n\n    .dataframe tbody tr th {\n        vertical-align: top;\n    }\n\n    .dataframe thead th {\n        text-align: right;\n    }\n</style>\n<table border=\"1\" class=\"dataframe\">\n  <thead>\n    <tr style=\"text-align: right;\">\n      <th></th>\n      <th>name</th>\n      <th>P@5</th>\n      <th>P@10</th>\n      <th>nDCG@10</th>\n      <th>RR(rel=2)</th>\n    </tr>\n  </thead>\n  <tbody>\n    <tr>\n      <th>0</th>\n      <td>TF_IDF</td>\n      <td>0.736</td>\n      <td>0.696</td>\n      <td>0.638426</td>\n      <td>0.753717</td>\n    </tr>\n    <tr>\n      <th>1</th>\n      <td>BM25</td>\n      <td>0.736</td>\n      <td>0.690</td>\n      <td>0.628885</td>\n      <td>0.713130</td>\n    </tr>\n    <tr>\n      <th>2</th>\n      <td>DirichletLM</td>\n      <td>0.692</td>\n      <td>0.660</td>\n      <td>0.606479</td>\n      <td>0.677555</td>\n    </tr>\n  </tbody>\n</table>\n</div>"
     },
     "metadata": {},
     "output_type": "display_data"
    },
    {
     "data": {
      "text/plain": "          name    P@5   P@10   nDCG@10  RR(rel=2)\n0       TF_IDF  0.636  0.564  0.549397   0.689585\n1         BM25  0.648  0.566  0.552331   0.696808\n2  DirichletLM  0.496  0.454  0.420075   0.505550",
      "text/html": "<div>\n<style scoped>\n    .dataframe tbody tr th:only-of-type {\n        vertical-align: middle;\n    }\n\n    .dataframe tbody tr th {\n        vertical-align: top;\n    }\n\n    .dataframe thead th {\n        text-align: right;\n    }\n</style>\n<table border=\"1\" class=\"dataframe\">\n  <thead>\n    <tr style=\"text-align: right;\">\n      <th></th>\n      <th>name</th>\n      <th>P@5</th>\n      <th>P@10</th>\n      <th>nDCG@10</th>\n      <th>RR(rel=2)</th>\n    </tr>\n  </thead>\n  <tbody>\n    <tr>\n      <th>0</th>\n      <td>TF_IDF</td>\n      <td>0.636</td>\n      <td>0.564</td>\n      <td>0.549397</td>\n      <td>0.689585</td>\n    </tr>\n    <tr>\n      <th>1</th>\n      <td>BM25</td>\n      <td>0.648</td>\n      <td>0.566</td>\n      <td>0.552331</td>\n      <td>0.696808</td>\n    </tr>\n    <tr>\n      <th>2</th>\n      <td>DirichletLM</td>\n      <td>0.496</td>\n      <td>0.454</td>\n      <td>0.420075</td>\n      <td>0.505550</td>\n    </tr>\n  </tbody>\n</table>\n</div>"
     },
     "metadata": {},
     "output_type": "display_data"
    },
    {
     "data": {
      "text/plain": "          name    P@5   P@10   nDCG@10  RR(rel=2)\n0       TF_IDF  0.472  0.444  0.408609   0.503428\n1         BM25  0.484  0.452  0.417505   0.522439\n2  DirichletLM  0.284  0.262  0.246613   0.388369",
      "text/html": "<div>\n<style scoped>\n    .dataframe tbody tr th:only-of-type {\n        vertical-align: middle;\n    }\n\n    .dataframe tbody tr th {\n        vertical-align: top;\n    }\n\n    .dataframe thead th {\n        text-align: right;\n    }\n</style>\n<table border=\"1\" class=\"dataframe\">\n  <thead>\n    <tr style=\"text-align: right;\">\n      <th></th>\n      <th>name</th>\n      <th>P@5</th>\n      <th>P@10</th>\n      <th>nDCG@10</th>\n      <th>RR(rel=2)</th>\n    </tr>\n  </thead>\n  <tbody>\n    <tr>\n      <th>0</th>\n      <td>TF_IDF</td>\n      <td>0.472</td>\n      <td>0.444</td>\n      <td>0.408609</td>\n      <td>0.503428</td>\n    </tr>\n    <tr>\n      <th>1</th>\n      <td>BM25</td>\n      <td>0.484</td>\n      <td>0.452</td>\n      <td>0.417505</td>\n      <td>0.522439</td>\n    </tr>\n    <tr>\n      <th>2</th>\n      <td>DirichletLM</td>\n      <td>0.284</td>\n      <td>0.262</td>\n      <td>0.246613</td>\n      <td>0.388369</td>\n    </tr>\n  </tbody>\n</table>\n</div>"
     },
     "metadata": {},
     "output_type": "display_data"
    },
    {
     "data": {
      "text/plain": "          name    P@5   P@10   nDCG@10  RR(rel=2)\n0       TF_IDF  0.588  0.582  0.513330   0.557399\n1         BM25  0.584  0.572  0.505319   0.564145\n2  DirichletLM  0.440  0.460  0.404459   0.521294",
      "text/html": "<div>\n<style scoped>\n    .dataframe tbody tr th:only-of-type {\n        vertical-align: middle;\n    }\n\n    .dataframe tbody tr th {\n        vertical-align: top;\n    }\n\n    .dataframe thead th {\n        text-align: right;\n    }\n</style>\n<table border=\"1\" class=\"dataframe\">\n  <thead>\n    <tr style=\"text-align: right;\">\n      <th></th>\n      <th>name</th>\n      <th>P@5</th>\n      <th>P@10</th>\n      <th>nDCG@10</th>\n      <th>RR(rel=2)</th>\n    </tr>\n  </thead>\n  <tbody>\n    <tr>\n      <th>0</th>\n      <td>TF_IDF</td>\n      <td>0.588</td>\n      <td>0.582</td>\n      <td>0.513330</td>\n      <td>0.557399</td>\n    </tr>\n    <tr>\n      <th>1</th>\n      <td>BM25</td>\n      <td>0.584</td>\n      <td>0.572</td>\n      <td>0.505319</td>\n      <td>0.564145</td>\n    </tr>\n    <tr>\n      <th>2</th>\n      <td>DirichletLM</td>\n      <td>0.440</td>\n      <td>0.460</td>\n      <td>0.404459</td>\n      <td>0.521294</td>\n    </tr>\n  </tbody>\n</table>\n</div>"
     },
     "metadata": {},
     "output_type": "display_data"
    },
    {
     "data": {
      "text/plain": "          name    P@5   P@10   nDCG@10  RR(rel=2)\n0       TF_IDF  0.504  0.474  0.438155   0.562505\n1         BM25  0.516  0.470  0.436144   0.561857\n2  DirichletLM  0.292  0.238  0.233239   0.375783",
      "text/html": "<div>\n<style scoped>\n    .dataframe tbody tr th:only-of-type {\n        vertical-align: middle;\n    }\n\n    .dataframe tbody tr th {\n        vertical-align: top;\n    }\n\n    .dataframe thead th {\n        text-align: right;\n    }\n</style>\n<table border=\"1\" class=\"dataframe\">\n  <thead>\n    <tr style=\"text-align: right;\">\n      <th></th>\n      <th>name</th>\n      <th>P@5</th>\n      <th>P@10</th>\n      <th>nDCG@10</th>\n      <th>RR(rel=2)</th>\n    </tr>\n  </thead>\n  <tbody>\n    <tr>\n      <th>0</th>\n      <td>TF_IDF</td>\n      <td>0.504</td>\n      <td>0.474</td>\n      <td>0.438155</td>\n      <td>0.562505</td>\n    </tr>\n    <tr>\n      <th>1</th>\n      <td>BM25</td>\n      <td>0.516</td>\n      <td>0.470</td>\n      <td>0.436144</td>\n      <td>0.561857</td>\n    </tr>\n    <tr>\n      <th>2</th>\n      <td>DirichletLM</td>\n      <td>0.292</td>\n      <td>0.238</td>\n      <td>0.233239</td>\n      <td>0.375783</td>\n    </tr>\n  </tbody>\n</table>\n</div>"
     },
     "metadata": {},
     "output_type": "display_data"
    }
   ],
   "source": [
    "# en_docs {title, abstract, both} with query_description\n",
    "exp4 = expirement(index_en_docs_title, pq_desc, qrels)\n",
    "display(exp4)\n",
    "\n",
    "exp5 = expirement(index_en_docs_abstract, pq_desc, qrels)\n",
    "display(exp5)\n",
    "\n",
    "exp6 = expirement(index_en_docs_both, pq_desc, qrels)\n",
    "display(exp6)\n",
    "\n",
    "# en_docs {title, abstract, both} with query_narrative\n",
    "exp7 = expirement(index_en_docs_title, pq_narr, qrels)\n",
    "display(exp7)\n",
    "\n",
    "exp8 = expirement(index_en_docs_abstract, pq_narr, qrels)\n",
    "display(exp8)\n",
    "\n",
    "exp9 = expirement(index_en_docs_both, pq_narr, qrels)\n",
    "display(exp9)"
   ]
  },
  {
   "cell_type": "code",
   "execution_count": 128,
   "metadata": {},
   "outputs": [
    {
     "data": {
      "text/plain": "          name    P@5   P@10   nDCG@10  RR(rel=2)\n0       TF_IDF  0.652  0.550  0.542303   0.685133\n1         BM25  0.648  0.550  0.539480   0.682356\n2  DirichletLM  0.452  0.436  0.405446   0.498523",
      "text/html": "<div>\n<style scoped>\n    .dataframe tbody tr th:only-of-type {\n        vertical-align: middle;\n    }\n\n    .dataframe tbody tr th {\n        vertical-align: top;\n    }\n\n    .dataframe thead th {\n        text-align: right;\n    }\n</style>\n<table border=\"1\" class=\"dataframe\">\n  <thead>\n    <tr style=\"text-align: right;\">\n      <th></th>\n      <th>name</th>\n      <th>P@5</th>\n      <th>P@10</th>\n      <th>nDCG@10</th>\n      <th>RR(rel=2)</th>\n    </tr>\n  </thead>\n  <tbody>\n    <tr>\n      <th>0</th>\n      <td>TF_IDF</td>\n      <td>0.652</td>\n      <td>0.550</td>\n      <td>0.542303</td>\n      <td>0.685133</td>\n    </tr>\n    <tr>\n      <th>1</th>\n      <td>BM25</td>\n      <td>0.648</td>\n      <td>0.550</td>\n      <td>0.539480</td>\n      <td>0.682356</td>\n    </tr>\n    <tr>\n      <th>2</th>\n      <td>DirichletLM</td>\n      <td>0.452</td>\n      <td>0.436</td>\n      <td>0.405446</td>\n      <td>0.498523</td>\n    </tr>\n  </tbody>\n</table>\n</div>"
     },
     "metadata": {},
     "output_type": "display_data"
    },
    {
     "data": {
      "text/plain": "          name    P@5   P@10   nDCG@10  RR(rel=2)\n0       TF_IDF  0.736  0.694  0.637153   0.753939\n1         BM25  0.740  0.692  0.630433   0.713130\n2  DirichletLM  0.692  0.658  0.605315   0.677555",
      "text/html": "<div>\n<style scoped>\n    .dataframe tbody tr th:only-of-type {\n        vertical-align: middle;\n    }\n\n    .dataframe tbody tr th {\n        vertical-align: top;\n    }\n\n    .dataframe thead th {\n        text-align: right;\n    }\n</style>\n<table border=\"1\" class=\"dataframe\">\n  <thead>\n    <tr style=\"text-align: right;\">\n      <th></th>\n      <th>name</th>\n      <th>P@5</th>\n      <th>P@10</th>\n      <th>nDCG@10</th>\n      <th>RR(rel=2)</th>\n    </tr>\n  </thead>\n  <tbody>\n    <tr>\n      <th>0</th>\n      <td>TF_IDF</td>\n      <td>0.736</td>\n      <td>0.694</td>\n      <td>0.637153</td>\n      <td>0.753939</td>\n    </tr>\n    <tr>\n      <th>1</th>\n      <td>BM25</td>\n      <td>0.740</td>\n      <td>0.692</td>\n      <td>0.630433</td>\n      <td>0.713130</td>\n    </tr>\n    <tr>\n      <th>2</th>\n      <td>DirichletLM</td>\n      <td>0.692</td>\n      <td>0.658</td>\n      <td>0.605315</td>\n      <td>0.677555</td>\n    </tr>\n  </tbody>\n</table>\n</div>"
     },
     "metadata": {},
     "output_type": "display_data"
    },
    {
     "data": {
      "text/plain": "          name    P@5   P@10   nDCG@10  RR(rel=2)\n0       TF_IDF  0.632  0.564  0.548763   0.689308\n1         BM25  0.648  0.566  0.552112   0.696530\n2  DirichletLM  0.496  0.454  0.420075   0.505641",
      "text/html": "<div>\n<style scoped>\n    .dataframe tbody tr th:only-of-type {\n        vertical-align: middle;\n    }\n\n    .dataframe tbody tr th {\n        vertical-align: top;\n    }\n\n    .dataframe thead th {\n        text-align: right;\n    }\n</style>\n<table border=\"1\" class=\"dataframe\">\n  <thead>\n    <tr style=\"text-align: right;\">\n      <th></th>\n      <th>name</th>\n      <th>P@5</th>\n      <th>P@10</th>\n      <th>nDCG@10</th>\n      <th>RR(rel=2)</th>\n    </tr>\n  </thead>\n  <tbody>\n    <tr>\n      <th>0</th>\n      <td>TF_IDF</td>\n      <td>0.632</td>\n      <td>0.564</td>\n      <td>0.548763</td>\n      <td>0.689308</td>\n    </tr>\n    <tr>\n      <th>1</th>\n      <td>BM25</td>\n      <td>0.648</td>\n      <td>0.566</td>\n      <td>0.552112</td>\n      <td>0.696530</td>\n    </tr>\n    <tr>\n      <th>2</th>\n      <td>DirichletLM</td>\n      <td>0.496</td>\n      <td>0.454</td>\n      <td>0.420075</td>\n      <td>0.505641</td>\n    </tr>\n  </tbody>\n</table>\n</div>"
     },
     "metadata": {},
     "output_type": "display_data"
    },
    {
     "data": {
      "text/plain": "          name    P@5   P@10   nDCG@10  RR(rel=2)\n0       TF_IDF  0.468  0.444  0.408597   0.504494\n1         BM25  0.484  0.452  0.418066   0.522361\n2  DirichletLM  0.300  0.262  0.250805   0.393369",
      "text/html": "<div>\n<style scoped>\n    .dataframe tbody tr th:only-of-type {\n        vertical-align: middle;\n    }\n\n    .dataframe tbody tr th {\n        vertical-align: top;\n    }\n\n    .dataframe thead th {\n        text-align: right;\n    }\n</style>\n<table border=\"1\" class=\"dataframe\">\n  <thead>\n    <tr style=\"text-align: right;\">\n      <th></th>\n      <th>name</th>\n      <th>P@5</th>\n      <th>P@10</th>\n      <th>nDCG@10</th>\n      <th>RR(rel=2)</th>\n    </tr>\n  </thead>\n  <tbody>\n    <tr>\n      <th>0</th>\n      <td>TF_IDF</td>\n      <td>0.468</td>\n      <td>0.444</td>\n      <td>0.408597</td>\n      <td>0.504494</td>\n    </tr>\n    <tr>\n      <th>1</th>\n      <td>BM25</td>\n      <td>0.484</td>\n      <td>0.452</td>\n      <td>0.418066</td>\n      <td>0.522361</td>\n    </tr>\n    <tr>\n      <th>2</th>\n      <td>DirichletLM</td>\n      <td>0.300</td>\n      <td>0.262</td>\n      <td>0.250805</td>\n      <td>0.393369</td>\n    </tr>\n  </tbody>\n</table>\n</div>"
     },
     "metadata": {},
     "output_type": "display_data"
    },
    {
     "data": {
      "text/plain": "          name    P@5   P@10   nDCG@10  RR(rel=2)\n0       TF_IDF  0.592  0.582  0.512907   0.557399\n1         BM25  0.584  0.574  0.506481   0.564145\n2  DirichletLM  0.436  0.462  0.404089   0.519748",
      "text/html": "<div>\n<style scoped>\n    .dataframe tbody tr th:only-of-type {\n        vertical-align: middle;\n    }\n\n    .dataframe tbody tr th {\n        vertical-align: top;\n    }\n\n    .dataframe thead th {\n        text-align: right;\n    }\n</style>\n<table border=\"1\" class=\"dataframe\">\n  <thead>\n    <tr style=\"text-align: right;\">\n      <th></th>\n      <th>name</th>\n      <th>P@5</th>\n      <th>P@10</th>\n      <th>nDCG@10</th>\n      <th>RR(rel=2)</th>\n    </tr>\n  </thead>\n  <tbody>\n    <tr>\n      <th>0</th>\n      <td>TF_IDF</td>\n      <td>0.592</td>\n      <td>0.582</td>\n      <td>0.512907</td>\n      <td>0.557399</td>\n    </tr>\n    <tr>\n      <th>1</th>\n      <td>BM25</td>\n      <td>0.584</td>\n      <td>0.574</td>\n      <td>0.506481</td>\n      <td>0.564145</td>\n    </tr>\n    <tr>\n      <th>2</th>\n      <td>DirichletLM</td>\n      <td>0.436</td>\n      <td>0.462</td>\n      <td>0.404089</td>\n      <td>0.519748</td>\n    </tr>\n  </tbody>\n</table>\n</div>"
     },
     "metadata": {},
     "output_type": "display_data"
    },
    {
     "data": {
      "text/plain": "          name    P@5   P@10   nDCG@10  RR(rel=2)\n0       TF_IDF  0.500  0.474  0.437987   0.562506\n1         BM25  0.512  0.470  0.436155   0.561862\n2  DirichletLM  0.292  0.238  0.233879   0.375757",
      "text/html": "<div>\n<style scoped>\n    .dataframe tbody tr th:only-of-type {\n        vertical-align: middle;\n    }\n\n    .dataframe tbody tr th {\n        vertical-align: top;\n    }\n\n    .dataframe thead th {\n        text-align: right;\n    }\n</style>\n<table border=\"1\" class=\"dataframe\">\n  <thead>\n    <tr style=\"text-align: right;\">\n      <th></th>\n      <th>name</th>\n      <th>P@5</th>\n      <th>P@10</th>\n      <th>nDCG@10</th>\n      <th>RR(rel=2)</th>\n    </tr>\n  </thead>\n  <tbody>\n    <tr>\n      <th>0</th>\n      <td>TF_IDF</td>\n      <td>0.500</td>\n      <td>0.474</td>\n      <td>0.437987</td>\n      <td>0.562506</td>\n    </tr>\n    <tr>\n      <th>1</th>\n      <td>BM25</td>\n      <td>0.512</td>\n      <td>0.470</td>\n      <td>0.436155</td>\n      <td>0.561862</td>\n    </tr>\n    <tr>\n      <th>2</th>\n      <td>DirichletLM</td>\n      <td>0.292</td>\n      <td>0.238</td>\n      <td>0.233879</td>\n      <td>0.375757</td>\n    </tr>\n  </tbody>\n</table>\n</div>"
     },
     "metadata": {},
     "output_type": "display_data"
    }
   ],
   "source": [
    "# docs {title, abstract, both} with query_description\n",
    "exp4 = expirement(index_docs_title, pq_desc, qrels)\n",
    "display(exp4)\n",
    "\n",
    "exp5 = expirement(index_docs_abstract, pq_desc, qrels)\n",
    "display(exp5)\n",
    "\n",
    "exp6 = expirement(index_docs_both, pq_desc, qrels)\n",
    "display(exp6)\n",
    "\n",
    "# docs {title, abstract, both} with query_narrative\n",
    "exp7 = expirement(index_docs_title, pq_narr, qrels)\n",
    "display(exp7)\n",
    "\n",
    "exp8 = expirement(index_docs_abstract, pq_narr, qrels)\n",
    "display(exp8)\n",
    "\n",
    "exp9 = expirement(index_docs_both, pq_narr, qrels)\n",
    "display(exp9)"
   ]
  },
  {
   "cell_type": "markdown",
   "metadata": {},
   "source": [
    "## Pairwise Similarity of Queries\n",
    " - TF-IDF\n",
    " - DOC2VEC\n",
    "\n",
    "Write a function that measures the pairwise similarity of the provided \n",
    "queries. Create a list of similar queries and a word-cloud of their qids."
   ]
  },
  {
   "cell_type": "code",
   "execution_count": 129,
   "metadata": {},
   "outputs": [],
   "source": [
    "%%capture\n",
    "%pip install gensim\n",
    "\n",
    "import pandas as pd\n",
    "import numpy as np\n",
    "import wordcloud\n",
    "\n",
    "from sklearn.feature_extraction.text import TfidfVectorizer\n",
    "from sklearn.metrics.pairwise import cosine_similarity\n",
    "\n",
    "from sklearn.cluster import AgglomerativeClustering\n",
    "from scipy.cluster.hierarchy import dendrogram\n",
    "from gensim.models.doc2vec import Doc2Vec, TaggedDocument\n",
    "\n",
    "\n",
    "def plot_dendrogram(model, **kwargs):\n",
    "    # Create linkage matrix and then plot the dendrogram\n",
    "\n",
    "    # create the counts of samples under each node\n",
    "    counts = np.zeros(model.children_.shape[0])\n",
    "    n_samples = len(model.labels_)\n",
    "    for i, merge in enumerate(model.children_):\n",
    "        current_count = 0\n",
    "        for child_idx in merge:\n",
    "            if child_idx < n_samples:\n",
    "                current_count += 1  # leaf node\n",
    "            else:\n",
    "                current_count += counts[child_idx - n_samples]\n",
    "        counts[i] = current_count\n",
    "\n",
    "    linkage_matrix = np.column_stack(\n",
    "        [model.children_, model.distances_, counts]\n",
    "    ).astype(float)\n",
    "\n",
    "    # Plot the corresponding dendrogram\n",
    "    dendrogram(linkage_matrix, **kwargs)\n",
    "\n",
    "def compute_freqs(queries, labels):\n",
    "    freqs = {}\n",
    "    for i in range(max(labels)):\n",
    "        # print(f\"cluster {i:2} {queries.loc[labels==i]['title'].values}\")\n",
    "\n",
    "        similar_queries = queries.loc[labels==i]['query_id'].values\n",
    "        for qid in similar_queries:\n",
    "            freqs[qid] = len(similar_queries)\n",
    "\n",
    "    return freqs\n",
    "\n",
    "def print_clustered_queries(queries, labels):\n",
    "    for i in range(max(labels)):\n",
    "        print(f\"cluster {i:2} {queries.loc[labels==i]['description'].values}\")"
   ]
  },
  {
   "cell_type": "code",
   "execution_count": 130,
   "metadata": {},
   "outputs": [
    {
     "name": "stdout",
     "output_type": "stream",
     "text": [
      "cluster  0 ['clinical coscovid trial randomize available authorized coronavirus 2019'\n",
      " 'new york public health datasets dataset available authorized related relate covid19 coronavirus'\n",
      " 'health public outcome outcomes child adolescent contract familys covid19 coronavirus']\n",
      "cluster  1 ['cause provokes death deaths covid19 coronavirus'\n",
      " 'lack limited test testing availability limited lead cause underreporting cfp true undercounting incidence prevalence covid19 coronavirus']\n",
      "cluster  2 ['serological serology test testing detect detection antibody igg coronavirus 2019'\n",
      " 'vaccine adjuvanted candidate ace2based test testing covid19 coronavirus'\n",
      " 'know confronts mrna padi6 vaccine adjuvanted sarscov2 covid19 virus viral']\n",
      "cluster  3 ['covid19 coronavirus pandemic outbreak impact effect violence genderbased society snacc include included violent suddenunexpected crime burglary'\n",
      " 'covid19 coronavirus pandemic outbreak impact effect mental psychological health public'\n",
      " 'benefit harm risk susceptibility reopen reopening school closure midst grapple covid19 coronavirus pandemic outbreak']\n",
      "cluster  4 ['social distancing distance distancing impact effect slow unmanageably spread spreading covid19 coronavirus'\n",
      " 'best good mask n95 prevent mitigate infection disease covid19 coronavirus'\n",
      " 'much transmissive impact effect mask n95 prevent mitigate spread spreading covid19 coronavirus']\n",
      "cluster  5 ['sarscov2 covid19 subtypes cocirculation'\n",
      " 'protein spike structure cryoelectron sarscov2 covid19 spike glycoprotein']\n",
      "cluster  6 ['sarscov2 covid19 infect infected people individual develop developed immunity vaccineinduced cross sectional protection protective possible potential'\n",
      " 'individual people recover recovered covid19 coronavirus show demonstrate sufficient adequate immune innate response commentary include included antibody igg level biomakers tcell bcell mediate upr immunity vaccineinduced prevent mitigate reinfection reexposure']\n",
      "cluster  7 ['transmission aerosolsborne route aerosolsborne coronavirus 2019']\n",
      "cluster  8 ['coronavirus 2019 differ similar seasonal season flu 1918'\n",
      " 'impact effect covid19 coronavirus among crosssectional africanamericans blackafrican differ similar rest throughout u united population seira']\n",
      "cluster  9 ['mechanism mechanisms inflammatory cytokine response commentary pathogenesis immunopathogenesis covid19 coronavirus case report'\n",
      " 'mechanism mechanisms cytokine storm storm cytokine syndrome acute covid19 coronavirus']\n",
      "cluster 10 ['type blockerbased rapid upscaling test testing covid19 coronavirus develop developed'\n",
      " 'type blockerbased hand hygiene sanitizer alcoholbased need must destroy deactivate covid19 coronavirus']\n",
      "cluster 11 ['evidence literature relate related covid19 coronavirus super spreader spreader super'\n",
      " 'cardiac arrhythmia complication thrombocytopaenia likely transmissive patient hospitalize covid19 coronavirus'\n",
      " 'kind expound complication thrombocytopaenia related relate covid19 coronavirus associate relate hypertension mellitus'\n",
      " 'kind expound complication thrombocytopaenia related relate covid19 coronavirus associate relate diabetes mellitus'\n",
      " 'longerterm consciously complication thrombocytopaenia recover recovered covid19 coronavirus']\n",
      "cluster 12 ['evidence literature value predictive hydroxychloroquine azithromycin treat treatment covid19 coronavirus'\n",
      " 'remdesivir lopinavir effective efficacious treatment therapy covid19 coronavirus'\n",
      " 'vitamin b12 impact effect covid19 coronavirus prevention control treatment therapy'\n",
      " 'evidence literature dexamethasone daratumumab treatment therapy covid19 coronavirus']\n",
      "cluster 13 ['mortality morbidity rate caserecovery overall pcfr specific proteintargeted population seira']\n",
      "cluster 14 ['result study phylogenetic sequence analysis analyse sarscov2 covid19 genome sequence sequence genome'\n",
      " 'observed observe mutation d614g sarscov2 covid19 genome sequence often usually mutation d614g occur occurred']\n",
      "cluster 15 ['origin origination covid19 coronavirus']\n",
      "cluster 16 ['best good practice laryngology hospital tertiary home assistedliving maintain ensure quarantine isolation']\n",
      "cluster 17 ['biomarkers biomarker predict prediction severe 2019associated clinical coscovid course presentation 2019ncov 2019new infection disease']\n",
      "cluster 18 ['long short coronavirus 2019 live living outside outsidewuhan body fluids'\n",
      " 'long short coronavirus 2019 remain still stable stability surface inanimate']\n",
      "cluster 19 ['initial early symptom stl covid19 coronavirus']\n",
      "cluster 20 ['coronavirus 2019 respond ghdemphnet change forcing weather meteorological']\n",
      "cluster 21 ['patient hospitalize take action angiotensinconverting enzyme enzyme angiotensinconverting inhibitor inhibition ace angiotensin increase increased risk susceptibility covid19 coronavirus']\n",
      "cluster 22 ['drug repurposing active dayuanyin sarscov sars sarscov2 covid19 animal domesticate study prospective'\n",
      " 'sarscov2 covid19 proteinshuman proteins protein interaction viralhost indicate suggest potential possible drug repurposing target hostmediated approve approved drug repurposing repurposed usfda base use information distill']\n",
      "cluster 23 ['covid19 coronavirus affect affected canada united']\n"
     ]
    }
   ],
   "source": [
    "if AUGMENTED:\n",
    "    queries = pd.read_pickle('./data/queries_processed_aug.pkl')\n",
    "else:\n",
    "    queries = pd.read_pickle('./data/queries_processed.pkl')\n",
    "\n",
    "vectorizer = TfidfVectorizer()\n",
    "vectors = vectorizer.fit_transform(queries['description']).toarray()\n",
    "\n",
    "cluster = AgglomerativeClustering(n_clusters=None, affinity='cosine', linkage='average', distance_threshold=0.9)\n",
    "labels = cluster.fit_predict(vectors)\n",
    "\n",
    "print_clustered_queries(queries, labels)"
   ]
  },
  {
   "cell_type": "code",
   "execution_count": 131,
   "metadata": {},
   "outputs": [
    {
     "data": {
      "text/plain": "<PIL.Image.Image image mode=RGB size=400x200 at 0x7F96151FBDC0>",
      "image/png": "[encoded data removed]"
     },
     "execution_count": 131,
     "metadata": {},
     "output_type": "execute_result"
    }
   ],
   "source": [
    "wordcloud.WordCloud().fit_words(compute_freqs(queries, labels)).to_image()"
   ]
  },
  {
   "cell_type": "code",
   "execution_count": 132,
   "metadata": {},
   "outputs": [
    {
     "name": "stdout",
     "output_type": "stream",
     "text": [
      "(50, 100)\n",
      "cluster  0 ['coronavirus 2019 respond ghdemphnet change forcing weather meteorological'\n",
      " 'cause provokes death deaths covid19 coronavirus'\n",
      " 'best good practice laryngology hospital tertiary home assistedliving maintain ensure quarantine isolation'\n",
      " 'long short coronavirus 2019 live living outside outsidewuhan body fluids'\n",
      " 'know confronts infected infect covid19 coronavirus asymptomatic symptomatic'\n",
      " 'observed observe mutation d614g sarscov2 covid19 genome sequence often usually mutation d614g occur occurred']\n",
      "cluster  1 ['drug repurposing active dayuanyin sarscov sars sarscov2 covid19 animal domesticate study prospective'\n",
      " 'patient hospitalize take action angiotensinconverting enzyme enzyme angiotensinconverting inhibitor inhibition ace angiotensin increase increased risk susceptibility covid19 coronavirus'\n",
      " 'benefit harm risk susceptibility reopen reopening school closure midst grapple covid19 coronavirus pandemic outbreak']\n",
      "cluster  2 ['evidence literature relate related covid19 coronavirus super spreader spreader super'\n",
      " 'cardiac arrhythmia complication thrombocytopaenia likely transmissive patient hospitalize covid19 coronavirus'\n",
      " 'remdesivir lopinavir effective efficacious treatment therapy covid19 coronavirus'\n",
      " 'sarscov2 covid19 subtypes cocirculation'\n",
      " 'know confronts mrna padi6 vaccine adjuvanted sarscov2 covid19 virus viral']\n",
      "cluster  3 ['social distancing distance distancing impact effect slow unmanageably spread spreading covid19 coronavirus'\n",
      " 'kind expound complication thrombocytopaenia related relate covid19 coronavirus associate relate diabetes mellitus'\n",
      " 'biomarkers biomarker predict prediction severe 2019associated clinical coscovid course presentation 2019ncov 2019new infection disease'\n",
      " 'mechanism mechanisms inflammatory cytokine response commentary pathogenesis immunopathogenesis covid19 coronavirus case report'\n",
      " 'vitamin b12 impact effect covid19 coronavirus prevention control treatment therapy']\n",
      "cluster  4 ['clinical coscovid trial randomize available authorized coronavirus 2019'\n",
      " 'best good mask n95 prevent mitigate infection disease covid19 coronavirus'\n",
      " 'type blockerbased hand hygiene sanitizer alcoholbased need must destroy deactivate covid19 coronavirus'\n",
      " 'initial early symptom stl covid19 coronavirus'\n",
      " 'mechanism mechanisms cytokine storm storm cytokine syndrome acute covid19 coronavirus'\n",
      " 'evidence literature dexamethasone daratumumab treatment therapy covid19 coronavirus'\n",
      " 'health public outcome outcomes child adolescent contract familys covid19 coronavirus']\n",
      "cluster  5 ['origin origination covid19 coronavirus'\n",
      " 'mortality morbidity rate caserecovery overall pcfr specific proteintargeted population seira'\n",
      " 'evidence literature value predictive hydroxychloroquine azithromycin treat treatment covid19 coronavirus'\n",
      " 'longerterm consciously complication thrombocytopaenia recover recovered covid19 coronavirus'\n",
      " 'protein spike structure cryoelectron sarscov2 covid19 spike glycoprotein']\n",
      "cluster  6 ['covid19 coronavirus affect affected canada united'\n",
      " 'transmission aerosolsborne route aerosolsborne coronavirus 2019'\n",
      " 'vaccine adjuvanted candidate ace2based test testing covid19 coronavirus']\n",
      "cluster  7 ['guideline recommendation triaging triage patient hospitalize infect infected coronavirus 2019'\n",
      " 'kind expound complication thrombocytopaenia related relate covid19 coronavirus associate relate hypertension mellitus'\n",
      " 'sarscov2 covid19 proteinshuman proteins protein interaction viralhost indicate suggest potential possible drug repurposing target hostmediated approve approved drug repurposing repurposed usfda base use information distill'\n",
      " 'coronavirus 2019 differ similar seasonal season flu 1918'\n",
      " 'impact effect covid19 coronavirus among crosssectional africanamericans blackafrican differ similar rest throughout u united population seira'\n",
      " 'individual people recover recovered covid19 coronavirus show demonstrate sufficient adequate immune innate response commentary include included antibody igg level biomakers tcell bcell mediate upr immunity vaccineinduced prevent mitigate reinfection reexposure']\n",
      "cluster  8 ['serological serology test testing detect detection antibody igg coronavirus 2019'\n",
      " 'lack limited test testing availability limited lead cause underreporting cfp true undercounting incidence prevalence covid19 coronavirus'\n",
      " 'long short coronavirus 2019 remain still stable stability surface inanimate'\n",
      " 'covid19 coronavirus pandemic outbreak impact effect violence genderbased society snacc include included violent suddenunexpected crime burglary'\n",
      " 'covid19 coronavirus pandemic outbreak impact effect mental psychological health public']\n"
     ]
    }
   ],
   "source": [
    "tagged_data = [TaggedDocument(words=doc.split(), tags=[str(i)]) for i, doc in enumerate(queries['description'])]\n",
    "doc_model = Doc2Vec(tagged_data, window=5, seed=1)\n",
    "d2v_doc_embeddings = np.array([doc_model.infer_vector(doc.split()) for doc in queries['description']])\n",
    "print(d2v_doc_embeddings.shape)\n",
    "\n",
    "cluster = AgglomerativeClustering(n_clusters=None, affinity='cosine', linkage='average', distance_threshold=0.95)\n",
    "labels = cluster.fit_predict(d2v_doc_embeddings)\n",
    "\n",
    "print_clustered_queries(queries, labels)"
   ]
  },
  {
   "cell_type": "code",
   "execution_count": 133,
   "metadata": {},
   "outputs": [
    {
     "data": {
      "text/plain": "<PIL.Image.Image image mode=RGB size=400x200 at 0x7F9509874340>",
      "image/png": "[encoded data removed]"
     },
     "execution_count": 133,
     "metadata": {},
     "output_type": "execute_result"
    }
   ],
   "source": [
    "wordcloud.WordCloud().fit_words(compute_freqs(queries, labels)).to_image()"
   ]
  },
  {
   "cell_type": "code",
   "execution_count": 134,
   "metadata": {
    "collapsed": false,
    "pycharm": {
     "name": "#%%\n"
    }
   },
   "outputs": [
    {
     "data": {
      "text/plain": "   qid  \\\n1    2   \n3    4   \n11  12   \n14  15   \n26  27   \n39  40   \n\n                                                                                                           query  \n1                                      coronavirus 2019 respond ghdemphnet change forcing weather meteorological  \n3                                                                cause provokes death deaths covid19 coronavirus  \n11     best good practice laryngology hospital tertiary home assistedliving maintain ensure quarantine isolation  \n14                                      long short coronavirus 2019 live living outside outsidewuhan body fluids  \n26                                   know confronts infected infect covid19 coronavirus asymptomatic symptomatic  \n39  observed observe mutation d614g sarscov2 covid19 genome sequence often usually mutation d614g occur occurred  ",
      "text/html": "<div>\n<style scoped>\n    .dataframe tbody tr th:only-of-type {\n        vertical-align: middle;\n    }\n\n    .dataframe tbody tr th {\n        vertical-align: top;\n    }\n\n    .dataframe thead th {\n        text-align: right;\n    }\n</style>\n<table border=\"1\" class=\"dataframe\">\n  <thead>\n    <tr style=\"text-align: right;\">\n      <th></th>\n      <th>qid</th>\n      <th>query</th>\n    </tr>\n  </thead>\n  <tbody>\n    <tr>\n      <th>1</th>\n      <td>2</td>\n      <td>coronavirus 2019 respond ghdemphnet change forcing weather meteorological</td>\n    </tr>\n    <tr>\n      <th>3</th>\n      <td>4</td>\n      <td>cause provokes death deaths covid19 coronavirus</td>\n    </tr>\n    <tr>\n      <th>11</th>\n      <td>12</td>\n      <td>best good practice laryngology hospital tertiary home assistedliving maintain ensure quarantine isolation</td>\n    </tr>\n    <tr>\n      <th>14</th>\n      <td>15</td>\n      <td>long short coronavirus 2019 live living outside outsidewuhan body fluids</td>\n    </tr>\n    <tr>\n      <th>26</th>\n      <td>27</td>\n      <td>know confronts infected infect covid19 coronavirus asymptomatic symptomatic</td>\n    </tr>\n    <tr>\n      <th>39</th>\n      <td>40</td>\n      <td>observed observe mutation d614g sarscov2 covid19 genome sequence often usually mutation d614g occur occurred</td>\n    </tr>\n  </tbody>\n</table>\n</div>"
     },
     "execution_count": 134,
     "metadata": {},
     "output_type": "execute_result"
    }
   ],
   "source": [
    "similar_queries = queries[labels == 0][['query_id', 'description']]\n",
    "similar_queries = similar_queries.rename(columns={'query_id':'qid', 'description':'query'})\n",
    "similar_queries"
   ]
  },
  {
   "cell_type": "code",
   "execution_count": 135,
   "metadata": {
    "collapsed": false,
    "pycharm": {
     "name": "#%%\n"
    }
   },
   "outputs": [
    {
     "data": {
      "text/plain": "    name qid    measure     value\n8   BM25  12        P@5  0.400000\n9   BM25  12       P@10  0.200000\n10  BM25  12    nDCG@10  0.220092\n11  BM25  12  RR(rel=2)  0.333333\n12  BM25  15        P@5  0.400000\n13  BM25  15       P@10  0.300000\n14  BM25  15    nDCG@10  0.205901\n15  BM25  15  RR(rel=2)  0.200000\n0   BM25   2        P@5  0.600000\n1   BM25   2       P@10  0.700000\n2   BM25   2    nDCG@10  0.741670\n3   BM25   2  RR(rel=2)  1.000000\n16  BM25  27        P@5  0.800000\n17  BM25  27       P@10  0.600000\n18  BM25  27    nDCG@10  0.577912\n19  BM25  27  RR(rel=2)  1.000000\n4   BM25   4        P@5  0.000000\n5   BM25   4       P@10  0.200000\n6   BM25   4    nDCG@10  0.072326\n7   BM25   4  RR(rel=2)  0.050000\n20  BM25  40        P@5  1.000000\n21  BM25  40       P@10  0.900000\n22  BM25  40    nDCG@10  0.926636\n23  BM25  40  RR(rel=2)  1.000000",
      "text/html": "<div>\n<style scoped>\n    .dataframe tbody tr th:only-of-type {\n        vertical-align: middle;\n    }\n\n    .dataframe tbody tr th {\n        vertical-align: top;\n    }\n\n    .dataframe thead th {\n        text-align: right;\n    }\n</style>\n<table border=\"1\" class=\"dataframe\">\n  <thead>\n    <tr style=\"text-align: right;\">\n      <th></th>\n      <th>name</th>\n      <th>qid</th>\n      <th>measure</th>\n      <th>value</th>\n    </tr>\n  </thead>\n  <tbody>\n    <tr>\n      <th>8</th>\n      <td>BM25</td>\n      <td>12</td>\n      <td>P@5</td>\n      <td>0.400000</td>\n    </tr>\n    <tr>\n      <th>9</th>\n      <td>BM25</td>\n      <td>12</td>\n      <td>P@10</td>\n      <td>0.200000</td>\n    </tr>\n    <tr>\n      <th>10</th>\n      <td>BM25</td>\n      <td>12</td>\n      <td>nDCG@10</td>\n      <td>0.220092</td>\n    </tr>\n    <tr>\n      <th>11</th>\n      <td>BM25</td>\n      <td>12</td>\n      <td>RR(rel=2)</td>\n      <td>0.333333</td>\n    </tr>\n    <tr>\n      <th>12</th>\n      <td>BM25</td>\n      <td>15</td>\n      <td>P@5</td>\n      <td>0.400000</td>\n    </tr>\n    <tr>\n      <th>13</th>\n      <td>BM25</td>\n      <td>15</td>\n      <td>P@10</td>\n      <td>0.300000</td>\n    </tr>\n    <tr>\n      <th>14</th>\n      <td>BM25</td>\n      <td>15</td>\n      <td>nDCG@10</td>\n      <td>0.205901</td>\n    </tr>\n    <tr>\n      <th>15</th>\n      <td>BM25</td>\n      <td>15</td>\n      <td>RR(rel=2)</td>\n      <td>0.200000</td>\n    </tr>\n    <tr>\n      <th>0</th>\n      <td>BM25</td>\n      <td>2</td>\n      <td>P@5</td>\n      <td>0.600000</td>\n    </tr>\n    <tr>\n      <th>1</th>\n      <td>BM25</td>\n      <td>2</td>\n      <td>P@10</td>\n      <td>0.700000</td>\n    </tr>\n    <tr>\n      <th>2</th>\n      <td>BM25</td>\n      <td>2</td>\n      <td>nDCG@10</td>\n      <td>0.741670</td>\n    </tr>\n    <tr>\n      <th>3</th>\n      <td>BM25</td>\n      <td>2</td>\n      <td>RR(rel=2)</td>\n      <td>1.000000</td>\n    </tr>\n    <tr>\n      <th>16</th>\n      <td>BM25</td>\n      <td>27</td>\n      <td>P@5</td>\n      <td>0.800000</td>\n    </tr>\n    <tr>\n      <th>17</th>\n      <td>BM25</td>\n      <td>27</td>\n      <td>P@10</td>\n      <td>0.600000</td>\n    </tr>\n    <tr>\n      <th>18</th>\n      <td>BM25</td>\n      <td>27</td>\n      <td>nDCG@10</td>\n      <td>0.577912</td>\n    </tr>\n    <tr>\n      <th>19</th>\n      <td>BM25</td>\n      <td>27</td>\n      <td>RR(rel=2)</td>\n      <td>1.000000</td>\n    </tr>\n    <tr>\n      <th>4</th>\n      <td>BM25</td>\n      <td>4</td>\n      <td>P@5</td>\n      <td>0.000000</td>\n    </tr>\n    <tr>\n      <th>5</th>\n      <td>BM25</td>\n      <td>4</td>\n      <td>P@10</td>\n      <td>0.200000</td>\n    </tr>\n    <tr>\n      <th>6</th>\n      <td>BM25</td>\n      <td>4</td>\n      <td>nDCG@10</td>\n      <td>0.072326</td>\n    </tr>\n    <tr>\n      <th>7</th>\n      <td>BM25</td>\n      <td>4</td>\n      <td>RR(rel=2)</td>\n      <td>0.050000</td>\n    </tr>\n    <tr>\n      <th>20</th>\n      <td>BM25</td>\n      <td>40</td>\n      <td>P@5</td>\n      <td>1.000000</td>\n    </tr>\n    <tr>\n      <th>21</th>\n      <td>BM25</td>\n      <td>40</td>\n      <td>P@10</td>\n      <td>0.900000</td>\n    </tr>\n    <tr>\n      <th>22</th>\n      <td>BM25</td>\n      <td>40</td>\n      <td>nDCG@10</td>\n      <td>0.926636</td>\n    </tr>\n    <tr>\n      <th>23</th>\n      <td>BM25</td>\n      <td>40</td>\n      <td>RR(rel=2)</td>\n      <td>1.000000</td>\n    </tr>\n  </tbody>\n</table>\n</div>"
     },
     "metadata": {},
     "output_type": "display_data"
    }
   ],
   "source": [
    "tfidf = index_model(index_en_docs_abstract, model=\"TF_IDF\")\n",
    "bm25 = index_model(index_en_docs_abstract, model=\"BM25\")\n",
    "dirichlet_lm = index_model(index_en_docs_abstract, model=\"DirichletLM\")\n",
    "\n",
    "exp = pt.Experiment(\n",
    "    [bm25],\n",
    "    similar_queries,\n",
    "    qrels,\n",
    "    perquery=True,\n",
    "    eval_metrics=[P@5, P@10, nDCG@10, RR(rel=2)],\n",
    "    names=[\"BM25\"]\n",
    ")\n",
    "display(exp)"
   ]
  },
  {
   "cell_type": "markdown",
   "metadata": {
    "collapsed": false
   },
   "source": [
    "## Doc2Query"
   ]
  },
  {
   "cell_type": "code",
   "execution_count": 12,
   "metadata": {
    "collapsed": false,
    "pycharm": {
     "name": "#%%\n"
    }
   },
   "outputs": [],
   "source": [
    "%%capture\n",
    "\n",
    "!pip install --upgrade git+https://github.com/terrier-org/pyterrier.git#egg=python-terrier\n",
    "!pip install --upgrade git+https://github.com/terrierteam/pyterrier_doc2query.git"
   ]
  },
  {
   "cell_type": "code",
   "execution_count": 13,
   "metadata": {
    "collapsed": false,
    "pycharm": {
     "name": "#%%\n"
    }
   },
   "outputs": [],
   "source": [
    "%%capture\n",
    "import os\n",
    "if not os.path.exists(\"t5-base.zip\"):\n",
    "  !wget https://git.uwaterloo.ca/jimmylin/doc2query-data/raw/master/T5-passage/t5-base.zip\n",
    "  !unzip t5-base.zip"
   ]
  },
  {
   "cell_type": "code",
   "execution_count": 14,
   "metadata": {
    "collapsed": false,
    "pycharm": {
     "name": "#%%\n"
    }
   },
   "outputs": [
    {
     "ename": "ModuleNotFoundError",
     "evalue": "No module named 'pyterrier_doc2query'",
     "output_type": "error",
     "traceback": [
      "\u001B[0;31m---------------------------------------------------------------------------\u001B[0m",
      "\u001B[0;31mModuleNotFoundError\u001B[0m                       Traceback (most recent call last)",
      "Input \u001B[0;32mIn [14]\u001B[0m, in \u001B[0;36m<module>\u001B[0;34m\u001B[0m\n\u001B[0;32m----> 1\u001B[0m \u001B[38;5;28;01mfrom\u001B[39;00m \u001B[38;5;21;01mpyterrier_doc2query\u001B[39;00m \u001B[38;5;28;01mimport\u001B[39;00m Doc2Query\n\u001B[1;32m      2\u001B[0m doc2query \u001B[38;5;241m=\u001B[39m Doc2Query(out_attr\u001B[38;5;241m=\u001B[39m\u001B[38;5;124m\"\u001B[39m\u001B[38;5;124mtext\u001B[39m\u001B[38;5;124m\"\u001B[39m, batch_size\u001B[38;5;241m=\u001B[39m\u001B[38;5;241m8\u001B[39m)\n",
      "\u001B[0;31mModuleNotFoundError\u001B[0m: No module named 'pyterrier_doc2query'"
     ]
    }
   ],
   "source": [
    "from pyterrier_doc2query import Doc2Query\n",
    "doc2query = Doc2Query(out_attr=\"text\", batch_size=8)"
   ]
  },
  {
   "cell_type": "code",
   "execution_count": null,
   "metadata": {
    "collapsed": false,
    "pycharm": {
     "name": "#%%\n"
    }
   },
   "outputs": [],
   "source": [
    "sample_doc = \"protein proteins structure cryoelectron sarscov2 viral spike glycoprotein\"\n",
    "doc2query._doc2query([sample_doc, sample_doc])"
   ]
  },
  {
   "cell_type": "code",
   "execution_count": null,
   "metadata": {
    "collapsed": false,
    "pycharm": {
     "name": "#%%\n"
    }
   },
   "outputs": [],
   "source": [
    "indexer = doc2query >> pt.DFIndexer(\"./indexes/en/title\", remove_stopwords=False, overwrite=True)\n",
    "indexer.setProperty(\"termpipelines\", \"\")\n",
    "index_ref = indexer.index(en_docs[\"abstract\"], en_docs[\"docno\"])"
   ]
  },
  {
   "cell_type": "code",
   "execution_count": null,
   "metadata": {
    "collapsed": false,
    "pycharm": {
     "name": "#%%\n"
    }
   },
   "outputs": [],
   "source": [
    "bm25 = index_model(index_ref, model=\"BM25\")\n",
    "\n",
    "exp = pt.Experiment(\n",
    "    [bm25],\n",
    "    pq_title,\n",
    "    qrels,\n",
    "    eval_metrics=[P@5, P@10, nDCG@10, RR(rel=2)],\n",
    "    names=[\"BM25\"]\n",
    ")\n",
    "display(exp)"
   ]
  },
  {
   "cell_type": "code",
   "execution_count": null,
   "outputs": [],
   "source": [],
   "metadata": {
    "collapsed": false,
    "pycharm": {
     "name": "#%%\n"
    }
   }
  }
 ],
 "metadata": {
  "colab": {
   "collapsed_sections": [],
   "name": "IR_Covid_2.ipynb",
   "provenance": []
  },
  "interpreter": {
   "hash": "ac6245020a857d0f9635773ad5334ed026e56de49fb86ce3408fe2ffa5d64a8a"
  },
  "kernelspec": {
   "name": "venv",
   "language": "python",
   "display_name": "venv"
  },
  "language_info": {
   "codemirror_mode": {
    "name": "ipython",
    "version": 3
   },
   "file_extension": ".py",
   "mimetype": "text/x-python",
   "name": "python",
   "nbconvert_exporter": "python",
   "pygments_lexer": "ipython3",
   "version": "3.9.7"
  },
  "widgets": {
   "application/vnd.jupyter.widget-state+json": {
    "0d0b630aac144f3fa26ae8870e18d442": {
     "model_module": "@jupyter-widgets/controls",
     "model_module_version": "1.5.0",
     "model_name": "HBoxModel",
     "state": {
      "_dom_classes": [],
      "_model_module": "@jupyter-widgets/controls",
      "_model_module_version": "1.5.0",
      "_model_name": "HBoxModel",
      "_view_count": null,
      "_view_module": "@jupyter-widgets/controls",
      "_view_module_version": "1.5.0",
      "_view_name": "HBoxView",
      "box_style": "",
      "children": [
       "IPY_MODEL_4e206fe6dead40c49a338dec6b30005f",
       "IPY_MODEL_5d29c69b8b0449689d9199622f226ef6",
       "IPY_MODEL_d42433ee7df1419fa0dc06d752059ac5"
      ],
      "layout": "IPY_MODEL_28df9259a85040bd9004edb02f7657f5"
     }
    },
    "12093b93dc62400ab07d6fc57a77f359": {
     "model_module": "@jupyter-widgets/base",
     "model_module_version": "1.2.0",
     "model_name": "LayoutModel",
     "state": {
      "_model_module": "@jupyter-widgets/base",
      "_model_module_version": "1.2.0",
      "_model_name": "LayoutModel",
      "_view_count": null,
      "_view_module": "@jupyter-widgets/base",
      "_view_module_version": "1.2.0",
      "_view_name": "LayoutView",
      "align_content": null,
      "align_items": null,
      "align_self": null,
      "border": null,
      "bottom": null,
      "display": null,
      "flex": null,
      "flex_flow": null,
      "grid_area": null,
      "grid_auto_columns": null,
      "grid_auto_flow": null,
      "grid_auto_rows": null,
      "grid_column": null,
      "grid_gap": null,
      "grid_row": null,
      "grid_template_areas": null,
      "grid_template_columns": null,
      "grid_template_rows": null,
      "height": null,
      "justify_content": null,
      "justify_items": null,
      "left": null,
      "margin": null,
      "max_height": null,
      "max_width": null,
      "min_height": null,
      "min_width": null,
      "object_fit": null,
      "object_position": null,
      "order": null,
      "overflow": null,
      "overflow_x": null,
      "overflow_y": null,
      "padding": null,
      "right": null,
      "top": null,
      "visibility": null,
      "width": null
     }
    },
    "13a8405c1d044285ab6339c09d0f0ca0": {
     "model_module": "@jupyter-widgets/base",
     "model_module_version": "1.2.0",
     "model_name": "LayoutModel",
     "state": {
      "_model_module": "@jupyter-widgets/base",
      "_model_module_version": "1.2.0",
      "_model_name": "LayoutModel",
      "_view_count": null,
      "_view_module": "@jupyter-widgets/base",
      "_view_module_version": "1.2.0",
      "_view_name": "LayoutView",
      "align_content": null,
      "align_items": null,
      "align_self": null,
      "border": null,
      "bottom": null,
      "display": null,
      "flex": null,
      "flex_flow": null,
      "grid_area": null,
      "grid_auto_columns": null,
      "grid_auto_flow": null,
      "grid_auto_rows": null,
      "grid_column": null,
      "grid_gap": null,
      "grid_row": null,
      "grid_template_areas": null,
      "grid_template_columns": null,
      "grid_template_rows": null,
      "height": null,
      "justify_content": null,
      "justify_items": null,
      "left": null,
      "margin": null,
      "max_height": null,
      "max_width": null,
      "min_height": null,
      "min_width": null,
      "object_fit": null,
      "object_position": null,
      "order": null,
      "overflow": null,
      "overflow_x": null,
      "overflow_y": null,
      "padding": null,
      "right": null,
      "top": null,
      "visibility": null,
      "width": null
     }
    },
    "2357438f55a04dd2bc4763fc05d1d8ee": {
     "model_module": "@jupyter-widgets/base",
     "model_module_version": "1.2.0",
     "model_name": "LayoutModel",
     "state": {
      "_model_module": "@jupyter-widgets/base",
      "_model_module_version": "1.2.0",
      "_model_name": "LayoutModel",
      "_view_count": null,
      "_view_module": "@jupyter-widgets/base",
      "_view_module_version": "1.2.0",
      "_view_name": "LayoutView",
      "align_content": null,
      "align_items": null,
      "align_self": null,
      "border": null,
      "bottom": null,
      "display": null,
      "flex": null,
      "flex_flow": null,
      "grid_area": null,
      "grid_auto_columns": null,
      "grid_auto_flow": null,
      "grid_auto_rows": null,
      "grid_column": null,
      "grid_gap": null,
      "grid_row": null,
      "grid_template_areas": null,
      "grid_template_columns": null,
      "grid_template_rows": null,
      "height": null,
      "justify_content": null,
      "justify_items": null,
      "left": null,
      "margin": null,
      "max_height": null,
      "max_width": null,
      "min_height": null,
      "min_width": null,
      "object_fit": null,
      "object_position": null,
      "order": null,
      "overflow": null,
      "overflow_x": null,
      "overflow_y": null,
      "padding": null,
      "right": null,
      "top": null,
      "visibility": null,
      "width": null
     }
    },
    "23c39a94b61946c2b08c94a195021a3f": {
     "model_module": "@jupyter-widgets/controls",
     "model_module_version": "1.5.0",
     "model_name": "ProgressStyleModel",
     "state": {
      "_model_module": "@jupyter-widgets/controls",
      "_model_module_version": "1.5.0",
      "_model_name": "ProgressStyleModel",
      "_view_count": null,
      "_view_module": "@jupyter-widgets/base",
      "_view_module_version": "1.2.0",
      "_view_name": "StyleView",
      "bar_color": null,
      "description_width": ""
     }
    },
    "2417e17b9f404dd6ba198463eb90e913": {
     "model_module": "@jupyter-widgets/controls",
     "model_module_version": "1.5.0",
     "model_name": "HBoxModel",
     "state": {
      "_dom_classes": [],
      "_model_module": "@jupyter-widgets/controls",
      "_model_module_version": "1.5.0",
      "_model_name": "HBoxModel",
      "_view_count": null,
      "_view_module": "@jupyter-widgets/controls",
      "_view_module_version": "1.5.0",
      "_view_name": "HBoxView",
      "box_style": "",
      "children": [
       "IPY_MODEL_8495991fa6264a38969b046a8cd5ec0f",
       "IPY_MODEL_b28290eda6ec49028ae7ef8202889201",
       "IPY_MODEL_a1f32b886af1471ca97c063c80c433e5"
      ],
      "layout": "IPY_MODEL_36c859d3131f45a3b0d3af38f9bd5ffd"
     }
    },
    "28df9259a85040bd9004edb02f7657f5": {
     "model_module": "@jupyter-widgets/base",
     "model_module_version": "1.2.0",
     "model_name": "LayoutModel",
     "state": {
      "_model_module": "@jupyter-widgets/base",
      "_model_module_version": "1.2.0",
      "_model_name": "LayoutModel",
      "_view_count": null,
      "_view_module": "@jupyter-widgets/base",
      "_view_module_version": "1.2.0",
      "_view_name": "LayoutView",
      "align_content": null,
      "align_items": null,
      "align_self": null,
      "border": null,
      "bottom": null,
      "display": null,
      "flex": null,
      "flex_flow": null,
      "grid_area": null,
      "grid_auto_columns": null,
      "grid_auto_flow": null,
      "grid_auto_rows": null,
      "grid_column": null,
      "grid_gap": null,
      "grid_row": null,
      "grid_template_areas": null,
      "grid_template_columns": null,
      "grid_template_rows": null,
      "height": null,
      "justify_content": null,
      "justify_items": null,
      "left": null,
      "margin": null,
      "max_height": null,
      "max_width": null,
      "min_height": null,
      "min_width": null,
      "object_fit": null,
      "object_position": null,
      "order": null,
      "overflow": null,
      "overflow_x": null,
      "overflow_y": null,
      "padding": null,
      "right": null,
      "top": null,
      "visibility": null,
      "width": null
     }
    },
    "2ce2bf5586b84884877bd4186ce5a7d3": {
     "model_module": "@jupyter-widgets/base",
     "model_module_version": "1.2.0",
     "model_name": "LayoutModel",
     "state": {
      "_model_module": "@jupyter-widgets/base",
      "_model_module_version": "1.2.0",
      "_model_name": "LayoutModel",
      "_view_count": null,
      "_view_module": "@jupyter-widgets/base",
      "_view_module_version": "1.2.0",
      "_view_name": "LayoutView",
      "align_content": null,
      "align_items": null,
      "align_self": null,
      "border": null,
      "bottom": null,
      "display": null,
      "flex": null,
      "flex_flow": null,
      "grid_area": null,
      "grid_auto_columns": null,
      "grid_auto_flow": null,
      "grid_auto_rows": null,
      "grid_column": null,
      "grid_gap": null,
      "grid_row": null,
      "grid_template_areas": null,
      "grid_template_columns": null,
      "grid_template_rows": null,
      "height": null,
      "justify_content": null,
      "justify_items": null,
      "left": null,
      "margin": null,
      "max_height": null,
      "max_width": null,
      "min_height": null,
      "min_width": null,
      "object_fit": null,
      "object_position": null,
      "order": null,
      "overflow": null,
      "overflow_x": null,
      "overflow_y": null,
      "padding": null,
      "right": null,
      "top": null,
      "visibility": null,
      "width": null
     }
    },
    "2e416cdf8ad84139ac2cc5f3bc7bd996": {
     "model_module": "@jupyter-widgets/controls",
     "model_module_version": "1.5.0",
     "model_name": "FloatProgressModel",
     "state": {
      "_dom_classes": [],
      "_model_module": "@jupyter-widgets/controls",
      "_model_module_version": "1.5.0",
      "_model_name": "FloatProgressModel",
      "_view_count": null,
      "_view_module": "@jupyter-widgets/controls",
      "_view_module_version": "1.5.0",
      "_view_name": "ProgressView",
      "bar_style": "success",
      "description": "",
      "description_tooltip": null,
      "layout": "IPY_MODEL_2ce2bf5586b84884877bd4186ce5a7d3",
      "max": 192509,
      "min": 0,
      "orientation": "horizontal",
      "style": "IPY_MODEL_970b9b588e7649ceba70926e334f722a",
      "value": 192509
     }
    },
    "36c859d3131f45a3b0d3af38f9bd5ffd": {
     "model_module": "@jupyter-widgets/base",
     "model_module_version": "1.2.0",
     "model_name": "LayoutModel",
     "state": {
      "_model_module": "@jupyter-widgets/base",
      "_model_module_version": "1.2.0",
      "_model_name": "LayoutModel",
      "_view_count": null,
      "_view_module": "@jupyter-widgets/base",
      "_view_module_version": "1.2.0",
      "_view_name": "LayoutView",
      "align_content": null,
      "align_items": null,
      "align_self": null,
      "border": null,
      "bottom": null,
      "display": null,
      "flex": null,
      "flex_flow": null,
      "grid_area": null,
      "grid_auto_columns": null,
      "grid_auto_flow": null,
      "grid_auto_rows": null,
      "grid_column": null,
      "grid_gap": null,
      "grid_row": null,
      "grid_template_areas": null,
      "grid_template_columns": null,
      "grid_template_rows": null,
      "height": null,
      "justify_content": null,
      "justify_items": null,
      "left": null,
      "margin": null,
      "max_height": null,
      "max_width": null,
      "min_height": null,
      "min_width": null,
      "object_fit": null,
      "object_position": null,
      "order": null,
      "overflow": null,
      "overflow_x": null,
      "overflow_y": null,
      "padding": null,
      "right": null,
      "top": null,
      "visibility": null,
      "width": null
     }
    },
    "426fe655a447428189a81a34731902b8": {
     "model_module": "@jupyter-widgets/controls",
     "model_module_version": "1.5.0",
     "model_name": "DescriptionStyleModel",
     "state": {
      "_model_module": "@jupyter-widgets/controls",
      "_model_module_version": "1.5.0",
      "_model_name": "DescriptionStyleModel",
      "_view_count": null,
      "_view_module": "@jupyter-widgets/base",
      "_view_module_version": "1.2.0",
      "_view_name": "StyleView",
      "description_width": ""
     }
    },
    "4e206fe6dead40c49a338dec6b30005f": {
     "model_module": "@jupyter-widgets/controls",
     "model_module_version": "1.5.0",
     "model_name": "HTMLModel",
     "state": {
      "_dom_classes": [],
      "_model_module": "@jupyter-widgets/controls",
      "_model_module_version": "1.5.0",
      "_model_name": "HTMLModel",
      "_view_count": null,
      "_view_module": "@jupyter-widgets/controls",
      "_view_module_version": "1.5.0",
      "_view_name": "HTMLView",
      "description": "",
      "description_tooltip": null,
      "layout": "IPY_MODEL_b7544b3438164470b06a15188f42403e",
      "placeholder": "​",
      "style": "IPY_MODEL_e56cb79e01b340eab5372660c0515991",
      "value": "100%"
     }
    },
    "58136da0fe2f4ab0afc6cd8f28286bf6": {
     "model_module": "@jupyter-widgets/controls",
     "model_module_version": "1.5.0",
     "model_name": "DescriptionStyleModel",
     "state": {
      "_model_module": "@jupyter-widgets/controls",
      "_model_module_version": "1.5.0",
      "_model_name": "DescriptionStyleModel",
      "_view_count": null,
      "_view_module": "@jupyter-widgets/base",
      "_view_module_version": "1.2.0",
      "_view_name": "StyleView",
      "description_width": ""
     }
    },
    "5d29c69b8b0449689d9199622f226ef6": {
     "model_module": "@jupyter-widgets/controls",
     "model_module_version": "1.5.0",
     "model_name": "FloatProgressModel",
     "state": {
      "_dom_classes": [],
      "_model_module": "@jupyter-widgets/controls",
      "_model_module_version": "1.5.0",
      "_model_name": "FloatProgressModel",
      "_view_count": null,
      "_view_module": "@jupyter-widgets/controls",
      "_view_module_version": "1.5.0",
      "_view_name": "ProgressView",
      "bar_style": "success",
      "description": "",
      "description_tooltip": null,
      "layout": "IPY_MODEL_a3ed8661f5a24ab1bb7e5e1ce7b77315",
      "max": 192509,
      "min": 0,
      "orientation": "horizontal",
      "style": "IPY_MODEL_7ccd09ae830842b9ad7968c27d3b58aa",
      "value": 192509
     }
    },
    "6cc42f9043ad47ed8da24a32b34c0bb4": {
     "model_module": "@jupyter-widgets/controls",
     "model_module_version": "1.5.0",
     "model_name": "DescriptionStyleModel",
     "state": {
      "_model_module": "@jupyter-widgets/controls",
      "_model_module_version": "1.5.0",
      "_model_name": "DescriptionStyleModel",
      "_view_count": null,
      "_view_module": "@jupyter-widgets/base",
      "_view_module_version": "1.2.0",
      "_view_name": "StyleView",
      "description_width": ""
     }
    },
    "70b04ec121884674b8dfc9ef6a035bdc": {
     "model_module": "@jupyter-widgets/controls",
     "model_module_version": "1.5.0",
     "model_name": "HTMLModel",
     "state": {
      "_dom_classes": [],
      "_model_module": "@jupyter-widgets/controls",
      "_model_module_version": "1.5.0",
      "_model_name": "HTMLModel",
      "_view_count": null,
      "_view_module": "@jupyter-widgets/controls",
      "_view_module_version": "1.5.0",
      "_view_name": "HTMLView",
      "description": "",
      "description_tooltip": null,
      "layout": "IPY_MODEL_93915c5bcc3a4276994e3ee5e8ff426b",
      "placeholder": "​",
      "style": "IPY_MODEL_6cc42f9043ad47ed8da24a32b34c0bb4",
      "value": " 192509/192509 [01:09&lt;00:00, 2682.33it/s]"
     }
    },
    "7ccd09ae830842b9ad7968c27d3b58aa": {
     "model_module": "@jupyter-widgets/controls",
     "model_module_version": "1.5.0",
     "model_name": "ProgressStyleModel",
     "state": {
      "_model_module": "@jupyter-widgets/controls",
      "_model_module_version": "1.5.0",
      "_model_name": "ProgressStyleModel",
      "_view_count": null,
      "_view_module": "@jupyter-widgets/base",
      "_view_module_version": "1.2.0",
      "_view_name": "StyleView",
      "bar_color": null,
      "description_width": ""
     }
    },
    "8495991fa6264a38969b046a8cd5ec0f": {
     "model_module": "@jupyter-widgets/controls",
     "model_module_version": "1.5.0",
     "model_name": "HTMLModel",
     "state": {
      "_dom_classes": [],
      "_model_module": "@jupyter-widgets/controls",
      "_model_module_version": "1.5.0",
      "_model_name": "HTMLModel",
      "_view_count": null,
      "_view_module": "@jupyter-widgets/controls",
      "_view_module_version": "1.5.0",
      "_view_name": "HTMLView",
      "description": "",
      "description_tooltip": null,
      "layout": "IPY_MODEL_dc981ef5f3564b089d5ca0c3a5f50f9e",
      "placeholder": "​",
      "style": "IPY_MODEL_efec88ca8b524f9e91ee7fb4851cc49f",
      "value": "100%"
     }
    },
    "93915c5bcc3a4276994e3ee5e8ff426b": {
     "model_module": "@jupyter-widgets/base",
     "model_module_version": "1.2.0",
     "model_name": "LayoutModel",
     "state": {
      "_model_module": "@jupyter-widgets/base",
      "_model_module_version": "1.2.0",
      "_model_name": "LayoutModel",
      "_view_count": null,
      "_view_module": "@jupyter-widgets/base",
      "_view_module_version": "1.2.0",
      "_view_name": "LayoutView",
      "align_content": null,
      "align_items": null,
      "align_self": null,
      "border": null,
      "bottom": null,
      "display": null,
      "flex": null,
      "flex_flow": null,
      "grid_area": null,
      "grid_auto_columns": null,
      "grid_auto_flow": null,
      "grid_auto_rows": null,
      "grid_column": null,
      "grid_gap": null,
      "grid_row": null,
      "grid_template_areas": null,
      "grid_template_columns": null,
      "grid_template_rows": null,
      "height": null,
      "justify_content": null,
      "justify_items": null,
      "left": null,
      "margin": null,
      "max_height": null,
      "max_width": null,
      "min_height": null,
      "min_width": null,
      "object_fit": null,
      "object_position": null,
      "order": null,
      "overflow": null,
      "overflow_x": null,
      "overflow_y": null,
      "padding": null,
      "right": null,
      "top": null,
      "visibility": null,
      "width": null
     }
    },
    "970b9b588e7649ceba70926e334f722a": {
     "model_module": "@jupyter-widgets/controls",
     "model_module_version": "1.5.0",
     "model_name": "ProgressStyleModel",
     "state": {
      "_model_module": "@jupyter-widgets/controls",
      "_model_module_version": "1.5.0",
      "_model_name": "ProgressStyleModel",
      "_view_count": null,
      "_view_module": "@jupyter-widgets/base",
      "_view_module_version": "1.2.0",
      "_view_name": "StyleView",
      "bar_color": null,
      "description_width": ""
     }
    },
    "98938358ca794283bf71a5045018c30a": {
     "model_module": "@jupyter-widgets/controls",
     "model_module_version": "1.5.0",
     "model_name": "HTMLModel",
     "state": {
      "_dom_classes": [],
      "_model_module": "@jupyter-widgets/controls",
      "_model_module_version": "1.5.0",
      "_model_name": "HTMLModel",
      "_view_count": null,
      "_view_module": "@jupyter-widgets/controls",
      "_view_module_version": "1.5.0",
      "_view_name": "HTMLView",
      "description": "",
      "description_tooltip": null,
      "layout": "IPY_MODEL_da14b9cd64654526a9fd80516de84081",
      "placeholder": "​",
      "style": "IPY_MODEL_ffbda87069304b099e82b2a7d77ac4cd",
      "value": "100%"
     }
    },
    "a1f32b886af1471ca97c063c80c433e5": {
     "model_module": "@jupyter-widgets/controls",
     "model_module_version": "1.5.0",
     "model_name": "HTMLModel",
     "state": {
      "_dom_classes": [],
      "_model_module": "@jupyter-widgets/controls",
      "_model_module_version": "1.5.0",
      "_model_name": "HTMLModel",
      "_view_count": null,
      "_view_module": "@jupyter-widgets/controls",
      "_view_module_version": "1.5.0",
      "_view_name": "HTMLView",
      "description": "",
      "description_tooltip": null,
      "layout": "IPY_MODEL_12093b93dc62400ab07d6fc57a77f359",
      "placeholder": "​",
      "style": "IPY_MODEL_426fe655a447428189a81a34731902b8",
      "value": " 84048/84048 [30:15&lt;00:00, 48.28it/s]"
     }
    },
    "a3ed8661f5a24ab1bb7e5e1ce7b77315": {
     "model_module": "@jupyter-widgets/base",
     "model_module_version": "1.2.0",
     "model_name": "LayoutModel",
     "state": {
      "_model_module": "@jupyter-widgets/base",
      "_model_module_version": "1.2.0",
      "_model_name": "LayoutModel",
      "_view_count": null,
      "_view_module": "@jupyter-widgets/base",
      "_view_module_version": "1.2.0",
      "_view_name": "LayoutView",
      "align_content": null,
      "align_items": null,
      "align_self": null,
      "border": null,
      "bottom": null,
      "display": null,
      "flex": null,
      "flex_flow": null,
      "grid_area": null,
      "grid_auto_columns": null,
      "grid_auto_flow": null,
      "grid_auto_rows": null,
      "grid_column": null,
      "grid_gap": null,
      "grid_row": null,
      "grid_template_areas": null,
      "grid_template_columns": null,
      "grid_template_rows": null,
      "height": null,
      "justify_content": null,
      "justify_items": null,
      "left": null,
      "margin": null,
      "max_height": null,
      "max_width": null,
      "min_height": null,
      "min_width": null,
      "object_fit": null,
      "object_position": null,
      "order": null,
      "overflow": null,
      "overflow_x": null,
      "overflow_y": null,
      "padding": null,
      "right": null,
      "top": null,
      "visibility": null,
      "width": null
     }
    },
    "b28290eda6ec49028ae7ef8202889201": {
     "model_module": "@jupyter-widgets/controls",
     "model_module_version": "1.5.0",
     "model_name": "FloatProgressModel",
     "state": {
      "_dom_classes": [],
      "_model_module": "@jupyter-widgets/controls",
      "_model_module_version": "1.5.0",
      "_model_name": "FloatProgressModel",
      "_view_count": null,
      "_view_module": "@jupyter-widgets/controls",
      "_view_module_version": "1.5.0",
      "_view_name": "ProgressView",
      "bar_style": "success",
      "description": "",
      "description_tooltip": null,
      "layout": "IPY_MODEL_d21c08f49fc744e59a0ae2a8818c14ed",
      "max": 84048,
      "min": 0,
      "orientation": "horizontal",
      "style": "IPY_MODEL_23c39a94b61946c2b08c94a195021a3f",
      "value": 84048
     }
    },
    "b7544b3438164470b06a15188f42403e": {
     "model_module": "@jupyter-widgets/base",
     "model_module_version": "1.2.0",
     "model_name": "LayoutModel",
     "state": {
      "_model_module": "@jupyter-widgets/base",
      "_model_module_version": "1.2.0",
      "_model_name": "LayoutModel",
      "_view_count": null,
      "_view_module": "@jupyter-widgets/base",
      "_view_module_version": "1.2.0",
      "_view_name": "LayoutView",
      "align_content": null,
      "align_items": null,
      "align_self": null,
      "border": null,
      "bottom": null,
      "display": null,
      "flex": null,
      "flex_flow": null,
      "grid_area": null,
      "grid_auto_columns": null,
      "grid_auto_flow": null,
      "grid_auto_rows": null,
      "grid_column": null,
      "grid_gap": null,
      "grid_row": null,
      "grid_template_areas": null,
      "grid_template_columns": null,
      "grid_template_rows": null,
      "height": null,
      "justify_content": null,
      "justify_items": null,
      "left": null,
      "margin": null,
      "max_height": null,
      "max_width": null,
      "min_height": null,
      "min_width": null,
      "object_fit": null,
      "object_position": null,
      "order": null,
      "overflow": null,
      "overflow_x": null,
      "overflow_y": null,
      "padding": null,
      "right": null,
      "top": null,
      "visibility": null,
      "width": null
     }
    },
    "bee8c2ff468b429d94aa2da270c32a7e": {
     "model_module": "@jupyter-widgets/controls",
     "model_module_version": "1.5.0",
     "model_name": "HBoxModel",
     "state": {
      "_dom_classes": [],
      "_model_module": "@jupyter-widgets/controls",
      "_model_module_version": "1.5.0",
      "_model_name": "HBoxModel",
      "_view_count": null,
      "_view_module": "@jupyter-widgets/controls",
      "_view_module_version": "1.5.0",
      "_view_name": "HBoxView",
      "box_style": "",
      "children": [
       "IPY_MODEL_98938358ca794283bf71a5045018c30a",
       "IPY_MODEL_2e416cdf8ad84139ac2cc5f3bc7bd996",
       "IPY_MODEL_70b04ec121884674b8dfc9ef6a035bdc"
      ],
      "layout": "IPY_MODEL_13a8405c1d044285ab6339c09d0f0ca0"
     }
    },
    "d21c08f49fc744e59a0ae2a8818c14ed": {
     "model_module": "@jupyter-widgets/base",
     "model_module_version": "1.2.0",
     "model_name": "LayoutModel",
     "state": {
      "_model_module": "@jupyter-widgets/base",
      "_model_module_version": "1.2.0",
      "_model_name": "LayoutModel",
      "_view_count": null,
      "_view_module": "@jupyter-widgets/base",
      "_view_module_version": "1.2.0",
      "_view_name": "LayoutView",
      "align_content": null,
      "align_items": null,
      "align_self": null,
      "border": null,
      "bottom": null,
      "display": null,
      "flex": null,
      "flex_flow": null,
      "grid_area": null,
      "grid_auto_columns": null,
      "grid_auto_flow": null,
      "grid_auto_rows": null,
      "grid_column": null,
      "grid_gap": null,
      "grid_row": null,
      "grid_template_areas": null,
      "grid_template_columns": null,
      "grid_template_rows": null,
      "height": null,
      "justify_content": null,
      "justify_items": null,
      "left": null,
      "margin": null,
      "max_height": null,
      "max_width": null,
      "min_height": null,
      "min_width": null,
      "object_fit": null,
      "object_position": null,
      "order": null,
      "overflow": null,
      "overflow_x": null,
      "overflow_y": null,
      "padding": null,
      "right": null,
      "top": null,
      "visibility": null,
      "width": null
     }
    },
    "d42433ee7df1419fa0dc06d752059ac5": {
     "model_module": "@jupyter-widgets/controls",
     "model_module_version": "1.5.0",
     "model_name": "HTMLModel",
     "state": {
      "_dom_classes": [],
      "_model_module": "@jupyter-widgets/controls",
      "_model_module_version": "1.5.0",
      "_model_name": "HTMLModel",
      "_view_count": null,
      "_view_module": "@jupyter-widgets/controls",
      "_view_module_version": "1.5.0",
      "_view_name": "HTMLView",
      "description": "",
      "description_tooltip": null,
      "layout": "IPY_MODEL_2357438f55a04dd2bc4763fc05d1d8ee",
      "placeholder": "​",
      "style": "IPY_MODEL_58136da0fe2f4ab0afc6cd8f28286bf6",
      "value": " 192509/192509 [17:48&lt;00:00, 198.37it/s]"
     }
    },
    "da14b9cd64654526a9fd80516de84081": {
     "model_module": "@jupyter-widgets/base",
     "model_module_version": "1.2.0",
     "model_name": "LayoutModel",
     "state": {
      "_model_module": "@jupyter-widgets/base",
      "_model_module_version": "1.2.0",
      "_model_name": "LayoutModel",
      "_view_count": null,
      "_view_module": "@jupyter-widgets/base",
      "_view_module_version": "1.2.0",
      "_view_name": "LayoutView",
      "align_content": null,
      "align_items": null,
      "align_self": null,
      "border": null,
      "bottom": null,
      "display": null,
      "flex": null,
      "flex_flow": null,
      "grid_area": null,
      "grid_auto_columns": null,
      "grid_auto_flow": null,
      "grid_auto_rows": null,
      "grid_column": null,
      "grid_gap": null,
      "grid_row": null,
      "grid_template_areas": null,
      "grid_template_columns": null,
      "grid_template_rows": null,
      "height": null,
      "justify_content": null,
      "justify_items": null,
      "left": null,
      "margin": null,
      "max_height": null,
      "max_width": null,
      "min_height": null,
      "min_width": null,
      "object_fit": null,
      "object_position": null,
      "order": null,
      "overflow": null,
      "overflow_x": null,
      "overflow_y": null,
      "padding": null,
      "right": null,
      "top": null,
      "visibility": null,
      "width": null
     }
    },
    "dc981ef5f3564b089d5ca0c3a5f50f9e": {
     "model_module": "@jupyter-widgets/base",
     "model_module_version": "1.2.0",
     "model_name": "LayoutModel",
     "state": {
      "_model_module": "@jupyter-widgets/base",
      "_model_module_version": "1.2.0",
      "_model_name": "LayoutModel",
      "_view_count": null,
      "_view_module": "@jupyter-widgets/base",
      "_view_module_version": "1.2.0",
      "_view_name": "LayoutView",
      "align_content": null,
      "align_items": null,
      "align_self": null,
      "border": null,
      "bottom": null,
      "display": null,
      "flex": null,
      "flex_flow": null,
      "grid_area": null,
      "grid_auto_columns": null,
      "grid_auto_flow": null,
      "grid_auto_rows": null,
      "grid_column": null,
      "grid_gap": null,
      "grid_row": null,
      "grid_template_areas": null,
      "grid_template_columns": null,
      "grid_template_rows": null,
      "height": null,
      "justify_content": null,
      "justify_items": null,
      "left": null,
      "margin": null,
      "max_height": null,
      "max_width": null,
      "min_height": null,
      "min_width": null,
      "object_fit": null,
      "object_position": null,
      "order": null,
      "overflow": null,
      "overflow_x": null,
      "overflow_y": null,
      "padding": null,
      "right": null,
      "top": null,
      "visibility": null,
      "width": null
     }
    },
    "e56cb79e01b340eab5372660c0515991": {
     "model_module": "@jupyter-widgets/controls",
     "model_module_version": "1.5.0",
     "model_name": "DescriptionStyleModel",
     "state": {
      "_model_module": "@jupyter-widgets/controls",
      "_model_module_version": "1.5.0",
      "_model_name": "DescriptionStyleModel",
      "_view_count": null,
      "_view_module": "@jupyter-widgets/base",
      "_view_module_version": "1.2.0",
      "_view_name": "StyleView",
      "description_width": ""
     }
    },
    "efec88ca8b524f9e91ee7fb4851cc49f": {
     "model_module": "@jupyter-widgets/controls",
     "model_module_version": "1.5.0",
     "model_name": "DescriptionStyleModel",
     "state": {
      "_model_module": "@jupyter-widgets/controls",
      "_model_module_version": "1.5.0",
      "_model_name": "DescriptionStyleModel",
      "_view_count": null,
      "_view_module": "@jupyter-widgets/base",
      "_view_module_version": "1.2.0",
      "_view_name": "StyleView",
      "description_width": ""
     }
    },
    "ffbda87069304b099e82b2a7d77ac4cd": {
     "model_module": "@jupyter-widgets/controls",
     "model_module_version": "1.5.0",
     "model_name": "DescriptionStyleModel",
     "state": {
      "_model_module": "@jupyter-widgets/controls",
      "_model_module_version": "1.5.0",
      "_model_name": "DescriptionStyleModel",
      "_view_count": null,
      "_view_module": "@jupyter-widgets/base",
      "_view_module_version": "1.2.0",
      "_view_name": "StyleView",
      "description_width": ""
     }
    }
   }
  }
 },
 "nbformat": 4,
 "nbformat_minor": 0
}